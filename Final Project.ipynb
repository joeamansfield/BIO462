{
  "nbformat": 4,
  "nbformat_minor": 0,
  "metadata": {
    "colab": {
      "provenance": []
    },
    "kernelspec": {
      "name": "python3",
      "display_name": "Python 3"
    },
    "language_info": {
      "name": "python"
    }
  },
  "cells": [
    {
      "cell_type": "code",
      "source": [
        "import pandas as pd\n",
        "from scipy import stats"
      ],
      "metadata": {
        "id": "gScxtraPTMty"
      },
      "execution_count": null,
      "outputs": []
    },
    {
      "cell_type": "markdown",
      "source": [
        "# Cancer and BMI\n",
        "\n",
        "In this notebook we will be exploring the relationship between BMI and cancer. We will be using clincal datasets that give us information about the patient/sample rather than the genes or proteins. The NIH National Cancer Institute has a page dedicated to the connection between BMI and cancer and provides a general understanding of what BMI is, how a high BMI affects the body, and the current research that has been conducted linking a high BMI and cancer."
      ],
      "metadata": {
        "id": "22L9lwcnkKmH"
      }
    },
    {
      "cell_type": "markdown",
      "source": [
        "The NIH page provides a chart that shows the BMI ranges for people aged 20 and above. We will use these numbers as the cutoffs for the BMI categories. There is a different chart for children that uses weight percentiles, but the patients in our dataset will all be adults so we don't need to consider that chart.\n",
        "\n",
        "Below 18.5: Underweight <br/>\n",
        "18.5 to 24.9: Healthy <br/>\n",
        "25.0 to 29.9: Overweight <br/>\n",
        "30.0 to 39.9: Obese<br/>\n",
        "40.0 or higher: Severely Obese\n"
      ],
      "metadata": {
        "id": "g96_yWQSk5ng"
      }
    },
    {
      "cell_type": "markdown",
      "source": [
        "There are many kinds of cancer, and we need to narrow down which types to look as. Preferably these types will have a known association with cancer. The NIH page also has a chart that gives that cancer type and the number of increased chances you are to develop that cancer if you are overweight, obese, or severely obese. These is no cancer known to be associated with being underweight.\n",
        "\n",
        "To narrow down what cancer types to explore we will take the cancers that are 2 times as likely and greater in people with a high BMI\n",
        "\n",
        "\n",
        "\n",
        "<strong>Endometrial:</strong> <br/>\n",
        "7 times as likely in people with severe obesity <br/>\n",
        "2-4 times more likely in people with obesity or who are overweight <br/>\n",
        "\n",
        "<strong>Esophageal Adenocarcinoma:</strong> <br/>\n",
        "4.8 times as likely in people with servere obesity </br>\n",
        "2.4-2.7 times as likely in people with obesity </br>\n",
        "1.5 times as likely in people in overweight </br>\n",
        "\n",
        "<strong>Gastric Cardia:</strong> <br/>\n",
        "2 times in likely in people in obesity </br>\n",
        "\n",
        "<strong>Liver:</strong>\n",
        "2 times in likely in people in obesity or who are overweight </br>\n",
        "\n",
        "<strong>Kidney: </strong></br>\n",
        "2 times as likely in people with obesity or who are overweight </br>\n",
        "\n",
        "This information was taken from the NIH National Institute of Cancer page\n"
      ],
      "metadata": {
        "id": "C2BaRnE0mIwT"
      }
    },
    {
      "cell_type": "markdown",
      "source": [
        "#References\n",
        "The NIH page also provides references to the papers that show these statistics for BMI and cancer.\n",
        "\n",
        "<strong>Endometrial:</strong> </br>\n",
        "<ul>\n",
        "Setiawan VW, Yang HP, Pike MC, et al. Type I and II endometrial cancers: Have they different risk factors? <em>Journal of Clinical Oncology</em> 2013; 31(20):2607-2618.\n",
        "\n",
        "Dougan MM, Hankinson SE, Vivo ID, et al. Prospective  study of body size throughout the life course and the incidence of endometrial cnacer amoung premenopausal and postmenopausal women. <em> International Journal of Cancer</em> 2015; 137(3):625-637.\n",
        "</ul>\n",
        "\n",
        "<strong>Esophageal Adenocarcinoma:</strong> <br/>\n",
        "<ul>\n",
        "Hoyo C, Cook MB, Kamangar F, et al. Body mass index in relation to oesophageal and oesophagogastric junctions adenocarcinomas: A pooled analysis from the International BEACON Consortium, <em> International Journal of Epidemiology</em> 2012; 41(6):1706-1718.\n",
        "</ul>\n",
        "\n",
        "<strong>Gastric Cardia:</strong>  <br/>\n",
        "<ul>\n",
        "Chen Y, Liu L, Wang X, et al. Body mass index and risk of gastric cancer: A meta-analysis of a population with more than ten million from 24 prospective studies. <em>Cancer Epidemiology, Biomarkers & Prevention</em> 2013; 22(8):1395–1408.\n",
        "</ul>\n",
        "\n",
        "<strong>Liver:</strong> <br/>\n",
        "<ul>\n",
        "Chen Y, Wang X, Wang J, Yan Z, Luo J. Excess body weight and the risk of primary liver cancer: An updated meta-analysis of prospective studies.<em> European Journal of Cancer </em> 2012; 48(14):2137–2145.\n",
        "\n",
        "Campbell PT, Newton CC, Freedman ND, et al. Body mass index, waist circumference, diabetes, and risk of liver cancer for U.S. adults. <em>Cancer Research</em> 2016; 76(20):6076–6083.\n",
        "</ul>\n",
        "\n",
        "<strong>Kidney:</strong> <br>\n",
        "<ul>\n",
        "Wang F, Xu Y. Body mass index and risk of renal cell cancer: A dose-response meta-analysis of published cohort studies. <em>International Journal of Cancer</em> 2014; 135(7):1673–1686 #slightly higher in women\n",
        "\n",
        "Sanfilippo KM, McTigue KM, Fidler CJ, et al. Hypertension and obesity and the risk of kidney cancer in 2 large cohorts of US men and women. ,<em>Hypertension</em> 2014; 63(5):934–941.\n",
        "</ul>\n",
        "\n",
        "\n"
      ],
      "metadata": {
        "id": "NxA8RPrKo5vU"
      }
    },
    {
      "cell_type": "markdown",
      "source": [
        "#Obtaining clinical data from cBioPortal\n",
        "\n",
        "Open https://www.cbioportal.org/\n",
        "\n",
        "Choose the tissue you want to look at from the left bar\n",
        "\n",
        "Pick a study from the list then click “Explore Selected Studies”\n",
        "\n",
        "Select the Clinical Data tab at the top\n",
        "\n",
        "Click “Columns” on the top right and select columns that will be useful to you\n",
        "\n",
        "Click the “Download TSV” button below the search bar\n",
        "\n",
        "**Making your data accessible in Google Colab notebook**\n",
        "\n",
        "Upload your data to your personal google drive\n",
        "\n",
        "Go to sharing options and set it so that anyone with the link can view\n",
        "\n",
        "Copy the file code from the sharing link\n",
        "\n",
        "Use the command !gdown ‘link’ --fuzzy\n",
        "\n",
        "The file should now be accessible in the runtime, and other collaborators can use the same command to access it\n"
      ],
      "metadata": {
        "id": "3rK-x25FfTYY"
      }
    },
    {
      "cell_type": "code",
      "source": [
        "!gdown 1QUrGUrgen7DtRKe5rI79c5hNtx2tbYEj --fuzzy #endometrial\n",
        "!gdown 1jj8IqouXvC1wUZwlDG8R_FVkIdQEVSwK --fuzzy #esophogeal\n",
        "!gdown 1H44zgIepOhzoI01b-DLl44tA_t5-CdKo --fuzzy #kidney\n",
        "!gdown 1tZGBpa-XYaXgceHqkVGL8bj-Pv-s501J --fuzzy #liver\n",
        "!gdown 1TtfeSmUkva4XRIy1tRn29HEHlzVGlYe3 --fuzzy #skin"
      ],
      "metadata": {
        "colab": {
          "base_uri": "https://localhost:8080/"
        },
        "id": "D4iv6oPwuoIr",
        "outputId": "c5405886-6c86-4527-f960-08aa6376c262"
      },
      "execution_count": null,
      "outputs": [
        {
          "output_type": "stream",
          "name": "stdout",
          "text": [
            "Downloading...\n",
            "From: https://drive.google.com/uc?id=1QUrGUrgen7DtRKe5rI79c5hNtx2tbYEj\n",
            "To: /content/ucec_tcga_clinical_data.tsv\n",
            "100% 436k/436k [00:00<00:00, 120MB/s]\n",
            "Downloading...\n",
            "From: https://drive.google.com/uc?id=1jj8IqouXvC1wUZwlDG8R_FVkIdQEVSwK\n",
            "To: /content/esca_tcga_clinical_data.tsv\n",
            "100% 148k/148k [00:00<00:00, 74.8MB/s]\n",
            "Downloading...\n",
            "From: https://drive.google.com/uc?id=1H44zgIepOhzoI01b-DLl44tA_t5-CdKo\n",
            "To: /content/kirp_tcga_clinical_data.tsv\n",
            "100% 204k/204k [00:00<00:00, 93.5MB/s]\n",
            "Downloading...\n",
            "From: https://drive.google.com/uc?id=1tZGBpa-XYaXgceHqkVGL8bj-Pv-s501J\n",
            "To: /content/lihc_tcga_clinical_data.tsv\n",
            "100% 278k/278k [00:00<00:00, 99.4MB/s]\n",
            "Downloading...\n",
            "From: https://drive.google.com/uc?id=1TtfeSmUkva4XRIy1tRn29HEHlzVGlYe3\n",
            "To: /content/skcm_tcga_clinical_data.tsv\n",
            "100% 288k/288k [00:00<00:00, 95.4MB/s]\n"
          ]
        }
      ]
    },
    {
      "cell_type": "code",
      "source": [
        "esca_file = '/content/esca_tcga_clinical_data.tsv'\n",
        "kirp_file = '/content/kirp_tcga_clinical_data.tsv'\n",
        "lihc_file = '/content/lihc_tcga_clinical_data.tsv'\n",
        "ucec_file = '/content/ucec_tcga_clinical_data.tsv'\n",
        "skcm_file = '/content/skcm_tcga_clinical_data.tsv'"
      ],
      "metadata": {
        "id": "LXGwmrlEzQm-"
      },
      "execution_count": null,
      "outputs": []
    },
    {
      "cell_type": "code",
      "source": [
        "esca_dataframe = pd.read_csv(esca_file, sep='\\t')\n",
        "kirp_dataframe = pd.read_csv(kirp_file, sep='\\t')\n",
        "lihc_dataframe = pd.read_csv(lihc_file, sep='\\t')\n",
        "ucec_dataframe = pd.read_csv(ucec_file, sep='\\t')\n",
        "skcm_dataframe = pd.read_csv(skcm_file, sep='\\t')"
      ],
      "metadata": {
        "id": "UWXiil4JzuLV"
      },
      "execution_count": null,
      "outputs": []
    },
    {
      "cell_type": "markdown",
      "source": [
        "#Manipulating and Combining Data\n",
        "\n",
        "Before doing any analysis we needed to unify differently named columns between datasets, filter to relevant information, repair missing values, add columns using data from other columns, etc."
      ],
      "metadata": {
        "id": "m0YhFukec77V"
      }
    },
    {
      "cell_type": "code",
      "source": [
        "#used this to determine which columns were common between datasets before manually looking through to determine which columns we needed\n",
        "commonColumns = []\n",
        "for column in list(esca_dataframe.columns):\n",
        "  if column in list(kirp_dataframe.columns):\n",
        "    if column in list(lihc_dataframe.columns):\n",
        "      if column in list(ucec_dataframe.columns):\n",
        "        commonColumns.append(column)\n",
        "print(len(list(esca_dataframe.columns)))\n",
        "print(len(commonColumns))\n",
        "sorted(commonColumns)\n",
        "filter_columns = ['American Joint Committee on Cancer Tumor Stage Code',\n",
        "'Cancer Type',\n",
        "'Cancer Type Detailed',\n",
        "'Diagnosis Age',\n",
        "'Disease Free (Months)',\n",
        "'Disease Free Status',\n",
        "'Ethnicity Category',\n",
        "'Race Category',\n",
        "'Neoplasm Disease Stage American Joint Committee on Cancer Code',\n",
        "'Other Patient ID',\n",
        "'Other Sample ID',\n",
        "'Overall Survival (Months)',\n",
        "'Overall Survival Status',\n",
        "'Patient Height',\n",
        "'Patient ID',\n",
        "'Patient Weight',\n",
        "'Sample ID',\n",
        "'Sex',\n",
        "'Stage Other']\n",
        "#en_filtered = filter_columns\n",
        "#en_filtered.append('Neoplasm American Joint Committee on Cancer Clinical Group Stage')\n"
      ],
      "metadata": {
        "id": "LVH8WuBqTSz1",
        "colab": {
          "base_uri": "https://localhost:8080/"
        },
        "outputId": "c66d3479-21c9-4012-a848-e17742e77b23"
      },
      "execution_count": null,
      "outputs": [
        {
          "output_type": "stream",
          "name": "stdout",
          "text": [
            "112\n",
            "68\n"
          ]
        }
      ]
    },
    {
      "cell_type": "code",
      "source": [
        "#Filter columns on dataframes to the selected relevant entries\n",
        "esca_dataframe_filtered = esca_dataframe[filter_columns]\n",
        "kirp_dataframe_filtered = kirp_dataframe[filter_columns]\n",
        "lihc_dataframe_filtered = lihc_dataframe[filter_columns]\n",
        "skcm_dataframe_filtered = skcm_dataframe[filter_columns]"
      ],
      "metadata": {
        "id": "F5LSPj70TVaY"
      },
      "execution_count": null,
      "outputs": []
    },
    {
      "cell_type": "code",
      "source": [
        "en_filtered = filter_columns\n",
        "en_filtered.append('Neoplasm American Joint Committee on Cancer Clinical Group Stage')\n",
        "ucec_dataframe_filtered = ucec_dataframe[en_filtered]"
      ],
      "metadata": {
        "id": "HRQhhfWZEE0M"
      },
      "execution_count": null,
      "outputs": []
    },
    {
      "cell_type": "code",
      "source": [
        "#Melanoma dataset is mostly NaN for cancer type, presumably because they didn't feel the need to include it in a set of only melanomas\n",
        "#This changes the cancer type to melanoma and the detailed cancer type to nonspecified melanoma for NaN values\n",
        "def set_melanoma(row):\n",
        "  return 'Melanoma'\n",
        "\n",
        "def set_melanoma_nonspecific(row):\n",
        "  d = row['Cancer Type Detailed']\n",
        "  if isinstance(d, str):\n",
        "    return d\n",
        "  else:\n",
        "    return 'Nonspecified Melanoma'\n",
        "\n",
        "skcm_dataframe_filtered['Cancer Type'] = skcm_dataframe_filtered.apply(set_melanoma, axis=1)\n",
        "skcm_dataframe_filtered['Cancer Type Detailed'] = skcm_dataframe_filtered.apply(set_melanoma_nonspecific, axis=1)\n",
        "\n",
        "#Filter out cancer types from the esophogeal dataset that are not Esophageal Adenocarcinoma\n",
        "#esca_dataframe_filtered = esca_dataframe_filtered.loc[esca_dataframe_filtered['Cancer Type Detailed'] == 'Esophageal Adenocarcinoma']"
      ],
      "metadata": {
        "colab": {
          "base_uri": "https://localhost:8080/"
        },
        "id": "Aufjd6YNh3GE",
        "outputId": "74cd3fe9-a7ca-4003-ea6e-1077ea8e1c0d"
      },
      "execution_count": null,
      "outputs": [
        {
          "output_type": "stream",
          "name": "stderr",
          "text": [
            "<ipython-input-8-58d6719acbb6>:13: SettingWithCopyWarning: \n",
            "A value is trying to be set on a copy of a slice from a DataFrame.\n",
            "Try using .loc[row_indexer,col_indexer] = value instead\n",
            "\n",
            "See the caveats in the documentation: https://pandas.pydata.org/pandas-docs/stable/user_guide/indexing.html#returning-a-view-versus-a-copy\n",
            "  skcm_dataframe_filtered['Cancer Type'] = skcm_dataframe_filtered.apply(set_melanoma, axis=1)\n",
            "<ipython-input-8-58d6719acbb6>:14: SettingWithCopyWarning: \n",
            "A value is trying to be set on a copy of a slice from a DataFrame.\n",
            "Try using .loc[row_indexer,col_indexer] = value instead\n",
            "\n",
            "See the caveats in the documentation: https://pandas.pydata.org/pandas-docs/stable/user_guide/indexing.html#returning-a-view-versus-a-copy\n",
            "  skcm_dataframe_filtered['Cancer Type Detailed'] = skcm_dataframe_filtered.apply(set_melanoma_nonspecific, axis=1)\n"
          ]
        }
      ]
    },
    {
      "cell_type": "code",
      "source": [
        "#Combining all the datasets\n",
        "datasets = [esca_dataframe_filtered, kirp_dataframe_filtered, lihc_dataframe_filtered, skcm_dataframe_filtered, ucec_dataframe_filtered]\n",
        "combined = pd.concat(datasets)\n",
        "combined"
      ],
      "metadata": {
        "id": "nhPiXLcCi3Yu",
        "colab": {
          "base_uri": "https://localhost:8080/",
          "height": 957
        },
        "outputId": "35ab4f36-d67b-4cae-bec5-c9211cbd9bc1"
      },
      "execution_count": null,
      "outputs": [
        {
          "output_type": "execute_result",
          "data": {
            "text/plain": [
              "    American Joint Committee on Cancer Tumor Stage Code  \\\n",
              "0                                                   T3    \n",
              "1                                                   T3    \n",
              "2                                                   T1    \n",
              "3                                                   T3    \n",
              "4                                                   T1    \n",
              "..                                                 ...    \n",
              "544                                                NaN    \n",
              "545                                                NaN    \n",
              "546                                                NaN    \n",
              "547                                                NaN    \n",
              "548                                                NaN    \n",
              "\n",
              "                Cancer Type  \\\n",
              "0    Esophagogastric Cancer   \n",
              "1    Esophagogastric Cancer   \n",
              "2    Esophagogastric Cancer   \n",
              "3    Esophagogastric Cancer   \n",
              "4    Esophagogastric Cancer   \n",
              "..                      ...   \n",
              "544      Endometrial Cancer   \n",
              "545      Endometrial Cancer   \n",
              "546      Endometrial Cancer   \n",
              "547      Endometrial Cancer   \n",
              "548      Endometrial Cancer   \n",
              "\n",
              "                                  Cancer Type Detailed  Diagnosis Age  \\\n",
              "0                            Esophageal Adenocarcinoma           67.0   \n",
              "1                            Esophageal Adenocarcinoma           66.0   \n",
              "2                            Esophageal Adenocarcinoma           44.0   \n",
              "3                            Esophageal Adenocarcinoma           68.0   \n",
              "4                            Esophageal Adenocarcinoma           57.0   \n",
              "..                                                 ...            ...   \n",
              "544  Uterine Serous Carcinoma/Uterine Papillary Ser...           85.0   \n",
              "545                     Uterine Endometrioid Carcinoma           64.0   \n",
              "546                     Uterine Endometrioid Carcinoma           61.0   \n",
              "547                     Uterine Endometrioid Carcinoma           73.0   \n",
              "548                     Uterine Endometrioid Carcinoma           77.0   \n",
              "\n",
              "     Disease Free (Months)    Disease Free Status      Ethnicity Category  \\\n",
              "0                     5.65  1:Recurred/Progressed                     NaN   \n",
              "1                    16.56  1:Recurred/Progressed                     NaN   \n",
              "2                    26.28  1:Recurred/Progressed                     NaN   \n",
              "3                    13.14  1:Recurred/Progressed                     NaN   \n",
              "4                    41.43  1:Recurred/Progressed                     NaN   \n",
              "..                     ...                    ...                     ...   \n",
              "544                    NaN                    NaN  NOT HISPANIC OR LATINO   \n",
              "545                  20.73          0:DiseaseFree  NOT HISPANIC OR LATINO   \n",
              "546                  18.27          0:DiseaseFree  NOT HISPANIC OR LATINO   \n",
              "547                   0.07          0:DiseaseFree  NOT HISPANIC OR LATINO   \n",
              "548                   0.23          0:DiseaseFree  NOT HISPANIC OR LATINO   \n",
              "\n",
              "                 Race Category  \\\n",
              "0                          NaN   \n",
              "1                          NaN   \n",
              "2                          NaN   \n",
              "3                          NaN   \n",
              "4                          NaN   \n",
              "..                         ...   \n",
              "544  BLACK OR AFRICAN AMERICAN   \n",
              "545  BLACK OR AFRICAN AMERICAN   \n",
              "546  BLACK OR AFRICAN AMERICAN   \n",
              "547  BLACK OR AFRICAN AMERICAN   \n",
              "548  BLACK OR AFRICAN AMERICAN   \n",
              "\n",
              "    Neoplasm Disease Stage American Joint Committee on Cancer Code  \\\n",
              "0                                                  NaN               \n",
              "1                                                  NaN               \n",
              "2                                                  NaN               \n",
              "3                                                  NaN               \n",
              "4                                                  NaN               \n",
              "..                                                 ...               \n",
              "544                                                NaN               \n",
              "545                                                NaN               \n",
              "546                                                NaN               \n",
              "547                                                NaN               \n",
              "548                                                NaN               \n",
              "\n",
              "                         Other Patient ID  \\\n",
              "0    0500F1A6-A528-43F3-B035-12D3B7C99C0F   \n",
              "1    70084008-697D-442D-8F74-C12F8F598570   \n",
              "2    606DC5B8-7625-42A6-A936-504EF25623A4   \n",
              "3    CEAF98F8-517E-457A-BF29-ACFE22893D49   \n",
              "4    EE47CD59-C8D8-4B1E-96DB-91C679E4106F   \n",
              "..                                    ...   \n",
              "544  54AC877A-52FF-450C-9DF9-B7CD3FC8E2E2   \n",
              "545  3C2A6E30-A507-49F6-8B1F-36EB3AA41E60   \n",
              "546  FBFED398-2A44-44A9-83CF-657C29CB7D28   \n",
              "547  C1F1DC90-2C67-4862-9E5F-078B861FFC6E   \n",
              "548  2A19051E-3AD1-444A-9D02-F895C26AC02C   \n",
              "\n",
              "                          Other Sample ID  Overall Survival (Months)  \\\n",
              "0    BB3B0DDF-9896-4A64-B59A-5A545383CBF0                      25.76   \n",
              "1    0FA8DD36-C202-4643-9ACA-C5635BF56CF1                      20.04   \n",
              "2    17DF1FC1-16B7-4898-8359-413D5F143413                      31.24   \n",
              "3    0934D8AF-67FB-4917-A687-6AFD8948B7D9                      14.29   \n",
              "4    4F4BC0A9-262E-4828-AEE8-068378E820BF                      58.51   \n",
              "..                                    ...                        ...   \n",
              "544  7BC29ACD-1306-4439-9042-27A9115EB563                       4.43   \n",
              "545  629770A3-4982-480B-A066-E85C609DFA3F                      20.73   \n",
              "546  C3064816-C2C1-4AF0-8F0E-89D900E47D20                      18.27   \n",
              "547  8A93E942-EE48-421A-A696-2B367C6C3867                       0.07   \n",
              "548  691FC8B9-2221-444B-8DE6-960AABD0CDDD                       0.23   \n",
              "\n",
              "    Overall Survival Status  Patient Height    Patient ID  Patient Weight  \\\n",
              "0                1:DECEASED           183.0  TCGA-2H-A9GF            95.0   \n",
              "1                1:DECEASED           178.0  TCGA-2H-A9GG            74.0   \n",
              "2                1:DECEASED           183.0  TCGA-2H-A9GH            91.0   \n",
              "3                1:DECEASED           188.0  TCGA-2H-A9GI           100.0   \n",
              "4                1:DECEASED           189.0  TCGA-2H-A9GJ            70.0   \n",
              "..                      ...             ...           ...             ...   \n",
              "544              1:DECEASED           168.0  TCGA-QS-A8F1            75.0   \n",
              "545                0:LIVING            66.0  TCGA-SJ-A6ZI            93.0   \n",
              "546                0:LIVING           168.0  TCGA-SJ-A6ZJ           132.0   \n",
              "547                0:LIVING           167.0  TCGA-SL-A6J9            88.0   \n",
              "548                0:LIVING           167.0  TCGA-SL-A6JA           129.0   \n",
              "\n",
              "           Sample ID     Sex  Stage Other  \\\n",
              "0    TCGA-2H-A9GF-01    Male          NaN   \n",
              "1    TCGA-2H-A9GG-01    Male          NaN   \n",
              "2    TCGA-2H-A9GH-01    Male          NaN   \n",
              "3    TCGA-2H-A9GI-01    Male          NaN   \n",
              "4    TCGA-2H-A9GJ-01    Male          NaN   \n",
              "..               ...     ...          ...   \n",
              "544  TCGA-QS-A8F1-01  Female          NaN   \n",
              "545  TCGA-SJ-A6ZI-01  Female          NaN   \n",
              "546  TCGA-SJ-A6ZJ-01  Female          NaN   \n",
              "547  TCGA-SL-A6J9-01  Female          NaN   \n",
              "548  TCGA-SL-A6JA-01  Female          NaN   \n",
              "\n",
              "    Neoplasm American Joint Committee on Cancer Clinical Group Stage  \n",
              "0                                                  NaN                \n",
              "1                                                  NaN                \n",
              "2                                                  NaN                \n",
              "3                                                  NaN                \n",
              "4                                                  NaN                \n",
              "..                                                 ...                \n",
              "544                                         Stage IIIA                \n",
              "545                                           Stage IB                \n",
              "546                                           Stage IB                \n",
              "547                                           Stage IB                \n",
              "548                                           Stage IB                \n",
              "\n",
              "[1887 rows x 20 columns]"
            ],
            "text/html": [
              "\n",
              "  <div id=\"df-f208bde6-613c-4289-b4a7-744dd525f62a\">\n",
              "    <div class=\"colab-df-container\">\n",
              "      <div>\n",
              "<style scoped>\n",
              "    .dataframe tbody tr th:only-of-type {\n",
              "        vertical-align: middle;\n",
              "    }\n",
              "\n",
              "    .dataframe tbody tr th {\n",
              "        vertical-align: top;\n",
              "    }\n",
              "\n",
              "    .dataframe thead th {\n",
              "        text-align: right;\n",
              "    }\n",
              "</style>\n",
              "<table border=\"1\" class=\"dataframe\">\n",
              "  <thead>\n",
              "    <tr style=\"text-align: right;\">\n",
              "      <th></th>\n",
              "      <th>American Joint Committee on Cancer Tumor Stage Code</th>\n",
              "      <th>Cancer Type</th>\n",
              "      <th>Cancer Type Detailed</th>\n",
              "      <th>Diagnosis Age</th>\n",
              "      <th>Disease Free (Months)</th>\n",
              "      <th>Disease Free Status</th>\n",
              "      <th>Ethnicity Category</th>\n",
              "      <th>Race Category</th>\n",
              "      <th>Neoplasm Disease Stage American Joint Committee on Cancer Code</th>\n",
              "      <th>Other Patient ID</th>\n",
              "      <th>Other Sample ID</th>\n",
              "      <th>Overall Survival (Months)</th>\n",
              "      <th>Overall Survival Status</th>\n",
              "      <th>Patient Height</th>\n",
              "      <th>Patient ID</th>\n",
              "      <th>Patient Weight</th>\n",
              "      <th>Sample ID</th>\n",
              "      <th>Sex</th>\n",
              "      <th>Stage Other</th>\n",
              "      <th>Neoplasm American Joint Committee on Cancer Clinical Group Stage</th>\n",
              "    </tr>\n",
              "  </thead>\n",
              "  <tbody>\n",
              "    <tr>\n",
              "      <th>0</th>\n",
              "      <td>T3</td>\n",
              "      <td>Esophagogastric Cancer</td>\n",
              "      <td>Esophageal Adenocarcinoma</td>\n",
              "      <td>67.0</td>\n",
              "      <td>5.65</td>\n",
              "      <td>1:Recurred/Progressed</td>\n",
              "      <td>NaN</td>\n",
              "      <td>NaN</td>\n",
              "      <td>NaN</td>\n",
              "      <td>0500F1A6-A528-43F3-B035-12D3B7C99C0F</td>\n",
              "      <td>BB3B0DDF-9896-4A64-B59A-5A545383CBF0</td>\n",
              "      <td>25.76</td>\n",
              "      <td>1:DECEASED</td>\n",
              "      <td>183.0</td>\n",
              "      <td>TCGA-2H-A9GF</td>\n",
              "      <td>95.0</td>\n",
              "      <td>TCGA-2H-A9GF-01</td>\n",
              "      <td>Male</td>\n",
              "      <td>NaN</td>\n",
              "      <td>NaN</td>\n",
              "    </tr>\n",
              "    <tr>\n",
              "      <th>1</th>\n",
              "      <td>T3</td>\n",
              "      <td>Esophagogastric Cancer</td>\n",
              "      <td>Esophageal Adenocarcinoma</td>\n",
              "      <td>66.0</td>\n",
              "      <td>16.56</td>\n",
              "      <td>1:Recurred/Progressed</td>\n",
              "      <td>NaN</td>\n",
              "      <td>NaN</td>\n",
              "      <td>NaN</td>\n",
              "      <td>70084008-697D-442D-8F74-C12F8F598570</td>\n",
              "      <td>0FA8DD36-C202-4643-9ACA-C5635BF56CF1</td>\n",
              "      <td>20.04</td>\n",
              "      <td>1:DECEASED</td>\n",
              "      <td>178.0</td>\n",
              "      <td>TCGA-2H-A9GG</td>\n",
              "      <td>74.0</td>\n",
              "      <td>TCGA-2H-A9GG-01</td>\n",
              "      <td>Male</td>\n",
              "      <td>NaN</td>\n",
              "      <td>NaN</td>\n",
              "    </tr>\n",
              "    <tr>\n",
              "      <th>2</th>\n",
              "      <td>T1</td>\n",
              "      <td>Esophagogastric Cancer</td>\n",
              "      <td>Esophageal Adenocarcinoma</td>\n",
              "      <td>44.0</td>\n",
              "      <td>26.28</td>\n",
              "      <td>1:Recurred/Progressed</td>\n",
              "      <td>NaN</td>\n",
              "      <td>NaN</td>\n",
              "      <td>NaN</td>\n",
              "      <td>606DC5B8-7625-42A6-A936-504EF25623A4</td>\n",
              "      <td>17DF1FC1-16B7-4898-8359-413D5F143413</td>\n",
              "      <td>31.24</td>\n",
              "      <td>1:DECEASED</td>\n",
              "      <td>183.0</td>\n",
              "      <td>TCGA-2H-A9GH</td>\n",
              "      <td>91.0</td>\n",
              "      <td>TCGA-2H-A9GH-01</td>\n",
              "      <td>Male</td>\n",
              "      <td>NaN</td>\n",
              "      <td>NaN</td>\n",
              "    </tr>\n",
              "    <tr>\n",
              "      <th>3</th>\n",
              "      <td>T3</td>\n",
              "      <td>Esophagogastric Cancer</td>\n",
              "      <td>Esophageal Adenocarcinoma</td>\n",
              "      <td>68.0</td>\n",
              "      <td>13.14</td>\n",
              "      <td>1:Recurred/Progressed</td>\n",
              "      <td>NaN</td>\n",
              "      <td>NaN</td>\n",
              "      <td>NaN</td>\n",
              "      <td>CEAF98F8-517E-457A-BF29-ACFE22893D49</td>\n",
              "      <td>0934D8AF-67FB-4917-A687-6AFD8948B7D9</td>\n",
              "      <td>14.29</td>\n",
              "      <td>1:DECEASED</td>\n",
              "      <td>188.0</td>\n",
              "      <td>TCGA-2H-A9GI</td>\n",
              "      <td>100.0</td>\n",
              "      <td>TCGA-2H-A9GI-01</td>\n",
              "      <td>Male</td>\n",
              "      <td>NaN</td>\n",
              "      <td>NaN</td>\n",
              "    </tr>\n",
              "    <tr>\n",
              "      <th>4</th>\n",
              "      <td>T1</td>\n",
              "      <td>Esophagogastric Cancer</td>\n",
              "      <td>Esophageal Adenocarcinoma</td>\n",
              "      <td>57.0</td>\n",
              "      <td>41.43</td>\n",
              "      <td>1:Recurred/Progressed</td>\n",
              "      <td>NaN</td>\n",
              "      <td>NaN</td>\n",
              "      <td>NaN</td>\n",
              "      <td>EE47CD59-C8D8-4B1E-96DB-91C679E4106F</td>\n",
              "      <td>4F4BC0A9-262E-4828-AEE8-068378E820BF</td>\n",
              "      <td>58.51</td>\n",
              "      <td>1:DECEASED</td>\n",
              "      <td>189.0</td>\n",
              "      <td>TCGA-2H-A9GJ</td>\n",
              "      <td>70.0</td>\n",
              "      <td>TCGA-2H-A9GJ-01</td>\n",
              "      <td>Male</td>\n",
              "      <td>NaN</td>\n",
              "      <td>NaN</td>\n",
              "    </tr>\n",
              "    <tr>\n",
              "      <th>...</th>\n",
              "      <td>...</td>\n",
              "      <td>...</td>\n",
              "      <td>...</td>\n",
              "      <td>...</td>\n",
              "      <td>...</td>\n",
              "      <td>...</td>\n",
              "      <td>...</td>\n",
              "      <td>...</td>\n",
              "      <td>...</td>\n",
              "      <td>...</td>\n",
              "      <td>...</td>\n",
              "      <td>...</td>\n",
              "      <td>...</td>\n",
              "      <td>...</td>\n",
              "      <td>...</td>\n",
              "      <td>...</td>\n",
              "      <td>...</td>\n",
              "      <td>...</td>\n",
              "      <td>...</td>\n",
              "      <td>...</td>\n",
              "    </tr>\n",
              "    <tr>\n",
              "      <th>544</th>\n",
              "      <td>NaN</td>\n",
              "      <td>Endometrial Cancer</td>\n",
              "      <td>Uterine Serous Carcinoma/Uterine Papillary Ser...</td>\n",
              "      <td>85.0</td>\n",
              "      <td>NaN</td>\n",
              "      <td>NaN</td>\n",
              "      <td>NOT HISPANIC OR LATINO</td>\n",
              "      <td>BLACK OR AFRICAN AMERICAN</td>\n",
              "      <td>NaN</td>\n",
              "      <td>54AC877A-52FF-450C-9DF9-B7CD3FC8E2E2</td>\n",
              "      <td>7BC29ACD-1306-4439-9042-27A9115EB563</td>\n",
              "      <td>4.43</td>\n",
              "      <td>1:DECEASED</td>\n",
              "      <td>168.0</td>\n",
              "      <td>TCGA-QS-A8F1</td>\n",
              "      <td>75.0</td>\n",
              "      <td>TCGA-QS-A8F1-01</td>\n",
              "      <td>Female</td>\n",
              "      <td>NaN</td>\n",
              "      <td>Stage IIIA</td>\n",
              "    </tr>\n",
              "    <tr>\n",
              "      <th>545</th>\n",
              "      <td>NaN</td>\n",
              "      <td>Endometrial Cancer</td>\n",
              "      <td>Uterine Endometrioid Carcinoma</td>\n",
              "      <td>64.0</td>\n",
              "      <td>20.73</td>\n",
              "      <td>0:DiseaseFree</td>\n",
              "      <td>NOT HISPANIC OR LATINO</td>\n",
              "      <td>BLACK OR AFRICAN AMERICAN</td>\n",
              "      <td>NaN</td>\n",
              "      <td>3C2A6E30-A507-49F6-8B1F-36EB3AA41E60</td>\n",
              "      <td>629770A3-4982-480B-A066-E85C609DFA3F</td>\n",
              "      <td>20.73</td>\n",
              "      <td>0:LIVING</td>\n",
              "      <td>66.0</td>\n",
              "      <td>TCGA-SJ-A6ZI</td>\n",
              "      <td>93.0</td>\n",
              "      <td>TCGA-SJ-A6ZI-01</td>\n",
              "      <td>Female</td>\n",
              "      <td>NaN</td>\n",
              "      <td>Stage IB</td>\n",
              "    </tr>\n",
              "    <tr>\n",
              "      <th>546</th>\n",
              "      <td>NaN</td>\n",
              "      <td>Endometrial Cancer</td>\n",
              "      <td>Uterine Endometrioid Carcinoma</td>\n",
              "      <td>61.0</td>\n",
              "      <td>18.27</td>\n",
              "      <td>0:DiseaseFree</td>\n",
              "      <td>NOT HISPANIC OR LATINO</td>\n",
              "      <td>BLACK OR AFRICAN AMERICAN</td>\n",
              "      <td>NaN</td>\n",
              "      <td>FBFED398-2A44-44A9-83CF-657C29CB7D28</td>\n",
              "      <td>C3064816-C2C1-4AF0-8F0E-89D900E47D20</td>\n",
              "      <td>18.27</td>\n",
              "      <td>0:LIVING</td>\n",
              "      <td>168.0</td>\n",
              "      <td>TCGA-SJ-A6ZJ</td>\n",
              "      <td>132.0</td>\n",
              "      <td>TCGA-SJ-A6ZJ-01</td>\n",
              "      <td>Female</td>\n",
              "      <td>NaN</td>\n",
              "      <td>Stage IB</td>\n",
              "    </tr>\n",
              "    <tr>\n",
              "      <th>547</th>\n",
              "      <td>NaN</td>\n",
              "      <td>Endometrial Cancer</td>\n",
              "      <td>Uterine Endometrioid Carcinoma</td>\n",
              "      <td>73.0</td>\n",
              "      <td>0.07</td>\n",
              "      <td>0:DiseaseFree</td>\n",
              "      <td>NOT HISPANIC OR LATINO</td>\n",
              "      <td>BLACK OR AFRICAN AMERICAN</td>\n",
              "      <td>NaN</td>\n",
              "      <td>C1F1DC90-2C67-4862-9E5F-078B861FFC6E</td>\n",
              "      <td>8A93E942-EE48-421A-A696-2B367C6C3867</td>\n",
              "      <td>0.07</td>\n",
              "      <td>0:LIVING</td>\n",
              "      <td>167.0</td>\n",
              "      <td>TCGA-SL-A6J9</td>\n",
              "      <td>88.0</td>\n",
              "      <td>TCGA-SL-A6J9-01</td>\n",
              "      <td>Female</td>\n",
              "      <td>NaN</td>\n",
              "      <td>Stage IB</td>\n",
              "    </tr>\n",
              "    <tr>\n",
              "      <th>548</th>\n",
              "      <td>NaN</td>\n",
              "      <td>Endometrial Cancer</td>\n",
              "      <td>Uterine Endometrioid Carcinoma</td>\n",
              "      <td>77.0</td>\n",
              "      <td>0.23</td>\n",
              "      <td>0:DiseaseFree</td>\n",
              "      <td>NOT HISPANIC OR LATINO</td>\n",
              "      <td>BLACK OR AFRICAN AMERICAN</td>\n",
              "      <td>NaN</td>\n",
              "      <td>2A19051E-3AD1-444A-9D02-F895C26AC02C</td>\n",
              "      <td>691FC8B9-2221-444B-8DE6-960AABD0CDDD</td>\n",
              "      <td>0.23</td>\n",
              "      <td>0:LIVING</td>\n",
              "      <td>167.0</td>\n",
              "      <td>TCGA-SL-A6JA</td>\n",
              "      <td>129.0</td>\n",
              "      <td>TCGA-SL-A6JA-01</td>\n",
              "      <td>Female</td>\n",
              "      <td>NaN</td>\n",
              "      <td>Stage IB</td>\n",
              "    </tr>\n",
              "  </tbody>\n",
              "</table>\n",
              "<p>1887 rows × 20 columns</p>\n",
              "</div>\n",
              "      <button class=\"colab-df-convert\" onclick=\"convertToInteractive('df-f208bde6-613c-4289-b4a7-744dd525f62a')\"\n",
              "              title=\"Convert this dataframe to an interactive table.\"\n",
              "              style=\"display:none;\">\n",
              "        \n",
              "  <svg xmlns=\"http://www.w3.org/2000/svg\" height=\"24px\"viewBox=\"0 0 24 24\"\n",
              "       width=\"24px\">\n",
              "    <path d=\"M0 0h24v24H0V0z\" fill=\"none\"/>\n",
              "    <path d=\"M18.56 5.44l.94 2.06.94-2.06 2.06-.94-2.06-.94-.94-2.06-.94 2.06-2.06.94zm-11 1L8.5 8.5l.94-2.06 2.06-.94-2.06-.94L8.5 2.5l-.94 2.06-2.06.94zm10 10l.94 2.06.94-2.06 2.06-.94-2.06-.94-.94-2.06-.94 2.06-2.06.94z\"/><path d=\"M17.41 7.96l-1.37-1.37c-.4-.4-.92-.59-1.43-.59-.52 0-1.04.2-1.43.59L10.3 9.45l-7.72 7.72c-.78.78-.78 2.05 0 2.83L4 21.41c.39.39.9.59 1.41.59.51 0 1.02-.2 1.41-.59l7.78-7.78 2.81-2.81c.8-.78.8-2.07 0-2.86zM5.41 20L4 18.59l7.72-7.72 1.47 1.35L5.41 20z\"/>\n",
              "  </svg>\n",
              "      </button>\n",
              "      \n",
              "  <style>\n",
              "    .colab-df-container {\n",
              "      display:flex;\n",
              "      flex-wrap:wrap;\n",
              "      gap: 12px;\n",
              "    }\n",
              "\n",
              "    .colab-df-convert {\n",
              "      background-color: #E8F0FE;\n",
              "      border: none;\n",
              "      border-radius: 50%;\n",
              "      cursor: pointer;\n",
              "      display: none;\n",
              "      fill: #1967D2;\n",
              "      height: 32px;\n",
              "      padding: 0 0 0 0;\n",
              "      width: 32px;\n",
              "    }\n",
              "\n",
              "    .colab-df-convert:hover {\n",
              "      background-color: #E2EBFA;\n",
              "      box-shadow: 0px 1px 2px rgba(60, 64, 67, 0.3), 0px 1px 3px 1px rgba(60, 64, 67, 0.15);\n",
              "      fill: #174EA6;\n",
              "    }\n",
              "\n",
              "    [theme=dark] .colab-df-convert {\n",
              "      background-color: #3B4455;\n",
              "      fill: #D2E3FC;\n",
              "    }\n",
              "\n",
              "    [theme=dark] .colab-df-convert:hover {\n",
              "      background-color: #434B5C;\n",
              "      box-shadow: 0px 1px 3px 1px rgba(0, 0, 0, 0.15);\n",
              "      filter: drop-shadow(0px 1px 2px rgba(0, 0, 0, 0.3));\n",
              "      fill: #FFFFFF;\n",
              "    }\n",
              "  </style>\n",
              "\n",
              "      <script>\n",
              "        const buttonEl =\n",
              "          document.querySelector('#df-f208bde6-613c-4289-b4a7-744dd525f62a button.colab-df-convert');\n",
              "        buttonEl.style.display =\n",
              "          google.colab.kernel.accessAllowed ? 'block' : 'none';\n",
              "\n",
              "        async function convertToInteractive(key) {\n",
              "          const element = document.querySelector('#df-f208bde6-613c-4289-b4a7-744dd525f62a');\n",
              "          const dataTable =\n",
              "            await google.colab.kernel.invokeFunction('convertToInteractive',\n",
              "                                                     [key], {});\n",
              "          if (!dataTable) return;\n",
              "\n",
              "          const docLinkHtml = 'Like what you see? Visit the ' +\n",
              "            '<a target=\"_blank\" href=https://colab.research.google.com/notebooks/data_table.ipynb>data table notebook</a>'\n",
              "            + ' to learn more about interactive tables.';\n",
              "          element.innerHTML = '';\n",
              "          dataTable['output_type'] = 'display_data';\n",
              "          await google.colab.output.renderOutput(dataTable, element);\n",
              "          const docLink = document.createElement('div');\n",
              "          docLink.innerHTML = docLinkHtml;\n",
              "          element.appendChild(docLink);\n",
              "        }\n",
              "      </script>\n",
              "    </div>\n",
              "  </div>\n",
              "  "
            ]
          },
          "metadata": {},
          "execution_count": 9
        }
      ]
    },
    {
      "cell_type": "code",
      "source": [
        "#Endometrial stage data comes in a different column, so we need an apply function to normalize the stage across endometrial and other datasets\n",
        "def normalize(row):\n",
        "  stageI = ['Stage I', 'Stage IA', 'Stage IB', 'Stage IC']\n",
        "  stageII = ['Stage II', 'Stage IIA', 'Stage IIB']\n",
        "  stageIII = ['Stage III', 'Stage IIIA', 'Stage IIIB','Stage IIIC', 'Stage IIIC1', 'Stage IIIC2']\n",
        "  stageIV = ['Stage IV', 'Stage IVA', 'Stage IVB']\n",
        "  t1 = ['T1a', 'T1', 'T1b']\n",
        "  t2 = ['T2', 'T2a', 'T2b']\n",
        "  t3 = ['T3', 'T3a', 'T3b', 'T3c']\n",
        "  t4 = ['T4', 'T4a']\n",
        "  if row['American Joint Committee on Cancer Tumor Stage Code'] in t1 or row['Neoplasm American Joint Committee on Cancer Clinical Group Stage'] in stageI:\n",
        "    type = 'T1'\n",
        "  elif row['American Joint Committee on Cancer Tumor Stage Code'] in t2 or row['Neoplasm American Joint Committee on Cancer Clinical Group Stage'] in stageII:\n",
        "    type = 'T2'\n",
        "  elif row['American Joint Committee on Cancer Tumor Stage Code'] in t3 or row['Neoplasm American Joint Committee on Cancer Clinical Group Stage'] in stageIII:\n",
        "    type = 'T3'\n",
        "  elif row['American Joint Committee on Cancer Tumor Stage Code'] in t4 or row['Neoplasm American Joint Committee on Cancer Clinical Group Stage'] in stageIV:\n",
        "    type = 'T4'\n",
        "  else:\n",
        "    type = 'Tx or T0'\n",
        "  return type"
      ],
      "metadata": {
        "id": "i3nTMES9xfC7"
      },
      "execution_count": null,
      "outputs": []
    },
    {
      "cell_type": "code",
      "source": [
        "#Apply function that takes the height and weight from the columns and gives the BMI in a new column\n",
        "def calc_BMI(row):\n",
        "  w = row['Patient Weight']\n",
        "  h = (row['Patient Height']) / 100\n",
        "  BMI = w / h**2\n",
        "  return BMI\n",
        "\n",
        "def group_BMI(row):\n",
        "  BMI = row['BMI']\n",
        "  category = 'Underweight'\n",
        "#BMI over 40 is morbidly obese, but there were none in the datasets examined, so including it created problems with ordering the variable\n",
        "#  if BMI >= 40:\n",
        "#    category = 'Morbidly Obese'\n",
        "  if BMI >= 30:\n",
        "    category = 'Obese'\n",
        "  elif BMI >= 25:\n",
        "    category = 'Overweight'\n",
        "  elif BMI >= 16.5:\n",
        "    category = 'Normal'\n",
        "  return category\n"
      ],
      "metadata": {
        "id": "lbqwxVZrMnif"
      },
      "execution_count": null,
      "outputs": []
    },
    {
      "cell_type": "markdown",
      "source": [
        "#Questions to Explore\n",
        "Answering Questions with Data\n",
        "\n",
        "**Study Based Questions**\n",
        "\n",
        "Which Cancer types are associated with BMI?\n",
        "\n",
        "Based on studies, we expect certain cancer subtypes, such as esphogeal adenocarcinoma to be associated with higher BMI\n",
        "\n",
        "**Exploration**\n",
        "\n",
        "Is there a BMI difference between the sexes in BMI-linked cancer types?\n",
        "\n",
        "Is there a link between cancer stage and BMI in cancer patients?\n",
        "\n",
        "Is there a link between age and BMI in cancer patients?\n",
        "\n",
        "**Other Potential Questions that could be Explored**\n",
        "\n",
        "Is a higher BMI associated with lower survival time past a certain age\n",
        "\n",
        "Are there mutated genes correlated with a high BMI, and do they differ between cancer types?\n",
        "\n",
        "Do certain pathways change based on bmi? This could be answered with proteomic data."
      ],
      "metadata": {
        "id": "5HZ6nH7DO-94"
      }
    },
    {
      "cell_type": "code",
      "source": [
        "combined['Stage code'] = combined.apply(normalize,axis=1)\n",
        "combined['BMI'] = combined.apply(calc_BMI,axis=1)\n",
        "combined['BMI_category'] = combined.apply(group_BMI,axis=1)\n",
        "combined = combined.loc[combined['BMI'] > 0]\n",
        "#in R you can order a categorical variable as a factor, haven't quite figured out how to do it in python yet\n",
        "#combined_data['BMI_category'] = combined_data['BMI_category'].astype('category')\n",
        "#combined_data['BMI_category'] = combined_data['BMI_category'].cat.reorder_categories(['Underweight','Normal','Overweight','Obese'])"
      ],
      "metadata": {
        "id": "FoZlS2TIGFDy"
      },
      "execution_count": null,
      "outputs": []
    },
    {
      "cell_type": "markdown",
      "source": [
        "#Early Look at Data Using Graphs\n",
        "\n",
        "Graphs are a great way to visually explore the relationships between different variables before doing statistical analysis"
      ],
      "metadata": {
        "id": "cCatksTInaNA"
      }
    },
    {
      "cell_type": "code",
      "source": [
        "#General look at the distribution of BMI split by detailed cancer type and colored by general cancer type\n",
        "#Melanoma included as a control for a cancer that is not known to be related to BMI\n",
        "import plotly.express as px\n",
        "box = px.box(combined, x = 'Cancer Type Detailed', y = 'BMI', color = 'Cancer Type', title = 'BMI by Cancer Type', range_y = [0,80])\n",
        "box.show()"
      ],
      "metadata": {
        "colab": {
          "base_uri": "https://localhost:8080/",
          "height": 542
        },
        "id": "wIrGupd6ONWR",
        "outputId": "6f058fa8-c020-403d-88bf-e986d0325c0a"
      },
      "execution_count": null,
      "outputs": [
        {
          "output_type": "display_data",
          "data": {
            "text/html": [
              "<html>\n",
              "<head><meta charset=\"utf-8\" /></head>\n",
              "<body>\n",
              "    <div>            <script src=\"https://cdnjs.cloudflare.com/ajax/libs/mathjax/2.7.5/MathJax.js?config=TeX-AMS-MML_SVG\"></script><script type=\"text/javascript\">if (window.MathJax) {MathJax.Hub.Config({SVG: {font: \"STIX-Web\"}});}</script>                <script type=\"text/javascript\">window.PlotlyConfig = {MathJaxConfig: 'local'};</script>\n",
              "        <script src=\"https://cdn.plot.ly/plotly-2.8.3.min.js\"></script>                <div id=\"c0745c75-7723-4206-a351-8ff0aa9b2ab7\" class=\"plotly-graph-div\" style=\"height:525px; width:100%;\"></div>            <script type=\"text/javascript\">                                    window.PLOTLYENV=window.PLOTLYENV || {};                                    if (document.getElementById(\"c0745c75-7723-4206-a351-8ff0aa9b2ab7\")) {                    Plotly.newPlot(                        \"c0745c75-7723-4206-a351-8ff0aa9b2ab7\",                        [{\"alignmentgroup\":\"True\",\"hovertemplate\":\"Cancer Type=Esophagogastric Cancer<br>Cancer Type Detailed=%{x}<br>BMI=%{y}<extra></extra>\",\"legendgroup\":\"Esophagogastric Cancer\",\"marker\":{\"color\":\"#636efa\"},\"name\":\"Esophagogastric Cancer\",\"notched\":false,\"offsetgroup\":\"Esophagogastric Cancer\",\"orientation\":\"v\",\"showlegend\":true,\"x\":[\"Esophageal Adenocarcinoma\",\"Esophageal Adenocarcinoma\",\"Esophageal Adenocarcinoma\",\"Esophageal Adenocarcinoma\",\"Esophageal Adenocarcinoma\",\"Esophageal Adenocarcinoma\",\"Esophageal Adenocarcinoma\",\"Esophageal Adenocarcinoma\",\"Esophageal Adenocarcinoma\",\"Esophageal Adenocarcinoma\",\"Esophageal Adenocarcinoma\",\"Esophageal Adenocarcinoma\",\"Esophageal Adenocarcinoma\",\"Esophageal Squamous Cell Carcinoma\",\"Esophageal Squamous Cell Carcinoma\",\"Esophageal Squamous Cell Carcinoma\",\"Esophageal Squamous Cell Carcinoma\",\"Esophageal Squamous Cell Carcinoma\",\"Esophageal Squamous Cell Carcinoma\",\"Esophageal Squamous Cell Carcinoma\",\"Esophageal Squamous Cell Carcinoma\",\"Esophageal Adenocarcinoma\",\"Esophageal Squamous Cell Carcinoma\",\"Esophageal Squamous Cell Carcinoma\",\"Esophageal Squamous Cell Carcinoma\",\"Esophageal Squamous Cell Carcinoma\",\"Esophageal Squamous Cell Carcinoma\",\"Esophageal Squamous Cell Carcinoma\",\"Esophageal Squamous Cell Carcinoma\",\"Esophageal Adenocarcinoma\",\"Esophageal Squamous Cell Carcinoma\",\"Esophageal Squamous Cell Carcinoma\",\"Esophageal Squamous Cell Carcinoma\",\"Esophageal Adenocarcinoma\",\"Esophageal Squamous Cell Carcinoma\",\"Esophageal Adenocarcinoma\",\"Esophageal Squamous Cell Carcinoma\",\"Esophageal Squamous Cell Carcinoma\",\"Esophageal Squamous Cell Carcinoma\",\"Esophageal Adenocarcinoma\",\"Esophageal Adenocarcinoma\",\"Esophageal Adenocarcinoma\",\"Esophageal Adenocarcinoma\",\"Esophageal Adenocarcinoma\",\"Esophageal Adenocarcinoma\",\"Esophageal Squamous Cell Carcinoma\",\"Esophageal Squamous Cell Carcinoma\",\"Esophageal Adenocarcinoma\",\"Esophageal Adenocarcinoma\",\"Esophageal Squamous Cell Carcinoma\",\"Esophageal Adenocarcinoma\",\"Esophageal Squamous Cell Carcinoma\",\"Esophageal Adenocarcinoma\",\"Esophageal Adenocarcinoma\",\"Esophageal Adenocarcinoma\",\"Esophageal Adenocarcinoma\",\"Esophageal Adenocarcinoma\",\"Esophageal Adenocarcinoma\",\"Esophageal Adenocarcinoma\",\"Esophageal Adenocarcinoma\",\"Esophageal Adenocarcinoma\",\"Esophageal Adenocarcinoma\",\"Esophageal Adenocarcinoma\",\"Esophageal Adenocarcinoma\",\"Esophageal Adenocarcinoma\",\"Esophageal Adenocarcinoma\",\"Esophageal Adenocarcinoma\",\"Esophageal Adenocarcinoma\",\"Esophageal Squamous Cell Carcinoma\",\"Esophageal Adenocarcinoma\",\"Esophageal Adenocarcinoma\",\"Esophageal Squamous Cell Carcinoma\",\"Esophageal Adenocarcinoma\",\"Esophageal Squamous Cell Carcinoma\",\"Esophageal Adenocarcinoma\",\"Esophageal Adenocarcinoma\",\"Esophageal Adenocarcinoma\",\"Esophageal Adenocarcinoma\",\"Esophageal Adenocarcinoma\",\"Esophageal Adenocarcinoma\",\"Esophageal Adenocarcinoma\",\"Esophageal Squamous Cell Carcinoma\",\"Esophageal Adenocarcinoma\",\"Esophageal Adenocarcinoma\",\"Esophageal Squamous Cell Carcinoma\",\"Esophageal Adenocarcinoma\",\"Esophageal Adenocarcinoma\",\"Esophageal Adenocarcinoma\",\"Esophageal Adenocarcinoma\",\"Esophageal Adenocarcinoma\",\"Esophageal Squamous Cell Carcinoma\",\"Esophageal Adenocarcinoma\",\"Esophageal Squamous Cell Carcinoma\",\"Esophageal Squamous Cell Carcinoma\",\"Esophageal Squamous Cell Carcinoma\",\"Esophageal Squamous Cell Carcinoma\",\"Esophageal Squamous Cell Carcinoma\",\"Esophageal Squamous Cell Carcinoma\",\"Esophageal Squamous Cell Carcinoma\",\"Esophageal Squamous Cell Carcinoma\",\"Esophageal Squamous Cell Carcinoma\",\"Esophageal Squamous Cell Carcinoma\",\"Esophageal Squamous Cell Carcinoma\",\"Esophageal Squamous Cell Carcinoma\",\"Esophageal Squamous Cell Carcinoma\",\"Esophageal Squamous Cell Carcinoma\",\"Esophageal Squamous Cell Carcinoma\",\"Esophageal Squamous Cell Carcinoma\",\"Esophageal Squamous Cell Carcinoma\",\"Esophageal Squamous Cell Carcinoma\",\"Esophageal Squamous Cell Carcinoma\",\"Esophageal Squamous Cell Carcinoma\",\"Esophageal Squamous Cell Carcinoma\",\"Esophageal Squamous Cell Carcinoma\",\"Esophageal Squamous Cell Carcinoma\",\"Esophageal Squamous Cell Carcinoma\",\"Esophageal Squamous Cell Carcinoma\",\"Esophageal Squamous Cell Carcinoma\",\"Esophageal Squamous Cell Carcinoma\",\"Esophageal Squamous Cell Carcinoma\",\"Esophageal Squamous Cell Carcinoma\",\"Esophageal Squamous Cell Carcinoma\",\"Esophageal Squamous Cell Carcinoma\",\"Esophageal Squamous Cell Carcinoma\",\"Esophageal Squamous Cell Carcinoma\",\"Esophageal Squamous Cell Carcinoma\",\"Esophageal Squamous Cell Carcinoma\",\"Esophageal Squamous Cell Carcinoma\",\"Esophageal Squamous Cell Carcinoma\",\"Esophageal Adenocarcinoma\",\"Esophageal Squamous Cell Carcinoma\",\"Esophageal Adenocarcinoma\",\"Esophageal Adenocarcinoma\",\"Esophageal Adenocarcinoma\",\"Esophageal Adenocarcinoma\",\"Esophageal Adenocarcinoma\",\"Esophageal Adenocarcinoma\",\"Esophageal Adenocarcinoma\",\"Esophageal Adenocarcinoma\",\"Esophageal Adenocarcinoma\",\"Esophageal Adenocarcinoma\",\"Esophageal Adenocarcinoma\",\"Esophageal Adenocarcinoma\",\"Esophageal Adenocarcinoma\",\"Esophageal Adenocarcinoma\",\"Esophageal Adenocarcinoma\",\"Esophageal Adenocarcinoma\",\"Esophageal Squamous Cell Carcinoma\",\"Esophageal Adenocarcinoma\",\"Esophageal Squamous Cell Carcinoma\",\"Esophageal Adenocarcinoma\",\"Esophageal Squamous Cell Carcinoma\",\"Esophageal Adenocarcinoma\",\"Esophageal Adenocarcinoma\",\"Esophageal Squamous Cell Carcinoma\",\"Esophageal Squamous Cell Carcinoma\",\"Esophageal Adenocarcinoma\",\"Esophageal Squamous Cell Carcinoma\",\"Esophageal Squamous Cell Carcinoma\",\"Esophageal Squamous Cell Carcinoma\",\"Esophageal Squamous Cell Carcinoma\",\"Esophageal Squamous Cell Carcinoma\",\"Esophageal Squamous Cell Carcinoma\",\"Esophageal Squamous Cell Carcinoma\",\"Esophageal Squamous Cell Carcinoma\",\"Esophageal Adenocarcinoma\",\"Esophageal Squamous Cell Carcinoma\",\"Esophageal Squamous Cell Carcinoma\",\"Esophageal Squamous Cell Carcinoma\",\"Esophageal Squamous Cell Carcinoma\",\"Esophageal Adenocarcinoma\",\"Esophageal Squamous Cell Carcinoma\",\"Esophageal Squamous Cell Carcinoma\",\"Esophageal Squamous Cell Carcinoma\",\"Esophageal Squamous Cell Carcinoma\"],\"x0\":\" \",\"xaxis\":\"x\",\"y\":[28.367523664486843,23.355636914530994,27.173101615455817,28.293345405160707,19.59631589261219,24.691358024691358,28.40054796351365,24.031709372366656,23.959094229364496,28.719723183391007,25.24933720489837,23.738662131519277,30.457762250291136,34.602076124567475,17.63085399449036,25.25951557093426,25.826446280991735,23.719609250647608,25.24933720489837,23.1084345786212,25.963047941069917,26.365603028664147,23.120623596247853,23.243408017070564,19.883853048857468,22.145328719723185,21.534908398614277,17.71541950113379,22.59814049586777,21.04804761213529,19.233560749020178,20.41522491349481,20.478266613819528,25.46401086464464,21.13885585942661,30.323342589932647,28.133656509695292,20.015495867768596,36.753650305723546,29.320987654320987,26.44628099173554,27.469135802469133,21.707923392038097,13.398953850910871,24.3910588392529,26.813590449954088,26.44628099173554,39.54214360041623,22.096807907073963,22.53061224489796,40.90048674959438,21.35779559539232,33.09042236763832,60.235323491776164,25.21735857578381,41.46938775510204,27.732299776136855,42.38548483045807,34.25925925925926,24.302487059714682,31.555555555555557,31.16343490304709,30.48337930033387,23.93606231490121,30.930438076000502,26.775510204081634,40.56959714390036,32.846606348353184,22.99262444384723,26.42356982428326,23.836734693877553,24.151672503320853,22.205989773557338,24.840980089578082,24.187046492878256,29.77777777777778,32.52595155709343,29.737044338267232,29.3946871824648,28.666129176744597,27.064051588760066,25.847768218818715,32.046146450889275,20.761245674740486,27.458654210326976,24.341758286340216,27.160493827160494,25.082863029651524,24.48565200513601,32.50852165130665,31.487889273356405,32.43243243243243,22.265624999999996,22.230987127541326,20.19557823129252,19.13265306122449,22.832879346258608,20.244897959183675,20.244897959183675,21.04981790236894,20.199469763918696,20.715693808680545,23.243408017070564,20.19557823129252,21.971335857220122,21.30394857667585,21.29529475392104,20.244897959183675,22.20408163265306,23.243801652892564,22.20408163265306,22.724403484408533,19.841269841269845,22.481329065691202,17.474717430101133,20.281233098972418,18.556773222226116,23.781212841854934,22.275309917355372,22.647376960519203,20.983987603305785,20.015495867768596,20.571428571428573,22.229061933586404,26.40235457063712,22.49134948096886,21.490285513793253,21.29529475392104,20.61925365062196,16.84502576298058,23.634033007530842,27.33564013840831,32.0,19.841269841269845,21.91358024691358,33.08261290221903,29.065743944636683,27.940538194444446,26.82742078020452,31.40766480670921,31.161373901474043,24.577867151840145,31.120686707020965,27.469135802469133,25.102391333069097,27.60945175517229,27.777777777777775,24.258674071946118,44.956733369388864,25.990903183885642,26.959840341724732,20.202020202020204,28.73469387755102,27.12673611111111,19.66230766829999,19.713321527615356,22.152646502835537,17.102914931588344,25.781249999999996,16.84502576298058,17.846519928613922,20.519134092541297,25.71166207529844,24.740937287102444,19.723183391003463,25.88057063502083,27.29322416043669,18.59103674696412,20.685150239512268,19.15119181970521,31.353578787064404,23.323418063818284,21.612811791383223,24.524346347059055,27.180899908172638],\"y0\":\" \",\"yaxis\":\"y\",\"type\":\"box\"},{\"alignmentgroup\":\"True\",\"hovertemplate\":\"Cancer Type=Esophageal/Stomach Cancer, NOS<br>Cancer Type Detailed=%{x}<br>BMI=%{y}<extra></extra>\",\"legendgroup\":\"Esophageal/Stomach Cancer, NOS\",\"marker\":{\"color\":\"#EF553B\"},\"name\":\"Esophageal/Stomach Cancer, NOS\",\"notched\":false,\"offsetgroup\":\"Esophageal/Stomach Cancer, NOS\",\"orientation\":\"v\",\"showlegend\":true,\"x\":[\"Esophagus/Stomach\"],\"x0\":\" \",\"xaxis\":\"x\",\"y\":[25.990903183885642],\"y0\":\" \",\"yaxis\":\"y\",\"type\":\"box\"},{\"alignmentgroup\":\"True\",\"hovertemplate\":\"Cancer Type=Renal Cell Carcinoma<br>Cancer Type Detailed=%{x}<br>BMI=%{y}<extra></extra>\",\"legendgroup\":\"Renal Cell Carcinoma\",\"marker\":{\"color\":\"#00cc96\"},\"name\":\"Renal Cell Carcinoma\",\"notched\":false,\"offsetgroup\":\"Renal Cell Carcinoma\",\"orientation\":\"v\",\"showlegend\":true,\"x\":[\"Papillary Renal Cell Carcinoma\",\"Papillary Renal Cell Carcinoma\",\"Papillary Renal Cell Carcinoma\",\"Papillary Renal Cell Carcinoma\",\"Papillary Renal Cell Carcinoma\",\"Papillary Renal Cell Carcinoma\",\"Papillary Renal Cell Carcinoma\",\"Papillary Renal Cell Carcinoma\",\"Papillary Renal Cell Carcinoma\",\"Papillary Renal Cell Carcinoma\",\"Papillary Renal Cell Carcinoma\",\"Papillary Renal Cell Carcinoma\",\"Papillary Renal Cell Carcinoma\",\"Papillary Renal Cell Carcinoma\",\"Papillary Renal Cell Carcinoma\",\"Papillary Renal Cell Carcinoma\",\"Papillary Renal Cell Carcinoma\",\"Papillary Renal Cell Carcinoma\",\"Papillary Renal Cell Carcinoma\",\"Papillary Renal Cell Carcinoma\",\"Papillary Renal Cell Carcinoma\",\"Papillary Renal Cell Carcinoma\",\"Papillary Renal Cell Carcinoma\",\"Papillary Renal Cell Carcinoma\",\"Papillary Renal Cell Carcinoma\",\"Papillary Renal Cell Carcinoma\",\"Papillary Renal Cell Carcinoma\",\"Papillary Renal Cell Carcinoma\",\"Papillary Renal Cell Carcinoma\",\"Papillary Renal Cell Carcinoma\",\"Papillary Renal Cell Carcinoma\",\"Papillary Renal Cell Carcinoma\",\"Papillary Renal Cell Carcinoma\",\"Papillary Renal Cell Carcinoma\",\"Papillary Renal Cell Carcinoma\",\"Papillary Renal Cell Carcinoma\",\"Papillary Renal Cell Carcinoma\",\"Papillary Renal Cell Carcinoma\",\"Papillary Renal Cell Carcinoma\",\"Papillary Renal Cell Carcinoma\",\"Papillary Renal Cell Carcinoma\",\"Papillary Renal Cell Carcinoma\",\"Papillary Renal Cell Carcinoma\",\"Papillary Renal Cell Carcinoma\",\"Papillary Renal Cell Carcinoma\",\"Papillary Renal Cell Carcinoma\",\"Papillary Renal Cell Carcinoma\",\"Papillary Renal Cell Carcinoma\",\"Papillary Renal Cell Carcinoma\",\"Papillary Renal Cell Carcinoma\",\"Papillary Renal Cell Carcinoma\",\"Papillary Renal Cell Carcinoma\",\"Papillary Renal Cell Carcinoma\",\"Papillary Renal Cell Carcinoma\",\"Papillary Renal Cell Carcinoma\",\"Papillary Renal Cell Carcinoma\",\"Papillary Renal Cell Carcinoma\",\"Papillary Renal Cell Carcinoma\",\"Papillary Renal Cell Carcinoma\",\"Papillary Renal Cell Carcinoma\",\"Papillary Renal Cell Carcinoma\",\"Papillary Renal Cell Carcinoma\",\"Papillary Renal Cell Carcinoma\",\"Papillary Renal Cell Carcinoma\",\"Papillary Renal Cell Carcinoma\",\"Papillary Renal Cell Carcinoma\",\"Papillary Renal Cell Carcinoma\",\"Papillary Renal Cell Carcinoma\",\"Papillary Renal Cell Carcinoma\",\"Papillary Renal Cell Carcinoma\",\"Papillary Renal Cell Carcinoma\",\"Papillary Renal Cell Carcinoma\",\"Papillary Renal Cell Carcinoma\",\"Papillary Renal Cell Carcinoma\",\"Papillary Renal Cell Carcinoma\",\"Papillary Renal Cell Carcinoma\",\"Papillary Renal Cell Carcinoma\",\"Papillary Renal Cell Carcinoma\",\"Papillary Renal Cell Carcinoma\",\"Papillary Renal Cell Carcinoma\",\"Papillary Renal Cell Carcinoma\",\"Papillary Renal Cell Carcinoma\",\"Papillary Renal Cell Carcinoma\",\"Papillary Renal Cell Carcinoma\",\"Papillary Renal Cell Carcinoma\",\"Papillary Renal Cell Carcinoma\",\"Papillary Renal Cell Carcinoma\",\"Papillary Renal Cell Carcinoma\",\"Papillary Renal Cell Carcinoma\",\"Papillary Renal Cell Carcinoma\",\"Papillary Renal Cell Carcinoma\",\"Papillary Renal Cell Carcinoma\",\"Papillary Renal Cell Carcinoma\",\"Papillary Renal Cell Carcinoma\",\"Papillary Renal Cell Carcinoma\",\"Papillary Renal Cell Carcinoma\",\"Papillary Renal Cell Carcinoma\",\"Papillary Renal Cell Carcinoma\",\"Papillary Renal Cell Carcinoma\",\"Papillary Renal Cell Carcinoma\",\"Papillary Renal Cell Carcinoma\",\"Papillary Renal Cell Carcinoma\",\"Papillary Renal Cell Carcinoma\",\"Papillary Renal Cell Carcinoma\",\"Papillary Renal Cell Carcinoma\",\"Papillary Renal Cell Carcinoma\",\"Papillary Renal Cell Carcinoma\",\"Papillary Renal Cell Carcinoma\",\"Papillary Renal Cell Carcinoma\",\"Papillary Renal Cell Carcinoma\",\"Papillary Renal Cell Carcinoma\",\"Papillary Renal Cell Carcinoma\",\"Papillary Renal Cell Carcinoma\",\"Papillary Renal Cell Carcinoma\",\"Papillary Renal Cell Carcinoma\",\"Papillary Renal Cell Carcinoma\",\"Papillary Renal Cell Carcinoma\",\"Papillary Renal Cell Carcinoma\",\"Papillary Renal Cell Carcinoma\",\"Papillary Renal Cell Carcinoma\",\"Papillary Renal Cell Carcinoma\",\"Papillary Renal Cell Carcinoma\",\"Papillary Renal Cell Carcinoma\",\"Papillary Renal Cell Carcinoma\",\"Papillary Renal Cell Carcinoma\",\"Papillary Renal Cell Carcinoma\",\"Papillary Renal Cell Carcinoma\",\"Papillary Renal Cell Carcinoma\",\"Papillary Renal Cell Carcinoma\",\"Papillary Renal Cell Carcinoma\",\"Papillary Renal Cell Carcinoma\",\"Papillary Renal Cell Carcinoma\",\"Papillary Renal Cell Carcinoma\",\"Papillary Renal Cell Carcinoma\",\"Papillary Renal Cell Carcinoma\",\"Papillary Renal Cell Carcinoma\",\"Papillary Renal Cell Carcinoma\",\"Papillary Renal Cell Carcinoma\",\"Papillary Renal Cell Carcinoma\",\"Papillary Renal Cell Carcinoma\",\"Papillary Renal Cell Carcinoma\",\"Papillary Renal Cell Carcinoma\",\"Papillary Renal Cell Carcinoma\",\"Papillary Renal Cell Carcinoma\",\"Papillary Renal Cell Carcinoma\",\"Papillary Renal Cell Carcinoma\",\"Papillary Renal Cell Carcinoma\",\"Papillary Renal Cell Carcinoma\",\"Papillary Renal Cell Carcinoma\",\"Papillary Renal Cell Carcinoma\",\"Papillary Renal Cell Carcinoma\",\"Papillary Renal Cell Carcinoma\",\"Papillary Renal Cell Carcinoma\",\"Papillary Renal Cell Carcinoma\",\"Papillary Renal Cell Carcinoma\",\"Papillary Renal Cell Carcinoma\",\"Papillary Renal Cell Carcinoma\",\"Papillary Renal Cell Carcinoma\",\"Papillary Renal Cell Carcinoma\",\"Papillary Renal Cell Carcinoma\",\"Papillary Renal Cell Carcinoma\",\"Papillary Renal Cell Carcinoma\",\"Papillary Renal Cell Carcinoma\",\"Papillary Renal Cell Carcinoma\",\"Papillary Renal Cell Carcinoma\",\"Papillary Renal Cell Carcinoma\",\"Papillary Renal Cell Carcinoma\",\"Papillary Renal Cell Carcinoma\",\"Papillary Renal Cell Carcinoma\",\"Papillary Renal Cell Carcinoma\",\"Papillary Renal Cell Carcinoma\",\"Papillary Renal Cell Carcinoma\",\"Papillary Renal Cell Carcinoma\",\"Papillary Renal Cell Carcinoma\",\"Papillary Renal Cell Carcinoma\",\"Papillary Renal Cell Carcinoma\",\"Papillary Renal Cell Carcinoma\",\"Papillary Renal Cell Carcinoma\",\"Papillary Renal Cell Carcinoma\",\"Papillary Renal Cell Carcinoma\",\"Papillary Renal Cell Carcinoma\",\"Papillary Renal Cell Carcinoma\",\"Papillary Renal Cell Carcinoma\",\"Papillary Renal Cell Carcinoma\",\"Papillary Renal Cell Carcinoma\",\"Papillary Renal Cell Carcinoma\",\"Papillary Renal Cell Carcinoma\",\"Papillary Renal Cell Carcinoma\",\"Papillary Renal Cell Carcinoma\",\"Papillary Renal Cell Carcinoma\",\"Papillary Renal Cell Carcinoma\",\"Papillary Renal Cell Carcinoma\",\"Papillary Renal Cell Carcinoma\",\"Papillary Renal Cell Carcinoma\",\"Papillary Renal Cell Carcinoma\",\"Papillary Renal Cell Carcinoma\",\"Papillary Renal Cell Carcinoma\",\"Papillary Renal Cell Carcinoma\",\"Papillary Renal Cell Carcinoma\",\"Papillary Renal Cell Carcinoma\",\"Papillary Renal Cell Carcinoma\",\"Papillary Renal Cell Carcinoma\",\"Papillary Renal Cell Carcinoma\",\"Papillary Renal Cell Carcinoma\",\"Papillary Renal Cell Carcinoma\",\"Papillary Renal Cell Carcinoma\",\"Papillary Renal Cell Carcinoma\",\"Papillary Renal Cell Carcinoma\",\"Papillary Renal Cell Carcinoma\",\"Papillary Renal Cell Carcinoma\",\"Papillary Renal Cell Carcinoma\",\"Papillary Renal Cell Carcinoma\",\"Papillary Renal Cell Carcinoma\",\"Papillary Renal Cell Carcinoma\"],\"x0\":\" \",\"xaxis\":\"x\",\"y\":[27.66285664054162,29.5618721370588,23.639535288341815,26.57799950719959,35.767409837737674,40.32029781787101,19.829290104294234,27.041899324082678,24.72838388411046,43.37767966185586,26.615539056146012,28.499303778772987,27.69272722598599,31.90081245337958,29.67139151851556,25.643956713915557,18.754325259515575,36.488934971355555,38.08410646017484,28.504425947945567,39.833531510107015,25.533392248453477,30.263497438504082,27.962006086499084,23.923308707514767,35.34907208685772,28.027681660899656,23.38868655818771,24.691358024691358,28.037923459359458,26.026174895895306,24.801587301587304,28.06642386982525,29.402273297715947,25.25951557093426,32.0,26.29757785467128,35.154137371552196,28.360351528307834,22.720438370810918,21.874999999999996,29.983587930816814,24.535123966942148,27.414453692693883,22.857142857142858,25.536703601108034,27.469135802469133,28.04967129291453,22.07409972299169,23.507805325987146,24.816326530612244,38.81871659350831,31.217481789802285,31.17283950617284,33.63265306122449,27.469135802469133,25.082863029651524,27.173101615455817,36.08540211834675,33.89335281227173,33.746533462527985,26.26494384736143,39.13647266759247,23.38868655818771,27.39817568244846,22.83550295857988,32.443449497143234,38.26530612244898,21.487603305785125,33.833141099577084,26.421769731642144,28.487443750907246,38.062283737024224,21.796874999999993,19.53542321662953,40.391836734693875,26.44628099173554,26.989619377162633,28.162493730951734,25.71166207529844,25.762980578676178,22.809917355371905,30.308459494162257,30.040816326530614,31.92120564851074,28.342284801858035,25.423401874927663,26.450617283950617,27.73012149434544,30.761573503703225,24.654832347140037,35.401234567901234,24.950302243498722,24.56747404844291,37.88967222426409,23.481883600555488,32.242063492063494,25.25951557093426,36.38926992836457,32.37368481905422,19.815593140341853,31.799109503909683,29.354197862296854,26.13664822530337,35.45084649054836,28.740237212619636,20.49661179918042,29.39951490800402,30.739146985263268,25.513281988377003,33.76642981273229,23.62938793072538,26.87962962962963,28.50444579576632,23.243408017070564,16.82422688671687,34.159779614325075,17.48178980228928,17.48178980228928,33.3275623268698,42.82844990548204,33.672022684310015,22.308149910767405,49.71590909090909,32.557694149190844,35.102713592381185,23.011176857330703,28.055705786911847,33.510445598357684,29.031220331269765,34.81611681990265,36.96082914189909,30.48315805517451,38.9415557470714,25.25951557093426,25.854639471416256,21.296296296296294,30.683734836857425,11.735007438318288,32.557694149190844,23.739138224491622,28.208362902895857,46.458211106111264,32.104346721421265,23.671253629592222,22.799443023018387,29.205668590095605,29.84238963074942,23.570600654679303,22.230987127541326,26.575890590940304,28.04967129291453,27.548209366391188,41.66089965397924,27.340924237159733,28.12951294092115,25.717211197736003,22.52609327520148,21.730103806228374,28.47372070826997,23.186781067439682,40.94167227054368,32.04170031422605,28.024821985186875,29.61580591504726,16.93093254501478,29.311294765840223,24.664815312490664,29.05641913508224,32.82413836636788,26.812218711098343,39.66942148760331,21.296296296296294,30.08428868420237,25.55932915514163,29.64187327823692,35.360943790768076,26.234754256732277,28.373942684004547,29.555881526793797,27.636054421768712,27.17063156623596,31.797373975494093,25.402816083611555,27.113380513004266,39.15743991358357,33.95061728395061,26.965450516525703,33.049295977149214,26.456448386037202,31.232412816084153,28.05444441461516,26.187703425005225,27.33135086371078,25.091528847367755,43.32031249999999,43.32031249999999,414.89423693257964,33.19658248334525,24.84397861984532,30.25616498454026,21.679687499999996,22.10770045739088,33.33093191193101,266.0575114216609,30.570355489562395,37.211210705718976,29.384756657483933,36.12368335847783,28.689559399065775,29.566816216500914,34.265186809608856,37.184417803179045,23.332591043880313],\"y0\":\" \",\"yaxis\":\"y\",\"type\":\"box\"},{\"alignmentgroup\":\"True\",\"hovertemplate\":\"Cancer Type=Hepatobiliary Cancer<br>Cancer Type Detailed=%{x}<br>BMI=%{y}<extra></extra>\",\"legendgroup\":\"Hepatobiliary Cancer\",\"marker\":{\"color\":\"#ab63fa\"},\"name\":\"Hepatobiliary Cancer\",\"notched\":false,\"offsetgroup\":\"Hepatobiliary Cancer\",\"orientation\":\"v\",\"showlegend\":true,\"x\":[\"Hepatocellular Carcinoma\",\"Hepatocellular Carcinoma\",\"Hepatocellular Carcinoma\",\"Hepatocellular Carcinoma\",\"Hepatocellular Carcinoma\",\"Hepatocellular Carcinoma\",\"Hepatocellular Carcinoma\",\"Hepatocellular Carcinoma\",\"Hepatocellular Carcinoma\",\"Hepatocellular Carcinoma\",\"Hepatocellular Carcinoma\",\"Hepatocellular Carcinoma\",\"Hepatocellular Carcinoma\",\"Hepatocellular Carcinoma\",\"Hepatocellular Carcinoma\",\"Hepatocellular Carcinoma\",\"Hepatocellular Carcinoma\",\"Hepatocellular Carcinoma\",\"Hepatocellular Carcinoma\",\"Hepatocellular Carcinoma\",\"Hepatocellular Carcinoma\",\"Hepatocellular Carcinoma\",\"Hepatocellular Carcinoma\",\"Hepatocellular Carcinoma\",\"Hepatocellular Carcinoma\",\"Hepatocellular Carcinoma plus Intrahepatic Cholangiocarcinoma\",\"Hepatocellular Carcinoma\",\"Hepatocellular Carcinoma\",\"Hepatocellular Carcinoma\",\"Hepatocellular Carcinoma\",\"Hepatocellular Carcinoma\",\"Hepatocellular Carcinoma\",\"Hepatocellular Carcinoma\",\"Hepatocellular Carcinoma\",\"Hepatocellular Carcinoma\",\"Hepatocellular Carcinoma\",\"Hepatocellular Carcinoma\",\"Hepatocellular Carcinoma\",\"Hepatocellular Carcinoma\",\"Hepatocellular Carcinoma\",\"Hepatocellular Carcinoma\",\"Hepatocellular Carcinoma\",\"Hepatocellular Carcinoma\",\"Hepatocellular Carcinoma\",\"Hepatocellular Carcinoma\",\"Hepatocellular Carcinoma\",\"Hepatocellular Carcinoma\",\"Hepatocellular Carcinoma\",\"Hepatocellular Carcinoma\",\"Hepatocellular Carcinoma\",\"Hepatocellular Carcinoma\",\"Hepatocellular Carcinoma\",\"Hepatocellular Carcinoma\",\"Hepatocellular Carcinoma\",\"Hepatocellular Carcinoma\",\"Hepatocellular Carcinoma\",\"Hepatocellular Carcinoma\",\"Hepatocellular Carcinoma\",\"Hepatocellular Carcinoma\",\"Hepatocellular Carcinoma\",\"Hepatocellular Carcinoma\",\"Hepatocellular Carcinoma\",\"Hepatocellular Carcinoma\",\"Hepatocellular Carcinoma\",\"Hepatocellular Carcinoma\",\"Hepatocellular Carcinoma\",\"Hepatocellular Carcinoma\",\"Hepatocellular Carcinoma\",\"Hepatocellular Carcinoma\",\"Hepatocellular Carcinoma\",\"Hepatocellular Carcinoma\",\"Hepatocellular Carcinoma\",\"Hepatocellular Carcinoma\",\"Hepatocellular Carcinoma\",\"Hepatocellular Carcinoma\",\"Hepatocellular Carcinoma\",\"Hepatocellular Carcinoma\",\"Hepatocellular Carcinoma\",\"Hepatocellular Carcinoma\",\"Hepatocellular Carcinoma\",\"Hepatocellular Carcinoma\",\"Hepatocellular Carcinoma\",\"Hepatocellular Carcinoma\",\"Hepatocellular Carcinoma\",\"Hepatocellular Carcinoma\",\"Hepatocellular Carcinoma\",\"Hepatocellular Carcinoma\",\"Hepatocellular Carcinoma\",\"Hepatocellular Carcinoma\",\"Hepatocellular Carcinoma\",\"Hepatocellular Carcinoma\",\"Hepatocellular Carcinoma\",\"Hepatocellular Carcinoma\",\"Hepatocellular Carcinoma\",\"Hepatocellular Carcinoma\",\"Hepatocellular Carcinoma\",\"Hepatocellular Carcinoma\",\"Hepatocellular Carcinoma\",\"Hepatocellular Carcinoma\",\"Hepatocellular Carcinoma\",\"Hepatocellular Carcinoma\",\"Hepatocellular Carcinoma\",\"Hepatocellular Carcinoma\",\"Hepatocellular Carcinoma\",\"Hepatocellular Carcinoma\",\"Hepatocellular Carcinoma\",\"Hepatocellular Carcinoma\",\"Hepatocellular Carcinoma\",\"Hepatocellular Carcinoma\",\"Hepatocellular Carcinoma\",\"Hepatocellular Carcinoma\",\"Hepatocellular Carcinoma\",\"Fibrolamellar Carcinoma\",\"Hepatocellular Carcinoma\",\"Hepatocellular Carcinoma\",\"Hepatocellular Carcinoma\",\"Hepatocellular Carcinoma\",\"Hepatocellular Carcinoma\",\"Hepatocellular Carcinoma\",\"Hepatocellular Carcinoma\",\"Hepatocellular Carcinoma\",\"Hepatocellular Carcinoma\",\"Hepatocellular Carcinoma\",\"Hepatocellular Carcinoma\",\"Hepatocellular Carcinoma\",\"Hepatocellular Carcinoma\",\"Hepatocellular Carcinoma\",\"Hepatocellular Carcinoma\",\"Hepatocellular Carcinoma\",\"Hepatocellular Carcinoma\",\"Hepatocellular Carcinoma\",\"Hepatocellular Carcinoma\",\"Hepatocellular Carcinoma\",\"Hepatocellular Carcinoma\",\"Hepatocellular Carcinoma\",\"Hepatocellular Carcinoma plus Intrahepatic Cholangiocarcinoma\",\"Hepatocellular Carcinoma\",\"Hepatocellular Carcinoma\",\"Hepatocellular Carcinoma\",\"Liver Cancer, NOS\",\"Hepatocellular Carcinoma\",\"Hepatocellular Carcinoma plus Intrahepatic Cholangiocarcinoma\",\"Hepatocellular Carcinoma\",\"Hepatocellular Carcinoma\",\"Hepatocellular Carcinoma\",\"Hepatocellular Carcinoma\",\"Hepatocellular Carcinoma\",\"Hepatocellular Carcinoma\",\"Hepatocellular Carcinoma\",\"Hepatocellular Carcinoma\",\"Hepatocellular Carcinoma\",\"Hepatocellular Carcinoma\",\"Hepatocellular Carcinoma\",\"Hepatocellular Carcinoma\",\"Hepatocellular Carcinoma\",\"Hepatocellular Carcinoma\",\"Hepatocellular Carcinoma\",\"Hepatocellular Carcinoma\",\"Hepatocellular Carcinoma\",\"Hepatocellular Carcinoma\",\"Hepatocellular Carcinoma\",\"Hepatocellular Carcinoma\",\"Hepatocellular Carcinoma\",\"Hepatocellular Carcinoma\",\"Hepatocellular Carcinoma\",\"Hepatocellular Carcinoma\",\"Hepatocellular Carcinoma\",\"Hepatocellular Carcinoma\",\"Hepatocellular Carcinoma\",\"Hepatocellular Carcinoma\",\"Hepatocellular Carcinoma\",\"Hepatocellular Carcinoma\",\"Hepatocellular Carcinoma\",\"Hepatocellular Carcinoma\",\"Hepatocellular Carcinoma\",\"Hepatocellular Carcinoma\",\"Hepatocellular Carcinoma\",\"Hepatocellular Carcinoma\",\"Hepatocellular Carcinoma\",\"Hepatocellular Carcinoma\",\"Hepatocellular Carcinoma\",\"Hepatocellular Carcinoma\",\"Hepatocellular Carcinoma\",\"Hepatocellular Carcinoma\",\"Hepatocellular Carcinoma\",\"Hepatocellular Carcinoma\",\"Hepatocellular Carcinoma\",\"Hepatocellular Carcinoma\",\"Hepatocellular Carcinoma\",\"Hepatocellular Carcinoma\",\"Hepatocellular Carcinoma\",\"Hepatocellular Carcinoma\",\"Hepatocellular Carcinoma\",\"Hepatocellular Carcinoma\",\"Hepatocellular Carcinoma\",\"Hepatocellular Carcinoma\",\"Hepatocellular Carcinoma\",\"Hepatocellular Carcinoma\",\"Hepatocellular Carcinoma\",\"Hepatocellular Carcinoma\",\"Hepatocellular Carcinoma\",\"Hepatocellular Carcinoma\",\"Hepatocellular Carcinoma\",\"Hepatocellular Carcinoma\",\"Hepatocellular Carcinoma\",\"Hepatocellular Carcinoma\",\"Hepatocellular Carcinoma\",\"Hepatocellular Carcinoma\",\"Hepatocellular Carcinoma\",\"Hepatocellular Carcinoma\",\"Hepatocellular Carcinoma\",\"Hepatocellular Carcinoma\",\"Hepatocellular Carcinoma\",\"Hepatocellular Carcinoma\",\"Hepatocellular Carcinoma\",\"Hepatocellular Carcinoma\",\"Hepatocellular Carcinoma\",\"Hepatocellular Carcinoma\",\"Hepatocellular Carcinoma\",\"Hepatocellular Carcinoma\",\"Hepatocellular Carcinoma\",\"Hepatocellular Carcinoma\",\"Hepatocellular Carcinoma\",\"Hepatocellular Carcinoma\",\"Hepatocellular Carcinoma\",\"Hepatocellular Carcinoma\",\"Hepatocellular Carcinoma\",\"Hepatocellular Carcinoma\",\"Hepatocellular Carcinoma\",\"Hepatocellular Carcinoma\",\"Hepatocellular Carcinoma\",\"Hepatocellular Carcinoma\",\"Hepatocellular Carcinoma\",\"Hepatocellular Carcinoma\",\"Hepatocellular Carcinoma\",\"Hepatocellular Carcinoma\",\"Hepatocellular Carcinoma\",\"Hepatocellular Carcinoma\",\"Hepatocellular Carcinoma plus Intrahepatic Cholangiocarcinoma\",\"Hepatocellular Carcinoma\",\"Hepatocellular Carcinoma\",\"Hepatocellular Carcinoma\",\"Hepatocellular Carcinoma\",\"Hepatocellular Carcinoma\",\"Hepatocellular Carcinoma\",\"Hepatocellular Carcinoma\",\"Hepatocellular Carcinoma\",\"Hepatocellular Carcinoma\",\"Hepatocellular Carcinoma\",\"Hepatocellular Carcinoma\",\"Hepatocellular Carcinoma\",\"Hepatocellular Carcinoma\",\"Hepatocellular Carcinoma\",\"Hepatocellular Carcinoma\",\"Hepatocellular Carcinoma\",\"Hepatocellular Carcinoma\",\"Hepatocellular Carcinoma\",\"Hepatocellular Carcinoma\",\"Hepatocellular Carcinoma\",\"Hepatocellular Carcinoma\",\"Hepatocellular Carcinoma\",\"Hepatocellular Carcinoma\",\"Hepatocellular Carcinoma\",\"Hepatocellular Carcinoma\",\"Hepatocellular Carcinoma\",\"Hepatocellular Carcinoma\",\"Hepatocellular Carcinoma\",\"Hepatocellular Carcinoma\",\"Hepatocellular Carcinoma\",\"Hepatocellular Carcinoma\",\"Hepatocellular Carcinoma\",\"Hepatocellular Carcinoma\",\"Hepatocellular Carcinoma\",\"Hepatocellular Carcinoma\",\"Hepatocellular Carcinoma\",\"Hepatocellular Carcinoma\",\"Hepatocellular Carcinoma\",\"Hepatocellular Carcinoma\",\"Hepatocellular Carcinoma\",\"Hepatocellular Carcinoma\",\"Hepatocellular Carcinoma\",\"Hepatocellular Carcinoma\",\"Hepatocellular Carcinoma\",\"Hepatocellular Carcinoma\",\"Hepatocellular Carcinoma\",\"Hepatocellular Carcinoma\",\"Hepatocellular Carcinoma\",\"Hepatocellular Carcinoma\",\"Hepatocellular Carcinoma\",\"Hepatocellular Carcinoma plus Intrahepatic Cholangiocarcinoma\",\"Hepatocellular Carcinoma\",\"Hepatocellular Carcinoma\",\"Hepatocellular Carcinoma\",\"Hepatocellular Carcinoma\",\"Hepatocellular Carcinoma\",\"Hepatocellular Carcinoma\",\"Hepatocellular Carcinoma\",\"Hepatocellular Carcinoma\",\"Hepatocellular Carcinoma\",\"Hepatocellular Carcinoma\",\"Hepatocellular Carcinoma\",\"Fibrolamellar Carcinoma\",\"Hepatocellular Carcinoma\",\"Hepatocellular Carcinoma\",\"Hepatocellular Carcinoma\",\"Hepatocellular Carcinoma\",\"Hepatocellular Carcinoma\",\"Hepatocellular Carcinoma\",\"Hepatocellular Carcinoma\",\"Hepatocellular Carcinoma\",\"Hepatocellular Carcinoma\",\"Hepatocellular Carcinoma\",\"Hepatocellular Carcinoma\",\"Hepatocellular Carcinoma\",\"Hepatocellular Carcinoma plus Intrahepatic Cholangiocarcinoma\",\"Hepatocellular Carcinoma\",\"Hepatocellular Carcinoma\",\"Hepatocellular Carcinoma\",\"Hepatocellular Carcinoma\",\"Hepatocellular Carcinoma\",\"Hepatocellular Carcinoma\",\"Hepatocellular Carcinoma\",\"Hepatocellular Carcinoma\",\"Hepatocellular Carcinoma\",\"Hepatocellular Carcinoma\",\"Hepatocellular Carcinoma\",\"Hepatocellular Carcinoma\",\"Hepatocellular Carcinoma\",\"Hepatocellular Carcinoma\",\"Hepatocellular Carcinoma\",\"Hepatocellular Carcinoma\",\"Hepatocellular Carcinoma\",\"Hepatocellular Carcinoma\",\"Hepatocellular Carcinoma\",\"Hepatocellular Carcinoma\",\"Hepatocellular Carcinoma\",\"Hepatocellular Carcinoma\",\"Hepatocellular Carcinoma\",\"Hepatocellular Carcinoma\",\"Hepatocellular Carcinoma\",\"Hepatocellular Carcinoma\",\"Hepatocellular Carcinoma\"],\"x0\":\" \",\"xaxis\":\"x\",\"y\":[26.061679307694877,35.055631763450684,36.8313005675643,32.889188733344575,30.477966223242138,41.96353097451998,33.95918367346939,35.492457852706295,21.78649237472767,27.469135802469133,30.436715570602924,17.75568181818182,32.770512780499985,21.872422819032593,27.993022029291247,40.68047337278106,42.192381029656374,17.77777777777778,27.77427092538821,24.158817968558527,26.533758829646096,28.393726338561386,35.224513525529225,25.25951557093426,25.344352617079892,23.323418063818284,29.72651605231867,22.76146753597469,30.11027889645828,25.142857142857142,37.87721123829344,35.62901744719927,56.1421772754313,30.48665738266401,19.37919743392696,25.315454293738377,31.652184299322162,23.38868655818771,29.320987654320987,25.605536332179934,38.97392290249434,25.15589569160998,31.405613399728384,20.932120124738347,19.650561749754367,18.93877551020408,21.453287197231838,22.20633068613798,20.312499999999996,20.32443825510934,20.147971991015986,23.384353741496604,18.72417355371901,19.57168128269788,20.936639118457304,21.453287197231838,21.224489795918366,20.9572742022715,20.307412205454995,20.478266613819528,18.285714285714285,18.42403628117914,19.834710743801654,20.19557823129252,20.808561236623067,20.9572742022715,18.986590720303784,15.807896420640597,20.17325264032277,23.781212841854934,20.504933999743688,21.6712580348944,21.877551020408163,23.61275088547816,24.725182932941294,27.99036281179139,23.836734693877553,26.25958474843318,22.656249999999996,27.531229454306374,40.90229235981808,35.55324314949705,27.475629493018182,34.140075716603576,33.30498866213152,21.192742415229034,20.28479857195018,30.116213151927443,25.142857142857142,30.116002379535995,29.053287981859416,21.847008520333322,22.53061224489796,26.986001011975038,38.36873541394723,16.302378939741576,26.09327520147972,23.620287912158062,20.775623268698062,27.44059917355372,22.4058769513315,27.77427092538821,22.79035792549306,26.82742078020452,25.458065904119906,18.19657904313989,20.06920415224914,16.979591836734695,22.634676324128566,31.600114909508758,21.9671201814059,33.74945565394107,20.16070124178232,33.91251333638164,27.33564013840831,28.734672057202044,34.94943486020227,32.86137368655929,33.46403461330449,32.718619869125526,37.75602258678873,22.20633068613798,35.18853305785124,25.2162533116282,29.666548000474663,131.8359375,20.796729893506402,40.26091570175713,33.69005152596116,31.20256367009614,19.382144693643447,35.294117647058826,36.50621957815036,25.654372397382513,18.314255983350673,26.314635323012148,23.422090729783037,26.7538644470868,25.71166207529844,25.71166207529844,29.585798816568044,22.4058769513315,19.925129815239703,23.624447492760247,21.258503401360546,23.030045351473927,20.703124999999996,19.979188345473464,28.875440053795337,22.985397512168742,30.666666666666668,21.705129432793896,23.938989774631512,15.987507436049974,25.806451612903224,22.40817898532965,27.041644131963228,24.83576349943919,24.31412396574249,24.508945765204302,23.588329220496444,22.060353798126947,23.624447492760247,23.422368361785505,24.0,16.97465375564214,21.367521367521366,24.302487059714682,24.221453287197235,33.34648069131199,24.67105263157895,27.303438382155587,24.977043158861342,26.149276859504134,24.092970521541954,22.8625344752504,26.159334126040427,23.828124999999996,23.507805325987146,24.87771968291449,22.666666666666668,20.964360587002094,21.75546853368142,24.218749999999996,20.549886621315196,24.023808670084982,23.507805325987146,25.95155709342561,19.705532421177875,26.491508201480624,20.66115702479339,18.442545824080696,21.218317194552675,22.151022507021082,21.707923392038097,27.08415906989034,26.813590449954088,25.153150229218223,18.19548277362446,25.013520822065985,26.989619377162633,23.140495867768596,24.840980089578082,28.93406890166274,25.039918710988534,22.656249999999996,18.017206432142697,23.335466144755166,28.668892437218755,22.40817898532965,22.230987127541326,24.622960911049557,25.344352617079892,25.209201358495854,34.37499999999999,28.44095497516423,23.624447492760247,20.515086478979924,24.3046178773967,21.20310522895934,25.351541373715524,21.513858510523864,20.5456936226167,24.38652644413961,18.286779733945284,19.031141868512112,23.828124999999996,23.889462809917354,21.107266435986162,23.046874999999996,16.58886617028664,16.43655489809336,19.77769866698311,20.897959183673468,21.907582457706194,19.555555555555557,23.140495867768596,16.528925619834713,22.145328719723185,14.526643990929708,29.752066115702483,25.86451247165533,31.877288221184195,29.93827160493827,26.42356982428326,37.42139577948381,23.661438615467823,20.576131687242793,24.44727891156463,26.491508201480624,22.948115744558788,20.07774787474903,25.737081414967538,19.473406629072173,23.875114784205696,22.832879346258608,23.054562464499313,32.95068027210885,23.355636914530994,35.139302233855645,23.781212841854934,23.18339100346021,23.620287912158062,29.75274443418488,23.458562375266975,27.160493827160494,31.30907372400756,27.47252747252747,25.282569898869724,30.844415958980928,23.503556057507403,25.25951557093426,30.078124999999993,23.233456176894723,30.218857788223804,30.116213151927443,23.011176857330703,32.323232323232325,28.650137741046834,21.30394857667585,61.67306106350174,35.15624999999999,27.45288684263204,23.959094229364496,26.709401709401707,23.93948099205209,41.09726352367269,23.629489603024574,21.79944510503369,28.668892437218755,44.28854875283447,37.71626297577855,26.037493991347535,29.14214576731553,26.218820861678008,27.428571428571427,33.63265306122449,21.777553339224845,28.06642386982525,28.293345405160707,32.45841265878094,23.427738442315704,28.042816593139772,35.56649909373825,28.39506172839506,25.816630212628635,33.33333333333333,22.375679950619187,22.136739730004358,26.29757785467128,22.460034350640772,21.007667798746546,29.40778799351001,18.390674513354462,31.22130394857668,19.1358024691358,25.180785123966942,18.612244897959183,27.548209366391188,24.983563445101908,29.352354500694357,18.612244897959183,22.151022507021082,27.993022029291247,39.83673469387755,26.40235457063712,30.818540433925047,22.321428571428577,21.64412070759625,28.353057199211044,17.444926771877153,20.685150239512268,20.97117202268431,27.141582391433676,19.713321527615356,35.924515235457065,26.175194521137367,28.650137741046834,44.98269896193772,25.013520822065985,22.892819979188342,29.33741144159046],\"y0\":\" \",\"yaxis\":\"y\",\"type\":\"box\"},{\"alignmentgroup\":\"True\",\"hovertemplate\":\"Cancer Type=Melanoma<br>Cancer Type Detailed=%{x}<br>BMI=%{y}<extra></extra>\",\"legendgroup\":\"Melanoma\",\"marker\":{\"color\":\"#FFA15A\"},\"name\":\"Melanoma\",\"notched\":false,\"offsetgroup\":\"Melanoma\",\"orientation\":\"v\",\"showlegend\":true,\"x\":[\"Nonspecified Melanoma\",\"Nonspecified Melanoma\",\"Nonspecified Melanoma\",\"Cutaneous Melanoma\",\"Cutaneous Melanoma\",\"Cutaneous Melanoma\",\"Cutaneous Melanoma\",\"Cutaneous Melanoma\",\"Cutaneous Melanoma\",\"Cutaneous Melanoma\",\"Cutaneous Melanoma\",\"Cutaneous Melanoma\",\"Cutaneous Melanoma\",\"Cutaneous Melanoma\",\"Cutaneous Melanoma\",\"Cutaneous Melanoma\",\"Cutaneous Melanoma\",\"Desmoplastic Melanoma\",\"Melanoma\",\"Melanoma\",\"Nonspecified Melanoma\",\"Melanoma\",\"Melanoma\",\"Melanoma\",\"Melanoma\",\"Melanoma\",\"Melanoma\",\"Nonspecified Melanoma\",\"Nonspecified Melanoma\",\"Nonspecified Melanoma\",\"Nonspecified Melanoma\",\"Nonspecified Melanoma\",\"Nonspecified Melanoma\",\"Nonspecified Melanoma\",\"Nonspecified Melanoma\",\"Nonspecified Melanoma\",\"Nonspecified Melanoma\",\"Nonspecified Melanoma\",\"Nonspecified Melanoma\",\"Nonspecified Melanoma\",\"Nonspecified Melanoma\",\"Nonspecified Melanoma\",\"Nonspecified Melanoma\",\"Nonspecified Melanoma\",\"Nonspecified Melanoma\",\"Nonspecified Melanoma\",\"Nonspecified Melanoma\",\"Nonspecified Melanoma\",\"Nonspecified Melanoma\",\"Nonspecified Melanoma\",\"Nonspecified Melanoma\",\"Nonspecified Melanoma\",\"Nonspecified Melanoma\",\"Nonspecified Melanoma\",\"Nonspecified Melanoma\",\"Nonspecified Melanoma\",\"Nonspecified Melanoma\",\"Nonspecified Melanoma\",\"Nonspecified Melanoma\",\"Nonspecified Melanoma\",\"Nonspecified Melanoma\",\"Nonspecified Melanoma\",\"Nonspecified Melanoma\",\"Nonspecified Melanoma\",\"Nonspecified Melanoma\",\"Nonspecified Melanoma\",\"Nonspecified Melanoma\",\"Nonspecified Melanoma\",\"Nonspecified Melanoma\",\"Nonspecified Melanoma\",\"Nonspecified Melanoma\",\"Nonspecified Melanoma\",\"Nonspecified Melanoma\",\"Nonspecified Melanoma\",\"Nonspecified Melanoma\",\"Nonspecified Melanoma\",\"Nonspecified Melanoma\",\"Nonspecified Melanoma\",\"Nonspecified Melanoma\",\"Nonspecified Melanoma\",\"Nonspecified Melanoma\",\"Nonspecified Melanoma\",\"Nonspecified Melanoma\",\"Nonspecified Melanoma\",\"Nonspecified Melanoma\",\"Cutaneous Melanoma\",\"Nonspecified Melanoma\",\"Nonspecified Melanoma\",\"Nonspecified Melanoma\",\"Nonspecified Melanoma\",\"Nonspecified Melanoma\",\"Nonspecified Melanoma\",\"Nonspecified Melanoma\",\"Nonspecified Melanoma\",\"Nonspecified Melanoma\",\"Nonspecified Melanoma\",\"Nonspecified Melanoma\",\"Nonspecified Melanoma\",\"Nonspecified Melanoma\",\"Nonspecified Melanoma\",\"Nonspecified Melanoma\",\"Nonspecified Melanoma\",\"Nonspecified Melanoma\",\"Nonspecified Melanoma\",\"Nonspecified Melanoma\",\"Nonspecified Melanoma\",\"Nonspecified Melanoma\",\"Cutaneous Melanoma\",\"Nonspecified Melanoma\",\"Nonspecified Melanoma\",\"Nonspecified Melanoma\",\"Cutaneous Melanoma\",\"Melanoma\",\"Melanoma\",\"Cutaneous Melanoma\",\"Nonspecified Melanoma\",\"Nonspecified Melanoma\",\"Nonspecified Melanoma\",\"Nonspecified Melanoma\",\"Nonspecified Melanoma\",\"Nonspecified Melanoma\",\"Nonspecified Melanoma\",\"Nonspecified Melanoma\",\"Nonspecified Melanoma\",\"Nonspecified Melanoma\",\"Nonspecified Melanoma\",\"Cutaneous Melanoma\",\"Cutaneous Melanoma\",\"Cutaneous Melanoma\",\"Melanoma\",\"Melanoma\",\"Cutaneous Melanoma\",\"Cutaneous Melanoma\",\"Cutaneous Melanoma\",\"Cutaneous Melanoma\",\"Cutaneous Melanoma\",\"Cutaneous Melanoma\",\"Cutaneous Melanoma\",\"Desmoplastic Melanoma\",\"Melanoma\",\"Cutaneous Melanoma\",\"Cutaneous Melanoma\",\"Melanoma\",\"Melanoma\",\"Melanoma\",\"Cutaneous Melanoma\",\"Cutaneous Melanoma\",\"Nonspecified Melanoma\",\"Nonspecified Melanoma\",\"Cutaneous Melanoma\",\"Cutaneous Melanoma\",\"Cutaneous Melanoma\",\"Cutaneous Melanoma\",\"Melanoma\",\"Melanoma\",\"Cutaneous Melanoma\",\"Cutaneous Melanoma\",\"Melanoma\",\"Cutaneous Melanoma\",\"Cutaneous Melanoma\",\"Cutaneous Melanoma\",\"Nonspecified Melanoma\",\"Melanoma\",\"Melanoma\",\"Nonspecified Melanoma\",\"Nonspecified Melanoma\",\"Nonspecified Melanoma\",\"Cutaneous Melanoma\",\"Nonspecified Melanoma\",\"Cutaneous Melanoma\",\"Nonspecified Melanoma\",\"Nonspecified Melanoma\",\"Cutaneous Melanoma\",\"Cutaneous Melanoma\",\"Cutaneous Melanoma\",\"Cutaneous Melanoma\",\"Cutaneous Melanoma\",\"Cutaneous Melanoma\",\"Cutaneous Melanoma\",\"Cutaneous Melanoma\",\"Acral Melanoma\",\"Nonspecified Melanoma\",\"Nonspecified Melanoma\",\"Cutaneous Melanoma\",\"Melanoma\",\"Nonspecified Melanoma\",\"Nonspecified Melanoma\",\"Nonspecified Melanoma\",\"Lentigo Maligna Melanoma\",\"Melanoma\",\"Nonspecified Melanoma\",\"Nonspecified Melanoma\",\"Nonspecified Melanoma\",\"Nonspecified Melanoma\",\"Nonspecified Melanoma\",\"Nonspecified Melanoma\",\"Nonspecified Melanoma\",\"Nonspecified Melanoma\",\"Nonspecified Melanoma\",\"Nonspecified Melanoma\",\"Nonspecified Melanoma\",\"Nonspecified Melanoma\",\"Melanoma\",\"Nonspecified Melanoma\",\"Cutaneous Melanoma\",\"Nonspecified Melanoma\",\"Nonspecified Melanoma\",\"Nonspecified Melanoma\",\"Melanoma\",\"Nonspecified Melanoma\",\"Nonspecified Melanoma\",\"Nonspecified Melanoma\",\"Nonspecified Melanoma\",\"Cutaneous Melanoma\",\"Nonspecified Melanoma\",\"Nonspecified Melanoma\",\"Nonspecified Melanoma\",\"Nonspecified Melanoma\",\"Cutaneous Melanoma\",\"Nonspecified Melanoma\",\"Melanoma\",\"Nonspecified Melanoma\",\"Nonspecified Melanoma\",\"Nonspecified Melanoma\",\"Nonspecified Melanoma\",\"Nonspecified Melanoma\",\"Nonspecified Melanoma\",\"Nonspecified Melanoma\",\"Nonspecified Melanoma\",\"Nonspecified Melanoma\",\"Nonspecified Melanoma\",\"Nonspecified Melanoma\",\"Nonspecified Melanoma\",\"Nonspecified Melanoma\",\"Nonspecified Melanoma\",\"Nonspecified Melanoma\",\"Nonspecified Melanoma\",\"Nonspecified Melanoma\",\"Nonspecified Melanoma\",\"Cutaneous Melanoma\",\"Cutaneous Melanoma\",\"Cutaneous Melanoma\",\"Cutaneous Melanoma\",\"Cutaneous Melanoma\",\"Cutaneous Melanoma\",\"Cutaneous Melanoma\",\"Nonspecified Melanoma\",\"Nonspecified Melanoma\",\"Nonspecified Melanoma\",\"Nonspecified Melanoma\",\"Melanoma\",\"Nonspecified Melanoma\",\"Nonspecified Melanoma\",\"Nonspecified Melanoma\",\"Nonspecified Melanoma\",\"Nonspecified Melanoma\"],\"x0\":\" \",\"xaxis\":\"x\",\"y\":[25.46938775510204,20.305174833527424,34.638239421899726,22.656249999999996,27.343749999999996,25.46938775510204,21.077195227520797,23.054562464499313,25.71166207529844,24.83576349943919,32.787993510005414,23.53036634346221,33.20854969206617,30.48668503213958,28.40550435551067,28.703703703703702,21.874999999999996,25.43268595587264,19.531249999999996,26.122448979591837,19.723183391003463,24.38237297859371,25.05930702662969,27.763429752066116,25.95155709342561,26.83864765261977,25.71100826707804,22.481329065691202,32.60475787948315,34.54734651404786,39.012515214880935,26.448979591836736,26.448979591836736,27.33564013840831,46.04077897566415,31.28092182961473,29.387755102040817,29.387755102040817,39.798232218057294,41.19795471146822,30.367346938775512,23.589835468362743,20.902385858042937,36.89795918367347,21.453573713726524,29.40759637188209,21.798202394816204,31.640624999999993,27.68166089965398,32.690541781450875,40.16326530612245,26.880934989043094,26.44628099173554,28.604764951635367,25.43268595587264,24.489795918367346,34.256055363321806,25.90431010268094,27.68166089965398,31.22130394857668,27.43484224965706,49.07792980368829,28.734672057202044,32.34681737061273,27.548209366391188,49.1540923639689,23.98687034465345,22.093170054286073,26.54320987654321,33.576508653582,55.47337278106508,22.95908765854944,25.737081414967538,31.02493074792244,23.291229956104985,36.815193571950324,30.071168431955627,31.615792841281195,21.97735111870822,39.81994459833795,33.01680058436815,24.38237297859371,29.060607121599386,43.438500228623674,33.46403461330449,32.882414151925076,23.93948099205209,26.575890590940304,35.18518518518518,27.99036281179139,31.31456611570248,26.27728507868255,23.057725694444446,25.24933720489837,31.950789811579916,26.573129251700685,23.507805325987146,24.740937287102444,23.510204081632654,27.08415906989034,29.761904761904766,33.88174964134184,30.79338244173409,26.216410224399986,32.34681737061273,33.59374999999999,33.59374999999999,32.871972318339104,32.871972318339104,24.691358024691358,22.679952409280194,29.387755102040817,20.077334919690664,24.221453287197235,36.15702479338843,27.77427092538821,27.77427092538821,32.690541781450875,21.04804761213529,42.44897959183673,25.71166207529844,25.24933720489837,24.913494809688583,23.35633171360305,25.15589569160998,26.448979591836736,38.98865784499055,22.839506172839506,28.081632653061224,31.14186851211073,21.296296296296294,29.744199881023206,22.093170054286073,29.744199881023206,24.83576349943919,26.56683975365294,23.030045351473927,25.802214299118038,24.005486968449926,23.555555555555557,18.611495844875346,18.36547291092746,30.116213151927443,21.453287197231838,20.902385858042937,26.86873565994445,25.282569898869724,19.81784449316917,19.705532421177875,17.77777777777778,33.29864724245577,29.40778799351001,27.68166089965398,23.98687034465345,18.42403628117914,31.40766480670921,28.040378144528116,21.971335857220122,27.513384889946465,21.612811791383223,25.30864197530864,20.9572742022715,22.99262444384723,21.98989236526368,23.243408017070564,19.841269841269845,23.888440980620498,22.86236854138088,19.1358024691358,23.437499999999996,37.49999999999999,23.83300460223537,33.96239627464025,22.86236854138088,44.92187499999999,21.484374999999996,18.666666666666668,28.373702422145332,46.45086369574685,23.25501863821347,27.968016063681024,27.968016063681024,27.17063156623596,31.231409875074366,26.511804065143288,27.776910832995224,17.63085399449036,25.393431120318084,25.280109859242845,31.95592286501378,27.414453692693883,22.395413419331717,26.171874999999996,33.15043438500228,26.218820861678008,30.844415958980928,25.79591836734694,35.083029837281565,31.58861340679523,38.10422412541733,24.023808670084982,29.40778799351001,26.56683975365294,28.479886080455675,31.83391003460208,34.414781649904775,34.42217361683818,22.892819979188342,26.643598615916957,24.242424242424246,27.94214332675871,25.925925925925924,27.755102040816325,34.0784616008763,18.517804097064154,33.574380165289256,30.367346938775512,37.52740765727779,33.33333333333333,38.85595257170325,26.448979591836736,33.59374999999999,31.095278348025598,23.03875236294896,36.72839506172839,18.670934308794386,25.5649539199596,28.926223520818112,28.680111097693512,18.289894833104707,27.33564013840831,29.340039628105465,28.086419753086417,26.575890590940304,23.04002019946976,26.54320987654321,28.086419753086417,34.94809688581315,32.326530612244895,20.82999519307803,22.7189744005842,32.407407407407405,28.055705786911847,25.605536332179934,24.023808670084982,29.000594883997625,29.000594883997625,21.936347412254616,21.877551020408163,21.338210638622158,34.62603878116344,30.73941661933242,24.999999999999996,32.04994797086368,26.365603028664147,22.8625344752504],\"y0\":\" \",\"yaxis\":\"y\",\"type\":\"box\"},{\"alignmentgroup\":\"True\",\"hovertemplate\":\"Cancer Type=Endometrial Cancer<br>Cancer Type Detailed=%{x}<br>BMI=%{y}<extra></extra>\",\"legendgroup\":\"Endometrial Cancer\",\"marker\":{\"color\":\"#19d3f3\"},\"name\":\"Endometrial Cancer\",\"notched\":false,\"offsetgroup\":\"Endometrial Cancer\",\"orientation\":\"v\",\"showlegend\":true,\"x\":[\"Endometrial Carcinoma\",\"Uterine Endometrioid Carcinoma\",\"Uterine Endometrioid Carcinoma\",\"Uterine Endometrioid Carcinoma\",\"Uterine Serous Carcinoma/Uterine Papillary Serous Carcinoma\",\"Uterine Serous Carcinoma/Uterine Papillary Serous Carcinoma\",\"Uterine Serous Carcinoma/Uterine Papillary Serous Carcinoma\",\"Uterine Serous Carcinoma/Uterine Papillary Serous Carcinoma\",\"Uterine Endometrioid Carcinoma\",\"Uterine Endometrioid Carcinoma\",\"Uterine Endometrioid Carcinoma\",\"Uterine Endometrioid Carcinoma\",\"Uterine Endometrioid Carcinoma\",\"Uterine Endometrioid Carcinoma\",\"Uterine Endometrioid Carcinoma\",\"Uterine Endometrioid Carcinoma\",\"Uterine Endometrioid Carcinoma\",\"Uterine Endometrioid Carcinoma\",\"Uterine Endometrioid Carcinoma\",\"Uterine Endometrioid Carcinoma\",\"Uterine Endometrioid Carcinoma\",\"Uterine Endometrioid Carcinoma\",\"Uterine Endometrioid Carcinoma\",\"Uterine Endometrioid Carcinoma\",\"Uterine Endometrioid Carcinoma\",\"Uterine Endometrioid Carcinoma\",\"Uterine Serous Carcinoma/Uterine Papillary Serous Carcinoma\",\"Uterine Endometrioid Carcinoma\",\"Uterine Endometrioid Carcinoma\",\"Uterine Endometrioid Carcinoma\",\"Uterine Endometrioid Carcinoma\",\"Uterine Endometrioid Carcinoma\",\"Uterine Endometrioid Carcinoma\",\"Uterine Endometrioid Carcinoma\",\"Endometrial Carcinoma\",\"Uterine Serous Carcinoma/Uterine Papillary Serous Carcinoma\",\"Uterine Serous Carcinoma/Uterine Papillary Serous Carcinoma\",\"Uterine Endometrioid Carcinoma\",\"Uterine Endometrioid Carcinoma\",\"Uterine Serous Carcinoma/Uterine Papillary Serous Carcinoma\",\"Uterine Serous Carcinoma/Uterine Papillary Serous Carcinoma\",\"Uterine Serous Carcinoma/Uterine Papillary Serous Carcinoma\",\"Uterine Endometrioid Carcinoma\",\"Uterine Endometrioid Carcinoma\",\"Uterine Endometrioid Carcinoma\",\"Uterine Serous Carcinoma/Uterine Papillary Serous Carcinoma\",\"Uterine Endometrioid Carcinoma\",\"Endometrial Carcinoma\",\"Uterine Endometrioid Carcinoma\",\"Uterine Serous Carcinoma/Uterine Papillary Serous Carcinoma\",\"Uterine Endometrioid Carcinoma\",\"Uterine Endometrioid Carcinoma\",\"Uterine Endometrioid Carcinoma\",\"Uterine Serous Carcinoma/Uterine Papillary Serous Carcinoma\",\"Uterine Endometrioid Carcinoma\",\"Uterine Endometrioid Carcinoma\",\"Uterine Serous Carcinoma/Uterine Papillary Serous Carcinoma\",\"Uterine Serous Carcinoma/Uterine Papillary Serous Carcinoma\",\"Endometrial Carcinoma\",\"Uterine Endometrioid Carcinoma\",\"Uterine Endometrioid Carcinoma\",\"Uterine Endometrioid Carcinoma\",\"Endometrial Carcinoma\",\"Uterine Endometrioid Carcinoma\",\"Uterine Endometrioid Carcinoma\",\"Uterine Endometrioid Carcinoma\",\"Uterine Endometrioid Carcinoma\",\"Uterine Serous Carcinoma/Uterine Papillary Serous Carcinoma\",\"Uterine Endometrioid Carcinoma\",\"Uterine Endometrioid Carcinoma\",\"Uterine Serous Carcinoma/Uterine Papillary Serous Carcinoma\",\"Endometrial Carcinoma\",\"Uterine Serous Carcinoma/Uterine Papillary Serous Carcinoma\",\"Uterine Endometrioid Carcinoma\",\"Uterine Serous Carcinoma/Uterine Papillary Serous Carcinoma\",\"Uterine Endometrioid Carcinoma\",\"Uterine Serous Carcinoma/Uterine Papillary Serous Carcinoma\",\"Uterine Serous Carcinoma/Uterine Papillary Serous Carcinoma\",\"Uterine Serous Carcinoma/Uterine Papillary Serous Carcinoma\",\"Uterine Endometrioid Carcinoma\",\"Uterine Endometrioid Carcinoma\",\"Uterine Endometrioid Carcinoma\",\"Uterine Endometrioid Carcinoma\",\"Uterine Endometrioid Carcinoma\",\"Uterine Endometrioid Carcinoma\",\"Uterine Endometrioid Carcinoma\",\"Uterine Serous Carcinoma/Uterine Papillary Serous Carcinoma\",\"Uterine Endometrioid Carcinoma\",\"Uterine Endometrioid Carcinoma\",\"Uterine Endometrioid Carcinoma\",\"Uterine Endometrioid Carcinoma\",\"Uterine Serous Carcinoma/Uterine Papillary Serous Carcinoma\",\"Uterine Serous Carcinoma/Uterine Papillary Serous Carcinoma\",\"Uterine Serous Carcinoma/Uterine Papillary Serous Carcinoma\",\"Uterine Endometrioid Carcinoma\",\"Uterine Endometrioid Carcinoma\",\"Uterine Endometrioid Carcinoma\",\"Uterine Serous Carcinoma/Uterine Papillary Serous Carcinoma\",\"Uterine Endometrioid Carcinoma\",\"Uterine Endometrioid Carcinoma\",\"Uterine Endometrioid Carcinoma\",\"Uterine Endometrioid Carcinoma\",\"Endometrial Carcinoma\",\"Uterine Serous Carcinoma/Uterine Papillary Serous Carcinoma\",\"Uterine Endometrioid Carcinoma\",\"Uterine Endometrioid Carcinoma\",\"Uterine Endometrioid Carcinoma\",\"Uterine Endometrioid Carcinoma\",\"Uterine Endometrioid Carcinoma\",\"Uterine Endometrioid Carcinoma\",\"Uterine Endometrioid Carcinoma\",\"Uterine Endometrioid Carcinoma\",\"Uterine Endometrioid Carcinoma\",\"Uterine Endometrioid Carcinoma\",\"Uterine Endometrioid Carcinoma\",\"Uterine Endometrioid Carcinoma\",\"Uterine Endometrioid Carcinoma\",\"Uterine Endometrioid Carcinoma\",\"Uterine Endometrioid Carcinoma\",\"Uterine Serous Carcinoma/Uterine Papillary Serous Carcinoma\",\"Uterine Endometrioid Carcinoma\",\"Uterine Endometrioid Carcinoma\",\"Uterine Endometrioid Carcinoma\",\"Uterine Endometrioid Carcinoma\",\"Uterine Endometrioid Carcinoma\",\"Uterine Endometrioid Carcinoma\",\"Uterine Serous Carcinoma/Uterine Papillary Serous Carcinoma\",\"Endometrial Carcinoma\",\"Uterine Endometrioid Carcinoma\",\"Uterine Endometrioid Carcinoma\",\"Uterine Endometrioid Carcinoma\",\"Uterine Endometrioid Carcinoma\",\"Uterine Endometrioid Carcinoma\",\"Uterine Endometrioid Carcinoma\",\"Uterine Endometrioid Carcinoma\",\"Uterine Endometrioid Carcinoma\",\"Uterine Endometrioid Carcinoma\",\"Uterine Endometrioid Carcinoma\",\"Uterine Endometrioid Carcinoma\",\"Uterine Endometrioid Carcinoma\",\"Uterine Endometrioid Carcinoma\",\"Uterine Endometrioid Carcinoma\",\"Uterine Endometrioid Carcinoma\",\"Uterine Endometrioid Carcinoma\",\"Uterine Endometrioid Carcinoma\",\"Uterine Endometrioid Carcinoma\",\"Uterine Serous Carcinoma/Uterine Papillary Serous Carcinoma\",\"Uterine Serous Carcinoma/Uterine Papillary Serous Carcinoma\",\"Uterine Endometrioid Carcinoma\",\"Uterine Endometrioid Carcinoma\",\"Uterine Endometrioid Carcinoma\",\"Uterine Endometrioid Carcinoma\",\"Uterine Endometrioid Carcinoma\",\"Uterine Serous Carcinoma/Uterine Papillary Serous Carcinoma\",\"Uterine Serous Carcinoma/Uterine Papillary Serous Carcinoma\",\"Uterine Endometrioid Carcinoma\",\"Uterine Serous Carcinoma/Uterine Papillary Serous Carcinoma\",\"Uterine Serous Carcinoma/Uterine Papillary Serous Carcinoma\",\"Uterine Endometrioid Carcinoma\",\"Uterine Endometrioid Carcinoma\",\"Uterine Endometrioid Carcinoma\",\"Uterine Endometrioid Carcinoma\",\"Uterine Endometrioid Carcinoma\",\"Uterine Endometrioid Carcinoma\",\"Uterine Serous Carcinoma/Uterine Papillary Serous Carcinoma\",\"Endometrial Carcinoma\",\"Uterine Serous Carcinoma/Uterine Papillary Serous Carcinoma\",\"Uterine Serous Carcinoma/Uterine Papillary Serous Carcinoma\",\"Uterine Serous Carcinoma/Uterine Papillary Serous Carcinoma\",\"Uterine Endometrioid Carcinoma\",\"Uterine Endometrioid Carcinoma\",\"Uterine Endometrioid Carcinoma\",\"Uterine Endometrioid Carcinoma\",\"Uterine Endometrioid Carcinoma\",\"Uterine Serous Carcinoma/Uterine Papillary Serous Carcinoma\",\"Uterine Endometrioid Carcinoma\",\"Uterine Endometrioid Carcinoma\",\"Uterine Endometrioid Carcinoma\",\"Uterine Endometrioid Carcinoma\",\"Uterine Endometrioid Carcinoma\",\"Uterine Serous Carcinoma/Uterine Papillary Serous Carcinoma\",\"Uterine Endometrioid Carcinoma\",\"Uterine Endometrioid Carcinoma\",\"Uterine Endometrioid Carcinoma\",\"Uterine Endometrioid Carcinoma\",\"Uterine Endometrioid Carcinoma\",\"Uterine Endometrioid Carcinoma\",\"Uterine Endometrioid Carcinoma\",\"Uterine Serous Carcinoma/Uterine Papillary Serous Carcinoma\",\"Uterine Serous Carcinoma/Uterine Papillary Serous Carcinoma\",\"Uterine Serous Carcinoma/Uterine Papillary Serous Carcinoma\",\"Uterine Serous Carcinoma/Uterine Papillary Serous Carcinoma\",\"Uterine Endometrioid Carcinoma\",\"Uterine Endometrioid Carcinoma\",\"Uterine Endometrioid Carcinoma\",\"Uterine Serous Carcinoma/Uterine Papillary Serous Carcinoma\",\"Uterine Serous Carcinoma/Uterine Papillary Serous Carcinoma\",\"Uterine Endometrioid Carcinoma\",\"Uterine Endometrioid Carcinoma\",\"Uterine Endometrioid Carcinoma\",\"Uterine Endometrioid Carcinoma\",\"Uterine Endometrioid Carcinoma\",\"Uterine Endometrioid Carcinoma\",\"Uterine Endometrioid Carcinoma\",\"Uterine Endometrioid Carcinoma\",\"Uterine Endometrioid Carcinoma\",\"Uterine Endometrioid Carcinoma\",\"Uterine Endometrioid Carcinoma\",\"Uterine Endometrioid Carcinoma\",\"Uterine Endometrioid Carcinoma\",\"Uterine Endometrioid Carcinoma\",\"Uterine Endometrioid Carcinoma\",\"Uterine Serous Carcinoma/Uterine Papillary Serous Carcinoma\",\"Uterine Endometrioid Carcinoma\",\"Uterine Endometrioid Carcinoma\",\"Uterine Endometrioid Carcinoma\",\"Uterine Endometrioid Carcinoma\",\"Uterine Endometrioid Carcinoma\",\"Uterine Endometrioid Carcinoma\",\"Uterine Endometrioid Carcinoma\",\"Uterine Endometrioid Carcinoma\",\"Uterine Endometrioid Carcinoma\",\"Uterine Endometrioid Carcinoma\",\"Uterine Endometrioid Carcinoma\",\"Uterine Endometrioid Carcinoma\",\"Uterine Endometrioid Carcinoma\",\"Uterine Endometrioid Carcinoma\",\"Uterine Endometrioid Carcinoma\",\"Uterine Endometrioid Carcinoma\",\"Uterine Endometrioid Carcinoma\",\"Uterine Endometrioid Carcinoma\",\"Uterine Endometrioid Carcinoma\",\"Uterine Serous Carcinoma/Uterine Papillary Serous Carcinoma\",\"Uterine Serous Carcinoma/Uterine Papillary Serous Carcinoma\",\"Uterine Endometrioid Carcinoma\",\"Uterine Endometrioid Carcinoma\",\"Uterine Endometrioid Carcinoma\",\"Uterine Serous Carcinoma/Uterine Papillary Serous Carcinoma\",\"Uterine Endometrioid Carcinoma\",\"Uterine Serous Carcinoma/Uterine Papillary Serous Carcinoma\",\"Uterine Endometrioid Carcinoma\",\"Uterine Endometrioid Carcinoma\",\"Uterine Endometrioid Carcinoma\",\"Uterine Endometrioid Carcinoma\",\"Uterine Endometrioid Carcinoma\",\"Uterine Endometrioid Carcinoma\",\"Uterine Serous Carcinoma/Uterine Papillary Serous Carcinoma\",\"Uterine Endometrioid Carcinoma\",\"Uterine Endometrioid Carcinoma\",\"Uterine Endometrioid Carcinoma\",\"Uterine Endometrioid Carcinoma\",\"Uterine Endometrioid Carcinoma\",\"Uterine Endometrioid Carcinoma\",\"Uterine Serous Carcinoma/Uterine Papillary Serous Carcinoma\",\"Uterine Endometrioid Carcinoma\",\"Uterine Endometrioid Carcinoma\",\"Uterine Endometrioid Carcinoma\",\"Uterine Endometrioid Carcinoma\",\"Uterine Endometrioid Carcinoma\",\"Uterine Endometrioid Carcinoma\",\"Uterine Endometrioid Carcinoma\",\"Uterine Endometrioid Carcinoma\",\"Uterine Endometrioid Carcinoma\",\"Uterine Endometrioid Carcinoma\",\"Uterine Endometrioid Carcinoma\",\"Uterine Endometrioid Carcinoma\",\"Uterine Endometrioid Carcinoma\",\"Uterine Endometrioid Carcinoma\",\"Uterine Endometrioid Carcinoma\",\"Uterine Endometrioid Carcinoma\",\"Uterine Endometrioid Carcinoma\",\"Uterine Endometrioid Carcinoma\",\"Uterine Endometrioid Carcinoma\",\"Uterine Endometrioid Carcinoma\",\"Uterine Endometrioid Carcinoma\",\"Uterine Endometrioid Carcinoma\",\"Uterine Serous Carcinoma/Uterine Papillary Serous Carcinoma\",\"Uterine Endometrioid Carcinoma\",\"Uterine Endometrioid Carcinoma\",\"Uterine Endometrioid Carcinoma\",\"Uterine Endometrioid Carcinoma\",\"Uterine Endometrioid Carcinoma\",\"Uterine Endometrioid Carcinoma\",\"Uterine Endometrioid Carcinoma\",\"Uterine Endometrioid Carcinoma\",\"Uterine Endometrioid Carcinoma\",\"Uterine Endometrioid Carcinoma\",\"Uterine Endometrioid Carcinoma\",\"Uterine Endometrioid Carcinoma\",\"Uterine Serous Carcinoma/Uterine Papillary Serous Carcinoma\",\"Uterine Endometrioid Carcinoma\",\"Endometrial Carcinoma\",\"Uterine Endometrioid Carcinoma\",\"Uterine Endometrioid Carcinoma\",\"Uterine Serous Carcinoma/Uterine Papillary Serous Carcinoma\",\"Uterine Endometrioid Carcinoma\",\"Uterine Endometrioid Carcinoma\",\"Uterine Endometrioid Carcinoma\",\"Uterine Endometrioid Carcinoma\",\"Uterine Endometrioid Carcinoma\",\"Uterine Endometrioid Carcinoma\",\"Uterine Endometrioid Carcinoma\",\"Uterine Endometrioid Carcinoma\",\"Uterine Endometrioid Carcinoma\",\"Uterine Endometrioid Carcinoma\",\"Uterine Endometrioid Carcinoma\",\"Uterine Endometrioid Carcinoma\",\"Uterine Endometrioid Carcinoma\",\"Uterine Endometrioid Carcinoma\",\"Uterine Endometrioid Carcinoma\",\"Uterine Endometrioid Carcinoma\",\"Uterine Endometrioid Carcinoma\",\"Uterine Endometrioid Carcinoma\",\"Uterine Endometrioid Carcinoma\",\"Uterine Endometrioid Carcinoma\",\"Uterine Endometrioid Carcinoma\",\"Uterine Endometrioid Carcinoma\",\"Uterine Endometrioid Carcinoma\",\"Uterine Endometrioid Carcinoma\",\"Uterine Endometrioid Carcinoma\",\"Uterine Endometrioid Carcinoma\",\"Uterine Endometrioid Carcinoma\",\"Uterine Endometrioid Carcinoma\",\"Uterine Endometrioid Carcinoma\",\"Uterine Endometrioid Carcinoma\",\"Uterine Endometrioid Carcinoma\",\"Uterine Serous Carcinoma/Uterine Papillary Serous Carcinoma\",\"Uterine Endometrioid Carcinoma\",\"Uterine Endometrioid Carcinoma\",\"Uterine Endometrioid Carcinoma\",\"Uterine Endometrioid Carcinoma\",\"Uterine Endometrioid Carcinoma\",\"Endometrial Carcinoma\",\"Uterine Endometrioid Carcinoma\",\"Uterine Endometrioid Carcinoma\",\"Uterine Endometrioid Carcinoma\",\"Uterine Serous Carcinoma/Uterine Papillary Serous Carcinoma\",\"Uterine Endometrioid Carcinoma\",\"Uterine Serous Carcinoma/Uterine Papillary Serous Carcinoma\",\"Uterine Endometrioid Carcinoma\",\"Uterine Endometrioid Carcinoma\",\"Uterine Endometrioid Carcinoma\",\"Uterine Endometrioid Carcinoma\",\"Uterine Endometrioid Carcinoma\",\"Uterine Endometrioid Carcinoma\",\"Uterine Endometrioid Carcinoma\",\"Uterine Endometrioid Carcinoma\",\"Uterine Endometrioid Carcinoma\",\"Uterine Endometrioid Carcinoma\",\"Uterine Endometrioid Carcinoma\",\"Uterine Endometrioid Carcinoma\",\"Uterine Endometrioid Carcinoma\",\"Uterine Serous Carcinoma/Uterine Papillary Serous Carcinoma\",\"Uterine Serous Carcinoma/Uterine Papillary Serous Carcinoma\",\"Uterine Endometrioid Carcinoma\",\"Uterine Endometrioid Carcinoma\",\"Uterine Endometrioid Carcinoma\",\"Uterine Endometrioid Carcinoma\",\"Uterine Endometrioid Carcinoma\",\"Uterine Serous Carcinoma/Uterine Papillary Serous Carcinoma\",\"Uterine Endometrioid Carcinoma\",\"Uterine Endometrioid Carcinoma\",\"Uterine Endometrioid Carcinoma\",\"Uterine Endometrioid Carcinoma\",\"Uterine Endometrioid Carcinoma\",\"Uterine Endometrioid Carcinoma\",\"Uterine Endometrioid Carcinoma\",\"Uterine Serous Carcinoma/Uterine Papillary Serous Carcinoma\",\"Uterine Endometrioid Carcinoma\",\"Uterine Endometrioid Carcinoma\",\"Uterine Endometrioid Carcinoma\",\"Uterine Endometrioid Carcinoma\",\"Uterine Endometrioid Carcinoma\",\"Uterine Endometrioid Carcinoma\",\"Uterine Endometrioid Carcinoma\",\"Uterine Endometrioid Carcinoma\",\"Uterine Endometrioid Carcinoma\",\"Uterine Endometrioid Carcinoma\",\"Uterine Endometrioid Carcinoma\",\"Uterine Endometrioid Carcinoma\",\"Uterine Endometrioid Carcinoma\",\"Uterine Endometrioid Carcinoma\",\"Uterine Endometrioid Carcinoma\",\"Uterine Endometrioid Carcinoma\",\"Uterine Serous Carcinoma/Uterine Papillary Serous Carcinoma\",\"Endometrial Carcinoma\",\"Uterine Serous Carcinoma/Uterine Papillary Serous Carcinoma\",\"Uterine Endometrioid Carcinoma\",\"Uterine Endometrioid Carcinoma\",\"Uterine Endometrioid Carcinoma\",\"Uterine Endometrioid Carcinoma\",\"Uterine Endometrioid Carcinoma\",\"Uterine Endometrioid Carcinoma\",\"Endometrial Carcinoma\",\"Uterine Endometrioid Carcinoma\",\"Uterine Endometrioid Carcinoma\",\"Uterine Serous Carcinoma/Uterine Papillary Serous Carcinoma\",\"Uterine Endometrioid Carcinoma\",\"Uterine Endometrioid Carcinoma\",\"Uterine Endometrioid Carcinoma\",\"Uterine Serous Carcinoma/Uterine Papillary Serous Carcinoma\",\"Uterine Serous Carcinoma/Uterine Papillary Serous Carcinoma\",\"Uterine Endometrioid Carcinoma\",\"Uterine Endometrioid Carcinoma\",\"Uterine Endometrioid Carcinoma\",\"Endometrial Carcinoma\",\"Uterine Endometrioid Carcinoma\",\"Uterine Endometrioid Carcinoma\",\"Uterine Serous Carcinoma/Uterine Papillary Serous Carcinoma\",\"Uterine Endometrioid Carcinoma\",\"Uterine Serous Carcinoma/Uterine Papillary Serous Carcinoma\",\"Uterine Endometrioid Carcinoma\",\"Uterine Serous Carcinoma/Uterine Papillary Serous Carcinoma\",\"Uterine Endometrioid Carcinoma\",\"Endometrial Carcinoma\",\"Uterine Endometrioid Carcinoma\",\"Uterine Serous Carcinoma/Uterine Papillary Serous Carcinoma\",\"Uterine Endometrioid Carcinoma\",\"Uterine Endometrioid Carcinoma\",\"Uterine Endometrioid Carcinoma\",\"Uterine Serous Carcinoma/Uterine Papillary Serous Carcinoma\",\"Uterine Endometrioid Carcinoma\",\"Uterine Serous Carcinoma/Uterine Papillary Serous Carcinoma\",\"Uterine Endometrioid Carcinoma\",\"Uterine Endometrioid Carcinoma\",\"Uterine Endometrioid Carcinoma\",\"Uterine Endometrioid Carcinoma\",\"Uterine Endometrioid Carcinoma\",\"Uterine Serous Carcinoma/Uterine Papillary Serous Carcinoma\",\"Uterine Serous Carcinoma/Uterine Papillary Serous Carcinoma\",\"Uterine Endometrioid Carcinoma\",\"Uterine Endometrioid Carcinoma\",\"Uterine Endometrioid Carcinoma\",\"Uterine Endometrioid Carcinoma\",\"Endometrial Carcinoma\",\"Uterine Endometrioid Carcinoma\",\"Uterine Serous Carcinoma/Uterine Papillary Serous Carcinoma\",\"Uterine Serous Carcinoma/Uterine Papillary Serous Carcinoma\",\"Uterine Serous Carcinoma/Uterine Papillary Serous Carcinoma\",\"Uterine Endometrioid Carcinoma\",\"Uterine Endometrioid Carcinoma\",\"Uterine Endometrioid Carcinoma\",\"Uterine Endometrioid Carcinoma\",\"Uterine Endometrioid Carcinoma\",\"Uterine Endometrioid Carcinoma\",\"Uterine Endometrioid Carcinoma\",\"Uterine Endometrioid Carcinoma\",\"Uterine Endometrioid Carcinoma\",\"Uterine Endometrioid Carcinoma\",\"Uterine Endometrioid Carcinoma\",\"Uterine Endometrioid Carcinoma\",\"Uterine Endometrioid Carcinoma\",\"Endometrial Carcinoma\",\"Uterine Endometrioid Carcinoma\",\"Uterine Endometrioid Carcinoma\",\"Uterine Endometrioid Carcinoma\",\"Uterine Endometrioid Carcinoma\",\"Uterine Serous Carcinoma/Uterine Papillary Serous Carcinoma\",\"Uterine Endometrioid Carcinoma\",\"Uterine Endometrioid Carcinoma\",\"Endometrial Carcinoma\",\"Uterine Endometrioid Carcinoma\",\"Uterine Endometrioid Carcinoma\",\"Uterine Endometrioid Carcinoma\",\"Endometrial Carcinoma\",\"Uterine Serous Carcinoma/Uterine Papillary Serous Carcinoma\",\"Uterine Endometrioid Carcinoma\",\"Uterine Endometrioid Carcinoma\",\"Uterine Endometrioid Carcinoma\",\"Uterine Serous Carcinoma/Uterine Papillary Serous Carcinoma\",\"Endometrial Carcinoma\",\"Uterine Endometrioid Carcinoma\",\"Uterine Endometrioid Carcinoma\",\"Uterine Serous Carcinoma/Uterine Papillary Serous Carcinoma\",\"Uterine Serous Carcinoma/Uterine Papillary Serous Carcinoma\",\"Uterine Serous Carcinoma/Uterine Papillary Serous Carcinoma\",\"Uterine Endometrioid Carcinoma\",\"Uterine Endometrioid Carcinoma\",\"Uterine Endometrioid Carcinoma\",\"Uterine Endometrioid Carcinoma\",\"Uterine Endometrioid Carcinoma\",\"Uterine Endometrioid Carcinoma\",\"Uterine Endometrioid Carcinoma\",\"Endometrial Carcinoma\",\"Uterine Endometrioid Carcinoma\",\"Endometrial Carcinoma\",\"Uterine Endometrioid Carcinoma\",\"Uterine Endometrioid Carcinoma\",\"Uterine Endometrioid Carcinoma\",\"Uterine Serous Carcinoma/Uterine Papillary Serous Carcinoma\",\"Uterine Serous Carcinoma/Uterine Papillary Serous Carcinoma\",\"Uterine Serous Carcinoma/Uterine Papillary Serous Carcinoma\",\"Uterine Serous Carcinoma/Uterine Papillary Serous Carcinoma\",\"Uterine Endometrioid Carcinoma\",\"Uterine Serous Carcinoma/Uterine Papillary Serous Carcinoma\",\"Uterine Endometrioid Carcinoma\",\"Uterine Serous Carcinoma/Uterine Papillary Serous Carcinoma\",\"Uterine Serous Carcinoma/Uterine Papillary Serous Carcinoma\",\"Uterine Serous Carcinoma/Uterine Papillary Serous Carcinoma\",\"Uterine Serous Carcinoma/Uterine Papillary Serous Carcinoma\",\"Uterine Serous Carcinoma/Uterine Papillary Serous Carcinoma\",\"Uterine Serous Carcinoma/Uterine Papillary Serous Carcinoma\",\"Uterine Serous Carcinoma/Uterine Papillary Serous Carcinoma\",\"Uterine Serous Carcinoma/Uterine Papillary Serous Carcinoma\",\"Uterine Serous Carcinoma/Uterine Papillary Serous Carcinoma\",\"Uterine Serous Carcinoma/Uterine Papillary Serous Carcinoma\",\"Uterine Serous Carcinoma/Uterine Papillary Serous Carcinoma\",\"Uterine Serous Carcinoma/Uterine Papillary Serous Carcinoma\",\"Endometrial Carcinoma\",\"Uterine Endometrioid Carcinoma\",\"Uterine Endometrioid Carcinoma\",\"Uterine Endometrioid Carcinoma\",\"Uterine Endometrioid Carcinoma\",\"Uterine Serous Carcinoma/Uterine Papillary Serous Carcinoma\",\"Uterine Endometrioid Carcinoma\",\"Uterine Endometrioid Carcinoma\",\"Uterine Endometrioid Carcinoma\",\"Uterine Endometrioid Carcinoma\"],\"x0\":\" \",\"xaxis\":\"x\",\"y\":[28.804413972169254,28.959000152415786,39.25652940233936,32.769394909312595,20.904195011337873,25.969529085872576,23.507805325987146,18.749999999999996,27.717685235262305,31.14186851211073,44.811753902663,27.85200797922391,23.725286160249738,24.999999999999996,20.70081674131507,23.384353741496604,43.28352591365878,37.89062499999999,25.282569898869724,23.437499999999996,25.333333333333332,28.088991030674453,37.10937499999999,25.236340330075304,24.300733981352906,40.15466983938133,27.587326057852245,49.954086317722684,24.218749999999996,54.574880499830634,47.03433922996878,32.36854981369265,21.829952199932254,35.65133792661432,29.1363163371488,25.63691716071142,24.55775234131113,39.12591050988553,31.95592286501378,20.811654526534856,31.249999999999993,18.069727891156464,47.80006774812752,29.21010994360826,36.49376417233561,18.19548277362446,22.145328719723185,34.367913832199555,23.046874999999996,61.02839335180055,24.341758286340216,49.53173777315296,42.15439045504159,25.605536332179934,45.67474048442907,24.609733700642796,36.79016620498615,39.10034602076125,24.840980089578082,28.804413972169254,40.56959714390036,34.62682073092702,25.86451247165533,24.341758286340216,23.725286160249738,30.119375573921033,28.124999999999993,23.53036634346221,38.97392290249434,31.249999999999993,45.70312499999999,38.70967741935483,24.76756591982929,42.192381029656374,29.296874999999993,24.999999999999996,26.07897153351699,21.484374999999996,31.992171327486922,57.421874999999986,39.08350962745168,61.34067952249771,42.24058769513316,35.33859303090072,47.477324263038554,38.36873541394723,46.28099173553719,19.72386587771203,26.89232313815483,24.560326301478007,38.67187499999999,37.80718336483932,38.01956512452475,27.99036281179139,46.86785550983081,41.25941355551994,28.54828131630724,25.969529085872576,27.239224483255885,29.296874999999993,27.776706145596233,28.604764951635367,30.859607376561577,33.17773234057328,34.62603878116344,27.776706145596233,36.289737262302225,43.18478734213964,26.171874999999996,21.513858510523864,35.75595618954421,28.360351528307834,33.425160697887975,32.89473684210526,44.997165532879826,21.874999999999996,36.39096554724892,32.87310979618672,33.247876942797625,22.582709172343712,42.57812499999999,21.28742653523995,23.634033007530842,28.515624999999993,48.9292032067447,20.32443825510934,24.341758286340216,28.344671201814062,22.10028959000152,20.775623268698062,23.533042706685695,25.806451612903224,28.54828131630724,33.386558281318045,29.333333333333332,32.74492829989838,40.76313942998429,34.37499999999999,20.23950075898128,40.78768475066883,35.54687499999999,30.85399449035813,38.28124999999999,45.908722657304885,43.20820955981636,46.76870748299321,30.443839128344813,22.95908765854944,23.437499999999996,19.94805976890361,22.265624999999996,36.295922232041406,41.79687499999999,25.969529085872576,27.12031558185404,31.596260387811633,31.238589800803275,40.68047337278106,22.656249999999996,35.111111111111114,27.513384889946465,43.28352591365878,27.09925100681245,47.673469387755105,22.600262984878366,35.62901744719927,24.76756591982929,34.0784616008763,33.56351992592878,26.314635323012148,44.14062499999999,21.513858510523864,47.268066015061684,22.97193820098194,28.398718000730252,46.655036715485416,27.055150884495315,24.238227146814403,30.78090740428403,40.56959714390036,24.38652644413961,50.722012318203,31.634581999151262,48.909279778393355,30.11940191473341,38.28656366830323,48.909279778393355,23.828124999999996,19.721036967980208,38.366381010434225,21.513858510523864,31.20256367009614,25.153150229218223,25.2993759487266,34.85018426534209,31.1950948402596,24.456063417102378,40.507696462327836,38.062283737024224,42.16269841269842,54.87902579714788,34.11235302656409,40.036848072562364,23.738662131519277,33.15043438500228,49.60317460317461,38.64447086801427,33.22653376053162,32.718619869125526,28.577960676726104,47.3304887231525,21.612811791383223,23.828124999999996,25.390624999999996,29.319856487018246,19.100091827364558,30.078124999999993,49.04869269411811,34.62682073092702,59.37887137425776,29.72651605231867,36.388011107919176,33.94930751128428,31.533446712018144,47.87212462980242,26.40235457063712,28.804413972169254,38.39060559298431,27.734374999999993,24.005486968449926,28.393726338561386,29.384756657483933,26.854405574103644,20.36188625109908,31.577562387614577,23.335466144755166,25.10387811634349,31.431788328016516,41.370300479024536,40.39115646258504,56.249092756568444,29.642685467072578,39.7923875432526,26.609712545078956,37.98388162240719,33.20312499999999,28.303850156087407,57.203131972899506,33.21799307958478,42.97520661157025,26.92743764172336,29.296874999999993,30.614821360939274,23.80540166204986,39.84374999999999,81.64062499999999,36.32812499999999,38.4083044982699,56.19146722164411,23.828124999999996,57.34525215044696,37.09825528007347,32.42187499999999,37.09825528007347,25.390624999999996,25.86451247165533,29.43213296398892,40.83044982698962,49.826989619377166,56.01280292638316,37.72972534382733,67.95360110803324,40.03673094582186,33.13609467455621,44.44444444444445,43.40946894397339,22.476586888657646,28.577960676726104,23.828124999999996,32.00731595793324,43.65990439986451,36.13233467574994,25.153150229218223,47.3304887231525,31.249999999999993,42.13351643207141,45.7250689505008,44.997165532879826,46.80384550514421,31.16343490304709,24.87771968291449,24.87771968291449,45.3287197231834,33.74945565394107,32.46191135734072,53.44574504121345,31.615792841281195,31.912223457277065,43.40946894397339,40.03673094582186,38.95429362880886,31.468369660789488,35.37981269510926,32.242063492063494,24.088223117166624,22.20633068613798,38.08864265927978,21.6712580348944,24.242424242424246,28.373702422145332,34.256055363321806,27.700831024930746,26.377898098014718,21.64412070759625,39.446366782006926,35.15624999999999,28.133656509695292,39.68253968253969,35.26170798898072,33.6727656294373,35.294117647058826,34.484157572315304,34.25044224472129,36.32812499999999,29.053287981859416,40.40404040404041,22.375679950619187,28.720083246618103,42.97520661157025,23.051754907792983,32.52595155709343,26.643598615916957,21.504469556417607,36.44444444444444,38.505239237470015,26.666666666666668,26.953124999999996,46.28099173553719,25.209201358495854,48.82812499999999,41.23850730124392,28.084332107116012,34.602076124567475,38.163929834389556,26.555965935105768,31.16343490304709,28.959000152415786,35.294117647058826,34.01764170721095,56.1421772754313,25.2993759487266,36.51263742951032,25.05930702662969,31.615792841281195,42.938300964460296,37.04474505723204,35.71303525786913,39.54840454299622,41.53316720066453,22.481329065691202,35.083029837281565,39.45312499999999,35.74950690335305,26.370238143535232,24.690405462752206,33.70504499982072,22.939750692520775,36.19875019051973,32.928719008264466,41.91434232586495,31.24879441379576,28.303850156087407,31.64556962025316,34.42217361683818,37.42139577948381,41.57652785289346,53.44574504121345,48.62824793148498,23.80869017191275,46.28099173553719,42.57812499999999,32.83097978719196,30.824829931972793,39.767706097714935,40.78768475066883,38.28124999999999,34.41319568055061,34.367913832199555,35.59985760056959,47.46642865836342,30.86300682844026,43.82761139517896,31.22130394857668,24.96494647925858,47.77974539744061,28.344671201814062,49.44973230220108,24.67105263157895,30.470521541950117,26.92743764172336,23.337684427040067,46.68029782801589,33.3275623268698,33.6592970521542,35.751278024658355,31.80465784343901,52.029136316337144,49.24592182209911,23.722810651876106,44.273479460008716,25.476660092044707,36.32812499999999,33.20312499999999,37.65358699960365,31.22945430637738,41.765511711049484,29.721079103795148,26.48553974966893,34.72088268199529,42.457998539079625,30.477219243084754,34.894398530762174,27.209607806342657,31.17913832199547,34.51676528599605,22.939750692520775,26.22222222222222,24.238227146814403,29.43213296398892,28.566481994459835,26.84066824008515,34.666666666666664,18.02595737862522,28.256989886972047,39.79591836734694,22.939750692520775,32.17993079584775,24.46460160337235,26.48553974966893,20.92746730083234,43.51093706736284,37.27906670760054,19.140624999999996,34.42217361683818,32.049981743681286,37.832874196510566,26.07897153351699,40.484429065743946,25.344352617079892,33.20312499999999,41.01562499999999,24.3910588392529,28.804413972169254,31.22945430637738,28.841531805800347,29.752066115702483,34.159779614325075,23.9188302920412,24.801587301587304,35.15624999999999,29.017447199265384,36.48484302508896,26.953124999999996,33.87406375851557,26.22268470343392,32.03987184051263,34.527089072543625,17.361111111111114,47.61080332409972,36.73094582185492,25.79591836734694,25.333333333333332,32.882414151925076,35.492457852706295,22.321428571428577,42.38548483045807,39.1929162432864,27.18163008641324,27.180899908172638,27.005130974885226,32.02036958450677,40.39018442310623,21.64412070759625,47.56242568370987,54.07787213587565,58.81519274376418,42.15439045504159,35.93749999999999,34.894398530762174,32.95068027210885,32.42187499999999,37.52740765727779,28.666129176744597,27.180899908172638,33.07828527515119,32.326530612244895,34.68093539437178,31.14186851211073,53.77777777777778,33.856571252693136,35.26170798898072,20.70081674131507,35.81771071483005,22.837370242214536,46.84711481261155,26.753212578395683,32.74492829989838,31.64556962025316,30.102118579484827,50.51903114186852,32.42187499999999,35.43083900226758,28.604764951635367,26.573129251700685,213.49862258953166,46.76870748299321,31.553659148768332,46.25479579762631],\"y0\":\" \",\"yaxis\":\"y\",\"type\":\"box\"}],                        {\"template\":{\"data\":{\"bar\":[{\"error_x\":{\"color\":\"#2a3f5f\"},\"error_y\":{\"color\":\"#2a3f5f\"},\"marker\":{\"line\":{\"color\":\"#E5ECF6\",\"width\":0.5},\"pattern\":{\"fillmode\":\"overlay\",\"size\":10,\"solidity\":0.2}},\"type\":\"bar\"}],\"barpolar\":[{\"marker\":{\"line\":{\"color\":\"#E5ECF6\",\"width\":0.5},\"pattern\":{\"fillmode\":\"overlay\",\"size\":10,\"solidity\":0.2}},\"type\":\"barpolar\"}],\"carpet\":[{\"aaxis\":{\"endlinecolor\":\"#2a3f5f\",\"gridcolor\":\"white\",\"linecolor\":\"white\",\"minorgridcolor\":\"white\",\"startlinecolor\":\"#2a3f5f\"},\"baxis\":{\"endlinecolor\":\"#2a3f5f\",\"gridcolor\":\"white\",\"linecolor\":\"white\",\"minorgridcolor\":\"white\",\"startlinecolor\":\"#2a3f5f\"},\"type\":\"carpet\"}],\"choropleth\":[{\"colorbar\":{\"outlinewidth\":0,\"ticks\":\"\"},\"type\":\"choropleth\"}],\"contour\":[{\"colorbar\":{\"outlinewidth\":0,\"ticks\":\"\"},\"colorscale\":[[0.0,\"#0d0887\"],[0.1111111111111111,\"#46039f\"],[0.2222222222222222,\"#7201a8\"],[0.3333333333333333,\"#9c179e\"],[0.4444444444444444,\"#bd3786\"],[0.5555555555555556,\"#d8576b\"],[0.6666666666666666,\"#ed7953\"],[0.7777777777777778,\"#fb9f3a\"],[0.8888888888888888,\"#fdca26\"],[1.0,\"#f0f921\"]],\"type\":\"contour\"}],\"contourcarpet\":[{\"colorbar\":{\"outlinewidth\":0,\"ticks\":\"\"},\"type\":\"contourcarpet\"}],\"heatmap\":[{\"colorbar\":{\"outlinewidth\":0,\"ticks\":\"\"},\"colorscale\":[[0.0,\"#0d0887\"],[0.1111111111111111,\"#46039f\"],[0.2222222222222222,\"#7201a8\"],[0.3333333333333333,\"#9c179e\"],[0.4444444444444444,\"#bd3786\"],[0.5555555555555556,\"#d8576b\"],[0.6666666666666666,\"#ed7953\"],[0.7777777777777778,\"#fb9f3a\"],[0.8888888888888888,\"#fdca26\"],[1.0,\"#f0f921\"]],\"type\":\"heatmap\"}],\"heatmapgl\":[{\"colorbar\":{\"outlinewidth\":0,\"ticks\":\"\"},\"colorscale\":[[0.0,\"#0d0887\"],[0.1111111111111111,\"#46039f\"],[0.2222222222222222,\"#7201a8\"],[0.3333333333333333,\"#9c179e\"],[0.4444444444444444,\"#bd3786\"],[0.5555555555555556,\"#d8576b\"],[0.6666666666666666,\"#ed7953\"],[0.7777777777777778,\"#fb9f3a\"],[0.8888888888888888,\"#fdca26\"],[1.0,\"#f0f921\"]],\"type\":\"heatmapgl\"}],\"histogram\":[{\"marker\":{\"pattern\":{\"fillmode\":\"overlay\",\"size\":10,\"solidity\":0.2}},\"type\":\"histogram\"}],\"histogram2d\":[{\"colorbar\":{\"outlinewidth\":0,\"ticks\":\"\"},\"colorscale\":[[0.0,\"#0d0887\"],[0.1111111111111111,\"#46039f\"],[0.2222222222222222,\"#7201a8\"],[0.3333333333333333,\"#9c179e\"],[0.4444444444444444,\"#bd3786\"],[0.5555555555555556,\"#d8576b\"],[0.6666666666666666,\"#ed7953\"],[0.7777777777777778,\"#fb9f3a\"],[0.8888888888888888,\"#fdca26\"],[1.0,\"#f0f921\"]],\"type\":\"histogram2d\"}],\"histogram2dcontour\":[{\"colorbar\":{\"outlinewidth\":0,\"ticks\":\"\"},\"colorscale\":[[0.0,\"#0d0887\"],[0.1111111111111111,\"#46039f\"],[0.2222222222222222,\"#7201a8\"],[0.3333333333333333,\"#9c179e\"],[0.4444444444444444,\"#bd3786\"],[0.5555555555555556,\"#d8576b\"],[0.6666666666666666,\"#ed7953\"],[0.7777777777777778,\"#fb9f3a\"],[0.8888888888888888,\"#fdca26\"],[1.0,\"#f0f921\"]],\"type\":\"histogram2dcontour\"}],\"mesh3d\":[{\"colorbar\":{\"outlinewidth\":0,\"ticks\":\"\"},\"type\":\"mesh3d\"}],\"parcoords\":[{\"line\":{\"colorbar\":{\"outlinewidth\":0,\"ticks\":\"\"}},\"type\":\"parcoords\"}],\"pie\":[{\"automargin\":true,\"type\":\"pie\"}],\"scatter\":[{\"marker\":{\"colorbar\":{\"outlinewidth\":0,\"ticks\":\"\"}},\"type\":\"scatter\"}],\"scatter3d\":[{\"line\":{\"colorbar\":{\"outlinewidth\":0,\"ticks\":\"\"}},\"marker\":{\"colorbar\":{\"outlinewidth\":0,\"ticks\":\"\"}},\"type\":\"scatter3d\"}],\"scattercarpet\":[{\"marker\":{\"colorbar\":{\"outlinewidth\":0,\"ticks\":\"\"}},\"type\":\"scattercarpet\"}],\"scattergeo\":[{\"marker\":{\"colorbar\":{\"outlinewidth\":0,\"ticks\":\"\"}},\"type\":\"scattergeo\"}],\"scattergl\":[{\"marker\":{\"colorbar\":{\"outlinewidth\":0,\"ticks\":\"\"}},\"type\":\"scattergl\"}],\"scattermapbox\":[{\"marker\":{\"colorbar\":{\"outlinewidth\":0,\"ticks\":\"\"}},\"type\":\"scattermapbox\"}],\"scatterpolar\":[{\"marker\":{\"colorbar\":{\"outlinewidth\":0,\"ticks\":\"\"}},\"type\":\"scatterpolar\"}],\"scatterpolargl\":[{\"marker\":{\"colorbar\":{\"outlinewidth\":0,\"ticks\":\"\"}},\"type\":\"scatterpolargl\"}],\"scatterternary\":[{\"marker\":{\"colorbar\":{\"outlinewidth\":0,\"ticks\":\"\"}},\"type\":\"scatterternary\"}],\"surface\":[{\"colorbar\":{\"outlinewidth\":0,\"ticks\":\"\"},\"colorscale\":[[0.0,\"#0d0887\"],[0.1111111111111111,\"#46039f\"],[0.2222222222222222,\"#7201a8\"],[0.3333333333333333,\"#9c179e\"],[0.4444444444444444,\"#bd3786\"],[0.5555555555555556,\"#d8576b\"],[0.6666666666666666,\"#ed7953\"],[0.7777777777777778,\"#fb9f3a\"],[0.8888888888888888,\"#fdca26\"],[1.0,\"#f0f921\"]],\"type\":\"surface\"}],\"table\":[{\"cells\":{\"fill\":{\"color\":\"#EBF0F8\"},\"line\":{\"color\":\"white\"}},\"header\":{\"fill\":{\"color\":\"#C8D4E3\"},\"line\":{\"color\":\"white\"}},\"type\":\"table\"}]},\"layout\":{\"annotationdefaults\":{\"arrowcolor\":\"#2a3f5f\",\"arrowhead\":0,\"arrowwidth\":1},\"autotypenumbers\":\"strict\",\"coloraxis\":{\"colorbar\":{\"outlinewidth\":0,\"ticks\":\"\"}},\"colorscale\":{\"diverging\":[[0,\"#8e0152\"],[0.1,\"#c51b7d\"],[0.2,\"#de77ae\"],[0.3,\"#f1b6da\"],[0.4,\"#fde0ef\"],[0.5,\"#f7f7f7\"],[0.6,\"#e6f5d0\"],[0.7,\"#b8e186\"],[0.8,\"#7fbc41\"],[0.9,\"#4d9221\"],[1,\"#276419\"]],\"sequential\":[[0.0,\"#0d0887\"],[0.1111111111111111,\"#46039f\"],[0.2222222222222222,\"#7201a8\"],[0.3333333333333333,\"#9c179e\"],[0.4444444444444444,\"#bd3786\"],[0.5555555555555556,\"#d8576b\"],[0.6666666666666666,\"#ed7953\"],[0.7777777777777778,\"#fb9f3a\"],[0.8888888888888888,\"#fdca26\"],[1.0,\"#f0f921\"]],\"sequentialminus\":[[0.0,\"#0d0887\"],[0.1111111111111111,\"#46039f\"],[0.2222222222222222,\"#7201a8\"],[0.3333333333333333,\"#9c179e\"],[0.4444444444444444,\"#bd3786\"],[0.5555555555555556,\"#d8576b\"],[0.6666666666666666,\"#ed7953\"],[0.7777777777777778,\"#fb9f3a\"],[0.8888888888888888,\"#fdca26\"],[1.0,\"#f0f921\"]]},\"colorway\":[\"#636efa\",\"#EF553B\",\"#00cc96\",\"#ab63fa\",\"#FFA15A\",\"#19d3f3\",\"#FF6692\",\"#B6E880\",\"#FF97FF\",\"#FECB52\"],\"font\":{\"color\":\"#2a3f5f\"},\"geo\":{\"bgcolor\":\"white\",\"lakecolor\":\"white\",\"landcolor\":\"#E5ECF6\",\"showlakes\":true,\"showland\":true,\"subunitcolor\":\"white\"},\"hoverlabel\":{\"align\":\"left\"},\"hovermode\":\"closest\",\"mapbox\":{\"style\":\"light\"},\"paper_bgcolor\":\"white\",\"plot_bgcolor\":\"#E5ECF6\",\"polar\":{\"angularaxis\":{\"gridcolor\":\"white\",\"linecolor\":\"white\",\"ticks\":\"\"},\"bgcolor\":\"#E5ECF6\",\"radialaxis\":{\"gridcolor\":\"white\",\"linecolor\":\"white\",\"ticks\":\"\"}},\"scene\":{\"xaxis\":{\"backgroundcolor\":\"#E5ECF6\",\"gridcolor\":\"white\",\"gridwidth\":2,\"linecolor\":\"white\",\"showbackground\":true,\"ticks\":\"\",\"zerolinecolor\":\"white\"},\"yaxis\":{\"backgroundcolor\":\"#E5ECF6\",\"gridcolor\":\"white\",\"gridwidth\":2,\"linecolor\":\"white\",\"showbackground\":true,\"ticks\":\"\",\"zerolinecolor\":\"white\"},\"zaxis\":{\"backgroundcolor\":\"#E5ECF6\",\"gridcolor\":\"white\",\"gridwidth\":2,\"linecolor\":\"white\",\"showbackground\":true,\"ticks\":\"\",\"zerolinecolor\":\"white\"}},\"shapedefaults\":{\"line\":{\"color\":\"#2a3f5f\"}},\"ternary\":{\"aaxis\":{\"gridcolor\":\"white\",\"linecolor\":\"white\",\"ticks\":\"\"},\"baxis\":{\"gridcolor\":\"white\",\"linecolor\":\"white\",\"ticks\":\"\"},\"bgcolor\":\"#E5ECF6\",\"caxis\":{\"gridcolor\":\"white\",\"linecolor\":\"white\",\"ticks\":\"\"}},\"title\":{\"x\":0.05},\"xaxis\":{\"automargin\":true,\"gridcolor\":\"white\",\"linecolor\":\"white\",\"ticks\":\"\",\"title\":{\"standoff\":15},\"zerolinecolor\":\"white\",\"zerolinewidth\":2},\"yaxis\":{\"automargin\":true,\"gridcolor\":\"white\",\"linecolor\":\"white\",\"ticks\":\"\",\"title\":{\"standoff\":15},\"zerolinecolor\":\"white\",\"zerolinewidth\":2}}},\"xaxis\":{\"anchor\":\"y\",\"domain\":[0.0,1.0],\"title\":{\"text\":\"Cancer Type Detailed\"}},\"yaxis\":{\"anchor\":\"x\",\"domain\":[0.0,1.0],\"title\":{\"text\":\"BMI\"},\"range\":[0,80]},\"legend\":{\"title\":{\"text\":\"Cancer Type\"},\"tracegroupgap\":0},\"title\":{\"text\":\"BMI by Cancer Type\"},\"boxmode\":\"group\"},                        {\"responsive\": true}                    ).then(function(){\n",
              "                            \n",
              "var gd = document.getElementById('c0745c75-7723-4206-a351-8ff0aa9b2ab7');\n",
              "var x = new MutationObserver(function (mutations, observer) {{\n",
              "        var display = window.getComputedStyle(gd).display;\n",
              "        if (!display || display === 'none') {{\n",
              "            console.log([gd, 'removed!']);\n",
              "            Plotly.purge(gd);\n",
              "            observer.disconnect();\n",
              "        }}\n",
              "}});\n",
              "\n",
              "// Listen for the removal of the full notebook cells\n",
              "var notebookContainer = gd.closest('#notebook-container');\n",
              "if (notebookContainer) {{\n",
              "    x.observe(notebookContainer, {childList: true});\n",
              "}}\n",
              "\n",
              "// Listen for the clearing of the current output cell\n",
              "var outputEl = gd.closest('.output');\n",
              "if (outputEl) {{\n",
              "    x.observe(outputEl, {childList: true});\n",
              "}}\n",
              "\n",
              "                        })                };                            </script>        </div>\n",
              "</body>\n",
              "</html>"
            ]
          },
          "metadata": {}
        }
      ]
    },
    {
      "cell_type": "code",
      "source": [
        "#After splitting BMI into categories, comparing how many fall into the categories by cancer type\n",
        "bar = px.bar(combined, x = 'BMI_category', facet_col='Cancer Type', color = 'Cancer Type')\n",
        "bar.show()\n",
        "#It is pretty easy to see here that for associated cancer types, they had much higher proportions of higher BMI categories than melanom"
      ],
      "metadata": {
        "colab": {
          "base_uri": "https://localhost:8080/",
          "height": 542
        },
        "id": "Y8d5FzurO9Ww",
        "outputId": "4c2ff963-b901-4cdc-9387-827837635d11"
      },
      "execution_count": null,
      "outputs": [
        {
          "output_type": "display_data",
          "data": {
            "text/html": [
              "<html>\n",
              "<head><meta charset=\"utf-8\" /></head>\n",
              "<body>\n",
              "    <div>            <script src=\"https://cdnjs.cloudflare.com/ajax/libs/mathjax/2.7.5/MathJax.js?config=TeX-AMS-MML_SVG\"></script><script type=\"text/javascript\">if (window.MathJax) {MathJax.Hub.Config({SVG: {font: \"STIX-Web\"}});}</script>                <script type=\"text/javascript\">window.PlotlyConfig = {MathJaxConfig: 'local'};</script>\n",
              "        <script src=\"https://cdn.plot.ly/plotly-2.8.3.min.js\"></script>                <div id=\"ec5c9922-4901-45f1-8a5d-661fc1f7c093\" class=\"plotly-graph-div\" style=\"height:525px; width:100%;\"></div>            <script type=\"text/javascript\">                                    window.PLOTLYENV=window.PLOTLYENV || {};                                    if (document.getElementById(\"ec5c9922-4901-45f1-8a5d-661fc1f7c093\")) {                    Plotly.newPlot(                        \"ec5c9922-4901-45f1-8a5d-661fc1f7c093\",                        [{\"alignmentgroup\":\"True\",\"hovertemplate\":\"Cancer Type=Esophagogastric Cancer<br>BMI_category=%{x}<br>count=%{y}<extra></extra>\",\"legendgroup\":\"Esophagogastric Cancer\",\"marker\":{\"color\":\"#636efa\",\"pattern\":{\"shape\":\"\"}},\"name\":\"Esophagogastric Cancer\",\"offsetgroup\":\"Esophagogastric Cancer\",\"orientation\":\"v\",\"showlegend\":true,\"textposition\":\"auto\",\"x\":[\"Overweight\",\"Normal\",\"Overweight\",\"Overweight\",\"Normal\",\"Normal\",\"Overweight\",\"Normal\",\"Normal\",\"Overweight\",\"Overweight\",\"Normal\",\"Obese\",\"Obese\",\"Normal\",\"Overweight\",\"Overweight\",\"Normal\",\"Overweight\",\"Normal\",\"Overweight\",\"Overweight\",\"Normal\",\"Normal\",\"Normal\",\"Normal\",\"Normal\",\"Normal\",\"Normal\",\"Normal\",\"Normal\",\"Normal\",\"Normal\",\"Overweight\",\"Normal\",\"Obese\",\"Overweight\",\"Normal\",\"Obese\",\"Overweight\",\"Overweight\",\"Overweight\",\"Normal\",\"Underweight\",\"Normal\",\"Overweight\",\"Overweight\",\"Obese\",\"Normal\",\"Normal\",\"Obese\",\"Normal\",\"Obese\",\"Obese\",\"Overweight\",\"Obese\",\"Overweight\",\"Obese\",\"Obese\",\"Normal\",\"Obese\",\"Obese\",\"Obese\",\"Normal\",\"Obese\",\"Overweight\",\"Obese\",\"Obese\",\"Normal\",\"Overweight\",\"Normal\",\"Normal\",\"Normal\",\"Normal\",\"Normal\",\"Overweight\",\"Obese\",\"Overweight\",\"Overweight\",\"Overweight\",\"Overweight\",\"Overweight\",\"Obese\",\"Normal\",\"Overweight\",\"Normal\",\"Overweight\",\"Overweight\",\"Normal\",\"Obese\",\"Obese\",\"Obese\",\"Normal\",\"Normal\",\"Normal\",\"Normal\",\"Normal\",\"Normal\",\"Normal\",\"Normal\",\"Normal\",\"Normal\",\"Normal\",\"Normal\",\"Normal\",\"Normal\",\"Normal\",\"Normal\",\"Normal\",\"Normal\",\"Normal\",\"Normal\",\"Normal\",\"Normal\",\"Normal\",\"Normal\",\"Normal\",\"Normal\",\"Normal\",\"Normal\",\"Normal\",\"Normal\",\"Normal\",\"Normal\",\"Overweight\",\"Normal\",\"Normal\",\"Normal\",\"Normal\",\"Normal\",\"Normal\",\"Overweight\",\"Obese\",\"Normal\",\"Normal\",\"Obese\",\"Overweight\",\"Overweight\",\"Overweight\",\"Obese\",\"Obese\",\"Normal\",\"Obese\",\"Overweight\",\"Overweight\",\"Overweight\",\"Overweight\",\"Normal\",\"Obese\",\"Overweight\",\"Overweight\",\"Normal\",\"Overweight\",\"Overweight\",\"Normal\",\"Normal\",\"Normal\",\"Normal\",\"Overweight\",\"Normal\",\"Normal\",\"Normal\",\"Overweight\",\"Normal\",\"Normal\",\"Overweight\",\"Overweight\",\"Normal\",\"Normal\",\"Normal\",\"Obese\",\"Normal\",\"Normal\",\"Normal\",\"Overweight\"],\"xaxis\":\"x\",\"y\":[1,1,1,1,1,1,1,1,1,1,1,1,1,1,1,1,1,1,1,1,1,1,1,1,1,1,1,1,1,1,1,1,1,1,1,1,1,1,1,1,1,1,1,1,1,1,1,1,1,1,1,1,1,1,1,1,1,1,1,1,1,1,1,1,1,1,1,1,1,1,1,1,1,1,1,1,1,1,1,1,1,1,1,1,1,1,1,1,1,1,1,1,1,1,1,1,1,1,1,1,1,1,1,1,1,1,1,1,1,1,1,1,1,1,1,1,1,1,1,1,1,1,1,1,1,1,1,1,1,1,1,1,1,1,1,1,1,1,1,1,1,1,1,1,1,1,1,1,1,1,1,1,1,1,1,1,1,1,1,1,1,1,1,1,1,1,1,1,1,1,1,1,1,1,1],\"yaxis\":\"y\",\"type\":\"bar\"},{\"alignmentgroup\":\"True\",\"hovertemplate\":\"Cancer Type=Esophageal/Stomach Cancer, NOS<br>BMI_category=%{x}<br>count=%{y}<extra></extra>\",\"legendgroup\":\"Esophageal/Stomach Cancer, NOS\",\"marker\":{\"color\":\"#EF553B\",\"pattern\":{\"shape\":\"\"}},\"name\":\"Esophageal/Stomach Cancer, NOS\",\"offsetgroup\":\"Esophageal/Stomach Cancer, NOS\",\"orientation\":\"v\",\"showlegend\":true,\"textposition\":\"auto\",\"x\":[\"Overweight\"],\"xaxis\":\"x2\",\"y\":[1],\"yaxis\":\"y2\",\"type\":\"bar\"},{\"alignmentgroup\":\"True\",\"hovertemplate\":\"Cancer Type=Renal Cell Carcinoma<br>BMI_category=%{x}<br>count=%{y}<extra></extra>\",\"legendgroup\":\"Renal Cell Carcinoma\",\"marker\":{\"color\":\"#00cc96\",\"pattern\":{\"shape\":\"\"}},\"name\":\"Renal Cell Carcinoma\",\"offsetgroup\":\"Renal Cell Carcinoma\",\"orientation\":\"v\",\"showlegend\":true,\"textposition\":\"auto\",\"x\":[\"Overweight\",\"Overweight\",\"Normal\",\"Overweight\",\"Obese\",\"Obese\",\"Normal\",\"Overweight\",\"Normal\",\"Obese\",\"Overweight\",\"Overweight\",\"Overweight\",\"Obese\",\"Overweight\",\"Overweight\",\"Normal\",\"Obese\",\"Obese\",\"Overweight\",\"Obese\",\"Overweight\",\"Obese\",\"Overweight\",\"Normal\",\"Obese\",\"Overweight\",\"Normal\",\"Normal\",\"Overweight\",\"Overweight\",\"Normal\",\"Overweight\",\"Overweight\",\"Overweight\",\"Obese\",\"Overweight\",\"Obese\",\"Overweight\",\"Normal\",\"Normal\",\"Overweight\",\"Normal\",\"Overweight\",\"Normal\",\"Overweight\",\"Overweight\",\"Overweight\",\"Normal\",\"Normal\",\"Normal\",\"Obese\",\"Obese\",\"Obese\",\"Obese\",\"Overweight\",\"Overweight\",\"Overweight\",\"Obese\",\"Obese\",\"Obese\",\"Overweight\",\"Obese\",\"Normal\",\"Overweight\",\"Normal\",\"Obese\",\"Obese\",\"Normal\",\"Obese\",\"Overweight\",\"Overweight\",\"Obese\",\"Normal\",\"Normal\",\"Obese\",\"Overweight\",\"Overweight\",\"Overweight\",\"Overweight\",\"Overweight\",\"Normal\",\"Obese\",\"Obese\",\"Obese\",\"Overweight\",\"Overweight\",\"Overweight\",\"Overweight\",\"Obese\",\"Normal\",\"Obese\",\"Normal\",\"Normal\",\"Obese\",\"Normal\",\"Obese\",\"Overweight\",\"Obese\",\"Obese\",\"Normal\",\"Obese\",\"Overweight\",\"Overweight\",\"Obese\",\"Overweight\",\"Normal\",\"Overweight\",\"Obese\",\"Overweight\",\"Obese\",\"Normal\",\"Overweight\",\"Overweight\",\"Normal\",\"Normal\",\"Obese\",\"Normal\",\"Normal\",\"Obese\",\"Obese\",\"Obese\",\"Normal\",\"Obese\",\"Obese\",\"Obese\",\"Normal\",\"Overweight\",\"Obese\",\"Overweight\",\"Obese\",\"Obese\",\"Obese\",\"Obese\",\"Overweight\",\"Overweight\",\"Normal\",\"Obese\",\"Underweight\",\"Obese\",\"Normal\",\"Overweight\",\"Obese\",\"Obese\",\"Normal\",\"Normal\",\"Overweight\",\"Overweight\",\"Normal\",\"Normal\",\"Overweight\",\"Overweight\",\"Overweight\",\"Obese\",\"Overweight\",\"Overweight\",\"Overweight\",\"Normal\",\"Normal\",\"Overweight\",\"Normal\",\"Obese\",\"Obese\",\"Overweight\",\"Overweight\",\"Normal\",\"Overweight\",\"Normal\",\"Overweight\",\"Obese\",\"Overweight\",\"Obese\",\"Normal\",\"Obese\",\"Overweight\",\"Overweight\",\"Obese\",\"Overweight\",\"Overweight\",\"Overweight\",\"Overweight\",\"Overweight\",\"Obese\",\"Overweight\",\"Overweight\",\"Obese\",\"Obese\",\"Overweight\",\"Obese\",\"Overweight\",\"Obese\",\"Overweight\",\"Overweight\",\"Overweight\",\"Overweight\",\"Obese\",\"Obese\",\"Obese\",\"Obese\",\"Normal\",\"Obese\",\"Normal\",\"Normal\",\"Obese\",\"Obese\",\"Obese\",\"Obese\",\"Overweight\",\"Obese\",\"Overweight\",\"Overweight\",\"Obese\",\"Obese\",\"Normal\"],\"xaxis\":\"x3\",\"y\":[1,1,1,1,1,1,1,1,1,1,1,1,1,1,1,1,1,1,1,1,1,1,1,1,1,1,1,1,1,1,1,1,1,1,1,1,1,1,1,1,1,1,1,1,1,1,1,1,1,1,1,1,1,1,1,1,1,1,1,1,1,1,1,1,1,1,1,1,1,1,1,1,1,1,1,1,1,1,1,1,1,1,1,1,1,1,1,1,1,1,1,1,1,1,1,1,1,1,1,1,1,1,1,1,1,1,1,1,1,1,1,1,1,1,1,1,1,1,1,1,1,1,1,1,1,1,1,1,1,1,1,1,1,1,1,1,1,1,1,1,1,1,1,1,1,1,1,1,1,1,1,1,1,1,1,1,1,1,1,1,1,1,1,1,1,1,1,1,1,1,1,1,1,1,1,1,1,1,1,1,1,1,1,1,1,1,1,1,1,1,1,1,1,1,1,1,1,1,1,1,1,1,1,1,1,1,1,1,1,1,1,1,1,1],\"yaxis\":\"y3\",\"type\":\"bar\"},{\"alignmentgroup\":\"True\",\"hovertemplate\":\"Cancer Type=Hepatobiliary Cancer<br>BMI_category=%{x}<br>count=%{y}<extra></extra>\",\"legendgroup\":\"Hepatobiliary Cancer\",\"marker\":{\"color\":\"#ab63fa\",\"pattern\":{\"shape\":\"\"}},\"name\":\"Hepatobiliary Cancer\",\"offsetgroup\":\"Hepatobiliary Cancer\",\"orientation\":\"v\",\"showlegend\":true,\"textposition\":\"auto\",\"x\":[\"Overweight\",\"Obese\",\"Obese\",\"Obese\",\"Obese\",\"Obese\",\"Obese\",\"Obese\",\"Normal\",\"Overweight\",\"Obese\",\"Normal\",\"Obese\",\"Normal\",\"Overweight\",\"Obese\",\"Obese\",\"Normal\",\"Overweight\",\"Normal\",\"Overweight\",\"Overweight\",\"Obese\",\"Overweight\",\"Overweight\",\"Normal\",\"Overweight\",\"Normal\",\"Obese\",\"Overweight\",\"Obese\",\"Obese\",\"Obese\",\"Obese\",\"Normal\",\"Overweight\",\"Obese\",\"Normal\",\"Overweight\",\"Overweight\",\"Obese\",\"Overweight\",\"Obese\",\"Normal\",\"Normal\",\"Normal\",\"Normal\",\"Normal\",\"Normal\",\"Normal\",\"Normal\",\"Normal\",\"Normal\",\"Normal\",\"Normal\",\"Normal\",\"Normal\",\"Normal\",\"Normal\",\"Normal\",\"Normal\",\"Normal\",\"Normal\",\"Normal\",\"Normal\",\"Normal\",\"Normal\",\"Underweight\",\"Normal\",\"Normal\",\"Normal\",\"Normal\",\"Normal\",\"Normal\",\"Normal\",\"Overweight\",\"Normal\",\"Overweight\",\"Normal\",\"Overweight\",\"Obese\",\"Obese\",\"Overweight\",\"Obese\",\"Obese\",\"Normal\",\"Normal\",\"Obese\",\"Overweight\",\"Obese\",\"Overweight\",\"Normal\",\"Normal\",\"Overweight\",\"Obese\",\"Underweight\",\"Overweight\",\"Normal\",\"Normal\",\"Overweight\",\"Normal\",\"Overweight\",\"Normal\",\"Overweight\",\"Overweight\",\"Normal\",\"Normal\",\"Normal\",\"Normal\",\"Obese\",\"Normal\",\"Obese\",\"Normal\",\"Obese\",\"Overweight\",\"Overweight\",\"Obese\",\"Obese\",\"Obese\",\"Obese\",\"Obese\",\"Normal\",\"Obese\",\"Overweight\",\"Overweight\",\"Obese\",\"Normal\",\"Obese\",\"Obese\",\"Obese\",\"Normal\",\"Obese\",\"Obese\",\"Overweight\",\"Normal\",\"Overweight\",\"Normal\",\"Overweight\",\"Overweight\",\"Overweight\",\"Overweight\",\"Normal\",\"Normal\",\"Normal\",\"Normal\",\"Normal\",\"Normal\",\"Normal\",\"Overweight\",\"Normal\",\"Obese\",\"Normal\",\"Normal\",\"Underweight\",\"Overweight\",\"Normal\",\"Overweight\",\"Normal\",\"Normal\",\"Normal\",\"Normal\",\"Normal\",\"Normal\",\"Normal\",\"Normal\",\"Normal\",\"Normal\",\"Normal\",\"Normal\",\"Obese\",\"Normal\",\"Overweight\",\"Normal\",\"Overweight\",\"Normal\",\"Normal\",\"Overweight\",\"Normal\",\"Normal\",\"Normal\",\"Normal\",\"Normal\",\"Normal\",\"Normal\",\"Normal\",\"Normal\",\"Normal\",\"Overweight\",\"Normal\",\"Overweight\",\"Normal\",\"Normal\",\"Normal\",\"Normal\",\"Normal\",\"Overweight\",\"Overweight\",\"Overweight\",\"Normal\",\"Overweight\",\"Overweight\",\"Normal\",\"Normal\",\"Overweight\",\"Overweight\",\"Normal\",\"Normal\",\"Normal\",\"Overweight\",\"Normal\",\"Normal\",\"Normal\",\"Overweight\",\"Overweight\",\"Obese\",\"Overweight\",\"Normal\",\"Normal\",\"Normal\",\"Normal\",\"Overweight\",\"Normal\",\"Normal\",\"Normal\",\"Normal\",\"Normal\",\"Normal\",\"Normal\",\"Normal\",\"Normal\",\"Normal\",\"Underweight\",\"Normal\",\"Normal\",\"Normal\",\"Normal\",\"Normal\",\"Normal\",\"Normal\",\"Underweight\",\"Overweight\",\"Overweight\",\"Obese\",\"Overweight\",\"Overweight\",\"Obese\",\"Normal\",\"Normal\",\"Normal\",\"Overweight\",\"Normal\",\"Normal\",\"Overweight\",\"Normal\",\"Normal\",\"Normal\",\"Normal\",\"Obese\",\"Normal\",\"Obese\",\"Normal\",\"Normal\",\"Normal\",\"Overweight\",\"Normal\",\"Overweight\",\"Obese\",\"Overweight\",\"Overweight\",\"Obese\",\"Normal\",\"Overweight\",\"Obese\",\"Normal\",\"Obese\",\"Obese\",\"Normal\",\"Obese\",\"Overweight\",\"Normal\",\"Obese\",\"Obese\",\"Overweight\",\"Normal\",\"Overweight\",\"Normal\",\"Obese\",\"Normal\",\"Normal\",\"Overweight\",\"Obese\",\"Obese\",\"Overweight\",\"Overweight\",\"Overweight\",\"Overweight\",\"Obese\",\"Normal\",\"Overweight\",\"Overweight\",\"Obese\",\"Normal\",\"Overweight\",\"Obese\",\"Overweight\",\"Overweight\",\"Obese\",\"Normal\",\"Normal\",\"Overweight\",\"Normal\",\"Normal\",\"Overweight\",\"Normal\",\"Obese\",\"Normal\",\"Overweight\",\"Normal\",\"Overweight\",\"Normal\",\"Overweight\",\"Normal\",\"Normal\",\"Overweight\",\"Obese\",\"Overweight\",\"Obese\",\"Normal\",\"Normal\",\"Overweight\",\"Normal\",\"Normal\",\"Normal\",\"Overweight\",\"Normal\",\"Obese\",\"Overweight\",\"Overweight\",\"Obese\",\"Overweight\",\"Normal\",\"Overweight\"],\"xaxis\":\"x4\",\"y\":[1,1,1,1,1,1,1,1,1,1,1,1,1,1,1,1,1,1,1,1,1,1,1,1,1,1,1,1,1,1,1,1,1,1,1,1,1,1,1,1,1,1,1,1,1,1,1,1,1,1,1,1,1,1,1,1,1,1,1,1,1,1,1,1,1,1,1,1,1,1,1,1,1,1,1,1,1,1,1,1,1,1,1,1,1,1,1,1,1,1,1,1,1,1,1,1,1,1,1,1,1,1,1,1,1,1,1,1,1,1,1,1,1,1,1,1,1,1,1,1,1,1,1,1,1,1,1,1,1,1,1,1,1,1,1,1,1,1,1,1,1,1,1,1,1,1,1,1,1,1,1,1,1,1,1,1,1,1,1,1,1,1,1,1,1,1,1,1,1,1,1,1,1,1,1,1,1,1,1,1,1,1,1,1,1,1,1,1,1,1,1,1,1,1,1,1,1,1,1,1,1,1,1,1,1,1,1,1,1,1,1,1,1,1,1,1,1,1,1,1,1,1,1,1,1,1,1,1,1,1,1,1,1,1,1,1,1,1,1,1,1,1,1,1,1,1,1,1,1,1,1,1,1,1,1,1,1,1,1,1,1,1,1,1,1,1,1,1,1,1,1,1,1,1,1,1,1,1,1,1,1,1,1,1,1,1,1,1,1,1,1,1,1,1,1,1,1,1,1,1,1,1,1,1,1,1,1,1,1,1,1,1,1,1,1,1,1,1,1,1,1,1,1,1,1,1,1,1,1,1,1,1,1,1,1,1,1,1,1,1,1,1],\"yaxis\":\"y4\",\"type\":\"bar\"},{\"alignmentgroup\":\"True\",\"hovertemplate\":\"Cancer Type=Melanoma<br>BMI_category=%{x}<br>count=%{y}<extra></extra>\",\"legendgroup\":\"Melanoma\",\"marker\":{\"color\":\"#FFA15A\",\"pattern\":{\"shape\":\"\"}},\"name\":\"Melanoma\",\"offsetgroup\":\"Melanoma\",\"orientation\":\"v\",\"showlegend\":true,\"textposition\":\"auto\",\"x\":[\"Overweight\",\"Normal\",\"Obese\",\"Normal\",\"Overweight\",\"Overweight\",\"Normal\",\"Normal\",\"Overweight\",\"Normal\",\"Obese\",\"Normal\",\"Obese\",\"Obese\",\"Overweight\",\"Overweight\",\"Normal\",\"Overweight\",\"Normal\",\"Overweight\",\"Normal\",\"Normal\",\"Overweight\",\"Overweight\",\"Overweight\",\"Overweight\",\"Overweight\",\"Normal\",\"Obese\",\"Obese\",\"Obese\",\"Overweight\",\"Overweight\",\"Overweight\",\"Obese\",\"Obese\",\"Overweight\",\"Overweight\",\"Obese\",\"Obese\",\"Obese\",\"Normal\",\"Normal\",\"Obese\",\"Normal\",\"Overweight\",\"Normal\",\"Obese\",\"Overweight\",\"Obese\",\"Obese\",\"Overweight\",\"Overweight\",\"Overweight\",\"Overweight\",\"Normal\",\"Obese\",\"Overweight\",\"Overweight\",\"Obese\",\"Overweight\",\"Obese\",\"Overweight\",\"Obese\",\"Overweight\",\"Obese\",\"Normal\",\"Normal\",\"Overweight\",\"Obese\",\"Obese\",\"Normal\",\"Overweight\",\"Obese\",\"Normal\",\"Obese\",\"Obese\",\"Obese\",\"Normal\",\"Obese\",\"Obese\",\"Normal\",\"Overweight\",\"Obese\",\"Obese\",\"Obese\",\"Normal\",\"Overweight\",\"Obese\",\"Overweight\",\"Obese\",\"Overweight\",\"Normal\",\"Overweight\",\"Obese\",\"Overweight\",\"Normal\",\"Normal\",\"Normal\",\"Overweight\",\"Overweight\",\"Obese\",\"Obese\",\"Overweight\",\"Obese\",\"Obese\",\"Obese\",\"Obese\",\"Obese\",\"Normal\",\"Normal\",\"Overweight\",\"Normal\",\"Normal\",\"Obese\",\"Overweight\",\"Overweight\",\"Obese\",\"Normal\",\"Obese\",\"Overweight\",\"Overweight\",\"Normal\",\"Normal\",\"Overweight\",\"Overweight\",\"Obese\",\"Normal\",\"Overweight\",\"Obese\",\"Normal\",\"Overweight\",\"Normal\",\"Overweight\",\"Normal\",\"Overweight\",\"Normal\",\"Overweight\",\"Normal\",\"Normal\",\"Normal\",\"Normal\",\"Obese\",\"Normal\",\"Normal\",\"Overweight\",\"Overweight\",\"Normal\",\"Normal\",\"Normal\",\"Obese\",\"Overweight\",\"Overweight\",\"Normal\",\"Normal\",\"Obese\",\"Overweight\",\"Normal\",\"Overweight\",\"Normal\",\"Overweight\",\"Normal\",\"Normal\",\"Normal\",\"Normal\",\"Normal\",\"Normal\",\"Normal\",\"Normal\",\"Normal\",\"Obese\",\"Normal\",\"Obese\",\"Normal\",\"Obese\",\"Normal\",\"Normal\",\"Overweight\",\"Obese\",\"Normal\",\"Overweight\",\"Overweight\",\"Overweight\",\"Obese\",\"Overweight\",\"Overweight\",\"Normal\",\"Overweight\",\"Overweight\",\"Obese\",\"Overweight\",\"Normal\",\"Overweight\",\"Obese\",\"Overweight\",\"Obese\",\"Overweight\",\"Obese\",\"Obese\",\"Obese\",\"Normal\",\"Overweight\",\"Overweight\",\"Overweight\",\"Obese\",\"Obese\",\"Obese\",\"Normal\",\"Overweight\",\"Normal\",\"Overweight\",\"Overweight\",\"Overweight\",\"Obese\",\"Normal\",\"Obese\",\"Obese\",\"Obese\",\"Obese\",\"Obese\",\"Overweight\",\"Obese\",\"Obese\",\"Normal\",\"Obese\",\"Normal\",\"Overweight\",\"Overweight\",\"Overweight\",\"Normal\",\"Overweight\",\"Overweight\",\"Overweight\",\"Overweight\",\"Normal\",\"Overweight\",\"Overweight\",\"Obese\",\"Obese\",\"Normal\",\"Normal\",\"Obese\",\"Overweight\",\"Overweight\",\"Normal\",\"Overweight\",\"Overweight\",\"Normal\",\"Normal\",\"Normal\",\"Obese\",\"Obese\",\"Normal\",\"Obese\",\"Overweight\",\"Normal\"],\"xaxis\":\"x5\",\"y\":[1,1,1,1,1,1,1,1,1,1,1,1,1,1,1,1,1,1,1,1,1,1,1,1,1,1,1,1,1,1,1,1,1,1,1,1,1,1,1,1,1,1,1,1,1,1,1,1,1,1,1,1,1,1,1,1,1,1,1,1,1,1,1,1,1,1,1,1,1,1,1,1,1,1,1,1,1,1,1,1,1,1,1,1,1,1,1,1,1,1,1,1,1,1,1,1,1,1,1,1,1,1,1,1,1,1,1,1,1,1,1,1,1,1,1,1,1,1,1,1,1,1,1,1,1,1,1,1,1,1,1,1,1,1,1,1,1,1,1,1,1,1,1,1,1,1,1,1,1,1,1,1,1,1,1,1,1,1,1,1,1,1,1,1,1,1,1,1,1,1,1,1,1,1,1,1,1,1,1,1,1,1,1,1,1,1,1,1,1,1,1,1,1,1,1,1,1,1,1,1,1,1,1,1,1,1,1,1,1,1,1,1,1,1,1,1,1,1,1,1,1,1,1,1,1,1,1,1,1,1,1,1,1,1,1,1,1,1,1,1,1,1,1,1,1,1,1,1,1,1,1,1,1,1,1,1],\"yaxis\":\"y5\",\"type\":\"bar\"},{\"alignmentgroup\":\"True\",\"hovertemplate\":\"Cancer Type=Endometrial Cancer<br>BMI_category=%{x}<br>count=%{y}<extra></extra>\",\"legendgroup\":\"Endometrial Cancer\",\"marker\":{\"color\":\"#19d3f3\",\"pattern\":{\"shape\":\"\"}},\"name\":\"Endometrial Cancer\",\"offsetgroup\":\"Endometrial Cancer\",\"orientation\":\"v\",\"showlegend\":true,\"textposition\":\"auto\",\"x\":[\"Overweight\",\"Overweight\",\"Obese\",\"Obese\",\"Normal\",\"Overweight\",\"Normal\",\"Normal\",\"Overweight\",\"Obese\",\"Obese\",\"Overweight\",\"Normal\",\"Normal\",\"Normal\",\"Normal\",\"Obese\",\"Obese\",\"Overweight\",\"Normal\",\"Overweight\",\"Overweight\",\"Obese\",\"Overweight\",\"Normal\",\"Obese\",\"Overweight\",\"Obese\",\"Normal\",\"Obese\",\"Obese\",\"Obese\",\"Normal\",\"Obese\",\"Overweight\",\"Overweight\",\"Normal\",\"Obese\",\"Obese\",\"Normal\",\"Obese\",\"Normal\",\"Obese\",\"Overweight\",\"Obese\",\"Normal\",\"Normal\",\"Obese\",\"Normal\",\"Obese\",\"Normal\",\"Obese\",\"Obese\",\"Overweight\",\"Obese\",\"Normal\",\"Obese\",\"Obese\",\"Normal\",\"Overweight\",\"Obese\",\"Obese\",\"Overweight\",\"Normal\",\"Normal\",\"Obese\",\"Overweight\",\"Normal\",\"Obese\",\"Obese\",\"Obese\",\"Obese\",\"Normal\",\"Obese\",\"Overweight\",\"Normal\",\"Overweight\",\"Normal\",\"Obese\",\"Obese\",\"Obese\",\"Obese\",\"Obese\",\"Obese\",\"Obese\",\"Obese\",\"Obese\",\"Normal\",\"Overweight\",\"Normal\",\"Obese\",\"Obese\",\"Obese\",\"Overweight\",\"Obese\",\"Obese\",\"Overweight\",\"Overweight\",\"Overweight\",\"Overweight\",\"Overweight\",\"Overweight\",\"Obese\",\"Obese\",\"Obese\",\"Overweight\",\"Obese\",\"Obese\",\"Overweight\",\"Normal\",\"Obese\",\"Overweight\",\"Obese\",\"Obese\",\"Obese\",\"Normal\",\"Obese\",\"Obese\",\"Obese\",\"Normal\",\"Obese\",\"Normal\",\"Normal\",\"Overweight\",\"Obese\",\"Normal\",\"Normal\",\"Overweight\",\"Normal\",\"Normal\",\"Normal\",\"Overweight\",\"Overweight\",\"Obese\",\"Overweight\",\"Obese\",\"Obese\",\"Obese\",\"Normal\",\"Obese\",\"Obese\",\"Obese\",\"Obese\",\"Obese\",\"Obese\",\"Obese\",\"Obese\",\"Normal\",\"Normal\",\"Normal\",\"Normal\",\"Obese\",\"Obese\",\"Overweight\",\"Overweight\",\"Obese\",\"Obese\",\"Obese\",\"Normal\",\"Obese\",\"Overweight\",\"Obese\",\"Overweight\",\"Obese\",\"Normal\",\"Obese\",\"Normal\",\"Obese\",\"Obese\",\"Overweight\",\"Obese\",\"Normal\",\"Obese\",\"Normal\",\"Overweight\",\"Obese\",\"Overweight\",\"Normal\",\"Obese\",\"Obese\",\"Normal\",\"Obese\",\"Obese\",\"Obese\",\"Obese\",\"Obese\",\"Obese\",\"Normal\",\"Normal\",\"Obese\",\"Normal\",\"Obese\",\"Overweight\",\"Overweight\",\"Obese\",\"Obese\",\"Normal\",\"Obese\",\"Obese\",\"Obese\",\"Obese\",\"Obese\",\"Obese\",\"Normal\",\"Obese\",\"Obese\",\"Obese\",\"Obese\",\"Obese\",\"Overweight\",\"Obese\",\"Normal\",\"Normal\",\"Overweight\",\"Overweight\",\"Normal\",\"Obese\",\"Obese\",\"Obese\",\"Obese\",\"Overweight\",\"Obese\",\"Obese\",\"Obese\",\"Obese\",\"Overweight\",\"Overweight\",\"Obese\",\"Overweight\",\"Normal\",\"Overweight\",\"Overweight\",\"Overweight\",\"Normal\",\"Obese\",\"Normal\",\"Overweight\",\"Obese\",\"Obese\",\"Obese\",\"Obese\",\"Overweight\",\"Obese\",\"Overweight\",\"Obese\",\"Obese\",\"Overweight\",\"Obese\",\"Obese\",\"Obese\",\"Overweight\",\"Overweight\",\"Obese\",\"Normal\",\"Obese\",\"Obese\",\"Obese\",\"Obese\",\"Obese\",\"Normal\",\"Obese\",\"Obese\",\"Obese\",\"Obese\",\"Overweight\",\"Overweight\",\"Overweight\",\"Obese\",\"Obese\",\"Obese\",\"Obese\",\"Obese\",\"Obese\",\"Obese\",\"Obese\",\"Obese\",\"Normal\",\"Overweight\",\"Normal\",\"Obese\",\"Obese\",\"Obese\",\"Overweight\",\"Obese\",\"Obese\",\"Obese\",\"Obese\",\"Obese\",\"Obese\",\"Obese\",\"Normal\",\"Normal\",\"Obese\",\"Obese\",\"Obese\",\"Obese\",\"Obese\",\"Obese\",\"Obese\",\"Obese\",\"Obese\",\"Obese\",\"Obese\",\"Obese\",\"Normal\",\"Normal\",\"Obese\",\"Normal\",\"Normal\",\"Overweight\",\"Obese\",\"Overweight\",\"Overweight\",\"Normal\",\"Obese\",\"Obese\",\"Overweight\",\"Obese\",\"Obese\",\"Obese\",\"Obese\",\"Obese\",\"Obese\",\"Obese\",\"Overweight\",\"Obese\",\"Normal\",\"Overweight\",\"Obese\",\"Normal\",\"Obese\",\"Overweight\",\"Normal\",\"Obese\",\"Obese\",\"Overweight\",\"Overweight\",\"Obese\",\"Overweight\",\"Obese\",\"Obese\",\"Overweight\",\"Obese\",\"Obese\",\"Overweight\",\"Obese\",\"Overweight\",\"Obese\",\"Obese\",\"Obese\",\"Overweight\",\"Obese\",\"Overweight\",\"Obese\",\"Obese\",\"Obese\",\"Obese\",\"Obese\",\"Obese\",\"Normal\",\"Obese\",\"Obese\",\"Obese\",\"Overweight\",\"Normal\",\"Obese\",\"Normal\",\"Obese\",\"Obese\",\"Obese\",\"Obese\",\"Overweight\",\"Obese\",\"Obese\",\"Obese\",\"Obese\",\"Obese\",\"Obese\",\"Normal\",\"Obese\",\"Obese\",\"Obese\",\"Obese\",\"Obese\",\"Obese\",\"Obese\",\"Obese\",\"Obese\",\"Obese\",\"Obese\",\"Obese\",\"Obese\",\"Obese\",\"Normal\",\"Obese\",\"Overweight\",\"Obese\",\"Normal\",\"Obese\",\"Overweight\",\"Normal\",\"Obese\",\"Obese\",\"Obese\",\"Obese\",\"Obese\",\"Obese\",\"Obese\",\"Normal\",\"Obese\",\"Overweight\",\"Obese\",\"Obese\",\"Obese\",\"Obese\",\"Obese\",\"Overweight\",\"Overweight\",\"Obese\",\"Obese\",\"Obese\",\"Obese\",\"Overweight\",\"Obese\",\"Obese\",\"Normal\",\"Overweight\",\"Normal\",\"Overweight\",\"Overweight\",\"Overweight\",\"Obese\",\"Normal\",\"Overweight\",\"Obese\",\"Normal\",\"Obese\",\"Normal\",\"Overweight\",\"Normal\",\"Obese\",\"Obese\",\"Normal\",\"Obese\",\"Obese\",\"Obese\",\"Overweight\",\"Obese\",\"Overweight\",\"Obese\",\"Obese\",\"Normal\",\"Overweight\",\"Obese\",\"Overweight\",\"Overweight\",\"Obese\",\"Normal\",\"Normal\",\"Obese\",\"Overweight\",\"Obese\",\"Overweight\",\"Obese\",\"Overweight\",\"Obese\",\"Obese\",\"Normal\",\"Obese\",\"Obese\",\"Overweight\",\"Overweight\",\"Obese\",\"Obese\",\"Normal\",\"Obese\",\"Obese\",\"Overweight\",\"Overweight\",\"Overweight\",\"Obese\",\"Obese\",\"Normal\",\"Obese\",\"Obese\",\"Obese\",\"Obese\",\"Obese\",\"Obese\",\"Obese\",\"Obese\",\"Obese\",\"Overweight\",\"Overweight\",\"Obese\",\"Obese\",\"Obese\",\"Obese\",\"Obese\",\"Obese\",\"Obese\",\"Normal\",\"Obese\",\"Normal\",\"Obese\",\"Overweight\",\"Obese\",\"Obese\",\"Obese\",\"Obese\",\"Obese\",\"Obese\",\"Overweight\",\"Overweight\",\"Obese\",\"Obese\",\"Obese\",\"Obese\"],\"xaxis\":\"x6\",\"y\":[1,1,1,1,1,1,1,1,1,1,1,1,1,1,1,1,1,1,1,1,1,1,1,1,1,1,1,1,1,1,1,1,1,1,1,1,1,1,1,1,1,1,1,1,1,1,1,1,1,1,1,1,1,1,1,1,1,1,1,1,1,1,1,1,1,1,1,1,1,1,1,1,1,1,1,1,1,1,1,1,1,1,1,1,1,1,1,1,1,1,1,1,1,1,1,1,1,1,1,1,1,1,1,1,1,1,1,1,1,1,1,1,1,1,1,1,1,1,1,1,1,1,1,1,1,1,1,1,1,1,1,1,1,1,1,1,1,1,1,1,1,1,1,1,1,1,1,1,1,1,1,1,1,1,1,1,1,1,1,1,1,1,1,1,1,1,1,1,1,1,1,1,1,1,1,1,1,1,1,1,1,1,1,1,1,1,1,1,1,1,1,1,1,1,1,1,1,1,1,1,1,1,1,1,1,1,1,1,1,1,1,1,1,1,1,1,1,1,1,1,1,1,1,1,1,1,1,1,1,1,1,1,1,1,1,1,1,1,1,1,1,1,1,1,1,1,1,1,1,1,1,1,1,1,1,1,1,1,1,1,1,1,1,1,1,1,1,1,1,1,1,1,1,1,1,1,1,1,1,1,1,1,1,1,1,1,1,1,1,1,1,1,1,1,1,1,1,1,1,1,1,1,1,1,1,1,1,1,1,1,1,1,1,1,1,1,1,1,1,1,1,1,1,1,1,1,1,1,1,1,1,1,1,1,1,1,1,1,1,1,1,1,1,1,1,1,1,1,1,1,1,1,1,1,1,1,1,1,1,1,1,1,1,1,1,1,1,1,1,1,1,1,1,1,1,1,1,1,1,1,1,1,1,1,1,1,1,1,1,1,1,1,1,1,1,1,1,1,1,1,1,1,1,1,1,1,1,1,1,1,1,1,1,1,1,1,1,1,1,1,1,1,1,1,1,1,1,1,1,1,1,1,1,1,1,1,1,1,1,1,1,1,1,1,1,1,1,1,1,1,1,1,1,1,1,1,1,1,1,1,1,1,1,1,1,1,1,1,1,1,1,1,1,1,1,1,1,1,1,1,1,1,1,1,1,1,1,1,1,1,1,1,1,1,1,1,1,1,1,1,1,1,1,1,1,1,1,1,1,1,1,1,1,1,1,1,1,1],\"yaxis\":\"y6\",\"type\":\"bar\"}],                        {\"template\":{\"data\":{\"bar\":[{\"error_x\":{\"color\":\"#2a3f5f\"},\"error_y\":{\"color\":\"#2a3f5f\"},\"marker\":{\"line\":{\"color\":\"#E5ECF6\",\"width\":0.5},\"pattern\":{\"fillmode\":\"overlay\",\"size\":10,\"solidity\":0.2}},\"type\":\"bar\"}],\"barpolar\":[{\"marker\":{\"line\":{\"color\":\"#E5ECF6\",\"width\":0.5},\"pattern\":{\"fillmode\":\"overlay\",\"size\":10,\"solidity\":0.2}},\"type\":\"barpolar\"}],\"carpet\":[{\"aaxis\":{\"endlinecolor\":\"#2a3f5f\",\"gridcolor\":\"white\",\"linecolor\":\"white\",\"minorgridcolor\":\"white\",\"startlinecolor\":\"#2a3f5f\"},\"baxis\":{\"endlinecolor\":\"#2a3f5f\",\"gridcolor\":\"white\",\"linecolor\":\"white\",\"minorgridcolor\":\"white\",\"startlinecolor\":\"#2a3f5f\"},\"type\":\"carpet\"}],\"choropleth\":[{\"colorbar\":{\"outlinewidth\":0,\"ticks\":\"\"},\"type\":\"choropleth\"}],\"contour\":[{\"colorbar\":{\"outlinewidth\":0,\"ticks\":\"\"},\"colorscale\":[[0.0,\"#0d0887\"],[0.1111111111111111,\"#46039f\"],[0.2222222222222222,\"#7201a8\"],[0.3333333333333333,\"#9c179e\"],[0.4444444444444444,\"#bd3786\"],[0.5555555555555556,\"#d8576b\"],[0.6666666666666666,\"#ed7953\"],[0.7777777777777778,\"#fb9f3a\"],[0.8888888888888888,\"#fdca26\"],[1.0,\"#f0f921\"]],\"type\":\"contour\"}],\"contourcarpet\":[{\"colorbar\":{\"outlinewidth\":0,\"ticks\":\"\"},\"type\":\"contourcarpet\"}],\"heatmap\":[{\"colorbar\":{\"outlinewidth\":0,\"ticks\":\"\"},\"colorscale\":[[0.0,\"#0d0887\"],[0.1111111111111111,\"#46039f\"],[0.2222222222222222,\"#7201a8\"],[0.3333333333333333,\"#9c179e\"],[0.4444444444444444,\"#bd3786\"],[0.5555555555555556,\"#d8576b\"],[0.6666666666666666,\"#ed7953\"],[0.7777777777777778,\"#fb9f3a\"],[0.8888888888888888,\"#fdca26\"],[1.0,\"#f0f921\"]],\"type\":\"heatmap\"}],\"heatmapgl\":[{\"colorbar\":{\"outlinewidth\":0,\"ticks\":\"\"},\"colorscale\":[[0.0,\"#0d0887\"],[0.1111111111111111,\"#46039f\"],[0.2222222222222222,\"#7201a8\"],[0.3333333333333333,\"#9c179e\"],[0.4444444444444444,\"#bd3786\"],[0.5555555555555556,\"#d8576b\"],[0.6666666666666666,\"#ed7953\"],[0.7777777777777778,\"#fb9f3a\"],[0.8888888888888888,\"#fdca26\"],[1.0,\"#f0f921\"]],\"type\":\"heatmapgl\"}],\"histogram\":[{\"marker\":{\"pattern\":{\"fillmode\":\"overlay\",\"size\":10,\"solidity\":0.2}},\"type\":\"histogram\"}],\"histogram2d\":[{\"colorbar\":{\"outlinewidth\":0,\"ticks\":\"\"},\"colorscale\":[[0.0,\"#0d0887\"],[0.1111111111111111,\"#46039f\"],[0.2222222222222222,\"#7201a8\"],[0.3333333333333333,\"#9c179e\"],[0.4444444444444444,\"#bd3786\"],[0.5555555555555556,\"#d8576b\"],[0.6666666666666666,\"#ed7953\"],[0.7777777777777778,\"#fb9f3a\"],[0.8888888888888888,\"#fdca26\"],[1.0,\"#f0f921\"]],\"type\":\"histogram2d\"}],\"histogram2dcontour\":[{\"colorbar\":{\"outlinewidth\":0,\"ticks\":\"\"},\"colorscale\":[[0.0,\"#0d0887\"],[0.1111111111111111,\"#46039f\"],[0.2222222222222222,\"#7201a8\"],[0.3333333333333333,\"#9c179e\"],[0.4444444444444444,\"#bd3786\"],[0.5555555555555556,\"#d8576b\"],[0.6666666666666666,\"#ed7953\"],[0.7777777777777778,\"#fb9f3a\"],[0.8888888888888888,\"#fdca26\"],[1.0,\"#f0f921\"]],\"type\":\"histogram2dcontour\"}],\"mesh3d\":[{\"colorbar\":{\"outlinewidth\":0,\"ticks\":\"\"},\"type\":\"mesh3d\"}],\"parcoords\":[{\"line\":{\"colorbar\":{\"outlinewidth\":0,\"ticks\":\"\"}},\"type\":\"parcoords\"}],\"pie\":[{\"automargin\":true,\"type\":\"pie\"}],\"scatter\":[{\"marker\":{\"colorbar\":{\"outlinewidth\":0,\"ticks\":\"\"}},\"type\":\"scatter\"}],\"scatter3d\":[{\"line\":{\"colorbar\":{\"outlinewidth\":0,\"ticks\":\"\"}},\"marker\":{\"colorbar\":{\"outlinewidth\":0,\"ticks\":\"\"}},\"type\":\"scatter3d\"}],\"scattercarpet\":[{\"marker\":{\"colorbar\":{\"outlinewidth\":0,\"ticks\":\"\"}},\"type\":\"scattercarpet\"}],\"scattergeo\":[{\"marker\":{\"colorbar\":{\"outlinewidth\":0,\"ticks\":\"\"}},\"type\":\"scattergeo\"}],\"scattergl\":[{\"marker\":{\"colorbar\":{\"outlinewidth\":0,\"ticks\":\"\"}},\"type\":\"scattergl\"}],\"scattermapbox\":[{\"marker\":{\"colorbar\":{\"outlinewidth\":0,\"ticks\":\"\"}},\"type\":\"scattermapbox\"}],\"scatterpolar\":[{\"marker\":{\"colorbar\":{\"outlinewidth\":0,\"ticks\":\"\"}},\"type\":\"scatterpolar\"}],\"scatterpolargl\":[{\"marker\":{\"colorbar\":{\"outlinewidth\":0,\"ticks\":\"\"}},\"type\":\"scatterpolargl\"}],\"scatterternary\":[{\"marker\":{\"colorbar\":{\"outlinewidth\":0,\"ticks\":\"\"}},\"type\":\"scatterternary\"}],\"surface\":[{\"colorbar\":{\"outlinewidth\":0,\"ticks\":\"\"},\"colorscale\":[[0.0,\"#0d0887\"],[0.1111111111111111,\"#46039f\"],[0.2222222222222222,\"#7201a8\"],[0.3333333333333333,\"#9c179e\"],[0.4444444444444444,\"#bd3786\"],[0.5555555555555556,\"#d8576b\"],[0.6666666666666666,\"#ed7953\"],[0.7777777777777778,\"#fb9f3a\"],[0.8888888888888888,\"#fdca26\"],[1.0,\"#f0f921\"]],\"type\":\"surface\"}],\"table\":[{\"cells\":{\"fill\":{\"color\":\"#EBF0F8\"},\"line\":{\"color\":\"white\"}},\"header\":{\"fill\":{\"color\":\"#C8D4E3\"},\"line\":{\"color\":\"white\"}},\"type\":\"table\"}]},\"layout\":{\"annotationdefaults\":{\"arrowcolor\":\"#2a3f5f\",\"arrowhead\":0,\"arrowwidth\":1},\"autotypenumbers\":\"strict\",\"coloraxis\":{\"colorbar\":{\"outlinewidth\":0,\"ticks\":\"\"}},\"colorscale\":{\"diverging\":[[0,\"#8e0152\"],[0.1,\"#c51b7d\"],[0.2,\"#de77ae\"],[0.3,\"#f1b6da\"],[0.4,\"#fde0ef\"],[0.5,\"#f7f7f7\"],[0.6,\"#e6f5d0\"],[0.7,\"#b8e186\"],[0.8,\"#7fbc41\"],[0.9,\"#4d9221\"],[1,\"#276419\"]],\"sequential\":[[0.0,\"#0d0887\"],[0.1111111111111111,\"#46039f\"],[0.2222222222222222,\"#7201a8\"],[0.3333333333333333,\"#9c179e\"],[0.4444444444444444,\"#bd3786\"],[0.5555555555555556,\"#d8576b\"],[0.6666666666666666,\"#ed7953\"],[0.7777777777777778,\"#fb9f3a\"],[0.8888888888888888,\"#fdca26\"],[1.0,\"#f0f921\"]],\"sequentialminus\":[[0.0,\"#0d0887\"],[0.1111111111111111,\"#46039f\"],[0.2222222222222222,\"#7201a8\"],[0.3333333333333333,\"#9c179e\"],[0.4444444444444444,\"#bd3786\"],[0.5555555555555556,\"#d8576b\"],[0.6666666666666666,\"#ed7953\"],[0.7777777777777778,\"#fb9f3a\"],[0.8888888888888888,\"#fdca26\"],[1.0,\"#f0f921\"]]},\"colorway\":[\"#636efa\",\"#EF553B\",\"#00cc96\",\"#ab63fa\",\"#FFA15A\",\"#19d3f3\",\"#FF6692\",\"#B6E880\",\"#FF97FF\",\"#FECB52\"],\"font\":{\"color\":\"#2a3f5f\"},\"geo\":{\"bgcolor\":\"white\",\"lakecolor\":\"white\",\"landcolor\":\"#E5ECF6\",\"showlakes\":true,\"showland\":true,\"subunitcolor\":\"white\"},\"hoverlabel\":{\"align\":\"left\"},\"hovermode\":\"closest\",\"mapbox\":{\"style\":\"light\"},\"paper_bgcolor\":\"white\",\"plot_bgcolor\":\"#E5ECF6\",\"polar\":{\"angularaxis\":{\"gridcolor\":\"white\",\"linecolor\":\"white\",\"ticks\":\"\"},\"bgcolor\":\"#E5ECF6\",\"radialaxis\":{\"gridcolor\":\"white\",\"linecolor\":\"white\",\"ticks\":\"\"}},\"scene\":{\"xaxis\":{\"backgroundcolor\":\"#E5ECF6\",\"gridcolor\":\"white\",\"gridwidth\":2,\"linecolor\":\"white\",\"showbackground\":true,\"ticks\":\"\",\"zerolinecolor\":\"white\"},\"yaxis\":{\"backgroundcolor\":\"#E5ECF6\",\"gridcolor\":\"white\",\"gridwidth\":2,\"linecolor\":\"white\",\"showbackground\":true,\"ticks\":\"\",\"zerolinecolor\":\"white\"},\"zaxis\":{\"backgroundcolor\":\"#E5ECF6\",\"gridcolor\":\"white\",\"gridwidth\":2,\"linecolor\":\"white\",\"showbackground\":true,\"ticks\":\"\",\"zerolinecolor\":\"white\"}},\"shapedefaults\":{\"line\":{\"color\":\"#2a3f5f\"}},\"ternary\":{\"aaxis\":{\"gridcolor\":\"white\",\"linecolor\":\"white\",\"ticks\":\"\"},\"baxis\":{\"gridcolor\":\"white\",\"linecolor\":\"white\",\"ticks\":\"\"},\"bgcolor\":\"#E5ECF6\",\"caxis\":{\"gridcolor\":\"white\",\"linecolor\":\"white\",\"ticks\":\"\"}},\"title\":{\"x\":0.05},\"xaxis\":{\"automargin\":true,\"gridcolor\":\"white\",\"linecolor\":\"white\",\"ticks\":\"\",\"title\":{\"standoff\":15},\"zerolinecolor\":\"white\",\"zerolinewidth\":2},\"yaxis\":{\"automargin\":true,\"gridcolor\":\"white\",\"linecolor\":\"white\",\"ticks\":\"\",\"title\":{\"standoff\":15},\"zerolinecolor\":\"white\",\"zerolinewidth\":2}}},\"xaxis\":{\"anchor\":\"y\",\"domain\":[0.0,0.15],\"title\":{\"text\":\"BMI_category\"}},\"yaxis\":{\"anchor\":\"x\",\"domain\":[0.0,1.0],\"title\":{\"text\":\"count\"}},\"xaxis2\":{\"anchor\":\"y2\",\"domain\":[0.16999999999999998,0.31999999999999995],\"matches\":\"x\",\"title\":{\"text\":\"BMI_category\"}},\"yaxis2\":{\"anchor\":\"x2\",\"domain\":[0.0,1.0],\"matches\":\"y\",\"showticklabels\":false},\"xaxis3\":{\"anchor\":\"y3\",\"domain\":[0.33999999999999997,0.49],\"matches\":\"x\",\"title\":{\"text\":\"BMI_category\"}},\"yaxis3\":{\"anchor\":\"x3\",\"domain\":[0.0,1.0],\"matches\":\"y\",\"showticklabels\":false},\"xaxis4\":{\"anchor\":\"y4\",\"domain\":[0.51,0.66],\"matches\":\"x\",\"title\":{\"text\":\"BMI_category\"}},\"yaxis4\":{\"anchor\":\"x4\",\"domain\":[0.0,1.0],\"matches\":\"y\",\"showticklabels\":false},\"xaxis5\":{\"anchor\":\"y5\",\"domain\":[0.6799999999999999,0.83],\"matches\":\"x\",\"title\":{\"text\":\"BMI_category\"}},\"yaxis5\":{\"anchor\":\"x5\",\"domain\":[0.0,1.0],\"matches\":\"y\",\"showticklabels\":false},\"xaxis6\":{\"anchor\":\"y6\",\"domain\":[0.85,1.0],\"matches\":\"x\",\"title\":{\"text\":\"BMI_category\"}},\"yaxis6\":{\"anchor\":\"x6\",\"domain\":[0.0,1.0],\"matches\":\"y\",\"showticklabels\":false},\"annotations\":[{\"font\":{},\"showarrow\":false,\"text\":\"Cancer Type=Esophagogastric Cancer\",\"x\":0.075,\"xanchor\":\"center\",\"xref\":\"paper\",\"y\":1.0,\"yanchor\":\"bottom\",\"yref\":\"paper\"},{\"font\":{},\"showarrow\":false,\"text\":\"Cancer Type=Esophageal/Stomach Cancer, NOS\",\"x\":0.24499999999999997,\"xanchor\":\"center\",\"xref\":\"paper\",\"y\":1.0,\"yanchor\":\"bottom\",\"yref\":\"paper\"},{\"font\":{},\"showarrow\":false,\"text\":\"Cancer Type=Renal Cell Carcinoma\",\"x\":0.415,\"xanchor\":\"center\",\"xref\":\"paper\",\"y\":1.0,\"yanchor\":\"bottom\",\"yref\":\"paper\"},{\"font\":{},\"showarrow\":false,\"text\":\"Cancer Type=Hepatobiliary Cancer\",\"x\":0.585,\"xanchor\":\"center\",\"xref\":\"paper\",\"y\":1.0,\"yanchor\":\"bottom\",\"yref\":\"paper\"},{\"font\":{},\"showarrow\":false,\"text\":\"Cancer Type=Melanoma\",\"x\":0.7549999999999999,\"xanchor\":\"center\",\"xref\":\"paper\",\"y\":1.0,\"yanchor\":\"bottom\",\"yref\":\"paper\"},{\"font\":{},\"showarrow\":false,\"text\":\"Cancer Type=Endometrial Cancer\",\"x\":0.925,\"xanchor\":\"center\",\"xref\":\"paper\",\"y\":1.0,\"yanchor\":\"bottom\",\"yref\":\"paper\"}],\"legend\":{\"title\":{\"text\":\"Cancer Type\"},\"tracegroupgap\":0},\"margin\":{\"t\":60},\"barmode\":\"relative\"},                        {\"responsive\": true}                    ).then(function(){\n",
              "                            \n",
              "var gd = document.getElementById('ec5c9922-4901-45f1-8a5d-661fc1f7c093');\n",
              "var x = new MutationObserver(function (mutations, observer) {{\n",
              "        var display = window.getComputedStyle(gd).display;\n",
              "        if (!display || display === 'none') {{\n",
              "            console.log([gd, 'removed!']);\n",
              "            Plotly.purge(gd);\n",
              "            observer.disconnect();\n",
              "        }}\n",
              "}});\n",
              "\n",
              "// Listen for the removal of the full notebook cells\n",
              "var notebookContainer = gd.closest('#notebook-container');\n",
              "if (notebookContainer) {{\n",
              "    x.observe(notebookContainer, {childList: true});\n",
              "}}\n",
              "\n",
              "// Listen for the clearing of the current output cell\n",
              "var outputEl = gd.closest('.output');\n",
              "if (outputEl) {{\n",
              "    x.observe(outputEl, {childList: true});\n",
              "}}\n",
              "\n",
              "                        })                };                            </script>        </div>\n",
              "</body>\n",
              "</html>"
            ]
          },
          "metadata": {}
        }
      ]
    },
    {
      "cell_type": "code",
      "source": [
        "#Plotting the relationship between BMI and survival between cancer types and split by sex\n",
        "scatter = px.scatter(combined, x = 'BMI', y = 'Overall Survival (Months)', color = 'Cancer Type', facet_col = 'Sex',\n",
        "                     range_x = [10,70], range_y = [0,250])\n",
        "scatter.show()\n",
        "#nothing particularly interesting pops out here or in other similar comparisons I tried, but I feel like this is a good way to visually see if there is a connection"
      ],
      "metadata": {
        "colab": {
          "base_uri": "https://localhost:8080/",
          "height": 542
        },
        "id": "OtjZdgjDPA6y",
        "outputId": "f7b16bb0-687f-4661-b9b1-ff6aa826da90"
      },
      "execution_count": null,
      "outputs": [
        {
          "output_type": "display_data",
          "data": {
            "text/html": [
              "<html>\n",
              "<head><meta charset=\"utf-8\" /></head>\n",
              "<body>\n",
              "    <div>            <script src=\"https://cdnjs.cloudflare.com/ajax/libs/mathjax/2.7.5/MathJax.js?config=TeX-AMS-MML_SVG\"></script><script type=\"text/javascript\">if (window.MathJax) {MathJax.Hub.Config({SVG: {font: \"STIX-Web\"}});}</script>                <script type=\"text/javascript\">window.PlotlyConfig = {MathJaxConfig: 'local'};</script>\n",
              "        <script src=\"https://cdn.plot.ly/plotly-2.8.3.min.js\"></script>                <div id=\"38ccba07-c16c-46f8-a435-096619ff8cd0\" class=\"plotly-graph-div\" style=\"height:525px; width:100%;\"></div>            <script type=\"text/javascript\">                                    window.PLOTLYENV=window.PLOTLYENV || {};                                    if (document.getElementById(\"38ccba07-c16c-46f8-a435-096619ff8cd0\")) {                    Plotly.newPlot(                        \"38ccba07-c16c-46f8-a435-096619ff8cd0\",                        [{\"hovertemplate\":\"Cancer Type=Esophagogastric Cancer<br>Sex=Male<br>BMI=%{x}<br>Overall Survival (Months)=%{y}<extra></extra>\",\"legendgroup\":\"Esophagogastric Cancer\",\"marker\":{\"color\":\"#636efa\",\"symbol\":\"circle\"},\"mode\":\"markers\",\"name\":\"Esophagogastric Cancer\",\"showlegend\":true,\"x\":[28.367523664486843,23.355636914530994,27.173101615455817,28.293345405160707,19.59631589261219,24.691358024691358,28.40054796351365,24.031709372366656,23.959094229364496,28.719723183391007,25.24933720489837,23.738662131519277,30.457762250291136,25.25951557093426,25.826446280991735,23.719609250647608,25.24933720489837,23.1084345786212,25.963047941069917,26.365603028664147,23.120623596247853,23.243408017070564,19.883853048857468,22.145328719723185,17.71541950113379,22.59814049586777,19.233560749020178,20.41522491349481,20.478266613819528,25.46401086464464,21.13885585942661,30.323342589932647,20.015495867768596,36.753650305723546,29.320987654320987,26.44628099173554,27.469135802469133,21.707923392038097,13.398953850910871,24.3910588392529,26.44628099173554,39.54214360041623,22.096807907073963,22.53061224489796,40.90048674959438,21.35779559539232,60.235323491776164,41.46938775510204,27.732299776136855,34.25925925925926,24.302487059714682,31.16343490304709,30.48337930033387,30.930438076000502,26.775510204081634,32.846606348353184,22.99262444384723,26.42356982428326,23.836734693877553,24.151672503320853,22.205989773557338,24.187046492878256,32.52595155709343,29.737044338267232,29.3946871824648,28.666129176744597,27.064051588760066,32.046146450889275,20.761245674740486,27.458654210326976,27.160493827160494,25.082863029651524,24.48565200513601,32.50852165130665,31.487889273356405,32.43243243243243,22.265624999999996,22.230987127541326,20.19557823129252,19.13265306122449,22.832879346258608,20.244897959183675,20.244897959183675,21.04981790236894,20.199469763918696,20.715693808680545,23.243408017070564,20.19557823129252,21.971335857220122,21.30394857667585,21.29529475392104,20.244897959183675,22.20408163265306,23.243801652892564,22.20408163265306,22.724403484408533,19.841269841269845,22.481329065691202,17.474717430101133,20.281233098972418,18.556773222226116,23.781212841854934,22.275309917355372,22.647376960519203,20.983987603305785,20.015495867768596,20.571428571428573,22.229061933586404,22.49134948096886,21.29529475392104,20.61925365062196,16.84502576298058,27.33564013840831,32.0,21.91358024691358,33.08261290221903,29.065743944636683,27.940538194444446,26.82742078020452,31.40766480670921,31.161373901474043,24.577867151840145,31.120686707020965,27.469135802469133,25.102391333069097,27.777777777777775,24.258674071946118,44.956733369388864,25.990903183885642,26.959840341724732,20.202020202020204,28.73469387755102,27.12673611111111,19.66230766829999,19.713321527615356,22.152646502835537,17.102914931588344,25.781249999999996,16.84502576298058,17.846519928613922,20.519134092541297,24.740937287102444,19.723183391003463,25.88057063502083,20.685150239512268,19.15119181970521,31.353578787064404,23.323418063818284,21.612811791383223,24.524346347059055,27.180899908172638],\"xaxis\":\"x\",\"y\":[25.76,20.04,31.24,14.29,58.51,7.62,5.91,13.93,8.94,16.23,4.2,32.42,7.69,35.18,0.85,20.76,2.63,20.11,18.63,3.88,9.3,0.53,17.02,0.79,12.81,9.95,4.66,14.49,12.16,122.01,44.71,60.35,3.68,41.49,47.34,34.82,21.68,23.16,31.54,25.2,6.27,3.15,30.22,0.3,18.27,4.3,26.31,32.59,19.97,18.33,3.32,1.38,3.15,4.89,28.98,7.42,15.47,22.8,2.6,25.1,0.36,3.75,55.45,2.66,35.94,12.91,16.46,13.21,5.49,21.35,13.4,27.1,52.53,46.06,10.84,10.35,5.91,10.45,12.65,12.42,13.4,12.32,13.37,13.14,15.34,12.58,13.24,12.45,12.58,12.48,12.75,12.58,22.37,12.84,15.51,11.53,12.32,13.21,4.47,12.32,25.23,10.51,11.99,12.22,12.02,13.17,12.32,13.37,0.13,12.84,12.25,33.08,7.82,7.98,5.06,16.29,7.03,38.37,6.34,53.91,9.3,15.77,2.89,2.3,12.68,20.01,20.37,5.29,3.42,16.43,15.34,9.26,8.97,25.79,27.07,22.8,12.42,1.54,18.3,8.11,28.09,18.17,52.23,46.16,9.17,15.9,18.2,3.42,2.1,1.31,2.66],\"yaxis\":\"y\",\"type\":\"scattergl\"},{\"hovertemplate\":\"Cancer Type=Esophagogastric Cancer<br>Sex=Female<br>BMI=%{x}<br>Overall Survival (Months)=%{y}<extra></extra>\",\"legendgroup\":\"Esophagogastric Cancer\",\"marker\":{\"color\":\"#636efa\",\"symbol\":\"circle\"},\"mode\":\"markers\",\"name\":\"Esophagogastric Cancer\",\"showlegend\":false,\"x\":[34.602076124567475,17.63085399449036,21.534908398614277,21.04804761213529,28.133656509695292,26.813590449954088,33.09042236763832,25.21735857578381,42.38548483045807,31.555555555555557,23.93606231490121,40.56959714390036,24.840980089578082,29.77777777777778,25.847768218818715,24.341758286340216,26.40235457063712,21.490285513793253,23.634033007530842,19.841269841269845,27.60945175517229,25.71166207529844,27.29322416043669,18.59103674696412],\"xaxis\":\"x2\",\"y\":[15.67,33.25,23.39,14.85,67.97,24.01,8.94,4.7,20.99,7.16,58.54,7.13,7.39,3.02,13.53,8.71,13.17,12.02,5.16,7.59,7.0,33.67,18.04,11.24],\"yaxis\":\"y2\",\"type\":\"scattergl\"},{\"hovertemplate\":\"Cancer Type=Esophageal/Stomach Cancer, NOS<br>Sex=Male<br>BMI=%{x}<br>Overall Survival (Months)=%{y}<extra></extra>\",\"legendgroup\":\"Esophageal/Stomach Cancer, NOS\",\"marker\":{\"color\":\"#EF553B\",\"symbol\":\"circle\"},\"mode\":\"markers\",\"name\":\"Esophageal/Stomach Cancer, NOS\",\"showlegend\":true,\"x\":[25.990903183885642],\"xaxis\":\"x\",\"y\":[3.42],\"yaxis\":\"y\",\"type\":\"scattergl\"},{\"hovertemplate\":\"Cancer Type=Renal Cell Carcinoma<br>Sex=Male<br>BMI=%{x}<br>Overall Survival (Months)=%{y}<extra></extra>\",\"legendgroup\":\"Renal Cell Carcinoma\",\"marker\":{\"color\":\"#00cc96\",\"symbol\":\"circle\"},\"mode\":\"markers\",\"name\":\"Renal Cell Carcinoma\",\"showlegend\":true,\"x\":[27.66285664054162,29.5618721370588,26.57799950719959,35.767409837737674,40.32029781787101,19.829290104294234,27.041899324082678,24.72838388411046,43.37767966185586,26.615539056146012,28.499303778772987,27.69272722598599,29.67139151851556,25.643956713915557,18.754325259515575,28.504425947945567,39.833531510107015,25.533392248453477,30.263497438504082,27.962006086499084,35.34907208685772,23.38868655818771,24.691358024691358,28.037923459359458,26.026174895895306,28.06642386982525,29.402273297715947,25.25951557093426,32.0,26.29757785467128,22.720438370810918,29.983587930816814,24.535123966942148,27.414453692693883,22.857142857142858,27.469135802469133,28.04967129291453,24.816326530612244,38.81871659350831,33.63265306122449,27.469135802469133,25.082863029651524,27.173101615455817,36.08540211834675,33.89335281227173,33.746533462527985,26.26494384736143,39.13647266759247,23.38868655818771,27.39817568244846,32.443449497143234,38.26530612244898,26.421769731642144,28.487443750907246,38.062283737024224,40.391836734693875,26.44628099173554,26.989619377162633,25.71166207529844,25.762980578676178,30.308459494162257,30.040816326530614,31.92120564851074,28.342284801858035,25.423401874927663,26.450617283950617,27.73012149434544,35.401234567901234,24.56747404844291,23.481883600555488,32.242063492063494,25.25951557093426,32.37368481905422,31.799109503909683,29.354197862296854,26.13664822530337,35.45084649054836,28.740237212619636,29.39951490800402,30.739146985263268,25.513281988377003,33.76642981273229,26.87962962962963,28.50444579576632,17.48178980228928,42.82844990548204,33.672022684310015,49.71590909090909,32.557694149190844,35.102713592381185,28.055705786911847,33.510445598357684,29.031220331269765,34.81611681990265,36.96082914189909,38.9415557470714,25.25951557093426,25.854639471416256,21.296296296296294,30.683734836857425,11.735007438318288,32.557694149190844,23.739138224491622,28.208362902895857,23.671253629592222,22.799443023018387,29.205668590095605,29.84238963074942,23.570600654679303,22.230987127541326,26.575890590940304,28.04967129291453,27.548209366391188,41.66089965397924,27.340924237159733,28.12951294092115,25.717211197736003,22.52609327520148,23.186781067439682,40.94167227054368,32.04170031422605,28.024821985186875,16.93093254501478,24.664815312490664,29.05641913508224,32.82413836636788,26.812218711098343,39.66942148760331,21.296296296296294,25.55932915514163,35.360943790768076,26.234754256732277,28.373942684004547,29.555881526793797,27.636054421768712,27.17063156623596,31.797373975494093,27.113380513004266,39.15743991358357,33.95061728395061,26.965450516525703,26.456448386037202,31.232412816084153,28.05444441461516,26.187703425005225,27.33135086371078,25.091528847367755,414.89423693257964,33.19658248334525,24.84397861984532,30.25616498454026,22.10770045739088,33.33093191193101,37.211210705718976,29.384756657483933,28.689559399065775,29.566816216500914,34.265186809608856,37.184417803179045,23.332591043880313],\"xaxis\":\"x\",\"y\":[7.03,75.49,58.18,100.2,56.87,4.57,91.66,75.36,34.82,56.77,54.6,51.48,38.96,33.05,30.68,29.34,25.56,5.29,16.16,22.47,12.81,12.25,67.12,106.47,49.54,22.24,78.58,15.47,71.75,62.88,12.98,27.07,27.76,67.38,9.63,66.66,62.61,28.15,26.38,1.15,21.85,43.96,22.04,11.86,19.22,17.21,0.16,14.85,17.48,12.29,19.25,8.87,43.17,47.77,21.62,30.26,26.02,25.33,10.81,7.65,11.96,7.92,2.76,123.52,48.23,96.85,93.27,50.36,26.25,11.27,7.62,7.03,3.81,13.6,129.76,35.91,37.52,24.44,3.75,14.62,3.02,40.74,18.99,24.87,0.43,51.74,90.83,39.22,71.39,25.13,25.82,25.23,23.06,194.65,12.91,27.63,1.05,12.42,17.94,null,11.83,56.7,73.19,16.79,96.62,22.24,21.32,16.33,12.35,10.09,18.4,29.07,11.4,34.26,27.76,30.35,27.63,20.24,31.11,29.24,15.47,99.7,42.9,99.05,92.51,52.23,16.0,50.56,78.84,47.86,44.58,28.78,35.35,27.04,11.93,18.99,41.29,41.59,26.45,53.06,43.73,26.18,117.31,37.32,62.78,98.88,86.3,30.65,47.44,65.08,21.58,31.7,25.99,15.9,18.63,15.6,25.26,6.73,6.01,13.27],\"yaxis\":\"y\",\"type\":\"scattergl\"},{\"hovertemplate\":\"Cancer Type=Renal Cell Carcinoma<br>Sex=Female<br>BMI=%{x}<br>Overall Survival (Months)=%{y}<extra></extra>\",\"legendgroup\":\"Renal Cell Carcinoma\",\"marker\":{\"color\":\"#00cc96\",\"symbol\":\"circle\"},\"mode\":\"markers\",\"name\":\"Renal Cell Carcinoma\",\"showlegend\":false,\"x\":[23.639535288341815,31.90081245337958,36.488934971355555,38.08410646017484,23.923308707514767,28.027681660899656,24.801587301587304,35.154137371552196,28.360351528307834,21.874999999999996,25.536703601108034,22.07409972299169,23.507805325987146,31.217481789802285,31.17283950617284,22.83550295857988,21.487603305785125,33.833141099577084,21.796874999999993,19.53542321662953,28.162493730951734,22.809917355371905,30.761573503703225,24.654832347140037,24.950302243498722,37.88967222426409,36.38926992836457,19.815593140341853,20.49661179918042,23.62938793072538,23.243408017070564,16.82422688671687,34.159779614325075,17.48178980228928,33.3275623268698,22.308149910767405,23.011176857330703,30.48315805517451,46.458211106111264,32.104346721421265,21.730103806228374,28.47372070826997,29.61580591504726,29.311294765840223,30.08428868420237,29.64187327823692,25.402816083611555,33.049295977149214,43.32031249999999,43.32031249999999,21.679687499999996,266.0575114216609,30.570355489562395,36.12368335847783],\"xaxis\":\"x2\",\"y\":[58.97,39.85,24.31,31.18,0.13,11.56,90.14,43.0,19.35,12.39,70.14,67.67,49.21,20.6,0.46,86.7,63.67,22.9,40.8,26.02,13.24,0.95,44.81,61.24,49.8,20.11,7.16,48.82,13.76,34.17,10.68,13.07,2.4,1.18,4.01,11.04,20.5,3.68,19.97,2.04,17.61,12.12,87.02,6.6,14.06,49.41,16.29,18.0,71.19,71.19,51.31,39.03,18.63,18.04],\"yaxis\":\"y2\",\"type\":\"scattergl\"},{\"hovertemplate\":\"Cancer Type=Hepatobiliary Cancer<br>Sex=Male<br>BMI=%{x}<br>Overall Survival (Months)=%{y}<extra></extra>\",\"legendgroup\":\"Hepatobiliary Cancer\",\"marker\":{\"color\":\"#ab63fa\",\"symbol\":\"circle\"},\"mode\":\"markers\",\"name\":\"Hepatobiliary Cancer\",\"showlegend\":true,\"x\":[26.061679307694877,35.055631763450684,36.8313005675643,41.96353097451998,33.95918367346939,27.469135802469133,30.436715570602924,32.770512780499985,21.872422819032593,27.77427092538821,24.158817968558527,26.533758829646096,28.393726338561386,35.224513525529225,25.25951557093426,25.344352617079892,23.323418063818284,29.72651605231867,25.142857142857142,35.62901744719927,31.652184299322162,23.38868655818771,29.320987654320987,38.97392290249434,31.405613399728384,18.93877551020408,21.453287197231838,22.20633068613798,20.312499999999996,20.32443825510934,20.147971991015986,23.384353741496604,18.72417355371901,19.57168128269788,20.936639118457304,21.453287197231838,21.224489795918366,20.9572742022715,20.307412205454995,20.478266613819528,18.285714285714285,18.42403628117914,19.834710743801654,20.19557823129252,20.808561236623067,20.9572742022715,18.986590720303784,23.781212841854934,21.6712580348944,21.877551020408163,24.725182932941294,27.99036281179139,23.836734693877553,22.656249999999996,27.531229454306374,40.90229235981808,35.55324314949705,34.140075716603576,33.30498866213152,30.116213151927443,25.142857142857142,29.053287981859416,21.847008520333322,22.53061224489796,16.302378939741576,26.09327520147972,27.44059917355372,27.77427092538821,22.79035792549306,25.458065904119906,18.19657904313989,22.634676324128566,31.600114909508758,20.16070124178232,28.734672057202044,34.94943486020227,33.46403461330449,37.75602258678873,35.18853305785124,25.2162533116282,29.666548000474663,40.26091570175713,33.69005152596116,36.50621957815036,23.422090729783037,26.7538644470868,25.71166207529844,25.71166207529844,22.4058769513315,19.925129815239703,23.624447492760247,21.258503401360546,23.030045351473927,20.703124999999996,19.979188345473464,28.875440053795337,22.985397512168742,21.705129432793896,23.938989774631512,15.987507436049974,25.806451612903224,22.40817898532965,27.041644131963228,24.31412396574249,24.508945765204302,23.588329220496444,22.060353798126947,23.624447492760247,21.367521367521366,24.302487059714682,24.221453287197235,33.34648069131199,24.977043158861342,26.149276859504134,24.092970521541954,22.8625344752504,23.828124999999996,20.964360587002094,21.75546853368142,24.218749999999996,20.549886621315196,24.023808670084982,23.507805325987146,25.95155709342561,19.705532421177875,26.491508201480624,20.66115702479339,18.442545824080696,21.707923392038097,27.08415906989034,26.813590449954088,25.013520822065985,26.989619377162633,23.140495867768596,24.840980089578082,28.93406890166274,25.039918710988534,22.656249999999996,23.335466144755166,28.668892437218755,22.40817898532965,22.230987127541326,24.622960911049557,25.344352617079892,25.209201358495854,34.37499999999999,28.44095497516423,23.624447492760247,20.515086478979924,24.3046178773967,21.20310522895934,25.351541373715524,21.513858510523864,20.5456936226167,24.38652644413961,18.286779733945284,19.031141868512112,23.889462809917354,21.107266435986162,19.77769866698311,20.897959183673468,22.145328719723185,14.526643990929708,25.86451247165533,31.877288221184195,29.93827160493827,26.42356982428326,24.44727891156463,26.491508201480624,25.737081414967538,23.875114784205696,23.054562464499313,32.95068027210885,23.355636914530994,35.139302233855645,23.781212841854934,23.18339100346021,23.620287912158062,29.75274443418488,23.458562375266975,27.160493827160494,31.30907372400756,27.47252747252747,25.282569898869724,23.503556057507403,25.25951557093426,30.078124999999993,23.233456176894723,30.218857788223804,32.323232323232325,21.30394857667585,61.67306106350174,27.45288684263204,23.959094229364496,23.93948099205209,41.09726352367269,23.629489603024574,21.79944510503369,28.668892437218755,37.71626297577855,29.14214576731553,26.218820861678008,27.428571428571427,33.63265306122449,21.777553339224845,28.06642386982525,28.293345405160707,32.45841265878094,23.427738442315704,28.042816593139772,35.56649909373825,28.39506172839506,33.33333333333333,22.136739730004358,26.29757785467128,22.460034350640772,21.007667798746546,29.40778799351001,18.390674513354462,19.1358024691358,25.180785123966942,18.612244897959183,27.548209366391188,24.983563445101908,29.352354500694357,39.83673469387755,30.818540433925047,17.444926771877153,20.685150239512268,20.97117202268431,27.141582391433676,19.713321527615356,26.175194521137367,25.013520822065985,29.33741144159046],\"xaxis\":\"x\",\"y\":[null,23.78,53.35,41.75,80.22,120.73,40.37,49.8,47.7,22.9,1.18,8.54,13.01,8.61,10.78,10.58,0.66,17.08,23.36,5.03,17.97,14.59,12.71,44.78,36.63,3.19,3.38,4.24,3.35,3.32,9.86,9.95,10.35,11.93,11.4,9.99,8.94,7.13,21.32,9.82,11.99,13.11,12.55,8.61,9.13,9.86,4.6,6.93,0.0,8.15,37.75,83.51,53.29,7.33,2.6,0.46,21.75,90.64,79.34,75.59,11.47,45.07,49.11,6.01,13.63,21.12,5.62,25.79,7.65,17.58,20.11,13.76,0.36,32.49,30.95,26.35,26.81,56.21,73.75,108.67,12.25,78.78,23.92,1.45,0.53,11.4,75.59,75.59,55.35,12.52,71.75,11.99,15.41,6.41,53.15,69.05,0.3,58.11,42.77,61.63,13.63,14.19,59.26,51.48,50.3,46.78,5.58,47.63,21.62,42.54,44.19,22.08,40.8,13.96,40.44,39.49,37.61,20.89,0.39,29.5,14.88,15.05,14.32,66.62,15.57,18.2,18.86,19.28,18.13,20.96,18.59,21.16,21.81,23.72,18.89,15.7,25.07,26.61,25.76,50.3,35.05,90.41,89.62,82.56,59.89,72.34,80.65,76.12,56.44,64.72,62.42,66.2,65.34,60.94,53.65,29.89,26.91,13.9,13.34,0.2,14.03,0.2,19.97,9.95,11.93,22.6,14.39,81.67,13.67,28.25,58.44,21.52,22.11,25.62,5.91,19.51,19.22,25.23,22.93,24.44,20.4,17.08,22.04,14.68,11.86,1.84,15.77,15.64,11.79,11.63,11.86,28.88,2.2,2.99,20.73,17.05,16.82,2.14,27.23,29.76,13.96,12.02,9.56,16.66,22.93,24.54,20.7,7.52,10.84,58.84,26.25,17.67,3.09,19.32,19.02,15.37,15.51,36.07,0.76,19.74,16.43,1.71,15.97,7.03,10.74,12.98,24.84,30.39,22.77,29.5,13.53,35.74,23.19,25.13,11.2],\"yaxis\":\"y\",\"type\":\"scattergl\"},{\"hovertemplate\":\"Cancer Type=Hepatobiliary Cancer<br>Sex=Female<br>BMI=%{x}<br>Overall Survival (Months)=%{y}<extra></extra>\",\"legendgroup\":\"Hepatobiliary Cancer\",\"marker\":{\"color\":\"#ab63fa\",\"symbol\":\"circle\"},\"mode\":\"markers\",\"name\":\"Hepatobiliary Cancer\",\"showlegend\":false,\"x\":[32.889188733344575,30.477966223242138,35.492457852706295,21.78649237472767,17.75568181818182,27.993022029291247,40.68047337278106,42.192381029656374,17.77777777777778,22.76146753597469,30.11027889645828,37.87721123829344,56.1421772754313,30.48665738266401,19.37919743392696,25.315454293738377,25.605536332179934,25.15589569160998,20.932120124738347,19.650561749754367,15.807896420640597,20.17325264032277,20.504933999743688,23.61275088547816,26.25958474843318,27.475629493018182,21.192742415229034,20.28479857195018,30.116002379535995,26.986001011975038,38.36873541394723,23.620287912158062,20.775623268698062,22.4058769513315,26.82742078020452,20.06920415224914,16.979591836734695,21.9671201814059,33.74945565394107,33.91251333638164,27.33564013840831,32.86137368655929,32.718619869125526,22.20633068613798,131.8359375,20.796729893506402,31.20256367009614,19.382144693643447,35.294117647058826,25.654372397382513,18.314255983350673,26.314635323012148,29.585798816568044,30.666666666666668,24.83576349943919,23.422368361785505,24.0,16.97465375564214,24.67105263157895,27.303438382155587,26.159334126040427,23.507805325987146,24.87771968291449,22.666666666666668,21.218317194552675,22.151022507021082,25.153150229218223,18.19548277362446,18.017206432142697,23.828124999999996,23.046874999999996,16.58886617028664,16.43655489809336,21.907582457706194,19.555555555555557,23.140495867768596,16.528925619834713,29.752066115702483,37.42139577948381,23.661438615467823,20.576131687242793,22.948115744558788,20.07774787474903,19.473406629072173,22.832879346258608,30.844415958980928,30.116213151927443,23.011176857330703,28.650137741046834,35.15624999999999,26.709401709401707,44.28854875283447,26.037493991347535,25.816630212628635,22.375679950619187,31.22130394857668,18.612244897959183,22.151022507021082,27.993022029291247,26.40235457063712,22.321428571428577,21.64412070759625,28.353057199211044,35.924515235457065,28.650137741046834,44.98269896193772,22.892819979188342],\"xaxis\":\"x2\",\"y\":[63.7,83.18,24.87,27.86,56.87,18.23,11.73,38.37,20.8,14.75,1.51,69.51,44.38,45.89,0.26,22.34,18.46,13.44,8.21,2.86,11.3,9.17,0.0,79.66,112.91,51.25,66.26,19.78,12.94,33.02,18.33,27.17,55.65,19.74,70.01,102.66,107.03,30.58,33.11,90.21,21.68,30.12,30.49,29.53,0.3,80.68,9.3,23.03,22.77,35.64,114.26,13.47,76.35,3.52,51.31,5.62,4.5,18.53,40.05,40.51,3.78,35.64,35.02,34.46,18.23,18.23,19.97,4.63,23.62,28.06,9.72,0.2,12.81,13.14,13.4,13.34,1.84,19.58,12.02,0.03,0.33,51.02,53.75,30.72,14.85,20.76,13.53,0.89,2.14,1.02,37.68,31.24,12.71,20.99,21.02,27.86,10.32,11.33,0.99,20.2,18.27,43.99,33.84,25.69,35.84,0.69,12.98],\"yaxis\":\"y2\",\"type\":\"scattergl\"},{\"hovertemplate\":\"Cancer Type=Melanoma<br>Sex=Male<br>BMI=%{x}<br>Overall Survival (Months)=%{y}<extra></extra>\",\"legendgroup\":\"Melanoma\",\"marker\":{\"color\":\"#FFA15A\",\"symbol\":\"circle\"},\"mode\":\"markers\",\"name\":\"Melanoma\",\"showlegend\":true,\"x\":[25.46938775510204,20.305174833527424,34.638239421899726,25.46938775510204,23.054562464499313,32.787993510005414,33.20854969206617,28.40550435551067,28.703703703703702,25.43268595587264,26.122448979591837,24.38237297859371,25.05930702662969,27.763429752066116,25.95155709342561,25.71100826707804,32.60475787948315,39.012515214880935,26.448979591836736,26.448979591836736,46.04077897566415,31.28092182961473,29.387755102040817,29.387755102040817,41.19795471146822,30.367346938775512,23.589835468362743,20.902385858042937,36.89795918367347,21.798202394816204,27.68166089965398,40.16326530612245,26.880934989043094,24.489795918367346,34.256055363321806,25.90431010268094,28.734672057202044,23.98687034465345,22.093170054286073,26.54320987654321,33.576508653582,25.737081414967538,31.02493074792244,23.291229956104985,36.815193571950324,30.071168431955627,21.97735111870822,33.01680058436815,29.060607121599386,33.46403461330449,32.882414151925076,23.93948099205209,26.575890590940304,35.18518518518518,31.31456611570248,26.27728507868255,23.057725694444446,25.24933720489837,31.950789811579916,26.573129251700685,23.510204081632654,27.08415906989034,33.88174964134184,30.79338244173409,26.216410224399986,33.59374999999999,32.871972318339104,32.871972318339104,24.691358024691358,29.387755102040817,20.077334919690664,36.15702479338843,27.77427092538821,27.77427092538821,21.04804761213529,42.44897959183673,25.71166207529844,25.24933720489837,24.913494809688583,23.35633171360305,26.448979591836736,38.98865784499055,22.839506172839506,28.081632653061224,31.14186851211073,21.296296296296294,29.744199881023206,22.093170054286073,26.56683975365294,24.005486968449926,18.36547291092746,30.116213151927443,21.453287197231838,20.902385858042937,26.86873565994445,19.705532421177875,33.29864724245577,23.98687034465345,31.40766480670921,27.513384889946465,21.612811791383223,20.9572742022715,22.99262444384723,23.888440980620498,19.1358024691358,23.437499999999996,23.83300460223537,33.96239627464025,28.373702422145332,23.25501863821347,27.968016063681024,27.968016063681024,27.17063156623596,26.511804065143288,27.776910832995224,25.280109859242845,22.395413419331717,26.218820861678008,25.79591836734694,29.40778799351001,26.56683975365294,31.83391003460208,34.414781649904775,34.42217361683818,26.643598615916957,25.925925925925924,27.755102040816325,33.574380165289256,30.367346938775512,33.33333333333333,26.448979591836736,31.095278348025598,23.03875236294896,36.72839506172839,25.5649539199596,28.926223520818112,28.680111097693512,27.33564013840831,28.086419753086417,26.575890590940304,23.04002019946976,26.54320987654321,28.086419753086417,34.94809688581315,32.326530612244895,22.7189744005842,32.407407407407405,21.877551020408163,34.62603878116344,30.73941661933242,26.365603028664147],\"xaxis\":\"x\",\"y\":[17.02,66.43,12.98,9.26,27.3,19.74,23.09,10.61,10.74,14.45,14.59,13.44,13.3,11.01,10.68,14.68,16.66,112.48,71.75,71.75,28.06,31.57,90.83,90.83,43.4,103.02,65.44,23.75,115.44,11.86,62.02,42.05,12.09,59.53,130.62,null,166.39,13.86,9.33,103.52,39.72,55.68,null,56.31,145.01,32.92,63.76,125.69,137.81,18.17,16.0,125.1,30.81,79.53,26.41,58.48,241.2,170.07,89.06,107.06,152.63,29.04,117.08,167.58,151.41,3.65,18.1,18.1,15.37,17.05,6.24,7.16,18.43,18.43,25.16,77.5,22.93,144.78,35.91,88.8,68.04,34.13,20.76,21.19,12.42,1.28,26.15,21.35,9.13,8.61,14.49,-0.07,18.66,6.73,2.66,10.35,25.43,10.71,30.58,7.42,15.51,20.34,13.17,29.27,58.87,10.55,36.43,12.55,11.89,13.6,8.87,8.87,46.94,22.5,92.9,10.02,27.83,34.79,104.34,15.77,35.15,15.34,10.12,64.39,5.58,121.81,39.32,22.11,50.07,25.36,17.21,297.67,7.23,18.04,0.33,0.69,null,227.99,120.99,4.01,69.02,111.01,42.05,218.99,104.96,13.7,12.88,49.15,10.05,37.91,96.91],\"yaxis\":\"y\",\"type\":\"scattergl\"},{\"hovertemplate\":\"Cancer Type=Melanoma<br>Sex=Female<br>BMI=%{x}<br>Overall Survival (Months)=%{y}<extra></extra>\",\"legendgroup\":\"Melanoma\",\"marker\":{\"color\":\"#FFA15A\",\"symbol\":\"circle\"},\"mode\":\"markers\",\"name\":\"Melanoma\",\"showlegend\":false,\"x\":[22.656249999999996,27.343749999999996,21.077195227520797,25.71166207529844,24.83576349943919,23.53036634346221,30.48668503213958,21.874999999999996,19.531249999999996,19.723183391003463,26.83864765261977,22.481329065691202,34.54734651404786,27.33564013840831,39.798232218057294,21.453573713726524,29.40759637188209,31.640624999999993,32.690541781450875,26.44628099173554,28.604764951635367,25.43268595587264,27.68166089965398,31.22130394857668,27.43484224965706,49.07792980368829,32.34681737061273,27.548209366391188,49.1540923639689,55.47337278106508,22.95908765854944,31.615792841281195,39.81994459833795,24.38237297859371,43.438500228623674,27.99036281179139,23.507805325987146,24.740937287102444,29.761904761904766,32.34681737061273,33.59374999999999,22.679952409280194,24.221453287197235,32.690541781450875,25.15589569160998,29.744199881023206,24.83576349943919,23.030045351473927,25.802214299118038,23.555555555555557,18.611495844875346,25.282569898869724,19.81784449316917,17.77777777777778,29.40778799351001,27.68166089965398,18.42403628117914,28.040378144528116,21.971335857220122,25.30864197530864,21.98989236526368,23.243408017070564,19.841269841269845,22.86236854138088,37.49999999999999,22.86236854138088,44.92187499999999,21.484374999999996,18.666666666666668,46.45086369574685,31.231409875074366,17.63085399449036,25.393431120318084,31.95592286501378,27.414453692693883,26.171874999999996,33.15043438500228,30.844415958980928,35.083029837281565,31.58861340679523,38.10422412541733,24.023808670084982,28.479886080455675,22.892819979188342,24.242424242424246,27.94214332675871,34.0784616008763,18.517804097064154,37.52740765727779,38.85595257170325,33.59374999999999,18.670934308794386,18.289894833104707,29.340039628105465,20.82999519307803,28.055705786911847,25.605536332179934,24.023808670084982,29.000594883997625,29.000594883997625,21.936347412254616,21.338210638622158,24.999999999999996,32.04994797086368,22.8625344752504],\"xaxis\":\"x2\",\"y\":[12.71,0.46,28.02,15.24,25.26,23.55,11.01,16.1,15.64,14.91,10.45,16.56,111.96,133.15,95.66,167.87,86.7,27.63,113.44,171.45,66.43,66.03,null,58.02,46.94,46.29,86.86,60.18,24.51,45.27,174.7,22.6,26.87,135.64,178.19,23.59,160.87,null,129.53,54.63,7.1,22.27,16.59,9.89,53.88,38.11,5.91,4.14,10.71,9.56,23.69,24.34,13.86,20.89,32.1,20.37,25.53,8.67,19.38,14.91,12.12,68.2,53.98,25.59,7.03,11.56,19.97,12.81,0.56,11.83,12.09,null,15.7,19.15,220.63,18.76,38.24,36.24,17.44,13.5,19.42,2.04,139.78,62.75,32.46,47.96,37.98,10.41,21.35,59.36,368.5,0.2,null,62.98,0.36,13.53,12.91,13.3,13.24,13.24,6.9,null,14.42,27.56,15.97],\"yaxis\":\"y2\",\"type\":\"scattergl\"},{\"hovertemplate\":\"Cancer Type=Endometrial Cancer<br>Sex=Female<br>BMI=%{x}<br>Overall Survival (Months)=%{y}<extra></extra>\",\"legendgroup\":\"Endometrial Cancer\",\"marker\":{\"color\":\"#19d3f3\",\"symbol\":\"circle\"},\"mode\":\"markers\",\"name\":\"Endometrial Cancer\",\"showlegend\":true,\"x\":[28.804413972169254,28.959000152415786,39.25652940233936,32.769394909312595,20.904195011337873,25.969529085872576,23.507805325987146,18.749999999999996,27.717685235262305,31.14186851211073,44.811753902663,27.85200797922391,23.725286160249738,24.999999999999996,20.70081674131507,23.384353741496604,43.28352591365878,37.89062499999999,25.282569898869724,23.437499999999996,25.333333333333332,28.088991030674453,37.10937499999999,25.236340330075304,24.300733981352906,40.15466983938133,27.587326057852245,49.954086317722684,24.218749999999996,54.574880499830634,47.03433922996878,32.36854981369265,21.829952199932254,35.65133792661432,29.1363163371488,25.63691716071142,24.55775234131113,39.12591050988553,31.95592286501378,20.811654526534856,31.249999999999993,18.069727891156464,47.80006774812752,29.21010994360826,36.49376417233561,18.19548277362446,22.145328719723185,34.367913832199555,23.046874999999996,61.02839335180055,24.341758286340216,49.53173777315296,42.15439045504159,25.605536332179934,45.67474048442907,24.609733700642796,36.79016620498615,39.10034602076125,24.840980089578082,28.804413972169254,40.56959714390036,34.62682073092702,25.86451247165533,24.341758286340216,23.725286160249738,30.119375573921033,28.124999999999993,23.53036634346221,38.97392290249434,31.249999999999993,45.70312499999999,38.70967741935483,24.76756591982929,42.192381029656374,29.296874999999993,24.999999999999996,26.07897153351699,21.484374999999996,31.992171327486922,57.421874999999986,39.08350962745168,61.34067952249771,42.24058769513316,35.33859303090072,47.477324263038554,38.36873541394723,46.28099173553719,19.72386587771203,26.89232313815483,24.560326301478007,38.67187499999999,37.80718336483932,38.01956512452475,27.99036281179139,46.86785550983081,41.25941355551994,28.54828131630724,25.969529085872576,27.239224483255885,29.296874999999993,27.776706145596233,28.604764951635367,30.859607376561577,33.17773234057328,34.62603878116344,27.776706145596233,36.289737262302225,43.18478734213964,26.171874999999996,21.513858510523864,35.75595618954421,28.360351528307834,33.425160697887975,32.89473684210526,44.997165532879826,21.874999999999996,36.39096554724892,32.87310979618672,33.247876942797625,22.582709172343712,42.57812499999999,21.28742653523995,23.634033007530842,28.515624999999993,48.9292032067447,20.32443825510934,24.341758286340216,28.344671201814062,22.10028959000152,20.775623268698062,23.533042706685695,25.806451612903224,28.54828131630724,33.386558281318045,29.333333333333332,32.74492829989838,40.76313942998429,34.37499999999999,20.23950075898128,40.78768475066883,35.54687499999999,30.85399449035813,38.28124999999999,45.908722657304885,43.20820955981636,46.76870748299321,30.443839128344813,22.95908765854944,23.437499999999996,19.94805976890361,22.265624999999996,36.295922232041406,41.79687499999999,25.969529085872576,27.12031558185404,31.596260387811633,31.238589800803275,40.68047337278106,22.656249999999996,35.111111111111114,27.513384889946465,43.28352591365878,27.09925100681245,47.673469387755105,22.600262984878366,35.62901744719927,24.76756591982929,34.0784616008763,33.56351992592878,26.314635323012148,44.14062499999999,21.513858510523864,47.268066015061684,22.97193820098194,28.398718000730252,46.655036715485416,27.055150884495315,24.238227146814403,30.78090740428403,40.56959714390036,24.38652644413961,50.722012318203,31.634581999151262,48.909279778393355,30.11940191473341,38.28656366830323,48.909279778393355,23.828124999999996,19.721036967980208,38.366381010434225,21.513858510523864,31.20256367009614,25.153150229218223,25.2993759487266,34.85018426534209,31.1950948402596,24.456063417102378,40.507696462327836,38.062283737024224,42.16269841269842,54.87902579714788,34.11235302656409,40.036848072562364,23.738662131519277,33.15043438500228,49.60317460317461,38.64447086801427,33.22653376053162,32.718619869125526,28.577960676726104,47.3304887231525,21.612811791383223,23.828124999999996,25.390624999999996,29.319856487018246,19.100091827364558,30.078124999999993,49.04869269411811,34.62682073092702,59.37887137425776,29.72651605231867,36.388011107919176,33.94930751128428,31.533446712018144,47.87212462980242,26.40235457063712,28.804413972169254,38.39060559298431,27.734374999999993,24.005486968449926,28.393726338561386,29.384756657483933,26.854405574103644,20.36188625109908,31.577562387614577,23.335466144755166,25.10387811634349,31.431788328016516,41.370300479024536,40.39115646258504,56.249092756568444,29.642685467072578,39.7923875432526,26.609712545078956,37.98388162240719,33.20312499999999,28.303850156087407,57.203131972899506,33.21799307958478,42.97520661157025,26.92743764172336,29.296874999999993,30.614821360939274,23.80540166204986,39.84374999999999,81.64062499999999,36.32812499999999,38.4083044982699,56.19146722164411,23.828124999999996,57.34525215044696,37.09825528007347,32.42187499999999,37.09825528007347,25.390624999999996,25.86451247165533,29.43213296398892,40.83044982698962,49.826989619377166,56.01280292638316,37.72972534382733,67.95360110803324,40.03673094582186,33.13609467455621,44.44444444444445,43.40946894397339,22.476586888657646,28.577960676726104,23.828124999999996,32.00731595793324,43.65990439986451,36.13233467574994,25.153150229218223,47.3304887231525,31.249999999999993,42.13351643207141,45.7250689505008,44.997165532879826,46.80384550514421,31.16343490304709,24.87771968291449,24.87771968291449,45.3287197231834,33.74945565394107,32.46191135734072,53.44574504121345,31.615792841281195,31.912223457277065,43.40946894397339,40.03673094582186,38.95429362880886,31.468369660789488,35.37981269510926,32.242063492063494,24.088223117166624,22.20633068613798,38.08864265927978,21.6712580348944,24.242424242424246,28.373702422145332,34.256055363321806,27.700831024930746,26.377898098014718,21.64412070759625,39.446366782006926,35.15624999999999,28.133656509695292,39.68253968253969,35.26170798898072,33.6727656294373,35.294117647058826,34.484157572315304,34.25044224472129,36.32812499999999,29.053287981859416,40.40404040404041,22.375679950619187,28.720083246618103,42.97520661157025,23.051754907792983,32.52595155709343,26.643598615916957,21.504469556417607,36.44444444444444,38.505239237470015,26.666666666666668,26.953124999999996,46.28099173553719,25.209201358495854,48.82812499999999,41.23850730124392,28.084332107116012,34.602076124567475,38.163929834389556,26.555965935105768,31.16343490304709,28.959000152415786,35.294117647058826,34.01764170721095,56.1421772754313,25.2993759487266,36.51263742951032,25.05930702662969,31.615792841281195,42.938300964460296,37.04474505723204,35.71303525786913,39.54840454299622,41.53316720066453,22.481329065691202,35.083029837281565,39.45312499999999,35.74950690335305,26.370238143535232,24.690405462752206,33.70504499982072,22.939750692520775,36.19875019051973,32.928719008264466,41.91434232586495,31.24879441379576,28.303850156087407,31.64556962025316,34.42217361683818,37.42139577948381,41.57652785289346,53.44574504121345,48.62824793148498,23.80869017191275,46.28099173553719,42.57812499999999,32.83097978719196,30.824829931972793,39.767706097714935,40.78768475066883,38.28124999999999,34.41319568055061,34.367913832199555,35.59985760056959,47.46642865836342,30.86300682844026,43.82761139517896,31.22130394857668,24.96494647925858,47.77974539744061,28.344671201814062,49.44973230220108,24.67105263157895,30.470521541950117,26.92743764172336,23.337684427040067,46.68029782801589,33.3275623268698,33.6592970521542,35.751278024658355,31.80465784343901,52.029136316337144,49.24592182209911,23.722810651876106,44.273479460008716,25.476660092044707,36.32812499999999,33.20312499999999,37.65358699960365,31.22945430637738,41.765511711049484,29.721079103795148,26.48553974966893,34.72088268199529,42.457998539079625,30.477219243084754,34.894398530762174,27.209607806342657,31.17913832199547,34.51676528599605,22.939750692520775,26.22222222222222,24.238227146814403,29.43213296398892,28.566481994459835,26.84066824008515,34.666666666666664,18.02595737862522,28.256989886972047,39.79591836734694,22.939750692520775,32.17993079584775,24.46460160337235,26.48553974966893,20.92746730083234,43.51093706736284,37.27906670760054,19.140624999999996,34.42217361683818,32.049981743681286,37.832874196510566,26.07897153351699,40.484429065743946,25.344352617079892,33.20312499999999,41.01562499999999,24.3910588392529,28.804413972169254,31.22945430637738,28.841531805800347,29.752066115702483,34.159779614325075,23.9188302920412,24.801587301587304,35.15624999999999,29.017447199265384,36.48484302508896,26.953124999999996,33.87406375851557,26.22268470343392,32.03987184051263,34.527089072543625,17.361111111111114,47.61080332409972,36.73094582185492,25.79591836734694,25.333333333333332,32.882414151925076,35.492457852706295,22.321428571428577,42.38548483045807,39.1929162432864,27.18163008641324,27.180899908172638,27.005130974885226,32.02036958450677,40.39018442310623,21.64412070759625,47.56242568370987,54.07787213587565,58.81519274376418,42.15439045504159,35.93749999999999,34.894398530762174,32.95068027210885,32.42187499999999,37.52740765727779,28.666129176744597,27.180899908172638,33.07828527515119,32.326530612244895,34.68093539437178,31.14186851211073,53.77777777777778,33.856571252693136,35.26170798898072,20.70081674131507,35.81771071483005,22.837370242214536,46.84711481261155,26.753212578395683,32.74492829989838,31.64556962025316,30.102118579484827,50.51903114186852,32.42187499999999,35.43083900226758,28.604764951635367,26.573129251700685,213.49862258953166,46.76870748299321,31.553659148768332,46.25479579762631],\"xaxis\":\"x2\",\"y\":[41.03,0.43,39.49,10.28,106.8,149.44,46.91,36.99,83.44,17.84,32.75,112.45,105.29,123.59,74.05,88.11,65.7,60.48,60.48,46.52,73.82,36.79,28.25,53.98,23.19,68.59,37.88,17.58,19.58,24.61,29.04,28.75,42.31,15.93,31.96,31.96,36.3,33.05,30.12,118.1,66.1,28.61,24.7,34.92,25.49,14.95,11.2,18.4,16.82,20.24,10.25,21.12,19.78,29.37,35.12,34.33,34.13,18.1,18.07,null,18.89,33.87,1.64,14.65,22.47,22.24,17.05,20.8,36.96,20.63,21.19,15.6,10.18,15.34,15.93,14.75,16.85,16.85,16.36,22.31,12.81,20.76,2.69,35.09,0.13,129.7,21.98,110.55,23.29,86.01,48.0,57.75,45.5,36.86,23.85,12.61,20.89,125.33,117.9,110.28,93.92,66.2,36.33,97.63,46.68,83.9,27.1,82.46,33.38,61.6,80.72,95.4,49.18,25.07,71.62,90.9,55.85,31.27,35.51,46.75,49.11,6.7,60.18,45.83,27.83,51.08,21.88,36.1,0.56,13.57,33.18,29.66,80.49,88.17,71.45,35.32,45.96,79.4,49.84,67.61,12.25,57.42,27.37,29.99,60.61,61.04,35.71,37.75,43.79,40.08,77.33,13.27,32.88,34.63,25.49,26.35,32.0,25.89,34.07,76.77,85.41,73.36,80.19,37.55,36.37,23.03,4.76,30.09,71.19,40.77,61.14,81.31,34.3,46.45,27.86,38.21,17.74,30.72,2.96,31.11,64.88,0.23,0.2,-0.2,0.56,43.79,0.2,20.5,1.38,0.3,0.26,0.3,1.18,18.33,14.45,0.39,80.32,56.87,86.3,55.26,59.2,85.94,58.71,69.22,71.39,48.55,36.47,72.57,27.27,57.72,64.16,63.5,27.83,13.44,27.07,59.79,113.27,75.66,73.59,44.74,61.63,85.71,32.06,77.17,73.23,16.72,19.55,19.48,19.58,18.4,17.35,16.56,102.23,50.85,51.41,14.68,48.39,11.86,52.5,31.34,136.5,96.22,93.43,71.78,39.32,27.63,29.63,18.59,20.17,19.32,20.93,35.18,71.19,22.04,63.63,66.36,74.57,10.71,41.49,48.52,63.4,23.46,43.0,59.69,61.83,21.16,20.27,15.41,51.51,51.02,51.97,34.26,52.6,52.79,56.54,14.82,12.55,13.76,14.72,13.99,15.44,15.44,1.81,9.56,20.01,23.69,11.3,35.87,35.87,35.05,30.98,30.98,31.73,24.97,24.11,16.62,13.17,10.02,9.86,46.91,24.31,85.48,78.15,4.8,77.89,61.83,67.94,96.42,30.72,97.34,92.81,114.82,85.78,82.33,81.5,86.86,72.67,73.19,59.46,89.52,63.53,83.57,86.93,66.43,16.82,19.78,29.93,8.54,0.56,4.86,28.65,23.92,22.54,1.74,4.43,21.98,39.45,30.06,29.86,1.91,3.68,29.3,37.61,32.56,0.66,15.7,36.07,37.29,36.33,37.48,36.76,2.63,27.4,11.5,29.89,31.04,33.61,10.64,0.69,18.66,3.94,3.65,17.48,19.51,6.64,30.12,18.0,14.72,1.58,7.0,0.99,30.42,1.28,27.99,28.06,26.35,10.22,1.51,1.77,11.14,24.28,2.33,22.9,1.41,13.21,0.72,18.23,16.85,18.0,2.07,15.05,1.05,3.94,48.75,47.8,8.48,58.9,15.87,4.27,18.82,16.92,17.28,2.2,25.89,16.29,39.26,36.6,24.28,35.35,9.36,12.39,31.08,110.02,58.9,2.37,45.53,33.28,16.03,7.36,16.79,10.91,49.11,37.68,61.7,61.5,66.85,46.22,57.56,51.38,19.38,34.36,50.69,35.12,38.04,27.14,46.39,26.94,22.24,16.33,38.44,51.05,6.21,14.98,54.11,53.84,24.34,27.14,23.32,23.32,23.88,22.77,33.31,32.69,19.25,18.82,17.87,17.61,22.01,16.1,32.75,15.8,11.07,37.02,19.32,12.58,10.18,14.39,18.86,22.8,20.04,45.73,31.01,29.07,27.33,32.49,11.37,17.9,14.13,19.88,14.68,16.95,5.88,66.72,68.33,39.85,77.27,7.98,13.83,25.2,96.62,58.97,9.33,28.91,73.26,30.65,59.23,41.03,78.32,17.74,14.03,35.97,23.72,13.27,9.46,26.08,18.2,23.23,38.67,22.63,39.91,24.93,23.62,14.82,4.43,20.73,18.27,0.07,0.23],\"yaxis\":\"y2\",\"type\":\"scattergl\"}],                        {\"template\":{\"data\":{\"bar\":[{\"error_x\":{\"color\":\"#2a3f5f\"},\"error_y\":{\"color\":\"#2a3f5f\"},\"marker\":{\"line\":{\"color\":\"#E5ECF6\",\"width\":0.5},\"pattern\":{\"fillmode\":\"overlay\",\"size\":10,\"solidity\":0.2}},\"type\":\"bar\"}],\"barpolar\":[{\"marker\":{\"line\":{\"color\":\"#E5ECF6\",\"width\":0.5},\"pattern\":{\"fillmode\":\"overlay\",\"size\":10,\"solidity\":0.2}},\"type\":\"barpolar\"}],\"carpet\":[{\"aaxis\":{\"endlinecolor\":\"#2a3f5f\",\"gridcolor\":\"white\",\"linecolor\":\"white\",\"minorgridcolor\":\"white\",\"startlinecolor\":\"#2a3f5f\"},\"baxis\":{\"endlinecolor\":\"#2a3f5f\",\"gridcolor\":\"white\",\"linecolor\":\"white\",\"minorgridcolor\":\"white\",\"startlinecolor\":\"#2a3f5f\"},\"type\":\"carpet\"}],\"choropleth\":[{\"colorbar\":{\"outlinewidth\":0,\"ticks\":\"\"},\"type\":\"choropleth\"}],\"contour\":[{\"colorbar\":{\"outlinewidth\":0,\"ticks\":\"\"},\"colorscale\":[[0.0,\"#0d0887\"],[0.1111111111111111,\"#46039f\"],[0.2222222222222222,\"#7201a8\"],[0.3333333333333333,\"#9c179e\"],[0.4444444444444444,\"#bd3786\"],[0.5555555555555556,\"#d8576b\"],[0.6666666666666666,\"#ed7953\"],[0.7777777777777778,\"#fb9f3a\"],[0.8888888888888888,\"#fdca26\"],[1.0,\"#f0f921\"]],\"type\":\"contour\"}],\"contourcarpet\":[{\"colorbar\":{\"outlinewidth\":0,\"ticks\":\"\"},\"type\":\"contourcarpet\"}],\"heatmap\":[{\"colorbar\":{\"outlinewidth\":0,\"ticks\":\"\"},\"colorscale\":[[0.0,\"#0d0887\"],[0.1111111111111111,\"#46039f\"],[0.2222222222222222,\"#7201a8\"],[0.3333333333333333,\"#9c179e\"],[0.4444444444444444,\"#bd3786\"],[0.5555555555555556,\"#d8576b\"],[0.6666666666666666,\"#ed7953\"],[0.7777777777777778,\"#fb9f3a\"],[0.8888888888888888,\"#fdca26\"],[1.0,\"#f0f921\"]],\"type\":\"heatmap\"}],\"heatmapgl\":[{\"colorbar\":{\"outlinewidth\":0,\"ticks\":\"\"},\"colorscale\":[[0.0,\"#0d0887\"],[0.1111111111111111,\"#46039f\"],[0.2222222222222222,\"#7201a8\"],[0.3333333333333333,\"#9c179e\"],[0.4444444444444444,\"#bd3786\"],[0.5555555555555556,\"#d8576b\"],[0.6666666666666666,\"#ed7953\"],[0.7777777777777778,\"#fb9f3a\"],[0.8888888888888888,\"#fdca26\"],[1.0,\"#f0f921\"]],\"type\":\"heatmapgl\"}],\"histogram\":[{\"marker\":{\"pattern\":{\"fillmode\":\"overlay\",\"size\":10,\"solidity\":0.2}},\"type\":\"histogram\"}],\"histogram2d\":[{\"colorbar\":{\"outlinewidth\":0,\"ticks\":\"\"},\"colorscale\":[[0.0,\"#0d0887\"],[0.1111111111111111,\"#46039f\"],[0.2222222222222222,\"#7201a8\"],[0.3333333333333333,\"#9c179e\"],[0.4444444444444444,\"#bd3786\"],[0.5555555555555556,\"#d8576b\"],[0.6666666666666666,\"#ed7953\"],[0.7777777777777778,\"#fb9f3a\"],[0.8888888888888888,\"#fdca26\"],[1.0,\"#f0f921\"]],\"type\":\"histogram2d\"}],\"histogram2dcontour\":[{\"colorbar\":{\"outlinewidth\":0,\"ticks\":\"\"},\"colorscale\":[[0.0,\"#0d0887\"],[0.1111111111111111,\"#46039f\"],[0.2222222222222222,\"#7201a8\"],[0.3333333333333333,\"#9c179e\"],[0.4444444444444444,\"#bd3786\"],[0.5555555555555556,\"#d8576b\"],[0.6666666666666666,\"#ed7953\"],[0.7777777777777778,\"#fb9f3a\"],[0.8888888888888888,\"#fdca26\"],[1.0,\"#f0f921\"]],\"type\":\"histogram2dcontour\"}],\"mesh3d\":[{\"colorbar\":{\"outlinewidth\":0,\"ticks\":\"\"},\"type\":\"mesh3d\"}],\"parcoords\":[{\"line\":{\"colorbar\":{\"outlinewidth\":0,\"ticks\":\"\"}},\"type\":\"parcoords\"}],\"pie\":[{\"automargin\":true,\"type\":\"pie\"}],\"scatter\":[{\"marker\":{\"colorbar\":{\"outlinewidth\":0,\"ticks\":\"\"}},\"type\":\"scatter\"}],\"scatter3d\":[{\"line\":{\"colorbar\":{\"outlinewidth\":0,\"ticks\":\"\"}},\"marker\":{\"colorbar\":{\"outlinewidth\":0,\"ticks\":\"\"}},\"type\":\"scatter3d\"}],\"scattercarpet\":[{\"marker\":{\"colorbar\":{\"outlinewidth\":0,\"ticks\":\"\"}},\"type\":\"scattercarpet\"}],\"scattergeo\":[{\"marker\":{\"colorbar\":{\"outlinewidth\":0,\"ticks\":\"\"}},\"type\":\"scattergeo\"}],\"scattergl\":[{\"marker\":{\"colorbar\":{\"outlinewidth\":0,\"ticks\":\"\"}},\"type\":\"scattergl\"}],\"scattermapbox\":[{\"marker\":{\"colorbar\":{\"outlinewidth\":0,\"ticks\":\"\"}},\"type\":\"scattermapbox\"}],\"scatterpolar\":[{\"marker\":{\"colorbar\":{\"outlinewidth\":0,\"ticks\":\"\"}},\"type\":\"scatterpolar\"}],\"scatterpolargl\":[{\"marker\":{\"colorbar\":{\"outlinewidth\":0,\"ticks\":\"\"}},\"type\":\"scatterpolargl\"}],\"scatterternary\":[{\"marker\":{\"colorbar\":{\"outlinewidth\":0,\"ticks\":\"\"}},\"type\":\"scatterternary\"}],\"surface\":[{\"colorbar\":{\"outlinewidth\":0,\"ticks\":\"\"},\"colorscale\":[[0.0,\"#0d0887\"],[0.1111111111111111,\"#46039f\"],[0.2222222222222222,\"#7201a8\"],[0.3333333333333333,\"#9c179e\"],[0.4444444444444444,\"#bd3786\"],[0.5555555555555556,\"#d8576b\"],[0.6666666666666666,\"#ed7953\"],[0.7777777777777778,\"#fb9f3a\"],[0.8888888888888888,\"#fdca26\"],[1.0,\"#f0f921\"]],\"type\":\"surface\"}],\"table\":[{\"cells\":{\"fill\":{\"color\":\"#EBF0F8\"},\"line\":{\"color\":\"white\"}},\"header\":{\"fill\":{\"color\":\"#C8D4E3\"},\"line\":{\"color\":\"white\"}},\"type\":\"table\"}]},\"layout\":{\"annotationdefaults\":{\"arrowcolor\":\"#2a3f5f\",\"arrowhead\":0,\"arrowwidth\":1},\"autotypenumbers\":\"strict\",\"coloraxis\":{\"colorbar\":{\"outlinewidth\":0,\"ticks\":\"\"}},\"colorscale\":{\"diverging\":[[0,\"#8e0152\"],[0.1,\"#c51b7d\"],[0.2,\"#de77ae\"],[0.3,\"#f1b6da\"],[0.4,\"#fde0ef\"],[0.5,\"#f7f7f7\"],[0.6,\"#e6f5d0\"],[0.7,\"#b8e186\"],[0.8,\"#7fbc41\"],[0.9,\"#4d9221\"],[1,\"#276419\"]],\"sequential\":[[0.0,\"#0d0887\"],[0.1111111111111111,\"#46039f\"],[0.2222222222222222,\"#7201a8\"],[0.3333333333333333,\"#9c179e\"],[0.4444444444444444,\"#bd3786\"],[0.5555555555555556,\"#d8576b\"],[0.6666666666666666,\"#ed7953\"],[0.7777777777777778,\"#fb9f3a\"],[0.8888888888888888,\"#fdca26\"],[1.0,\"#f0f921\"]],\"sequentialminus\":[[0.0,\"#0d0887\"],[0.1111111111111111,\"#46039f\"],[0.2222222222222222,\"#7201a8\"],[0.3333333333333333,\"#9c179e\"],[0.4444444444444444,\"#bd3786\"],[0.5555555555555556,\"#d8576b\"],[0.6666666666666666,\"#ed7953\"],[0.7777777777777778,\"#fb9f3a\"],[0.8888888888888888,\"#fdca26\"],[1.0,\"#f0f921\"]]},\"colorway\":[\"#636efa\",\"#EF553B\",\"#00cc96\",\"#ab63fa\",\"#FFA15A\",\"#19d3f3\",\"#FF6692\",\"#B6E880\",\"#FF97FF\",\"#FECB52\"],\"font\":{\"color\":\"#2a3f5f\"},\"geo\":{\"bgcolor\":\"white\",\"lakecolor\":\"white\",\"landcolor\":\"#E5ECF6\",\"showlakes\":true,\"showland\":true,\"subunitcolor\":\"white\"},\"hoverlabel\":{\"align\":\"left\"},\"hovermode\":\"closest\",\"mapbox\":{\"style\":\"light\"},\"paper_bgcolor\":\"white\",\"plot_bgcolor\":\"#E5ECF6\",\"polar\":{\"angularaxis\":{\"gridcolor\":\"white\",\"linecolor\":\"white\",\"ticks\":\"\"},\"bgcolor\":\"#E5ECF6\",\"radialaxis\":{\"gridcolor\":\"white\",\"linecolor\":\"white\",\"ticks\":\"\"}},\"scene\":{\"xaxis\":{\"backgroundcolor\":\"#E5ECF6\",\"gridcolor\":\"white\",\"gridwidth\":2,\"linecolor\":\"white\",\"showbackground\":true,\"ticks\":\"\",\"zerolinecolor\":\"white\"},\"yaxis\":{\"backgroundcolor\":\"#E5ECF6\",\"gridcolor\":\"white\",\"gridwidth\":2,\"linecolor\":\"white\",\"showbackground\":true,\"ticks\":\"\",\"zerolinecolor\":\"white\"},\"zaxis\":{\"backgroundcolor\":\"#E5ECF6\",\"gridcolor\":\"white\",\"gridwidth\":2,\"linecolor\":\"white\",\"showbackground\":true,\"ticks\":\"\",\"zerolinecolor\":\"white\"}},\"shapedefaults\":{\"line\":{\"color\":\"#2a3f5f\"}},\"ternary\":{\"aaxis\":{\"gridcolor\":\"white\",\"linecolor\":\"white\",\"ticks\":\"\"},\"baxis\":{\"gridcolor\":\"white\",\"linecolor\":\"white\",\"ticks\":\"\"},\"bgcolor\":\"#E5ECF6\",\"caxis\":{\"gridcolor\":\"white\",\"linecolor\":\"white\",\"ticks\":\"\"}},\"title\":{\"x\":0.05},\"xaxis\":{\"automargin\":true,\"gridcolor\":\"white\",\"linecolor\":\"white\",\"ticks\":\"\",\"title\":{\"standoff\":15},\"zerolinecolor\":\"white\",\"zerolinewidth\":2},\"yaxis\":{\"automargin\":true,\"gridcolor\":\"white\",\"linecolor\":\"white\",\"ticks\":\"\",\"title\":{\"standoff\":15},\"zerolinecolor\":\"white\",\"zerolinewidth\":2}}},\"xaxis\":{\"anchor\":\"y\",\"domain\":[0.0,0.49],\"title\":{\"text\":\"BMI\"},\"range\":[10,70]},\"yaxis\":{\"anchor\":\"x\",\"domain\":[0.0,1.0],\"title\":{\"text\":\"Overall Survival (Months)\"},\"range\":[0,250]},\"xaxis2\":{\"anchor\":\"y2\",\"domain\":[0.51,1.0],\"matches\":\"x\",\"title\":{\"text\":\"BMI\"},\"range\":[10,70]},\"yaxis2\":{\"anchor\":\"x2\",\"domain\":[0.0,1.0],\"matches\":\"y\",\"showticklabels\":false},\"annotations\":[{\"font\":{},\"showarrow\":false,\"text\":\"Sex=Male\",\"x\":0.245,\"xanchor\":\"center\",\"xref\":\"paper\",\"y\":1.0,\"yanchor\":\"bottom\",\"yref\":\"paper\"},{\"font\":{},\"showarrow\":false,\"text\":\"Sex=Female\",\"x\":0.755,\"xanchor\":\"center\",\"xref\":\"paper\",\"y\":1.0,\"yanchor\":\"bottom\",\"yref\":\"paper\"}],\"legend\":{\"title\":{\"text\":\"Cancer Type\"},\"tracegroupgap\":0},\"margin\":{\"t\":60}},                        {\"responsive\": true}                    ).then(function(){\n",
              "                            \n",
              "var gd = document.getElementById('38ccba07-c16c-46f8-a435-096619ff8cd0');\n",
              "var x = new MutationObserver(function (mutations, observer) {{\n",
              "        var display = window.getComputedStyle(gd).display;\n",
              "        if (!display || display === 'none') {{\n",
              "            console.log([gd, 'removed!']);\n",
              "            Plotly.purge(gd);\n",
              "            observer.disconnect();\n",
              "        }}\n",
              "}});\n",
              "\n",
              "// Listen for the removal of the full notebook cells\n",
              "var notebookContainer = gd.closest('#notebook-container');\n",
              "if (notebookContainer) {{\n",
              "    x.observe(notebookContainer, {childList: true});\n",
              "}}\n",
              "\n",
              "// Listen for the clearing of the current output cell\n",
              "var outputEl = gd.closest('.output');\n",
              "if (outputEl) {{\n",
              "    x.observe(outputEl, {childList: true});\n",
              "}}\n",
              "\n",
              "                        })                };                            </script>        </div>\n",
              "</body>\n",
              "</html>"
            ]
          },
          "metadata": {}
        }
      ]
    },
    {
      "cell_type": "markdown",
      "source": [
        "# Statistical Analysis\n",
        "\n",
        "Next we will look at two cancer types associated with high BMI and run statistics for a comparison between gender, stage, and age. We will be using the Espphageal and the Endometrial dataset to run these statistics. We'll first pull a couple of preliminary percentages to look for what could be interesting, and then run formal statistics to see if it is significant."
      ],
      "metadata": {
        "id": "Cy5xbNgBQSrh"
      }
    },
    {
      "cell_type": "code",
      "source": [
        "#Function that takes a dataframe and returns a dictionary with the percent breakdown of each race\n",
        "def percentRace(df):\n",
        "  Af_Am = df.loc[df['Race Category'] == 'BLACK OR AFRICAN AMERICAN']\n",
        "  White = df.loc[df['Race Category'] == 'WHITE']\n",
        "  Asian = df.loc[df['Race Category'] == 'ASIAN']\n",
        "  Islander = df.loc[df['Race Category'] == 'NATIVE HAWAIIAN OR OTHER PACIFIC ISLANDER']\n",
        "  Native = df.loc[df['Race Category'] == 'AMERICAN INDIAN OR ALASKA NATIVE']\n",
        "  percent_Af_Am = len(Af_Am) / len(df)\n",
        "  percent_White = len(White) / len(df)\n",
        "  percent_Asian = len(Asian) / len(df)\n",
        "  percent_Islander = len(Islander) / len(df)\n",
        "  percent_Native = len(Native) / len(df)\n",
        "  dict = {}\n",
        "  dict['African_American'] = percent_Af_Am\n",
        "  dict['White'] = percent_White\n",
        "  dict['Asian'] = percent_Asian\n",
        "  dict['Native'] = percent_Native\n",
        "  dict['Islander'] = percent_Islander\n",
        "  return dict"
      ],
      "metadata": {
        "id": "TfeFqUpYz3PY"
      },
      "execution_count": null,
      "outputs": []
    },
    {
      "cell_type": "code",
      "source": [
        "#takes a dataframe and returns the percent of samples that are obese\n",
        "def percentObese(df):\n",
        "  count = df.loc[df['BMI'] > 30]\n",
        "  percent = len(count) / len(df)\n",
        "  return percent"
      ],
      "metadata": {
        "id": "HQxN1euCz-tu"
      },
      "execution_count": null,
      "outputs": []
    },
    {
      "cell_type": "code",
      "source": [
        "print(percentRace(combined))\n",
        "print(percentObese(combined))"
      ],
      "metadata": {
        "colab": {
          "base_uri": "https://localhost:8080/"
        },
        "id": "su8SM8UjIhyI",
        "outputId": "87b542d0-e867-43b6-f773-7f1f4ccd5be4"
      },
      "execution_count": null,
      "outputs": [
        {
          "output_type": "stream",
          "name": "stdout",
          "text": [
            "{'African_American': 0.10756972111553785, 'White': 0.6799468791500664, 'Asian': 0.15803452855245684, 'Native': 0.00398406374501992, 'Islander': 0.00597609561752988}\n",
            "0.37317397078353254\n"
          ]
        }
      ]
    },
    {
      "cell_type": "markdown",
      "source": [
        "#ESCA Analysis"
      ],
      "metadata": {
        "id": "iglkFCgF8kKy"
      }
    },
    {
      "cell_type": "markdown",
      "source": [
        "Before we begin perfroming statistical tests on the data we first need to create the data frames we want to work with. We also need to drop NA values from the BMI column. If you don't drop NA values you will get a NA value when you run the statistical test. We will first be running a Sex comparison so we need a separate dataframe for men and women. We also know that Esophageal adenocarcinoma is linked with BMI so we will filter the dataset for the cancer specifically."
      ],
      "metadata": {
        "id": "wqBoQF07F1Fu"
      }
    },
    {
      "cell_type": "code",
      "source": [
        "filtered_esca = esca_dataframe.loc[esca_dataframe['Cancer Type Detailed'] == 'Esophageal Adenocarcinoma']"
      ],
      "metadata": {
        "id": "srNh64P6ODTS",
        "outputId": "6449a6a7-b396-404c-ce06-4489b7cc6a17",
        "colab": {
          "base_uri": "https://localhost:8080/",
          "height": 141
        }
      },
      "execution_count": null,
      "outputs": [
        {
          "output_type": "error",
          "ename": "NameError",
          "evalue": "name 'esca_dataframe' is not defined",
          "traceback": [
            "\u001b[0;31m---------------------------------------------------------------------------\u001b[0m",
            "\u001b[0;31mNameError\u001b[0m                                 Traceback (most recent call last)",
            "\u001b[0;32m<ipython-input-1-be274773822a>\u001b[0m in \u001b[0;36m<cell line: 1>\u001b[0;34m()\u001b[0m\n\u001b[0;32m----> 1\u001b[0;31m \u001b[0mfiltered_esca\u001b[0m \u001b[0;34m=\u001b[0m \u001b[0mesca_dataframe\u001b[0m\u001b[0;34m.\u001b[0m\u001b[0mloc\u001b[0m\u001b[0;34m[\u001b[0m\u001b[0mesca_dataframe\u001b[0m\u001b[0;34m[\u001b[0m\u001b[0;34m'Cancer Type Detailed'\u001b[0m\u001b[0;34m]\u001b[0m \u001b[0;34m==\u001b[0m \u001b[0;34m'Esophageal Adenocarcinoma'\u001b[0m\u001b[0;34m]\u001b[0m\u001b[0;34m\u001b[0m\u001b[0;34m\u001b[0m\u001b[0m\n\u001b[0m",
            "\u001b[0;31mNameError\u001b[0m: name 'esca_dataframe' is not defined"
          ]
        }
      ]
    },
    {
      "cell_type": "code",
      "source": [
        "filtered_esca['BMI'] = filtered_esca.apply(calc_BMI,axis=1)"
      ],
      "metadata": {
        "id": "ZN836gu4TuS8"
      },
      "execution_count": null,
      "outputs": []
    },
    {
      "cell_type": "code",
      "source": [
        "esca_dataframe_all = esca_dataframe\n",
        "esca_dataframe_all['BMI'] = esca_dataframe_all.apply(calc_BMI,axis=1)"
      ],
      "metadata": {
        "id": "9h0u8F1Akr28"
      },
      "execution_count": null,
      "outputs": []
    },
    {
      "cell_type": "code",
      "source": [
        "esca_dataframe_nadrop = filtered_esca[filtered_esca['BMI'].notna()]"
      ],
      "metadata": {
        "id": "TxHY8nbT6Rj0"
      },
      "execution_count": null,
      "outputs": []
    },
    {
      "cell_type": "code",
      "source": [
        "esca_dataframe_nadrop_all = esca_dataframe_all[esca_dataframe_all['BMI'].notna()]"
      ],
      "metadata": {
        "id": "MGrKIjVckvhh"
      },
      "execution_count": null,
      "outputs": []
    },
    {
      "cell_type": "code",
      "source": [
        "female_esca_dataframe = esca_dataframe_nadrop.loc[esca_dataframe_nadrop['Sex'] == 'Female']"
      ],
      "metadata": {
        "id": "MAx2PDXt1QLQ"
      },
      "execution_count": null,
      "outputs": []
    },
    {
      "cell_type": "code",
      "source": [
        "male_esca_dataframe = esca_dataframe_nadrop.loc[esca_dataframe_nadrop['Sex'] == 'Male']"
      ],
      "metadata": {
        "id": "HChuEfDZ6XUH"
      },
      "execution_count": null,
      "outputs": []
    },
    {
      "cell_type": "markdown",
      "source": [
        "### Normality Comparison"
      ],
      "metadata": {
        "id": "QRAfu7Go52Hr"
      }
    },
    {
      "cell_type": "markdown",
      "source": [
        "A Shapiro test is used to determine if data can use the assumption of normality. Normality is important when running statistics because some tests, such as the t-test and ANOVA assume normality. If your data isn't normally distributed those tests are not suited to use on your data."
      ],
      "metadata": {
        "id": "o6J8TveiDrE1"
      }
    },
    {
      "cell_type": "code",
      "source": [
        "stats.shapiro(male_esca_dataframe['BMI'])"
      ],
      "metadata": {
        "id": "J8JQS0Nn548Q"
      },
      "execution_count": null,
      "outputs": []
    },
    {
      "cell_type": "code",
      "source": [
        "stats.shapiro(female_esca_dataframe['BMI'])"
      ],
      "metadata": {
        "id": "59MQ84CF6B_d"
      },
      "execution_count": null,
      "outputs": []
    },
    {
      "cell_type": "markdown",
      "source": [
        "Because half of our comparison is not normal according to the Shaprio Test we cannot use a parimetric test, therefore for our two variable comparison we will use the Mann-Whitney and for our multiple comparison we will use the Kruskal-Wallace."
      ],
      "metadata": {
        "id": "3A5R3XOrDwZv"
      }
    },
    {
      "cell_type": "markdown",
      "source": [
        "### Sex and BMI Comparison"
      ],
      "metadata": {
        "id": "xt9Kz1L35aqn"
      }
    },
    {
      "cell_type": "markdown",
      "source": [
        "After filtered the datasets between men and women we can run the Mann-Whitney test to see if BMI is significant based on gender."
      ],
      "metadata": {
        "id": "L_MYrONfPWDd"
      }
    },
    {
      "cell_type": "code",
      "source": [
        "stats.mannwhitneyu(x=male_esca_dataframe['BMI'], y=female_esca_dataframe['BMI'], alternative = 'two-sided')"
      ],
      "metadata": {
        "id": "B9kr62EE7uUH"
      },
      "execution_count": null,
      "outputs": []
    },
    {
      "cell_type": "markdown",
      "source": [
        "### Non-associated and Associated Comparison\n",
        "We also know that Esophageal Adenocarcinoma is specifcally known to be linked to obesity where as Esophageal Squamous Cell Carcinoma is not explicitly know to be linked. To explore this we filtered dataset creating one with the first cancer and one with the second. Using our normality comparison we know that a nonparametric test would be most fitting."
      ],
      "metadata": {
        "id": "2GobEsx2j93_"
      }
    },
    {
      "cell_type": "markdown",
      "source": [
        "#### Normality Comparison"
      ],
      "metadata": {
        "id": "NtYb_EAej94I"
      }
    },
    {
      "cell_type": "code",
      "source": [
        "squamous_cell_esca_dataframe = esca_dataframe_nadrop_all.loc[esca_dataframe_nadrop_all['Cancer Type Detailed'] == 'Esophageal Squamous Cell Carcinoma']"
      ],
      "metadata": {
        "id": "NiSr-dF0dtL8"
      },
      "execution_count": null,
      "outputs": []
    },
    {
      "cell_type": "code",
      "source": [
        "adenocarcinoma_esca_dataframe = esca_dataframe_nadrop_all.loc[esca_dataframe_nadrop_all['Cancer Type Detailed'] == 'Esophageal Adenocarcinoma']"
      ],
      "metadata": {
        "id": "xLmOFb3Vehv-"
      },
      "execution_count": null,
      "outputs": []
    },
    {
      "cell_type": "code",
      "source": [
        "stats.shapiro(squamous_cell_esca_dataframe['BMI'])"
      ],
      "metadata": {
        "id": "bnTasJnaj94I"
      },
      "execution_count": null,
      "outputs": []
    },
    {
      "cell_type": "code",
      "source": [
        "stats.shapiro(adenocarcinoma_esca_dataframe['BMI'])"
      ],
      "metadata": {
        "id": "YSWSbMWDj94I"
      },
      "execution_count": null,
      "outputs": []
    },
    {
      "cell_type": "markdown",
      "source": [
        "Since our Shaprio Test is significant we will be using the Mann-WhitneyU Test"
      ],
      "metadata": {
        "id": "tod_oFWrj94J"
      }
    },
    {
      "cell_type": "code",
      "source": [
        "stats.mannwhitneyu(squamous_cell_esca_dataframe['BMI'], adenocarcinoma_esca_dataframe['BMI'])"
      ],
      "metadata": {
        "id": "D9EMiET8j94J"
      },
      "execution_count": null,
      "outputs": []
    },
    {
      "cell_type": "markdown",
      "source": [
        "We can also visualize our data with a box plot"
      ],
      "metadata": {
        "id": "X3LxkcvyHVCL"
      }
    },
    {
      "cell_type": "code",
      "source": [
        "import plotly.express as px\n",
        "esca_combined = esca_dataframe_nadrop_all.loc[(esca_dataframe_nadrop_all['Cancer Type Detailed'] == 'Esophageal Squamous Cell Carcinoma') | (esca_dataframe_nadrop_all['Cancer Type Detailed'] == 'Esophageal Adenocarcinoma')]\n",
        "esca_box = px.box(esca_combined, x = 'Cancer Type Detailed', y = 'BMI', color = 'Cancer Type Detailed', title = 'Nonassociated and Associated Comparison', range_y = [0,80])\n",
        "esca_box.show()"
      ],
      "metadata": {
        "id": "3-yUIY0qGl40"
      },
      "execution_count": null,
      "outputs": []
    },
    {
      "cell_type": "markdown",
      "source": [
        "We can see that we have a significant p-value for the non-associated versus associated cancer type, meaning we are seeing a similar trend to our papers mentioned at the beginning."
      ],
      "metadata": {
        "id": "m2vJ0SPgl7Qn"
      }
    },
    {
      "cell_type": "markdown",
      "source": [
        "### Stage and BMI Comparison"
      ],
      "metadata": {
        "id": "OfHGNtLZT4j_"
      }
    },
    {
      "cell_type": "markdown",
      "source": [
        "To run a comparison between cancer stage and BMI we will need to split up the data into different dataframes for each stage. An easy way to do this is to use the .unique() function on the stage column. This will show you what the different stages are and then you can filter accordingly."
      ],
      "metadata": {
        "id": "awtpD101HCRl"
      }
    },
    {
      "cell_type": "code",
      "source": [
        "esca_dataframe['American Joint Committee on Cancer Tumor Stage Code'].unique()"
      ],
      "metadata": {
        "id": "VKNva25yT_V1"
      },
      "execution_count": null,
      "outputs": []
    },
    {
      "cell_type": "code",
      "source": [
        "\n",
        "esca_stage1 = esca_dataframe_nadrop.loc[esca_dataframe_nadrop['American Joint Committee on Cancer Tumor Stage Code'] == 'T1']\n",
        "esca_stage2 = esca_dataframe_nadrop.loc[esca_dataframe_nadrop['American Joint Committee on Cancer Tumor Stage Code'] == 'T2']\n",
        "esca_stage3 = esca_dataframe_nadrop.loc[esca_dataframe_nadrop['American Joint Committee on Cancer Tumor Stage Code'] == 'T3']\n",
        "esca_stage4 = esca_dataframe_nadrop.loc[(esca_dataframe_nadrop['American Joint Committee on Cancer Tumor Stage Code'] == 'T4') | (esca_dataframe_nadrop['American Joint Committee on Cancer Tumor Stage Code'] == 'T4a')]\n",
        "esca_stage0 = esca_dataframe_nadrop.loc[esca_dataframe_nadrop['American Joint Committee on Cancer Tumor Stage Code'] == 'T0']"
      ],
      "metadata": {
        "id": "_l5DklwvT7sc"
      },
      "execution_count": null,
      "outputs": []
    },
    {
      "cell_type": "markdown",
      "source": [
        "After filtering the dataframes you may want to check the length of each one. If there is a length of zero it will mess up the statistical test and you will get a NA value for your p-value. If all of your dataframes have a length of zero you probably went wrong filtering somewhere. You could also consider removing ones with a low count.  "
      ],
      "metadata": {
        "id": "QfJohFMmIakW"
      }
    },
    {
      "cell_type": "code",
      "source": [
        "print(len(esca_stage1))\n",
        "print(len(esca_stage2))\n",
        "print(len(esca_stage3))\n",
        "print(len(esca_stage4))\n",
        "print(len(esca_stage0))"
      ],
      "metadata": {
        "id": "XMPzAD3ZI6Xt"
      },
      "execution_count": null,
      "outputs": []
    },
    {
      "cell_type": "markdown",
      "source": [
        "We can now run the kruskal test using the BMI column from each of our filtered data sets. This will compare the BMIs between each of the stages to see if stage is significant."
      ],
      "metadata": {
        "id": "rZczn9_gPF3W"
      }
    },
    {
      "cell_type": "code",
      "source": [
        "stats.kruskal(esca_stage1['BMI'], esca_stage2['BMI'], esca_stage3['BMI'],  esca_stage4['BMI'], esca_stage0['BMI'] )"
      ],
      "metadata": {
        "id": "wLfpB-91T_xJ"
      },
      "execution_count": null,
      "outputs": []
    },
    {
      "cell_type": "markdown",
      "source": [
        "### Age and BMI Comparison\n"
      ],
      "metadata": {
        "id": "COB7cvJNUDkZ"
      }
    },
    {
      "cell_type": "markdown",
      "source": [
        "The age comparison will be very similar to the stage comparison, however the break up between dataframes will be more based on how you want to bin it. For this we did bins of five years, except for anything below 44 is all in one category."
      ],
      "metadata": {
        "id": "b8JO62OKJUqb"
      }
    },
    {
      "cell_type": "code",
      "source": [
        "esca_dataframe_nadrop['Diagnosis Age'].unique()"
      ],
      "metadata": {
        "id": "zWBBo1bgVqxh"
      },
      "execution_count": null,
      "outputs": []
    },
    {
      "cell_type": "code",
      "source": [
        "esca_age_40_44 = esca_dataframe_nadrop.loc[esca_dataframe_nadrop['Diagnosis Age'] <= 44]\n",
        "esca_age_45_49 = esca_dataframe_nadrop.loc[(esca_dataframe_nadrop['Diagnosis Age'] <= 49) & (esca_dataframe_nadrop['Diagnosis Age'] >= 45)]\n",
        "esca_age_50_54 =esca_dataframe_nadrop.loc[(esca_dataframe_nadrop['Diagnosis Age'] <= 54) & (esca_dataframe_nadrop['Diagnosis Age'] >= 50)]\n",
        "esca_age_55_59 = esca_dataframe_nadrop.loc[(esca_dataframe_nadrop['Diagnosis Age'] <= 59) & (esca_dataframe_nadrop['Diagnosis Age'] >= 55)]\n",
        "esca_age_60_64 = esca_dataframe_nadrop.loc[(esca_dataframe_nadrop['Diagnosis Age'] <= 64) & (esca_dataframe_nadrop['Diagnosis Age'] >= 60)]\n",
        "esca_age_65_69 =esca_dataframe_nadrop.loc[(esca_dataframe_nadrop['Diagnosis Age'] <= 69) & (esca_dataframe_nadrop['Diagnosis Age'] >= 65)]\n",
        "esca_age_70_74 = esca_dataframe_nadrop.loc[(esca_dataframe_nadrop['Diagnosis Age'] <= 74) & (esca_dataframe_nadrop['Diagnosis Age'] >= 70)]\n",
        "esca_age_75_79 =esca_dataframe_nadrop.loc[(esca_dataframe_nadrop['Diagnosis Age'] <= 79) & (esca_dataframe_nadrop['Diagnosis Age'] >= 75)]\n",
        "esca_age_80_84 =esca_dataframe_nadrop.loc[(esca_dataframe_nadrop['Diagnosis Age'] <= 84) & (esca_dataframe_nadrop['Diagnosis Age'] >= 80)]\n",
        "esca_age_85_89 = esca_dataframe_nadrop.loc[(esca_dataframe_nadrop['Diagnosis Age'] <= 89) & (esca_dataframe_nadrop['Diagnosis Age'] >= 85)]\n",
        "esca_age_90_94 = esca_dataframe_nadrop.loc[(esca_dataframe_nadrop['Diagnosis Age'] <= 94) & (esca_dataframe_nadrop['Diagnosis Age'] >= 90)]"
      ],
      "metadata": {
        "id": "0dgC6HabUGfv"
      },
      "execution_count": null,
      "outputs": []
    },
    {
      "cell_type": "code",
      "source": [
        "print(len(esca_age_40_44))\n",
        "print(len(esca_age_45_49))\n",
        "print(len(esca_age_50_54))\n",
        "print(len(esca_age_55_59))\n",
        "print(len(esca_age_70_74))\n",
        "print(len(esca_age_75_79))\n",
        "print(len(esca_age_80_84))\n",
        "print(len(esca_age_85_89))\n",
        "print(len(esca_age_90_94))"
      ],
      "metadata": {
        "id": "vU0Cgaw2JRaq"
      },
      "execution_count": null,
      "outputs": []
    },
    {
      "cell_type": "markdown",
      "source": [
        "We again will give the kruskal function the BMI column from each of our dataframes to perform the statistical test."
      ],
      "metadata": {
        "id": "RLUpp-1YPspZ"
      }
    },
    {
      "cell_type": "code",
      "source": [
        "stats.kruskal(esca_age_40_44['BMI'], esca_age_45_49['BMI'], esca_age_50_54['BMI'],  esca_age_55_59['BMI'],  esca_age_60_64['BMI'],esca_age_65_69['BMI'], esca_age_70_74['BMI'],esca_age_75_79['BMI'],esca_age_80_84['BMI'],esca_age_85_89['BMI'])"
      ],
      "metadata": {
        "id": "fGY2FnAjV0V-"
      },
      "execution_count": null,
      "outputs": []
    },
    {
      "cell_type": "markdown",
      "source": [
        "# UCEC Analysis\n",
        "Since Endometrial cancer is in the female reproductive organs a sex analysis would be impossible. Therefore this cancer will only have a stage and age comparison."
      ],
      "metadata": {
        "id": "N-3a1xsSEkfx"
      }
    },
    {
      "cell_type": "code",
      "source": [
        "bmi_endo = ucec_dataframe\n",
        "bmi_endo['BMI'] = bmi_endo.apply(calc_BMI,axis=1)"
      ],
      "metadata": {
        "id": "qDyyeSZ3UQU9"
      },
      "execution_count": null,
      "outputs": []
    },
    {
      "cell_type": "code",
      "source": [
        "ucec_dataframe_nadrop = bmi_endo[bmi_endo['BMI'].notna()]"
      ],
      "metadata": {
        "id": "l-pWsgf_BCH3"
      },
      "execution_count": null,
      "outputs": []
    },
    {
      "cell_type": "markdown",
      "source": [
        "### Non-associated and Associated Comparison\n",
        "We also know that Uterine Endometrioid Carcinoma is specifcally known to be linked to obesity where as Uterine Serous Carcinoma/Uterine Papillary Serous Carcinoma is primarily caused by a mutation in a gene. To explore this we filtered the UCEC dataset creating one with the first cancer and one with the second. Using our normality comparison we know that a nonparametric test would be most fitting."
      ],
      "metadata": {
        "id": "nyDcGG4nhqiR"
      }
    },
    {
      "cell_type": "markdown",
      "source": [
        "#### Normality Comparison"
      ],
      "metadata": {
        "id": "MXRoSbdYjY_r"
      }
    },
    {
      "cell_type": "code",
      "source": [
        "serous_ucec_dataframe = ucec_dataframe_nadrop.loc[ucec_dataframe_nadrop['Cancer Type Detailed'] == 'Uterine Serous Carcinoma/Uterine Papillary Serous Carcinoma']"
      ],
      "metadata": {
        "id": "oh4p4mYjcy5S"
      },
      "execution_count": null,
      "outputs": []
    },
    {
      "cell_type": "code",
      "source": [
        "endometriod_ucec_dataframe = ucec_dataframe_nadrop.loc[ucec_dataframe_nadrop['Cancer Type Detailed'] == 'Uterine Endometrioid Carcinoma']"
      ],
      "metadata": {
        "id": "DG6KXEF1c2G0"
      },
      "execution_count": null,
      "outputs": []
    },
    {
      "cell_type": "code",
      "source": [
        "stats.shapiro(serous_ucec_dataframe['BMI'])"
      ],
      "metadata": {
        "colab": {
          "base_uri": "https://localhost:8080/"
        },
        "id": "URxNkx0cjft7",
        "outputId": "ff27cb9c-4f0e-4d10-e09c-b7f4f726acd3"
      },
      "execution_count": null,
      "outputs": [
        {
          "output_type": "execute_result",
          "data": {
            "text/plain": [
              "ShapiroResult(statistic=0.920781672000885, pvalue=9.861155376711395e-06)"
            ]
          },
          "metadata": {},
          "execution_count": 46
        }
      ]
    },
    {
      "cell_type": "code",
      "source": [
        "stats.shapiro(endometriod_ucec_dataframe['BMI'])"
      ],
      "metadata": {
        "colab": {
          "base_uri": "https://localhost:8080/"
        },
        "id": "PMPKDlcWjrjD",
        "outputId": "5dd8b1fc-d532-45a8-c7fe-8f34c41c8cc6"
      },
      "execution_count": null,
      "outputs": [
        {
          "output_type": "execute_result",
          "data": {
            "text/plain": [
              "ShapiroResult(statistic=0.6416081190109253, pvalue=9.02367993905904e-28)"
            ]
          },
          "metadata": {},
          "execution_count": 47
        }
      ]
    },
    {
      "cell_type": "markdown",
      "source": [
        "Since our Shaprio Test is significant we will be using the Mann-WhitneyU Test"
      ],
      "metadata": {
        "id": "PhLtaJt6jutf"
      }
    },
    {
      "cell_type": "code",
      "source": [
        "stats.mannwhitneyu(serous_ucec_dataframe['BMI'], endometriod_ucec_dataframe['BMI'])"
      ],
      "metadata": {
        "colab": {
          "base_uri": "https://localhost:8080/"
        },
        "id": "kOIsGPhTdcY5",
        "outputId": "bbc67c8e-e749-41be-8263-c6f3739bf465"
      },
      "execution_count": null,
      "outputs": [
        {
          "output_type": "execute_result",
          "data": {
            "text/plain": [
              "MannwhitneyuResult(statistic=14265.0, pvalue=1.816098982562477e-06)"
            ]
          },
          "metadata": {},
          "execution_count": 13
        }
      ]
    },
    {
      "cell_type": "markdown",
      "source": [
        "We can also visualize our data with a box plot"
      ],
      "metadata": {
        "id": "RQd5BYQJHHIi"
      }
    },
    {
      "cell_type": "code",
      "source": [
        "import plotly.express as px\n",
        "endo_combined = ucec_dataframe_nadrop.loc[(ucec_dataframe_nadrop['Cancer Type Detailed'] == 'Uterine Endometrioid Carcinoma') | (ucec_dataframe_nadrop['Cancer Type Detailed'] == 'Uterine Serous Carcinoma/Uterine Papillary Serous Carcinoma')]\n",
        "ucec_box = px.box(endo_combined, x = 'Cancer Type Detailed', y = 'BMI', color = 'Cancer Type Detailed', title = 'Nonassociated and Associated Comparison', range_y = [0,80])\n",
        "ucec_box.show()"
      ],
      "metadata": {
        "colab": {
          "base_uri": "https://localhost:8080/",
          "height": 542
        },
        "id": "VqnYKbELFjSJ",
        "outputId": "7fbc1a20-1761-4ed2-e3bb-6b08fd5ec567"
      },
      "execution_count": null,
      "outputs": [
        {
          "output_type": "display_data",
          "data": {
            "text/html": [
              "<html>\n",
              "<head><meta charset=\"utf-8\" /></head>\n",
              "<body>\n",
              "    <div>            <script src=\"https://cdnjs.cloudflare.com/ajax/libs/mathjax/2.7.5/MathJax.js?config=TeX-AMS-MML_SVG\"></script><script type=\"text/javascript\">if (window.MathJax) {MathJax.Hub.Config({SVG: {font: \"STIX-Web\"}});}</script>                <script type=\"text/javascript\">window.PlotlyConfig = {MathJaxConfig: 'local'};</script>\n",
              "        <script src=\"https://cdn.plot.ly/plotly-2.8.3.min.js\"></script>                <div id=\"a7f862d2-dcb3-45f4-b517-732113221459\" class=\"plotly-graph-div\" style=\"height:525px; width:100%;\"></div>            <script type=\"text/javascript\">                                    window.PLOTLYENV=window.PLOTLYENV || {};                                    if (document.getElementById(\"a7f862d2-dcb3-45f4-b517-732113221459\")) {                    Plotly.newPlot(                        \"a7f862d2-dcb3-45f4-b517-732113221459\",                        [{\"alignmentgroup\":\"True\",\"hovertemplate\":\"Cancer Type Detailed=%{x}<br>BMI=%{y}<extra></extra>\",\"legendgroup\":\"Uterine Endometrioid Carcinoma\",\"marker\":{\"color\":\"#636efa\"},\"name\":\"Uterine Endometrioid Carcinoma\",\"notched\":false,\"offsetgroup\":\"Uterine Endometrioid Carcinoma\",\"orientation\":\"v\",\"showlegend\":true,\"x\":[\"Uterine Endometrioid Carcinoma\",\"Uterine Endometrioid Carcinoma\",\"Uterine Endometrioid Carcinoma\",\"Uterine Endometrioid Carcinoma\",\"Uterine Endometrioid Carcinoma\",\"Uterine Endometrioid Carcinoma\",\"Uterine Endometrioid Carcinoma\",\"Uterine Endometrioid Carcinoma\",\"Uterine Endometrioid Carcinoma\",\"Uterine Endometrioid Carcinoma\",\"Uterine Endometrioid Carcinoma\",\"Uterine Endometrioid Carcinoma\",\"Uterine Endometrioid Carcinoma\",\"Uterine Endometrioid Carcinoma\",\"Uterine Endometrioid Carcinoma\",\"Uterine Endometrioid Carcinoma\",\"Uterine Endometrioid Carcinoma\",\"Uterine Endometrioid Carcinoma\",\"Uterine Endometrioid Carcinoma\",\"Uterine Endometrioid Carcinoma\",\"Uterine Endometrioid Carcinoma\",\"Uterine Endometrioid Carcinoma\",\"Uterine Endometrioid Carcinoma\",\"Uterine Endometrioid Carcinoma\",\"Uterine Endometrioid Carcinoma\",\"Uterine Endometrioid Carcinoma\",\"Uterine Endometrioid Carcinoma\",\"Uterine Endometrioid Carcinoma\",\"Uterine Endometrioid Carcinoma\",\"Uterine Endometrioid Carcinoma\",\"Uterine Endometrioid Carcinoma\",\"Uterine Endometrioid Carcinoma\",\"Uterine Endometrioid Carcinoma\",\"Uterine Endometrioid Carcinoma\",\"Uterine Endometrioid Carcinoma\",\"Uterine Endometrioid Carcinoma\",\"Uterine Endometrioid Carcinoma\",\"Uterine Endometrioid Carcinoma\",\"Uterine Endometrioid Carcinoma\",\"Uterine Endometrioid Carcinoma\",\"Uterine Endometrioid Carcinoma\",\"Uterine Endometrioid Carcinoma\",\"Uterine Endometrioid Carcinoma\",\"Uterine Endometrioid Carcinoma\",\"Uterine Endometrioid Carcinoma\",\"Uterine Endometrioid Carcinoma\",\"Uterine Endometrioid Carcinoma\",\"Uterine Endometrioid Carcinoma\",\"Uterine Endometrioid Carcinoma\",\"Uterine Endometrioid Carcinoma\",\"Uterine Endometrioid Carcinoma\",\"Uterine Endometrioid Carcinoma\",\"Uterine Endometrioid Carcinoma\",\"Uterine Endometrioid Carcinoma\",\"Uterine Endometrioid Carcinoma\",\"Uterine Endometrioid Carcinoma\",\"Uterine Endometrioid Carcinoma\",\"Uterine Endometrioid Carcinoma\",\"Uterine Endometrioid Carcinoma\",\"Uterine Endometrioid Carcinoma\",\"Uterine Endometrioid Carcinoma\",\"Uterine Endometrioid Carcinoma\",\"Uterine Endometrioid Carcinoma\",\"Uterine Endometrioid Carcinoma\",\"Uterine Endometrioid Carcinoma\",\"Uterine Endometrioid Carcinoma\",\"Uterine Endometrioid Carcinoma\",\"Uterine Endometrioid Carcinoma\",\"Uterine Endometrioid Carcinoma\",\"Uterine Endometrioid Carcinoma\",\"Uterine Endometrioid Carcinoma\",\"Uterine Endometrioid Carcinoma\",\"Uterine Endometrioid Carcinoma\",\"Uterine Endometrioid Carcinoma\",\"Uterine Endometrioid Carcinoma\",\"Uterine Endometrioid Carcinoma\",\"Uterine Endometrioid Carcinoma\",\"Uterine Endometrioid Carcinoma\",\"Uterine Endometrioid Carcinoma\",\"Uterine Endometrioid Carcinoma\",\"Uterine Endometrioid Carcinoma\",\"Uterine Endometrioid Carcinoma\",\"Uterine Endometrioid Carcinoma\",\"Uterine Endometrioid Carcinoma\",\"Uterine Endometrioid Carcinoma\",\"Uterine Endometrioid Carcinoma\",\"Uterine Endometrioid Carcinoma\",\"Uterine Endometrioid Carcinoma\",\"Uterine Endometrioid Carcinoma\",\"Uterine Endometrioid Carcinoma\",\"Uterine Endometrioid Carcinoma\",\"Uterine Endometrioid Carcinoma\",\"Uterine Endometrioid Carcinoma\",\"Uterine Endometrioid Carcinoma\",\"Uterine Endometrioid Carcinoma\",\"Uterine Endometrioid Carcinoma\",\"Uterine Endometrioid Carcinoma\",\"Uterine Endometrioid Carcinoma\",\"Uterine Endometrioid Carcinoma\",\"Uterine Endometrioid Carcinoma\",\"Uterine Endometrioid Carcinoma\",\"Uterine Endometrioid Carcinoma\",\"Uterine Endometrioid Carcinoma\",\"Uterine Endometrioid Carcinoma\",\"Uterine Endometrioid Carcinoma\",\"Uterine Endometrioid Carcinoma\",\"Uterine Endometrioid Carcinoma\",\"Uterine Endometrioid Carcinoma\",\"Uterine Endometrioid Carcinoma\",\"Uterine Endometrioid Carcinoma\",\"Uterine Endometrioid Carcinoma\",\"Uterine Endometrioid Carcinoma\",\"Uterine Endometrioid Carcinoma\",\"Uterine Endometrioid Carcinoma\",\"Uterine Endometrioid Carcinoma\",\"Uterine Endometrioid Carcinoma\",\"Uterine Endometrioid Carcinoma\",\"Uterine Endometrioid Carcinoma\",\"Uterine Endometrioid Carcinoma\",\"Uterine Endometrioid Carcinoma\",\"Uterine Endometrioid Carcinoma\",\"Uterine Endometrioid Carcinoma\",\"Uterine Endometrioid Carcinoma\",\"Uterine Endometrioid Carcinoma\",\"Uterine Endometrioid Carcinoma\",\"Uterine Endometrioid Carcinoma\",\"Uterine Endometrioid Carcinoma\",\"Uterine Endometrioid Carcinoma\",\"Uterine Endometrioid Carcinoma\",\"Uterine Endometrioid Carcinoma\",\"Uterine Endometrioid Carcinoma\",\"Uterine Endometrioid Carcinoma\",\"Uterine Endometrioid Carcinoma\",\"Uterine Endometrioid Carcinoma\",\"Uterine Endometrioid Carcinoma\",\"Uterine Endometrioid Carcinoma\",\"Uterine Endometrioid Carcinoma\",\"Uterine Endometrioid Carcinoma\",\"Uterine Endometrioid Carcinoma\",\"Uterine Endometrioid Carcinoma\",\"Uterine Endometrioid Carcinoma\",\"Uterine Endometrioid Carcinoma\",\"Uterine Endometrioid Carcinoma\",\"Uterine Endometrioid Carcinoma\",\"Uterine Endometrioid Carcinoma\",\"Uterine Endometrioid Carcinoma\",\"Uterine Endometrioid Carcinoma\",\"Uterine Endometrioid Carcinoma\",\"Uterine Endometrioid Carcinoma\",\"Uterine Endometrioid Carcinoma\",\"Uterine Endometrioid Carcinoma\",\"Uterine Endometrioid Carcinoma\",\"Uterine Endometrioid Carcinoma\",\"Uterine Endometrioid Carcinoma\",\"Uterine Endometrioid Carcinoma\",\"Uterine Endometrioid Carcinoma\",\"Uterine Endometrioid Carcinoma\",\"Uterine Endometrioid Carcinoma\",\"Uterine Endometrioid Carcinoma\",\"Uterine Endometrioid Carcinoma\",\"Uterine Endometrioid Carcinoma\",\"Uterine Endometrioid Carcinoma\",\"Uterine Endometrioid Carcinoma\",\"Uterine Endometrioid Carcinoma\",\"Uterine Endometrioid Carcinoma\",\"Uterine Endometrioid Carcinoma\",\"Uterine Endometrioid Carcinoma\",\"Uterine Endometrioid Carcinoma\",\"Uterine Endometrioid Carcinoma\",\"Uterine Endometrioid Carcinoma\",\"Uterine Endometrioid Carcinoma\",\"Uterine Endometrioid Carcinoma\",\"Uterine Endometrioid Carcinoma\",\"Uterine Endometrioid Carcinoma\",\"Uterine Endometrioid Carcinoma\",\"Uterine Endometrioid Carcinoma\",\"Uterine Endometrioid Carcinoma\",\"Uterine Endometrioid Carcinoma\",\"Uterine Endometrioid Carcinoma\",\"Uterine Endometrioid Carcinoma\",\"Uterine Endometrioid Carcinoma\",\"Uterine Endometrioid Carcinoma\",\"Uterine Endometrioid Carcinoma\",\"Uterine Endometrioid Carcinoma\",\"Uterine Endometrioid Carcinoma\",\"Uterine Endometrioid Carcinoma\",\"Uterine Endometrioid Carcinoma\",\"Uterine Endometrioid Carcinoma\",\"Uterine Endometrioid Carcinoma\",\"Uterine Endometrioid Carcinoma\",\"Uterine Endometrioid Carcinoma\",\"Uterine Endometrioid Carcinoma\",\"Uterine Endometrioid Carcinoma\",\"Uterine Endometrioid Carcinoma\",\"Uterine Endometrioid Carcinoma\",\"Uterine Endometrioid Carcinoma\",\"Uterine Endometrioid Carcinoma\",\"Uterine Endometrioid Carcinoma\",\"Uterine Endometrioid Carcinoma\",\"Uterine Endometrioid Carcinoma\",\"Uterine Endometrioid Carcinoma\",\"Uterine Endometrioid Carcinoma\",\"Uterine Endometrioid Carcinoma\",\"Uterine Endometrioid Carcinoma\",\"Uterine Endometrioid Carcinoma\",\"Uterine Endometrioid Carcinoma\",\"Uterine Endometrioid Carcinoma\",\"Uterine Endometrioid Carcinoma\",\"Uterine Endometrioid Carcinoma\",\"Uterine Endometrioid Carcinoma\",\"Uterine Endometrioid Carcinoma\",\"Uterine Endometrioid Carcinoma\",\"Uterine Endometrioid Carcinoma\",\"Uterine Endometrioid Carcinoma\",\"Uterine Endometrioid Carcinoma\",\"Uterine Endometrioid Carcinoma\",\"Uterine Endometrioid Carcinoma\",\"Uterine Endometrioid Carcinoma\",\"Uterine Endometrioid Carcinoma\",\"Uterine Endometrioid Carcinoma\",\"Uterine Endometrioid Carcinoma\",\"Uterine Endometrioid Carcinoma\",\"Uterine Endometrioid Carcinoma\",\"Uterine Endometrioid Carcinoma\",\"Uterine Endometrioid Carcinoma\",\"Uterine Endometrioid Carcinoma\",\"Uterine Endometrioid Carcinoma\",\"Uterine Endometrioid Carcinoma\",\"Uterine Endometrioid Carcinoma\",\"Uterine Endometrioid Carcinoma\",\"Uterine Endometrioid Carcinoma\",\"Uterine Endometrioid Carcinoma\",\"Uterine Endometrioid Carcinoma\",\"Uterine Endometrioid Carcinoma\",\"Uterine Endometrioid Carcinoma\",\"Uterine Endometrioid Carcinoma\",\"Uterine Endometrioid Carcinoma\",\"Uterine Endometrioid Carcinoma\",\"Uterine Endometrioid Carcinoma\",\"Uterine Endometrioid Carcinoma\",\"Uterine Endometrioid Carcinoma\",\"Uterine Endometrioid Carcinoma\",\"Uterine Endometrioid Carcinoma\",\"Uterine Endometrioid Carcinoma\",\"Uterine Endometrioid Carcinoma\",\"Uterine Endometrioid Carcinoma\",\"Uterine Endometrioid Carcinoma\",\"Uterine Endometrioid Carcinoma\",\"Uterine Endometrioid Carcinoma\",\"Uterine Endometrioid Carcinoma\",\"Uterine Endometrioid Carcinoma\",\"Uterine Endometrioid Carcinoma\",\"Uterine Endometrioid Carcinoma\",\"Uterine Endometrioid Carcinoma\",\"Uterine Endometrioid Carcinoma\",\"Uterine Endometrioid Carcinoma\",\"Uterine Endometrioid Carcinoma\",\"Uterine Endometrioid Carcinoma\",\"Uterine Endometrioid Carcinoma\",\"Uterine Endometrioid Carcinoma\",\"Uterine Endometrioid Carcinoma\",\"Uterine Endometrioid Carcinoma\",\"Uterine Endometrioid Carcinoma\",\"Uterine Endometrioid Carcinoma\",\"Uterine Endometrioid Carcinoma\",\"Uterine Endometrioid Carcinoma\",\"Uterine Endometrioid Carcinoma\",\"Uterine Endometrioid Carcinoma\",\"Uterine Endometrioid Carcinoma\",\"Uterine Endometrioid Carcinoma\",\"Uterine Endometrioid Carcinoma\",\"Uterine Endometrioid Carcinoma\",\"Uterine Endometrioid Carcinoma\",\"Uterine Endometrioid Carcinoma\",\"Uterine Endometrioid Carcinoma\",\"Uterine Endometrioid Carcinoma\",\"Uterine Endometrioid Carcinoma\",\"Uterine Endometrioid Carcinoma\",\"Uterine Endometrioid Carcinoma\",\"Uterine Endometrioid Carcinoma\",\"Uterine Endometrioid Carcinoma\",\"Uterine Endometrioid Carcinoma\",\"Uterine Endometrioid Carcinoma\",\"Uterine Endometrioid Carcinoma\",\"Uterine Endometrioid Carcinoma\",\"Uterine Endometrioid Carcinoma\",\"Uterine Endometrioid Carcinoma\",\"Uterine Endometrioid Carcinoma\",\"Uterine Endometrioid Carcinoma\",\"Uterine Endometrioid Carcinoma\",\"Uterine Endometrioid Carcinoma\",\"Uterine Endometrioid Carcinoma\",\"Uterine Endometrioid Carcinoma\",\"Uterine Endometrioid Carcinoma\",\"Uterine Endometrioid Carcinoma\",\"Uterine Endometrioid Carcinoma\",\"Uterine Endometrioid Carcinoma\",\"Uterine Endometrioid Carcinoma\",\"Uterine Endometrioid Carcinoma\",\"Uterine Endometrioid Carcinoma\",\"Uterine Endometrioid Carcinoma\",\"Uterine Endometrioid Carcinoma\",\"Uterine Endometrioid Carcinoma\",\"Uterine Endometrioid Carcinoma\",\"Uterine Endometrioid Carcinoma\",\"Uterine Endometrioid Carcinoma\",\"Uterine Endometrioid Carcinoma\",\"Uterine Endometrioid Carcinoma\",\"Uterine Endometrioid Carcinoma\",\"Uterine Endometrioid Carcinoma\",\"Uterine Endometrioid Carcinoma\",\"Uterine Endometrioid Carcinoma\",\"Uterine Endometrioid Carcinoma\",\"Uterine Endometrioid Carcinoma\",\"Uterine Endometrioid Carcinoma\",\"Uterine Endometrioid Carcinoma\",\"Uterine Endometrioid Carcinoma\",\"Uterine Endometrioid Carcinoma\",\"Uterine Endometrioid Carcinoma\",\"Uterine Endometrioid Carcinoma\",\"Uterine Endometrioid Carcinoma\",\"Uterine Endometrioid Carcinoma\",\"Uterine Endometrioid Carcinoma\",\"Uterine Endometrioid Carcinoma\",\"Uterine Endometrioid Carcinoma\",\"Uterine Endometrioid Carcinoma\",\"Uterine Endometrioid Carcinoma\",\"Uterine Endometrioid Carcinoma\",\"Uterine Endometrioid Carcinoma\",\"Uterine Endometrioid Carcinoma\",\"Uterine Endometrioid Carcinoma\",\"Uterine Endometrioid Carcinoma\",\"Uterine Endometrioid Carcinoma\",\"Uterine Endometrioid Carcinoma\",\"Uterine Endometrioid Carcinoma\",\"Uterine Endometrioid Carcinoma\",\"Uterine Endometrioid Carcinoma\",\"Uterine Endometrioid Carcinoma\",\"Uterine Endometrioid Carcinoma\",\"Uterine Endometrioid Carcinoma\",\"Uterine Endometrioid Carcinoma\",\"Uterine Endometrioid Carcinoma\",\"Uterine Endometrioid Carcinoma\",\"Uterine Endometrioid Carcinoma\",\"Uterine Endometrioid Carcinoma\",\"Uterine Endometrioid Carcinoma\",\"Uterine Endometrioid Carcinoma\",\"Uterine Endometrioid Carcinoma\",\"Uterine Endometrioid Carcinoma\",\"Uterine Endometrioid Carcinoma\",\"Uterine Endometrioid Carcinoma\",\"Uterine Endometrioid Carcinoma\",\"Uterine Endometrioid Carcinoma\",\"Uterine Endometrioid Carcinoma\",\"Uterine Endometrioid Carcinoma\",\"Uterine Endometrioid Carcinoma\",\"Uterine Endometrioid Carcinoma\",\"Uterine Endometrioid Carcinoma\",\"Uterine Endometrioid Carcinoma\",\"Uterine Endometrioid Carcinoma\",\"Uterine Endometrioid Carcinoma\",\"Uterine Endometrioid Carcinoma\",\"Uterine Endometrioid Carcinoma\",\"Uterine Endometrioid Carcinoma\",\"Uterine Endometrioid Carcinoma\",\"Uterine Endometrioid Carcinoma\",\"Uterine Endometrioid Carcinoma\",\"Uterine Endometrioid Carcinoma\",\"Uterine Endometrioid Carcinoma\",\"Uterine Endometrioid Carcinoma\",\"Uterine Endometrioid Carcinoma\",\"Uterine Endometrioid Carcinoma\",\"Uterine Endometrioid Carcinoma\",\"Uterine Endometrioid Carcinoma\",\"Uterine Endometrioid Carcinoma\",\"Uterine Endometrioid Carcinoma\",\"Uterine Endometrioid Carcinoma\",\"Uterine Endometrioid Carcinoma\",\"Uterine Endometrioid Carcinoma\",\"Uterine Endometrioid Carcinoma\",\"Uterine Endometrioid Carcinoma\",\"Uterine Endometrioid Carcinoma\",\"Uterine Endometrioid Carcinoma\",\"Uterine Endometrioid Carcinoma\",\"Uterine Endometrioid Carcinoma\",\"Uterine Endometrioid Carcinoma\",\"Uterine Endometrioid Carcinoma\",\"Uterine Endometrioid Carcinoma\",\"Uterine Endometrioid Carcinoma\",\"Uterine Endometrioid Carcinoma\"],\"x0\":\" \",\"xaxis\":\"x\",\"y\":[28.959000152415786,39.25652940233936,32.769394909312595,27.717685235262305,31.14186851211073,44.811753902663,27.85200797922391,23.725286160249738,24.999999999999996,20.70081674131507,23.384353741496604,43.28352591365878,37.89062499999999,25.282569898869724,23.437499999999996,25.333333333333332,28.088991030674453,37.10937499999999,25.236340330075304,24.300733981352906,40.15466983938133,49.954086317722684,24.218749999999996,54.574880499830634,47.03433922996878,32.36854981369265,21.829952199932254,35.65133792661432,39.12591050988553,31.95592286501378,47.80006774812752,29.21010994360826,36.49376417233561,22.145328719723185,23.046874999999996,24.341758286340216,49.53173777315296,42.15439045504159,45.67474048442907,24.609733700642796,28.804413972169254,40.56959714390036,34.62682073092702,24.341758286340216,23.725286160249738,30.119375573921033,28.124999999999993,38.97392290249434,31.249999999999993,42.192381029656374,24.999999999999996,57.421874999999986,39.08350962745168,61.34067952249771,42.24058769513316,35.33859303090072,47.477324263038554,38.36873541394723,19.72386587771203,26.89232313815483,24.560326301478007,38.67187499999999,46.86785550983081,41.25941355551994,28.54828131630724,27.239224483255885,29.296874999999993,27.776706145596233,28.604764951635367,34.62603878116344,27.776706145596233,36.289737262302225,43.18478734213964,26.171874999999996,21.513858510523864,35.75595618954421,28.360351528307834,33.425160697887975,32.89473684210526,44.997165532879826,21.874999999999996,36.39096554724892,32.87310979618672,33.247876942797625,42.57812499999999,21.28742653523995,23.634033007530842,28.515624999999993,48.9292032067447,20.32443825510934,22.10028959000152,20.775623268698062,23.533042706685695,25.806451612903224,28.54828131630724,33.386558281318045,29.333333333333332,32.74492829989838,40.76313942998429,34.37499999999999,20.23950075898128,40.78768475066883,35.54687499999999,30.85399449035813,38.28124999999999,45.908722657304885,43.20820955981636,46.76870748299321,23.437499999999996,19.94805976890361,22.265624999999996,36.295922232041406,41.79687499999999,31.596260387811633,22.656249999999996,35.111111111111114,27.513384889946465,43.28352591365878,27.09925100681245,47.673469387755105,26.314635323012148,44.14062499999999,21.513858510523864,47.268066015061684,22.97193820098194,46.655036715485416,27.055150884495315,24.238227146814403,30.78090740428403,40.56959714390036,50.722012318203,31.634581999151262,48.909279778393355,30.11940191473341,38.28656366830323,48.909279778393355,23.828124999999996,25.153150229218223,25.2993759487266,34.85018426534209,40.507696462327836,38.062283737024224,42.16269841269842,54.87902579714788,34.11235302656409,40.036848072562364,23.738662131519277,33.15043438500228,49.60317460317461,38.64447086801427,33.22653376053162,32.718619869125526,28.577960676726104,47.3304887231525,21.612811791383223,25.390624999999996,29.319856487018246,19.100091827364558,30.078124999999993,49.04869269411811,34.62682073092702,59.37887137425776,29.72651605231867,36.388011107919176,33.94930751128428,31.533446712018144,47.87212462980242,26.40235457063712,28.804413972169254,38.39060559298431,27.734374999999993,24.005486968449926,28.393726338561386,29.384756657483933,31.577562387614577,23.335466144755166,25.10387811634349,41.370300479024536,56.249092756568444,29.642685467072578,39.7923875432526,26.609712545078956,37.98388162240719,33.20312499999999,57.203131972899506,33.21799307958478,42.97520661157025,26.92743764172336,29.296874999999993,30.614821360939274,39.84374999999999,81.64062499999999,36.32812499999999,38.4083044982699,56.19146722164411,23.828124999999996,57.34525215044696,37.09825528007347,32.42187499999999,37.09825528007347,25.390624999999996,25.86451247165533,29.43213296398892,40.83044982698962,49.826989619377166,56.01280292638316,37.72972534382733,67.95360110803324,40.03673094582186,33.13609467455621,44.44444444444445,43.40946894397339,28.577960676726104,23.828124999999996,32.00731595793324,43.65990439986451,36.13233467574994,25.153150229218223,47.3304887231525,31.249999999999993,42.13351643207141,45.7250689505008,44.997165532879826,46.80384550514421,24.87771968291449,45.3287197231834,33.74945565394107,53.44574504121345,31.615792841281195,31.912223457277065,43.40946894397339,40.03673094582186,38.95429362880886,31.468369660789488,35.37981269510926,32.242063492063494,24.088223117166624,22.20633068613798,38.08864265927978,21.6712580348944,24.242424242424246,28.373702422145332,34.256055363321806,27.700831024930746,26.377898098014718,21.64412070759625,39.446366782006926,35.15624999999999,28.133656509695292,39.68253968253969,35.26170798898072,33.6727656294373,35.294117647058826,34.484157572315304,34.25044224472129,36.32812499999999,29.053287981859416,40.40404040404041,28.720083246618103,42.97520661157025,23.051754907792983,32.52595155709343,26.643598615916957,36.44444444444444,38.505239237470015,26.666666666666668,46.28099173553719,48.82812499999999,41.23850730124392,28.084332107116012,34.602076124567475,38.163929834389556,26.555965935105768,31.16343490304709,28.959000152415786,35.294117647058826,34.01764170721095,56.1421772754313,25.2993759487266,36.51263742951032,42.938300964460296,37.04474505723204,35.71303525786913,39.54840454299622,41.53316720066453,35.083029837281565,39.45312499999999,35.74950690335305,26.370238143535232,24.690405462752206,33.70504499982072,22.939750692520775,32.928719008264466,41.91434232586495,31.24879441379576,28.303850156087407,31.64556962025316,34.42217361683818,37.42139577948381,41.57652785289346,53.44574504121345,48.62824793148498,23.80869017191275,46.28099173553719,42.57812499999999,32.83097978719196,30.824829931972793,39.767706097714935,34.367913832199555,35.59985760056959,47.46642865836342,30.86300682844026,43.82761139517896,31.22130394857668,47.77974539744061,28.344671201814062,24.67105263157895,30.470521541950117,26.92743764172336,33.3275623268698,33.6592970521542,35.751278024658355,52.029136316337144,49.24592182209911,44.273479460008716,36.32812499999999,37.65358699960365,41.765511711049484,26.48553974966893,34.72088268199529,42.457998539079625,34.894398530762174,31.17913832199547,34.51676528599605,22.939750692520775,26.22222222222222,24.238227146814403,26.84066824008515,34.666666666666664,18.02595737862522,28.256989886972047,22.939750692520775,20.92746730083234,43.51093706736284,37.27906670760054,19.140624999999996,34.42217361683818,32.049981743681286,37.832874196510566,26.07897153351699,40.484429065743946,25.344352617079892,33.20312499999999,41.01562499999999,24.3910588392529,31.22945430637738,28.841531805800347,29.752066115702483,34.159779614325075,24.801587301587304,35.15624999999999,36.48484302508896,26.953124999999996,33.87406375851557,34.527089072543625,17.361111111111114,47.61080332409972,25.333333333333332,32.882414151925076,39.1929162432864,27.18163008641324,27.180899908172638,27.005130974885226,32.02036958450677,40.39018442310623,21.64412070759625,54.07787213587565,42.15439045504159,35.93749999999999,34.894398530762174,27.180899908172638,32.326530612244895,50.51903114186852,32.42187499999999,35.43083900226758,28.604764951635367,213.49862258953166,46.76870748299321,31.553659148768332,46.25479579762631],\"y0\":\" \",\"yaxis\":\"y\",\"type\":\"box\"},{\"alignmentgroup\":\"True\",\"hovertemplate\":\"Cancer Type Detailed=%{x}<br>BMI=%{y}<extra></extra>\",\"legendgroup\":\"Uterine Serous Carcinoma/Uterine Papillary Serous Carcinoma\",\"marker\":{\"color\":\"#EF553B\"},\"name\":\"Uterine Serous Carcinoma/Uterine Papillary Serous Carcinoma\",\"notched\":false,\"offsetgroup\":\"Uterine Serous Carcinoma/Uterine Papillary Serous Carcinoma\",\"orientation\":\"v\",\"showlegend\":true,\"x\":[\"Uterine Serous Carcinoma/Uterine Papillary Serous Carcinoma\",\"Uterine Serous Carcinoma/Uterine Papillary Serous Carcinoma\",\"Uterine Serous Carcinoma/Uterine Papillary Serous Carcinoma\",\"Uterine Serous Carcinoma/Uterine Papillary Serous Carcinoma\",\"Uterine Serous Carcinoma/Uterine Papillary Serous Carcinoma\",\"Uterine Serous Carcinoma/Uterine Papillary Serous Carcinoma\",\"Uterine Serous Carcinoma/Uterine Papillary Serous Carcinoma\",\"Uterine Serous Carcinoma/Uterine Papillary Serous Carcinoma\",\"Uterine Serous Carcinoma/Uterine Papillary Serous Carcinoma\",\"Uterine Serous Carcinoma/Uterine Papillary Serous Carcinoma\",\"Uterine Serous Carcinoma/Uterine Papillary Serous Carcinoma\",\"Uterine Serous Carcinoma/Uterine Papillary Serous Carcinoma\",\"Uterine Serous Carcinoma/Uterine Papillary Serous Carcinoma\",\"Uterine Serous Carcinoma/Uterine Papillary Serous Carcinoma\",\"Uterine Serous Carcinoma/Uterine Papillary Serous Carcinoma\",\"Uterine Serous Carcinoma/Uterine Papillary Serous Carcinoma\",\"Uterine Serous Carcinoma/Uterine Papillary Serous Carcinoma\",\"Uterine Serous Carcinoma/Uterine Papillary Serous Carcinoma\",\"Uterine Serous Carcinoma/Uterine Papillary Serous Carcinoma\",\"Uterine Serous Carcinoma/Uterine Papillary Serous Carcinoma\",\"Uterine Serous Carcinoma/Uterine Papillary Serous Carcinoma\",\"Uterine Serous Carcinoma/Uterine Papillary Serous Carcinoma\",\"Uterine Serous Carcinoma/Uterine Papillary Serous Carcinoma\",\"Uterine Serous Carcinoma/Uterine Papillary Serous Carcinoma\",\"Uterine Serous Carcinoma/Uterine Papillary Serous Carcinoma\",\"Uterine Serous Carcinoma/Uterine Papillary Serous Carcinoma\",\"Uterine Serous Carcinoma/Uterine Papillary Serous Carcinoma\",\"Uterine Serous Carcinoma/Uterine Papillary Serous Carcinoma\",\"Uterine Serous Carcinoma/Uterine Papillary Serous Carcinoma\",\"Uterine Serous Carcinoma/Uterine Papillary Serous Carcinoma\",\"Uterine Serous Carcinoma/Uterine Papillary Serous Carcinoma\",\"Uterine Serous Carcinoma/Uterine Papillary Serous Carcinoma\",\"Uterine Serous Carcinoma/Uterine Papillary Serous Carcinoma\",\"Uterine Serous Carcinoma/Uterine Papillary Serous Carcinoma\",\"Uterine Serous Carcinoma/Uterine Papillary Serous Carcinoma\",\"Uterine Serous Carcinoma/Uterine Papillary Serous Carcinoma\",\"Uterine Serous Carcinoma/Uterine Papillary Serous Carcinoma\",\"Uterine Serous Carcinoma/Uterine Papillary Serous Carcinoma\",\"Uterine Serous Carcinoma/Uterine Papillary Serous Carcinoma\",\"Uterine Serous Carcinoma/Uterine Papillary Serous Carcinoma\",\"Uterine Serous Carcinoma/Uterine Papillary Serous Carcinoma\",\"Uterine Serous Carcinoma/Uterine Papillary Serous Carcinoma\",\"Uterine Serous Carcinoma/Uterine Papillary Serous Carcinoma\",\"Uterine Serous Carcinoma/Uterine Papillary Serous Carcinoma\",\"Uterine Serous Carcinoma/Uterine Papillary Serous Carcinoma\",\"Uterine Serous Carcinoma/Uterine Papillary Serous Carcinoma\",\"Uterine Serous Carcinoma/Uterine Papillary Serous Carcinoma\",\"Uterine Serous Carcinoma/Uterine Papillary Serous Carcinoma\",\"Uterine Serous Carcinoma/Uterine Papillary Serous Carcinoma\",\"Uterine Serous Carcinoma/Uterine Papillary Serous Carcinoma\",\"Uterine Serous Carcinoma/Uterine Papillary Serous Carcinoma\",\"Uterine Serous Carcinoma/Uterine Papillary Serous Carcinoma\",\"Uterine Serous Carcinoma/Uterine Papillary Serous Carcinoma\",\"Uterine Serous Carcinoma/Uterine Papillary Serous Carcinoma\",\"Uterine Serous Carcinoma/Uterine Papillary Serous Carcinoma\",\"Uterine Serous Carcinoma/Uterine Papillary Serous Carcinoma\",\"Uterine Serous Carcinoma/Uterine Papillary Serous Carcinoma\",\"Uterine Serous Carcinoma/Uterine Papillary Serous Carcinoma\",\"Uterine Serous Carcinoma/Uterine Papillary Serous Carcinoma\",\"Uterine Serous Carcinoma/Uterine Papillary Serous Carcinoma\",\"Uterine Serous Carcinoma/Uterine Papillary Serous Carcinoma\",\"Uterine Serous Carcinoma/Uterine Papillary Serous Carcinoma\",\"Uterine Serous Carcinoma/Uterine Papillary Serous Carcinoma\",\"Uterine Serous Carcinoma/Uterine Papillary Serous Carcinoma\",\"Uterine Serous Carcinoma/Uterine Papillary Serous Carcinoma\",\"Uterine Serous Carcinoma/Uterine Papillary Serous Carcinoma\",\"Uterine Serous Carcinoma/Uterine Papillary Serous Carcinoma\",\"Uterine Serous Carcinoma/Uterine Papillary Serous Carcinoma\",\"Uterine Serous Carcinoma/Uterine Papillary Serous Carcinoma\",\"Uterine Serous Carcinoma/Uterine Papillary Serous Carcinoma\",\"Uterine Serous Carcinoma/Uterine Papillary Serous Carcinoma\",\"Uterine Serous Carcinoma/Uterine Papillary Serous Carcinoma\",\"Uterine Serous Carcinoma/Uterine Papillary Serous Carcinoma\",\"Uterine Serous Carcinoma/Uterine Papillary Serous Carcinoma\",\"Uterine Serous Carcinoma/Uterine Papillary Serous Carcinoma\",\"Uterine Serous Carcinoma/Uterine Papillary Serous Carcinoma\",\"Uterine Serous Carcinoma/Uterine Papillary Serous Carcinoma\",\"Uterine Serous Carcinoma/Uterine Papillary Serous Carcinoma\",\"Uterine Serous Carcinoma/Uterine Papillary Serous Carcinoma\",\"Uterine Serous Carcinoma/Uterine Papillary Serous Carcinoma\",\"Uterine Serous Carcinoma/Uterine Papillary Serous Carcinoma\",\"Uterine Serous Carcinoma/Uterine Papillary Serous Carcinoma\",\"Uterine Serous Carcinoma/Uterine Papillary Serous Carcinoma\",\"Uterine Serous Carcinoma/Uterine Papillary Serous Carcinoma\",\"Uterine Serous Carcinoma/Uterine Papillary Serous Carcinoma\",\"Uterine Serous Carcinoma/Uterine Papillary Serous Carcinoma\",\"Uterine Serous Carcinoma/Uterine Papillary Serous Carcinoma\",\"Uterine Serous Carcinoma/Uterine Papillary Serous Carcinoma\",\"Uterine Serous Carcinoma/Uterine Papillary Serous Carcinoma\",\"Uterine Serous Carcinoma/Uterine Papillary Serous Carcinoma\",\"Uterine Serous Carcinoma/Uterine Papillary Serous Carcinoma\",\"Uterine Serous Carcinoma/Uterine Papillary Serous Carcinoma\",\"Uterine Serous Carcinoma/Uterine Papillary Serous Carcinoma\",\"Uterine Serous Carcinoma/Uterine Papillary Serous Carcinoma\",\"Uterine Serous Carcinoma/Uterine Papillary Serous Carcinoma\",\"Uterine Serous Carcinoma/Uterine Papillary Serous Carcinoma\",\"Uterine Serous Carcinoma/Uterine Papillary Serous Carcinoma\",\"Uterine Serous Carcinoma/Uterine Papillary Serous Carcinoma\",\"Uterine Serous Carcinoma/Uterine Papillary Serous Carcinoma\",\"Uterine Serous Carcinoma/Uterine Papillary Serous Carcinoma\",\"Uterine Serous Carcinoma/Uterine Papillary Serous Carcinoma\",\"Uterine Serous Carcinoma/Uterine Papillary Serous Carcinoma\",\"Uterine Serous Carcinoma/Uterine Papillary Serous Carcinoma\",\"Uterine Serous Carcinoma/Uterine Papillary Serous Carcinoma\",\"Uterine Serous Carcinoma/Uterine Papillary Serous Carcinoma\"],\"x0\":\" \",\"xaxis\":\"x\",\"y\":[20.904195011337873,25.969529085872576,23.507805325987146,18.749999999999996,27.587326057852245,25.63691716071142,24.55775234131113,20.811654526534856,31.249999999999993,18.069727891156464,18.19548277362446,61.02839335180055,25.605536332179934,36.79016620498615,39.10034602076125,23.53036634346221,45.70312499999999,24.76756591982929,29.296874999999993,26.07897153351699,21.484374999999996,31.992171327486922,46.28099173553719,37.80718336483932,38.01956512452475,27.99036281179139,25.969529085872576,33.17773234057328,22.582709172343712,24.341758286340216,30.443839128344813,22.95908765854944,25.969529085872576,27.12031558185404,31.238589800803275,40.68047337278106,22.600262984878366,24.76756591982929,34.0784616008763,33.56351992592878,28.398718000730252,24.38652644413961,19.721036967980208,38.366381010434225,21.513858510523864,31.20256367009614,31.1950948402596,24.456063417102378,23.828124999999996,26.854405574103644,20.36188625109908,31.431788328016516,40.39115646258504,28.303850156087407,23.80540166204986,22.476586888657646,31.16343490304709,32.46191135734072,22.375679950619187,26.953124999999996,25.209201358495854,25.05930702662969,31.615792841281195,22.481329065691202,36.19875019051973,40.78768475066883,34.41319568055061,49.44973230220108,23.337684427040067,46.68029782801589,23.722810651876106,25.476660092044707,33.20312499999999,29.721079103795148,30.477219243084754,27.209607806342657,29.43213296398892,28.566481994459835,32.17993079584775,24.46460160337235,26.48553974966893,23.9188302920412,32.03987184051263,36.73094582185492,35.492457852706295,22.321428571428577,42.38548483045807,32.95068027210885,32.42187499999999,37.52740765727779,28.666129176744597,33.07828527515119,34.68093539437178,31.14186851211073,53.77777777777778,33.856571252693136,35.26170798898072,20.70081674131507,35.81771071483005,22.837370242214536,46.84711481261155,26.753212578395683,32.74492829989838,31.64556962025316,26.573129251700685],\"y0\":\" \",\"yaxis\":\"y\",\"type\":\"box\"}],                        {\"template\":{\"data\":{\"bar\":[{\"error_x\":{\"color\":\"#2a3f5f\"},\"error_y\":{\"color\":\"#2a3f5f\"},\"marker\":{\"line\":{\"color\":\"#E5ECF6\",\"width\":0.5},\"pattern\":{\"fillmode\":\"overlay\",\"size\":10,\"solidity\":0.2}},\"type\":\"bar\"}],\"barpolar\":[{\"marker\":{\"line\":{\"color\":\"#E5ECF6\",\"width\":0.5},\"pattern\":{\"fillmode\":\"overlay\",\"size\":10,\"solidity\":0.2}},\"type\":\"barpolar\"}],\"carpet\":[{\"aaxis\":{\"endlinecolor\":\"#2a3f5f\",\"gridcolor\":\"white\",\"linecolor\":\"white\",\"minorgridcolor\":\"white\",\"startlinecolor\":\"#2a3f5f\"},\"baxis\":{\"endlinecolor\":\"#2a3f5f\",\"gridcolor\":\"white\",\"linecolor\":\"white\",\"minorgridcolor\":\"white\",\"startlinecolor\":\"#2a3f5f\"},\"type\":\"carpet\"}],\"choropleth\":[{\"colorbar\":{\"outlinewidth\":0,\"ticks\":\"\"},\"type\":\"choropleth\"}],\"contour\":[{\"colorbar\":{\"outlinewidth\":0,\"ticks\":\"\"},\"colorscale\":[[0.0,\"#0d0887\"],[0.1111111111111111,\"#46039f\"],[0.2222222222222222,\"#7201a8\"],[0.3333333333333333,\"#9c179e\"],[0.4444444444444444,\"#bd3786\"],[0.5555555555555556,\"#d8576b\"],[0.6666666666666666,\"#ed7953\"],[0.7777777777777778,\"#fb9f3a\"],[0.8888888888888888,\"#fdca26\"],[1.0,\"#f0f921\"]],\"type\":\"contour\"}],\"contourcarpet\":[{\"colorbar\":{\"outlinewidth\":0,\"ticks\":\"\"},\"type\":\"contourcarpet\"}],\"heatmap\":[{\"colorbar\":{\"outlinewidth\":0,\"ticks\":\"\"},\"colorscale\":[[0.0,\"#0d0887\"],[0.1111111111111111,\"#46039f\"],[0.2222222222222222,\"#7201a8\"],[0.3333333333333333,\"#9c179e\"],[0.4444444444444444,\"#bd3786\"],[0.5555555555555556,\"#d8576b\"],[0.6666666666666666,\"#ed7953\"],[0.7777777777777778,\"#fb9f3a\"],[0.8888888888888888,\"#fdca26\"],[1.0,\"#f0f921\"]],\"type\":\"heatmap\"}],\"heatmapgl\":[{\"colorbar\":{\"outlinewidth\":0,\"ticks\":\"\"},\"colorscale\":[[0.0,\"#0d0887\"],[0.1111111111111111,\"#46039f\"],[0.2222222222222222,\"#7201a8\"],[0.3333333333333333,\"#9c179e\"],[0.4444444444444444,\"#bd3786\"],[0.5555555555555556,\"#d8576b\"],[0.6666666666666666,\"#ed7953\"],[0.7777777777777778,\"#fb9f3a\"],[0.8888888888888888,\"#fdca26\"],[1.0,\"#f0f921\"]],\"type\":\"heatmapgl\"}],\"histogram\":[{\"marker\":{\"pattern\":{\"fillmode\":\"overlay\",\"size\":10,\"solidity\":0.2}},\"type\":\"histogram\"}],\"histogram2d\":[{\"colorbar\":{\"outlinewidth\":0,\"ticks\":\"\"},\"colorscale\":[[0.0,\"#0d0887\"],[0.1111111111111111,\"#46039f\"],[0.2222222222222222,\"#7201a8\"],[0.3333333333333333,\"#9c179e\"],[0.4444444444444444,\"#bd3786\"],[0.5555555555555556,\"#d8576b\"],[0.6666666666666666,\"#ed7953\"],[0.7777777777777778,\"#fb9f3a\"],[0.8888888888888888,\"#fdca26\"],[1.0,\"#f0f921\"]],\"type\":\"histogram2d\"}],\"histogram2dcontour\":[{\"colorbar\":{\"outlinewidth\":0,\"ticks\":\"\"},\"colorscale\":[[0.0,\"#0d0887\"],[0.1111111111111111,\"#46039f\"],[0.2222222222222222,\"#7201a8\"],[0.3333333333333333,\"#9c179e\"],[0.4444444444444444,\"#bd3786\"],[0.5555555555555556,\"#d8576b\"],[0.6666666666666666,\"#ed7953\"],[0.7777777777777778,\"#fb9f3a\"],[0.8888888888888888,\"#fdca26\"],[1.0,\"#f0f921\"]],\"type\":\"histogram2dcontour\"}],\"mesh3d\":[{\"colorbar\":{\"outlinewidth\":0,\"ticks\":\"\"},\"type\":\"mesh3d\"}],\"parcoords\":[{\"line\":{\"colorbar\":{\"outlinewidth\":0,\"ticks\":\"\"}},\"type\":\"parcoords\"}],\"pie\":[{\"automargin\":true,\"type\":\"pie\"}],\"scatter\":[{\"marker\":{\"colorbar\":{\"outlinewidth\":0,\"ticks\":\"\"}},\"type\":\"scatter\"}],\"scatter3d\":[{\"line\":{\"colorbar\":{\"outlinewidth\":0,\"ticks\":\"\"}},\"marker\":{\"colorbar\":{\"outlinewidth\":0,\"ticks\":\"\"}},\"type\":\"scatter3d\"}],\"scattercarpet\":[{\"marker\":{\"colorbar\":{\"outlinewidth\":0,\"ticks\":\"\"}},\"type\":\"scattercarpet\"}],\"scattergeo\":[{\"marker\":{\"colorbar\":{\"outlinewidth\":0,\"ticks\":\"\"}},\"type\":\"scattergeo\"}],\"scattergl\":[{\"marker\":{\"colorbar\":{\"outlinewidth\":0,\"ticks\":\"\"}},\"type\":\"scattergl\"}],\"scattermapbox\":[{\"marker\":{\"colorbar\":{\"outlinewidth\":0,\"ticks\":\"\"}},\"type\":\"scattermapbox\"}],\"scatterpolar\":[{\"marker\":{\"colorbar\":{\"outlinewidth\":0,\"ticks\":\"\"}},\"type\":\"scatterpolar\"}],\"scatterpolargl\":[{\"marker\":{\"colorbar\":{\"outlinewidth\":0,\"ticks\":\"\"}},\"type\":\"scatterpolargl\"}],\"scatterternary\":[{\"marker\":{\"colorbar\":{\"outlinewidth\":0,\"ticks\":\"\"}},\"type\":\"scatterternary\"}],\"surface\":[{\"colorbar\":{\"outlinewidth\":0,\"ticks\":\"\"},\"colorscale\":[[0.0,\"#0d0887\"],[0.1111111111111111,\"#46039f\"],[0.2222222222222222,\"#7201a8\"],[0.3333333333333333,\"#9c179e\"],[0.4444444444444444,\"#bd3786\"],[0.5555555555555556,\"#d8576b\"],[0.6666666666666666,\"#ed7953\"],[0.7777777777777778,\"#fb9f3a\"],[0.8888888888888888,\"#fdca26\"],[1.0,\"#f0f921\"]],\"type\":\"surface\"}],\"table\":[{\"cells\":{\"fill\":{\"color\":\"#EBF0F8\"},\"line\":{\"color\":\"white\"}},\"header\":{\"fill\":{\"color\":\"#C8D4E3\"},\"line\":{\"color\":\"white\"}},\"type\":\"table\"}]},\"layout\":{\"annotationdefaults\":{\"arrowcolor\":\"#2a3f5f\",\"arrowhead\":0,\"arrowwidth\":1},\"autotypenumbers\":\"strict\",\"coloraxis\":{\"colorbar\":{\"outlinewidth\":0,\"ticks\":\"\"}},\"colorscale\":{\"diverging\":[[0,\"#8e0152\"],[0.1,\"#c51b7d\"],[0.2,\"#de77ae\"],[0.3,\"#f1b6da\"],[0.4,\"#fde0ef\"],[0.5,\"#f7f7f7\"],[0.6,\"#e6f5d0\"],[0.7,\"#b8e186\"],[0.8,\"#7fbc41\"],[0.9,\"#4d9221\"],[1,\"#276419\"]],\"sequential\":[[0.0,\"#0d0887\"],[0.1111111111111111,\"#46039f\"],[0.2222222222222222,\"#7201a8\"],[0.3333333333333333,\"#9c179e\"],[0.4444444444444444,\"#bd3786\"],[0.5555555555555556,\"#d8576b\"],[0.6666666666666666,\"#ed7953\"],[0.7777777777777778,\"#fb9f3a\"],[0.8888888888888888,\"#fdca26\"],[1.0,\"#f0f921\"]],\"sequentialminus\":[[0.0,\"#0d0887\"],[0.1111111111111111,\"#46039f\"],[0.2222222222222222,\"#7201a8\"],[0.3333333333333333,\"#9c179e\"],[0.4444444444444444,\"#bd3786\"],[0.5555555555555556,\"#d8576b\"],[0.6666666666666666,\"#ed7953\"],[0.7777777777777778,\"#fb9f3a\"],[0.8888888888888888,\"#fdca26\"],[1.0,\"#f0f921\"]]},\"colorway\":[\"#636efa\",\"#EF553B\",\"#00cc96\",\"#ab63fa\",\"#FFA15A\",\"#19d3f3\",\"#FF6692\",\"#B6E880\",\"#FF97FF\",\"#FECB52\"],\"font\":{\"color\":\"#2a3f5f\"},\"geo\":{\"bgcolor\":\"white\",\"lakecolor\":\"white\",\"landcolor\":\"#E5ECF6\",\"showlakes\":true,\"showland\":true,\"subunitcolor\":\"white\"},\"hoverlabel\":{\"align\":\"left\"},\"hovermode\":\"closest\",\"mapbox\":{\"style\":\"light\"},\"paper_bgcolor\":\"white\",\"plot_bgcolor\":\"#E5ECF6\",\"polar\":{\"angularaxis\":{\"gridcolor\":\"white\",\"linecolor\":\"white\",\"ticks\":\"\"},\"bgcolor\":\"#E5ECF6\",\"radialaxis\":{\"gridcolor\":\"white\",\"linecolor\":\"white\",\"ticks\":\"\"}},\"scene\":{\"xaxis\":{\"backgroundcolor\":\"#E5ECF6\",\"gridcolor\":\"white\",\"gridwidth\":2,\"linecolor\":\"white\",\"showbackground\":true,\"ticks\":\"\",\"zerolinecolor\":\"white\"},\"yaxis\":{\"backgroundcolor\":\"#E5ECF6\",\"gridcolor\":\"white\",\"gridwidth\":2,\"linecolor\":\"white\",\"showbackground\":true,\"ticks\":\"\",\"zerolinecolor\":\"white\"},\"zaxis\":{\"backgroundcolor\":\"#E5ECF6\",\"gridcolor\":\"white\",\"gridwidth\":2,\"linecolor\":\"white\",\"showbackground\":true,\"ticks\":\"\",\"zerolinecolor\":\"white\"}},\"shapedefaults\":{\"line\":{\"color\":\"#2a3f5f\"}},\"ternary\":{\"aaxis\":{\"gridcolor\":\"white\",\"linecolor\":\"white\",\"ticks\":\"\"},\"baxis\":{\"gridcolor\":\"white\",\"linecolor\":\"white\",\"ticks\":\"\"},\"bgcolor\":\"#E5ECF6\",\"caxis\":{\"gridcolor\":\"white\",\"linecolor\":\"white\",\"ticks\":\"\"}},\"title\":{\"x\":0.05},\"xaxis\":{\"automargin\":true,\"gridcolor\":\"white\",\"linecolor\":\"white\",\"ticks\":\"\",\"title\":{\"standoff\":15},\"zerolinecolor\":\"white\",\"zerolinewidth\":2},\"yaxis\":{\"automargin\":true,\"gridcolor\":\"white\",\"linecolor\":\"white\",\"ticks\":\"\",\"title\":{\"standoff\":15},\"zerolinecolor\":\"white\",\"zerolinewidth\":2}}},\"xaxis\":{\"anchor\":\"y\",\"domain\":[0.0,1.0],\"title\":{\"text\":\"Cancer Type Detailed\"},\"categoryorder\":\"array\",\"categoryarray\":[\"Uterine Endometrioid Carcinoma\",\"Uterine Serous Carcinoma/Uterine Papillary Serous Carcinoma\"]},\"yaxis\":{\"anchor\":\"x\",\"domain\":[0.0,1.0],\"title\":{\"text\":\"BMI\"},\"range\":[0,80]},\"legend\":{\"title\":{\"text\":\"Cancer Type Detailed\"},\"tracegroupgap\":0},\"title\":{\"text\":\"BMI by Cancer Type\"},\"boxmode\":\"overlay\"},                        {\"responsive\": true}                    ).then(function(){\n",
              "                            \n",
              "var gd = document.getElementById('a7f862d2-dcb3-45f4-b517-732113221459');\n",
              "var x = new MutationObserver(function (mutations, observer) {{\n",
              "        var display = window.getComputedStyle(gd).display;\n",
              "        if (!display || display === 'none') {{\n",
              "            console.log([gd, 'removed!']);\n",
              "            Plotly.purge(gd);\n",
              "            observer.disconnect();\n",
              "        }}\n",
              "}});\n",
              "\n",
              "// Listen for the removal of the full notebook cells\n",
              "var notebookContainer = gd.closest('#notebook-container');\n",
              "if (notebookContainer) {{\n",
              "    x.observe(notebookContainer, {childList: true});\n",
              "}}\n",
              "\n",
              "// Listen for the clearing of the current output cell\n",
              "var outputEl = gd.closest('.output');\n",
              "if (outputEl) {{\n",
              "    x.observe(outputEl, {childList: true});\n",
              "}}\n",
              "\n",
              "                        })                };                            </script>        </div>\n",
              "</body>\n",
              "</html>"
            ]
          },
          "metadata": {}
        }
      ]
    },
    {
      "cell_type": "markdown",
      "source": [
        "Our p-value is significant meaning we can reject the null hypothesis that there is no different between the non-associated and associated cancer types."
      ],
      "metadata": {
        "id": "_fmJmknJmOXI"
      }
    },
    {
      "cell_type": "markdown",
      "source": [
        "### Stage and BMI Comparison"
      ],
      "metadata": {
        "id": "bT-TQ8Qs_fPW"
      }
    },
    {
      "cell_type": "markdown",
      "source": [
        "The endometrial cancer dataset used a different column for the stage of cancer. This columm used a different code than the previous so you will need to find all the different stage names again using the unique function."
      ],
      "metadata": {
        "id": "d820TBTZNEPd"
      }
    },
    {
      "cell_type": "code",
      "source": [
        "ucec_dataframe_nadrop['Neoplasm American Joint Committee on Cancer Clinical Group Stage'].unique()"
      ],
      "metadata": {
        "colab": {
          "base_uri": "https://localhost:8080/"
        },
        "id": "og1xyeHN_ihM",
        "outputId": "49bca9bb-970d-452b-b7b1-34fefc4288a4"
      },
      "execution_count": null,
      "outputs": [
        {
          "output_type": "execute_result",
          "data": {
            "text/plain": [
              "array(['Stage III', 'Stage I', 'Stage IA', 'Stage IIIA', 'Stage IIIB',\n",
              "       'Stage IIIC2', 'Stage IB', 'Stage IIIC1', 'Stage II', 'Stage IC',\n",
              "       'Stage IIIC', 'Stage IVB', 'Stage IIB', 'Stage IIA', 'Stage IVA',\n",
              "       'Stage IV'], dtype=object)"
            ]
          },
          "metadata": {},
          "execution_count": 49
        }
      ]
    },
    {
      "cell_type": "code",
      "source": [
        "ucec_stage1 = ucec_dataframe_nadrop.loc[(ucec_dataframe_nadrop['Neoplasm American Joint Committee on Cancer Clinical Group Stage'] == 'Stage I') | (ucec_dataframe_nadrop['Neoplasm American Joint Committee on Cancer Clinical Group Stage'] == 'Stage IA') | (ucec_dataframe_nadrop['Neoplasm American Joint Committee on Cancer Clinical Group Stage'] == 'Stage IB') | (ucec_dataframe_nadrop['Neoplasm American Joint Committee on Cancer Clinical Group Stage'] == 'Stage IC')]\n",
        "ucec_stage2 = ucec_dataframe_nadrop.loc[(ucec_dataframe_nadrop['Neoplasm American Joint Committee on Cancer Clinical Group Stage'] == 'Stage II') | (ucec_dataframe_nadrop['Neoplasm American Joint Committee on Cancer Clinical Group Stage'] == 'Stage IIA') | (ucec_dataframe_nadrop['Neoplasm American Joint Committee on Cancer Clinical Group Stage'] == 'Stage IIB')]\n",
        "ucec_stage3 = ucec_dataframe_nadrop.loc[(ucec_dataframe_nadrop['Neoplasm American Joint Committee on Cancer Clinical Group Stage'] == 'Stage III') | (ucec_dataframe_nadrop['Neoplasm American Joint Committee on Cancer Clinical Group Stage'] == 'Stage IIIA') | (ucec_dataframe_nadrop['Neoplasm American Joint Committee on Cancer Clinical Group Stage'] == 'Stage IIIB') | (ucec_dataframe_nadrop['Neoplasm American Joint Committee on Cancer Clinical Group Stage'] == 'Stage IIIC') | (ucec_dataframe_nadrop['Neoplasm American Joint Committee on Cancer Clinical Group Stage'] == 'Stage IIIC1') | (ucec_dataframe_nadrop['Neoplasm American Joint Committee on Cancer Clinical Group Stage'] == 'Stage IIIC2')]\n",
        "ucec_stage4 = ucec_dataframe_nadrop.loc[(ucec_dataframe_nadrop['Neoplasm American Joint Committee on Cancer Clinical Group Stage'] == 'Stage IV') | (ucec_dataframe_nadrop['Neoplasm American Joint Committee on Cancer Clinical Group Stage'] == 'StageIVA') | (ucec_dataframe_nadrop['Neoplasm American Joint Committee on Cancer Clinical Group Stage'] == 'Stage IVB')]\n",
        "\n",
        "\n"
      ],
      "metadata": {
        "id": "w9hTg6jz_nw9"
      },
      "execution_count": null,
      "outputs": []
    },
    {
      "cell_type": "code",
      "source": [
        "print(len(ucec_stage1))\n",
        "print(len(ucec_stage2))\n",
        "print(len(ucec_stage3))\n",
        "print(len(ucec_stage4))"
      ],
      "metadata": {
        "id": "yaJ4jxEnNf3m",
        "colab": {
          "base_uri": "https://localhost:8080/"
        },
        "outputId": "bef6b7d2-5d14-43c5-a099-8e45ec1ded97"
      },
      "execution_count": null,
      "outputs": [
        {
          "output_type": "stream",
          "name": "stdout",
          "text": [
            "325\n",
            "49\n",
            "115\n",
            "27\n"
          ]
        }
      ]
    },
    {
      "cell_type": "code",
      "source": [
        "stats.kruskal(ucec_stage1['BMI'], ucec_stage2['BMI'], ucec_stage3['BMI'],  ucec_stage4['BMI'])"
      ],
      "metadata": {
        "colab": {
          "base_uri": "https://localhost:8080/"
        },
        "id": "gq4nKrMy_u4u",
        "outputId": "ae31730f-e931-418d-ea55-2295316bf109"
      },
      "execution_count": null,
      "outputs": [
        {
          "output_type": "execute_result",
          "data": {
            "text/plain": [
              "KruskalResult(statistic=3.2516275298841375, pvalue=0.354432134649887)"
            ]
          },
          "metadata": {},
          "execution_count": 52
        }
      ]
    },
    {
      "cell_type": "markdown",
      "source": [
        "### Age and BMI Comparison"
      ],
      "metadata": {
        "id": "x4qBQmro_CcP"
      }
    },
    {
      "cell_type": "code",
      "source": [
        "ucec_dataframe['Diagnosis Age'].unique()"
      ],
      "metadata": {
        "colab": {
          "base_uri": "https://localhost:8080/"
        },
        "id": "fHGWRKuMP4lH",
        "outputId": "75eb2b73-75b5-4400-af51-c86afb528200"
      },
      "execution_count": null,
      "outputs": [
        {
          "output_type": "execute_result",
          "data": {
            "text/plain": [
              "array([59., 54., 69., 51., 67., 57., 61., 73., 79., 65., 75., 38., 76.,\n",
              "       63., 44., 53., 58., 46., 64., 55., 81., 68., 74., 62., 47., 86.,\n",
              "       31., 77., 41., 71., 52., 70., 60., 85., nan, 83., 90., 78., 56.,\n",
              "       66., 82., 42., 33., 45., 39., 40., 37., 72., 80., 84., 87., 35.,\n",
              "       50., 48., 88., 43., 89., 49., 34., 36.])"
            ]
          },
          "metadata": {},
          "execution_count": 53
        }
      ]
    },
    {
      "cell_type": "code",
      "source": [
        "ucec_dataframe_nadrop = ucec_dataframe[ucec_dataframe['BMI'].notna()]"
      ],
      "metadata": {
        "id": "s25wgRriRDKx"
      },
      "execution_count": null,
      "outputs": []
    },
    {
      "cell_type": "code",
      "source": [
        "ucec_age_40_44 = ucec_dataframe_nadrop.loc[ucec_dataframe_nadrop['Diagnosis Age'] <= 44]\n",
        "ucec_age_45_49 = ucec_dataframe_nadrop.loc[(ucec_dataframe_nadrop['Diagnosis Age'] <= 49) & (ucec_dataframe_nadrop['Diagnosis Age'] >= 45)]\n",
        "ucec_age_50_54 =ucec_dataframe_nadrop.loc[(ucec_dataframe_nadrop['Diagnosis Age'] <= 54) & (ucec_dataframe_nadrop['Diagnosis Age'] >= 50)]\n",
        "ucec_age_55_59 = ucec_dataframe_nadrop.loc[(ucec_dataframe_nadrop['Diagnosis Age'] <= 59) & (ucec_dataframe_nadrop['Diagnosis Age'] >= 55)]\n",
        "ucec_age_60_64 = ucec_dataframe_nadrop.loc[(ucec_dataframe_nadrop['Diagnosis Age'] <= 64) & (ucec_dataframe_nadrop['Diagnosis Age'] >= 60)]\n",
        "ucec_age_65_69 =ucec_dataframe_nadrop.loc[(ucec_dataframe_nadrop['Diagnosis Age'] <= 69) & (ucec_dataframe_nadrop['Diagnosis Age'] >= 65)]\n",
        "ucec_age_70_74 = ucec_dataframe_nadrop.loc[(ucec_dataframe_nadrop['Diagnosis Age'] <= 74) & (ucec_dataframe_nadrop['Diagnosis Age'] >= 70)]\n",
        "ucec_age_75_79 =ucec_dataframe_nadrop.loc[(ucec_dataframe_nadrop['Diagnosis Age'] <= 79) & (ucec_dataframe_nadrop['Diagnosis Age'] >= 75)]\n",
        "ucec_age_80_84 =ucec_dataframe_nadrop.loc[(ucec_dataframe_nadrop['Diagnosis Age'] <= 84) & (ucec_dataframe_nadrop['Diagnosis Age'] >= 80)]\n",
        "ucec_age_85_89 = ucec_dataframe_nadrop.loc[(ucec_dataframe_nadrop['Diagnosis Age'] <= 89) & (ucec_dataframe_nadrop['Diagnosis Age'] >= 85)]\n",
        "ucec_age_90_94 = ucec_dataframe_nadrop.loc[(ucec_dataframe_nadrop['Diagnosis Age'] <= 94) & (ucec_dataframe_nadrop['Diagnosis Age'] >= 90)]"
      ],
      "metadata": {
        "id": "bHZObkDsQ8Wv"
      },
      "execution_count": null,
      "outputs": []
    },
    {
      "cell_type": "code",
      "source": [
        "print(len(ucec_age_40_44))\n",
        "print(len(ucec_age_45_49))\n",
        "print(len(ucec_age_50_54))\n",
        "print(len(ucec_age_55_59))\n",
        "print(len(ucec_age_70_74))\n",
        "print(len(ucec_age_75_79))\n",
        "print(len(ucec_age_80_84))\n",
        "print(len(ucec_age_85_89))\n",
        "print(len(ucec_age_90_94))"
      ],
      "metadata": {
        "colab": {
          "base_uri": "https://localhost:8080/"
        },
        "id": "MOmhqDu4NhdZ",
        "outputId": "5202bdd1-f6bb-42cf-d955-f94aad160799"
      },
      "execution_count": null,
      "outputs": [
        {
          "output_type": "stream",
          "name": "stdout",
          "text": [
            "25\n",
            "19\n",
            "51\n",
            "81\n",
            "68\n",
            "39\n",
            "28\n",
            "13\n",
            "3\n"
          ]
        }
      ]
    },
    {
      "cell_type": "code",
      "source": [
        "stats.kruskal(ucec_age_40_44['BMI'], ucec_age_45_49['BMI'], ucec_age_50_54['BMI'],  ucec_age_55_59['BMI'], ucec_age_60_64['BMI'],ucec_age_65_69['BMI'], ucec_age_70_74['BMI'],ucec_age_75_79['BMI'],ucec_age_80_84['BMI'],ucec_age_85_89['BMI'], ucec_age_90_94['BMI'] )"
      ],
      "metadata": {
        "colab": {
          "base_uri": "https://localhost:8080/"
        },
        "id": "bPu5YfYBRg1c",
        "outputId": "a230aba5-c360-4493-ef71-640255af8abf"
      },
      "execution_count": null,
      "outputs": [
        {
          "output_type": "execute_result",
          "data": {
            "text/plain": [
              "KruskalResult(statistic=35.98814674047432, pvalue=8.45718173354837e-05)"
            ]
          },
          "metadata": {},
          "execution_count": 57
        }
      ]
    },
    {
      "cell_type": "markdown",
      "source": [
        "If you wanted to look at age as a continuous variable rather than a categorical variable you could run linear regression and see how the age compares with BMI in that way."
      ],
      "metadata": {
        "id": "XM1sWk72Vi4j"
      }
    },
    {
      "cell_type": "code",
      "source": [
        "scatter2 = px.scatter(bmi_endo, x = 'BMI', y = 'Diagnosis Age', color_discrete_sequence=['green'],\n",
        "                      range_x = [15,70], range_y = [30,95],\n",
        "                      trendline = 'ols', trendline_scope=\"overall\", trendline_color_override='blue')\n",
        "scatter2.show()"
      ],
      "metadata": {
        "colab": {
          "base_uri": "https://localhost:8080/",
          "height": 542
        },
        "id": "9LJ3jlvNU7RG",
        "outputId": "2c57404b-8d5e-48b3-e75f-d074cdd22190"
      },
      "execution_count": null,
      "outputs": [
        {
          "output_type": "display_data",
          "data": {
            "text/html": [
              "<html>\n",
              "<head><meta charset=\"utf-8\" /></head>\n",
              "<body>\n",
              "    <div>            <script src=\"https://cdnjs.cloudflare.com/ajax/libs/mathjax/2.7.5/MathJax.js?config=TeX-AMS-MML_SVG\"></script><script type=\"text/javascript\">if (window.MathJax) {MathJax.Hub.Config({SVG: {font: \"STIX-Web\"}});}</script>                <script type=\"text/javascript\">window.PlotlyConfig = {MathJaxConfig: 'local'};</script>\n",
              "        <script src=\"https://cdn.plot.ly/plotly-2.8.3.min.js\"></script>                <div id=\"8f689112-7ce3-45c7-8f99-d5d12b1c875a\" class=\"plotly-graph-div\" style=\"height:525px; width:100%;\"></div>            <script type=\"text/javascript\">                                    window.PLOTLYENV=window.PLOTLYENV || {};                                    if (document.getElementById(\"8f689112-7ce3-45c7-8f99-d5d12b1c875a\")) {                    Plotly.newPlot(                        \"8f689112-7ce3-45c7-8f99-d5d12b1c875a\",                        [{\"hovertemplate\":\"BMI=%{x}<br>Diagnosis Age=%{y}<extra></extra>\",\"legendgroup\":\"\",\"marker\":{\"color\":\"green\",\"symbol\":\"circle\"},\"mode\":\"markers\",\"name\":\"\",\"orientation\":\"v\",\"showlegend\":false,\"x\":[28.804413972169254,28.959000152415786,39.25652940233936,32.769394909312595,20.904195011337873,25.969529085872576,23.507805325987146,18.749999999999996,27.717685235262305,31.14186851211073,44.811753902663,27.85200797922391,23.725286160249738,24.999999999999996,20.70081674131507,23.384353741496604,43.28352591365878,37.89062499999999,25.282569898869724,23.437499999999996,25.333333333333332,28.088991030674453,37.10937499999999,25.236340330075304,24.300733981352906,40.15466983938133,27.587326057852245,49.954086317722684,24.218749999999996,54.574880499830634,47.03433922996878,32.36854981369265,21.829952199932254,35.65133792661432,29.1363163371488,25.63691716071142,24.55775234131113,39.12591050988553,31.95592286501378,20.811654526534856,31.249999999999993,18.069727891156464,47.80006774812752,29.21010994360826,36.49376417233561,18.19548277362446,22.145328719723185,34.367913832199555,23.046874999999996,61.02839335180055,null,24.341758286340216,49.53173777315296,42.15439045504159,25.605536332179934,45.67474048442907,24.609733700642796,36.79016620498615,39.10034602076125,24.840980089578082,28.804413972169254,40.56959714390036,34.62682073092702,25.86451247165533,24.341758286340216,23.725286160249738,30.119375573921033,28.124999999999993,23.53036634346221,38.97392290249434,31.249999999999993,45.70312499999999,38.70967741935483,24.76756591982929,42.192381029656374,29.296874999999993,24.999999999999996,26.07897153351699,21.484374999999996,31.992171327486922,57.421874999999986,39.08350962745168,61.34067952249771,42.24058769513316,35.33859303090072,47.477324263038554,38.36873541394723,46.28099173553719,19.72386587771203,26.89232313815483,24.560326301478007,38.67187499999999,null,37.80718336483932,38.01956512452475,27.99036281179139,46.86785550983081,41.25941355551994,28.54828131630724,null,25.969529085872576,27.239224483255885,29.296874999999993,27.776706145596233,28.604764951635367,30.859607376561577,33.17773234057328,34.62603878116344,27.776706145596233,36.289737262302225,43.18478734213964,26.171874999999996,21.513858510523864,35.75595618954421,28.360351528307834,33.425160697887975,32.89473684210526,44.997165532879826,21.874999999999996,36.39096554724892,32.87310979618672,33.247876942797625,22.582709172343712,42.57812499999999,21.28742653523995,23.634033007530842,28.515624999999993,48.9292032067447,20.32443825510934,24.341758286340216,28.344671201814062,22.10028959000152,20.775623268698062,23.533042706685695,25.806451612903224,28.54828131630724,33.386558281318045,29.333333333333332,32.74492829989838,40.76313942998429,34.37499999999999,20.23950075898128,40.78768475066883,35.54687499999999,30.85399449035813,38.28124999999999,45.908722657304885,43.20820955981636,46.76870748299321,30.443839128344813,22.95908765854944,23.437499999999996,19.94805976890361,22.265624999999996,36.295922232041406,41.79687499999999,25.969529085872576,27.12031558185404,31.596260387811633,31.238589800803275,40.68047337278106,22.656249999999996,35.111111111111114,27.513384889946465,43.28352591365878,27.09925100681245,47.673469387755105,22.600262984878366,35.62901744719927,24.76756591982929,34.0784616008763,33.56351992592878,26.314635323012148,44.14062499999999,21.513858510523864,47.268066015061684,22.97193820098194,28.398718000730252,46.655036715485416,27.055150884495315,24.238227146814403,30.78090740428403,40.56959714390036,24.38652644413961,50.722012318203,31.634581999151262,48.909279778393355,30.11940191473341,38.28656366830323,48.909279778393355,23.828124999999996,19.721036967980208,38.366381010434225,21.513858510523864,31.20256367009614,25.153150229218223,25.2993759487266,34.85018426534209,31.1950948402596,24.456063417102378,40.507696462327836,38.062283737024224,42.16269841269842,54.87902579714788,34.11235302656409,40.036848072562364,23.738662131519277,33.15043438500228,49.60317460317461,38.64447086801427,33.22653376053162,32.718619869125526,28.577960676726104,47.3304887231525,21.612811791383223,23.828124999999996,25.390624999999996,29.319856487018246,19.100091827364558,null,30.078124999999993,null,49.04869269411811,null,34.62682073092702,59.37887137425776,29.72651605231867,36.388011107919176,null,33.94930751128428,31.533446712018144,47.87212462980242,26.40235457063712,28.804413972169254,38.39060559298431,27.734374999999993,24.005486968449926,28.393726338561386,29.384756657483933,null,26.854405574103644,20.36188625109908,31.577562387614577,23.335466144755166,25.10387811634349,31.431788328016516,41.370300479024536,40.39115646258504,56.249092756568444,29.642685467072578,39.7923875432526,26.609712545078956,37.98388162240719,33.20312499999999,28.303850156087407,null,null,null,57.203131972899506,33.21799307958478,42.97520661157025,26.92743764172336,29.296874999999993,30.614821360939274,23.80540166204986,39.84374999999999,81.64062499999999,36.32812499999999,38.4083044982699,56.19146722164411,23.828124999999996,57.34525215044696,37.09825528007347,null,32.42187499999999,37.09825528007347,25.390624999999996,25.86451247165533,29.43213296398892,40.83044982698962,49.826989619377166,56.01280292638316,37.72972534382733,67.95360110803324,40.03673094582186,33.13609467455621,44.44444444444445,43.40946894397339,22.476586888657646,28.577960676726104,23.828124999999996,32.00731595793324,43.65990439986451,36.13233467574994,null,25.153150229218223,47.3304887231525,31.249999999999993,42.13351643207141,null,45.7250689505008,null,44.997165532879826,null,46.80384550514421,31.16343490304709,24.87771968291449,24.87771968291449,45.3287197231834,33.74945565394107,32.46191135734072,53.44574504121345,31.615792841281195,31.912223457277065,43.40946894397339,40.03673094582186,38.95429362880886,31.468369660789488,35.37981269510926,32.242063492063494,24.088223117166624,22.20633068613798,38.08864265927978,21.6712580348944,24.242424242424246,28.373702422145332,34.256055363321806,27.700831024930746,26.377898098014718,21.64412070759625,39.446366782006926,35.15624999999999,28.133656509695292,39.68253968253969,35.26170798898072,33.6727656294373,35.294117647058826,34.484157572315304,34.25044224472129,36.32812499999999,29.053287981859416,40.40404040404041,22.375679950619187,28.720083246618103,42.97520661157025,23.051754907792983,32.52595155709343,26.643598615916957,21.504469556417607,36.44444444444444,38.505239237470015,26.666666666666668,26.953124999999996,46.28099173553719,25.209201358495854,48.82812499999999,41.23850730124392,28.084332107116012,34.602076124567475,38.163929834389556,26.555965935105768,31.16343490304709,28.959000152415786,35.294117647058826,34.01764170721095,56.1421772754313,25.2993759487266,36.51263742951032,25.05930702662969,31.615792841281195,42.938300964460296,37.04474505723204,35.71303525786913,39.54840454299622,41.53316720066453,22.481329065691202,35.083029837281565,39.45312499999999,35.74950690335305,26.370238143535232,24.690405462752206,33.70504499982072,22.939750692520775,36.19875019051973,32.928719008264466,41.91434232586495,31.24879441379576,28.303850156087407,31.64556962025316,34.42217361683818,37.42139577948381,41.57652785289346,53.44574504121345,48.62824793148498,23.80869017191275,46.28099173553719,42.57812499999999,32.83097978719196,30.824829931972793,39.767706097714935,40.78768475066883,38.28124999999999,34.41319568055061,34.367913832199555,35.59985760056959,47.46642865836342,30.86300682844026,43.82761139517896,31.22130394857668,24.96494647925858,47.77974539744061,28.344671201814062,49.44973230220108,24.67105263157895,30.470521541950117,26.92743764172336,23.337684427040067,46.68029782801589,33.3275623268698,null,null,null,null,null,null,33.6592970521542,35.751278024658355,31.80465784343901,52.029136316337144,49.24592182209911,23.722810651876106,44.273479460008716,25.476660092044707,36.32812499999999,33.20312499999999,null,null,37.65358699960365,31.22945430637738,41.765511711049484,29.721079103795148,26.48553974966893,34.72088268199529,42.457998539079625,30.477219243084754,34.894398530762174,27.209607806342657,31.17913832199547,34.51676528599605,22.939750692520775,26.22222222222222,24.238227146814403,null,29.43213296398892,28.566481994459835,26.84066824008515,34.666666666666664,18.02595737862522,28.256989886972047,39.79591836734694,22.939750692520775,32.17993079584775,24.46460160337235,26.48553974966893,20.92746730083234,43.51093706736284,37.27906670760054,19.140624999999996,34.42217361683818,32.049981743681286,37.832874196510566,26.07897153351699,40.484429065743946,25.344352617079892,33.20312499999999,41.01562499999999,24.3910588392529,28.804413972169254,31.22945430637738,28.841531805800347,29.752066115702483,34.159779614325075,23.9188302920412,24.801587301587304,35.15624999999999,29.017447199265384,36.48484302508896,26.953124999999996,33.87406375851557,26.22268470343392,32.03987184051263,34.527089072543625,17.361111111111114,47.61080332409972,36.73094582185492,25.79591836734694,25.333333333333332,32.882414151925076,35.492457852706295,22.321428571428577,42.38548483045807,39.1929162432864,27.18163008641324,27.180899908172638,27.005130974885226,32.02036958450677,40.39018442310623,21.64412070759625,47.56242568370987,54.07787213587565,58.81519274376418,42.15439045504159,35.93749999999999,34.894398530762174,32.95068027210885,32.42187499999999,37.52740765727779,28.666129176744597,27.180899908172638,33.07828527515119,32.326530612244895,34.68093539437178,31.14186851211073,null,53.77777777777778,33.856571252693136,35.26170798898072,20.70081674131507,35.81771071483005,22.837370242214536,46.84711481261155,26.753212578395683,32.74492829989838,null,31.64556962025316,null,null,null,null,30.102118579484827,50.51903114186852,32.42187499999999,35.43083900226758,28.604764951635367,26.573129251700685,213.49862258953166,46.76870748299321,31.553659148768332,46.25479579762631],\"xaxis\":\"x\",\"y\":[59.0,54.0,69.0,51.0,67.0,57.0,61.0,73.0,79.0,67.0,65.0,75.0,38.0,76.0,57.0,63.0,44.0,53.0,65.0,58.0,76.0,69.0,58.0,67.0,46.0,53.0,64.0,55.0,81.0,51.0,68.0,64.0,74.0,62.0,47.0,65.0,86.0,31.0,63.0,77.0,68.0,69.0,76.0,41.0,64.0,74.0,64.0,71.0,52.0,61.0,70.0,69.0,65.0,60.0,67.0,60.0,85.0,57.0,65.0,65.0,null,67.0,68.0,74.0,53.0,47.0,69.0,52.0,77.0,63.0,46.0,60.0,83.0,90.0,54.0,73.0,55.0,57.0,78.0,53.0,65.0,56.0,64.0,58.0,58.0,64.0,69.0,59.0,90.0,64.0,64.0,69.0,81.0,67.0,75.0,66.0,58.0,68.0,54.0,70.0,71.0,63.0,57.0,82.0,54.0,60.0,67.0,42.0,56.0,33.0,56.0,45.0,76.0,59.0,63.0,57.0,39.0,62.0,53.0,60.0,62.0,70.0,76.0,59.0,59.0,40.0,74.0,45.0,54.0,56.0,68.0,66.0,81.0,82.0,56.0,60.0,57.0,37.0,77.0,53.0,63.0,81.0,72.0,82.0,59.0,60.0,71.0,63.0,52.0,79.0,67.0,53.0,47.0,80.0,52.0,47.0,77.0,77.0,73.0,70.0,65.0,60.0,69.0,61.0,59.0,58.0,54.0,84.0,70.0,86.0,66.0,67.0,87.0,64.0,35.0,53.0,69.0,67.0,56.0,60.0,35.0,77.0,63.0,83.0,82.0,64.0,62.0,66.0,69.0,33.0,84.0,58.0,60.0,67.0,71.0,76.0,63.0,73.0,66.0,84.0,73.0,54.0,63.0,57.0,63.0,62.0,50.0,60.0,48.0,69.0,54.0,62.0,51.0,58.0,64.0,71.0,88.0,62.0,53.0,55.0,71.0,67.0,65.0,64.0,71.0,43.0,69.0,62.0,87.0,64.0,51.0,63.0,74.0,64.0,61.0,66.0,59.0,61.0,57.0,65.0,60.0,79.0,84.0,55.0,47.0,62.0,54.0,70.0,56.0,73.0,73.0,53.0,70.0,74.0,71.0,71.0,67.0,68.0,47.0,57.0,66.0,62.0,74.0,60.0,73.0,60.0,50.0,73.0,60.0,74.0,73.0,61.0,83.0,52.0,63.0,71.0,53.0,64.0,78.0,68.0,56.0,53.0,77.0,58.0,58.0,89.0,57.0,37.0,67.0,61.0,65.0,74.0,53.0,72.0,69.0,84.0,49.0,63.0,57.0,68.0,62.0,82.0,57.0,61.0,60.0,69.0,74.0,74.0,58.0,47.0,71.0,42.0,75.0,34.0,62.0,39.0,58.0,69.0,65.0,35.0,60.0,64.0,59.0,76.0,63.0,55.0,59.0,68.0,65.0,68.0,54.0,64.0,62.0,55.0,56.0,55.0,48.0,68.0,58.0,55.0,60.0,75.0,59.0,90.0,57.0,54.0,34.0,58.0,80.0,60.0,49.0,87.0,68.0,58.0,45.0,72.0,70.0,78.0,69.0,50.0,64.0,70.0,67.0,63.0,64.0,49.0,73.0,60.0,74.0,62.0,61.0,51.0,44.0,54.0,39.0,70.0,78.0,54.0,56.0,51.0,48.0,67.0,70.0,76.0,59.0,69.0,78.0,58.0,68.0,61.0,74.0,81.0,56.0,46.0,54.0,58.0,59.0,67.0,53.0,53.0,74.0,72.0,66.0,67.0,60.0,77.0,61.0,60.0,70.0,70.0,50.0,53.0,65.0,77.0,81.0,71.0,61.0,61.0,null,84.0,69.0,null,55.0,49.0,87.0,60.0,64.0,55.0,63.0,38.0,63.0,68.0,51.0,67.0,64.0,40.0,76.0,56.0,53.0,65.0,61.0,73.0,71.0,57.0,63.0,65.0,87.0,56.0,58.0,56.0,83.0,36.0,68.0,69.0,73.0,86.0,72.0,51.0,58.0,80.0,43.0,63.0,68.0,72.0,80.0,76.0,86.0,83.0,62.0,51.0,67.0,75.0,70.0,52.0,73.0,74.0,51.0,60.0,65.0,54.0,76.0,67.0,71.0,68.0,66.0,75.0,73.0,76.0,57.0,82.0,83.0,66.0,60.0,55.0,61.0,56.0,63.0,61.0,82.0,64.0,56.0,75.0,83.0,78.0,67.0,72.0,87.0,82.0,60.0,55.0,66.0,44.0,56.0,74.0,68.0,71.0,58.0,63.0,64.0,64.0,79.0,68.0,57.0,71.0,61.0,60.0,55.0,69.0,72.0,76.0,72.0,63.0,72.0,68.0,62.0,73.0,60.0,70.0,74.0,57.0,57.0,55.0,61.0,86.0,85.0,64.0,61.0,73.0,77.0],\"yaxis\":\"y\",\"type\":\"scatter\"},{\"hovertemplate\":\"<b>OLS trendline</b><br>Diagnosis Age = -0.157165 * BMI + 69.0328<br>R<sup>2</sup>=0.029308<br><br>BMI=%{x}<br>Diagnosis Age=%{y} <b>(trend)</b><extra></extra>\",\"legendgroup\":\"Overall Trendline\",\"line\":{\"color\":\"blue\"},\"mode\":\"lines\",\"name\":\"Overall Trendline\",\"showlegend\":true,\"x\":[17.361111111111114,18.02595737862522,18.069727891156464,18.19548277362446,18.749999999999996,19.100091827364558,19.140624999999996,19.721036967980208,19.72386587771203,19.94805976890361,20.23950075898128,20.32443825510934,20.36188625109908,20.70081674131507,20.70081674131507,20.775623268698062,20.811654526534856,20.904195011337873,20.92746730083234,21.28742653523995,21.484374999999996,21.504469556417607,21.513858510523864,21.513858510523864,21.513858510523864,21.612811791383223,21.64412070759625,21.64412070759625,21.6712580348944,21.829952199932254,21.874999999999996,22.10028959000152,22.145328719723185,22.20633068613798,22.265624999999996,22.321428571428577,22.375679950619187,22.476586888657646,22.481329065691202,22.582709172343712,22.600262984878366,22.656249999999996,22.837370242214536,22.939750692520775,22.939750692520775,22.939750692520775,22.95908765854944,22.97193820098194,23.046874999999996,23.051754907792983,23.335466144755166,23.337684427040067,23.384353741496604,23.437499999999996,23.437499999999996,23.507805325987146,23.53036634346221,23.533042706685695,23.634033007530842,23.722810651876106,23.725286160249738,23.725286160249738,23.738662131519277,23.80540166204986,23.80869017191275,23.828124999999996,23.828124999999996,23.828124999999996,23.828124999999996,23.9188302920412,24.005486968449926,24.088223117166624,24.218749999999996,24.238227146814403,24.238227146814403,24.242424242424246,24.300733981352906,24.341758286340216,24.341758286340216,24.341758286340216,24.38652644413961,24.3910588392529,24.456063417102378,24.46460160337235,24.55775234131113,24.560326301478007,24.609733700642796,24.67105263157895,24.690405462752206,24.76756591982929,24.76756591982929,24.801587301587304,24.840980089578082,24.87771968291449,24.87771968291449,24.96494647925858,24.999999999999996,24.999999999999996,25.05930702662969,25.10387811634349,25.153150229218223,25.153150229218223,25.209201358495854,25.236340330075304,25.282569898869724,25.2993759487266,25.2993759487266,25.333333333333332,25.333333333333332,25.344352617079892,25.390624999999996,25.390624999999996,25.476660092044707,25.605536332179934,25.63691716071142,25.79591836734694,25.806451612903224,25.86451247165533,25.86451247165533,25.969529085872576,25.969529085872576,25.969529085872576,26.07897153351699,26.07897153351699,26.171874999999996,26.22222222222222,26.22268470343392,26.314635323012148,26.370238143535232,26.377898098014718,26.40235457063712,26.48553974966893,26.48553974966893,26.555965935105768,26.573129251700685,26.609712545078956,26.643598615916957,26.666666666666668,26.753212578395683,26.84066824008515,26.854405574103644,26.89232313815483,26.92743764172336,26.92743764172336,26.953124999999996,26.953124999999996,27.005130974885226,27.055150884495315,27.09925100681245,27.12031558185404,27.180899908172638,27.180899908172638,27.18163008641324,27.209607806342657,27.239224483255885,27.513384889946465,27.587326057852245,27.700831024930746,27.717685235262305,27.734374999999993,27.776706145596233,27.776706145596233,27.85200797922391,27.99036281179139,28.084332107116012,28.088991030674453,28.124999999999993,28.133656509695292,28.256989886972047,28.303850156087407,28.303850156087407,28.344671201814062,28.344671201814062,28.360351528307834,28.373702422145332,28.393726338561386,28.398718000730252,28.515624999999993,28.54828131630724,28.54828131630724,28.566481994459835,28.577960676726104,28.577960676726104,28.604764951635367,28.604764951635367,28.666129176744597,28.720083246618103,28.804413972169254,28.804413972169254,28.804413972169254,28.841531805800347,28.959000152415786,28.959000152415786,29.017447199265384,29.053287981859416,29.1363163371488,29.21010994360826,29.296874999999993,29.296874999999993,29.296874999999993,29.319856487018246,29.333333333333332,29.384756657483933,29.43213296398892,29.43213296398892,29.642685467072578,29.721079103795148,29.72651605231867,29.752066115702483,30.078124999999993,30.102118579484827,30.119375573921033,30.11940191473341,30.443839128344813,30.470521541950117,30.477219243084754,30.614821360939274,30.78090740428403,30.824829931972793,30.85399449035813,30.859607376561577,30.86300682844026,31.14186851211073,31.14186851211073,31.16343490304709,31.16343490304709,31.17913832199547,31.1950948402596,31.20256367009614,31.22130394857668,31.22945430637738,31.22945430637738,31.238589800803275,31.24879441379576,31.249999999999993,31.249999999999993,31.249999999999993,31.431788328016516,31.468369660789488,31.533446712018144,31.553659148768332,31.577562387614577,31.596260387811633,31.615792841281195,31.615792841281195,31.634581999151262,31.64556962025316,31.64556962025316,31.80465784343901,31.912223457277065,31.95592286501378,31.992171327486922,32.00731595793324,32.02036958450677,32.03987184051263,32.049981743681286,32.17993079584775,32.242063492063494,32.326530612244895,32.36854981369265,32.42187499999999,32.42187499999999,32.42187499999999,32.46191135734072,32.52595155709343,32.718619869125526,32.74492829989838,32.74492829989838,32.769394909312595,32.83097978719196,32.87310979618672,32.882414151925076,32.89473684210526,32.928719008264466,32.95068027210885,33.07828527515119,33.13609467455621,33.15043438500228,33.17773234057328,33.20312499999999,33.20312499999999,33.20312499999999,33.21799307958478,33.22653376053162,33.247876942797625,33.386558281318045,33.425160697887975,33.56351992592878,33.6592970521542,33.6727656294373,33.70504499982072,33.74945565394107,33.856571252693136,33.87406375851557,33.94930751128428,34.01764170721095,34.0784616008763,34.11235302656409,34.159779614325075,34.25044224472129,34.256055363321806,34.367913832199555,34.367913832199555,34.37499999999999,34.41319568055061,34.42217361683818,34.42217361683818,34.484157572315304,34.51676528599605,34.527089072543625,34.602076124567475,34.62603878116344,34.62682073092702,34.62682073092702,34.666666666666664,34.68093539437178,34.72088268199529,34.85018426534209,34.894398530762174,34.894398530762174,35.083029837281565,35.111111111111114,35.15624999999999,35.15624999999999,35.26170798898072,35.26170798898072,35.294117647058826,35.294117647058826,35.33859303090072,35.37981269510926,35.43083900226758,35.492457852706295,35.54687499999999,35.59985760056959,35.62901744719927,35.65133792661432,35.71303525786913,35.74950690335305,35.751278024658355,35.75595618954421,35.81771071483005,35.93749999999999,36.13233467574994,36.19875019051973,36.289737262302225,36.295922232041406,36.32812499999999,36.32812499999999,36.32812499999999,36.388011107919176,36.39096554724892,36.44444444444444,36.48484302508896,36.49376417233561,36.51263742951032,36.73094582185492,36.79016620498615,37.04474505723204,37.09825528007347,37.09825528007347,37.10937499999999,37.27906670760054,37.42139577948381,37.52740765727779,37.65358699960365,37.72972534382733,37.80718336483932,37.832874196510566,37.89062499999999,37.98388162240719,38.01956512452475,38.062283737024224,38.08864265927978,38.163929834389556,38.28124999999999,38.28124999999999,38.28656366830323,38.366381010434225,38.36873541394723,38.39060559298431,38.4083044982699,38.505239237470015,38.64447086801427,38.67187499999999,38.70967741935483,38.95429362880886,38.97392290249434,39.08350962745168,39.10034602076125,39.12591050988553,39.1929162432864,39.25652940233936,39.446366782006926,39.45312499999999,39.54840454299622,39.68253968253969,39.767706097714935,39.7923875432526,39.79591836734694,39.84374999999999,40.03673094582186,40.03673094582186,40.036848072562364,40.15466983938133,40.39018442310623,40.39115646258504,40.40404040404041,40.484429065743946,40.507696462327836,40.56959714390036,40.56959714390036,40.68047337278106,40.76313942998429,40.78768475066883,40.78768475066883,40.83044982698962,41.01562499999999,41.23850730124392,41.25941355551994,41.370300479024536,41.53316720066453,41.57652785289346,41.765511711049484,41.79687499999999,41.91434232586495,42.13351643207141,42.15439045504159,42.15439045504159,42.16269841269842,42.192381029656374,42.24058769513316,42.38548483045807,42.457998539079625,42.57812499999999,42.57812499999999,42.938300964460296,42.97520661157025,42.97520661157025,43.18478734213964,43.20820955981636,43.28352591365878,43.28352591365878,43.40946894397339,43.40946894397339,43.51093706736284,43.65990439986451,43.82761139517896,44.14062499999999,44.273479460008716,44.44444444444445,44.811753902663,44.997165532879826,44.997165532879826,45.3287197231834,45.67474048442907,45.70312499999999,45.7250689505008,45.908722657304885,46.25479579762631,46.28099173553719,46.28099173553719,46.28099173553719,46.655036715485416,46.68029782801589,46.76870748299321,46.76870748299321,46.80384550514421,46.84711481261155,46.86785550983081,47.03433922996878,47.268066015061684,47.3304887231525,47.3304887231525,47.46642865836342,47.477324263038554,47.56242568370987,47.61080332409972,47.673469387755105,47.77974539744061,47.80006774812752,47.87212462980242,48.62824793148498,48.82812499999999,48.909279778393355,48.909279778393355,48.9292032067447,49.04869269411811,49.24592182209911,49.44973230220108,49.53173777315296,49.60317460317461,49.826989619377166,49.954086317722684,50.51903114186852,50.722012318203,52.029136316337144,53.44574504121345,53.44574504121345,53.77777777777778,54.07787213587565,54.574880499830634,54.87902579714788,56.01280292638316,56.1421772754313,56.19146722164411,56.249092756568444,57.203131972899506,57.34525215044696,57.421874999999986,58.81519274376418,59.37887137425776,61.02839335180055,61.34067952249771,67.95360110803324,81.64062499999999,213.49862258953166],\"y\":[66.30421411131711,66.199723787986,66.19284461120449,66.17308039055439,66.0859298910964,66.0309078355862,66.02453745415932,65.93331721699644,65.93287261242092,65.89763726054468,65.85183304267787,65.83848387179881,65.83259837104433,65.77933048305293,65.77933048305293,65.76757354221493,65.76191070260019,65.74736661075406,65.74370902978723,65.6871361668156,65.65618283253687,65.6530246788405,65.65154906726194,65.65154906726194,65.65154906726194,65.63599711064145,65.63107645614116,65.63107645614116,65.6268114279049,65.60187031681531,65.59479039559979,65.55938283861612,65.5523042800724,65.54271692806944,65.53339795866272,65.52462761052885,65.51610121212703,65.50024220968213,65.49949690714267,65.48356353932357,65.48080470072122,65.47200552172563,65.44353982432229,65.42744923785442,65.42744923785442,65.42744923785442,65.42441015057769,65.422390499721,65.41061308478857,65.40984613584408,65.36525676183182,65.36490812629829,65.35757336035994,65.3492206478515,65.3492206478515,65.33817113670395,65.33462534254697,65.3342047128883,65.31833260875801,65.30437990237237,65.30399083999359,65.30399083999359,65.30188861030364,65.2913995161102,65.2908826786462,65.28782821091441,65.28782821091441,65.28782821091441,65.28782821091441,65.27357254647538,65.25995318124889,65.24694998434006,65.22643577397734,65.2233746552381,65.2233746552381,65.22271502022357,65.2135507911804,65.20710322111493,65.20710322111493,65.20710322111493,65.20006724977544,65.19935491753566,65.18913849655327,65.1877965955942,65.17315659353456,65.17275205801526,65.16498696198339,65.15534979436599,65.15230821364955,65.140181318302,65.140181318302,65.13483436013472,65.12864320684832,65.1228690419408,65.1228690419408,65.10916007402074,65.10365090010319,65.10365090010319,65.09432993269893,65.08732493349389,65.0795810996829,65.0795810996829,65.07077184420916,65.06650655755001,65.0592409040797,65.05659958732835,65.05659958732835,65.05126268725022,65.05126268725022,65.04953084550301,65.04225846316612,65.04225846316612,65.02873678902152,65.00848200132184,65.00355004474801,64.97856067757671,64.976905223846,64.96778010996582,64.96778010996582,64.95127521174967,64.95127521174967,64.95127521174967,64.93407472902264,64.93407472902264,64.91947358929197,64.91156078630897,64.91148810061648,64.8970367147252,64.88829791753484,64.8870940435577,64.88325035087757,64.87017658228157,64.87017658228157,64.8591080763023,64.8564106098532,64.85066100977211,64.84533531769668,64.84170983583834,64.8281078789027,64.81436294144333,64.81220391830756,64.80624461805841,64.8007258597969,64.8007258597969,64.79668871541782,64.79668871541782,64.78851521517207,64.78065385415745,64.77372287437308,64.77041226805026,64.76089055430208,64.76089055430208,64.7607757961028,64.7563786878624,64.75172399354001,64.70863567231532,64.69701473538679,64.67917576826126,64.6765268823863,64.67390384154366,64.66725088234625,64.66725088234625,64.65541609688132,64.63367160962798,64.61890295929265,64.61817074125551,64.6125114046066,64.61115090738915,64.5917672617272,64.58440248446891,64.58440248446891,64.57798685957168,64.57798685957168,64.5755224667258,64.57342417832139,64.57027712673533,64.56949261395475,64.55111896766951,64.54598654952042,64.54598654952042,64.54312604651705,64.54132200356753,64.54132200356753,64.53710931938959,64.53710931938959,64.52746503312984,64.51898536123939,64.50573155323873,64.50573155323873,64.50573155323873,64.49989794233201,64.48143607209408,64.48143607209408,64.47225026310113,64.46661735945908,64.45356823800988,64.44197049252271,64.42833409379537,64.42833409379537,64.42833409379537,64.42472221669459,64.42260413301457,64.41452220486094,64.40707632477283,64.40707632477283,64.37398491672802,64.3616642091472,64.36080971309764,64.35679414662076,64.30554921992122,64.30177827767375,64.29906608838057,64.2990619485363,64.24807189112401,64.24387835923386,64.24282571745586,64.22119953033831,64.19509667736635,64.18819360917756,64.1836099719002,64.18272782466876,64.18219355104294,64.13836635532094,64.13836635532094,64.13497688128442,64.13497688128442,64.13250885912124,64.13000105869561,64.1288272227539,64.12588191366001,64.12460096562214,64.12460096562214,64.12316518894262,64.12156138463003,64.12137190911,64.12137190911,64.12137190911,64.09280121224305,64.08705192029977,64.07682410906494,64.0736474287487,64.06989068485505,64.0669520204123,64.06388220942259,64.06388220942259,64.06092921821711,64.05920235271802,64.05920235271802,64.03419930962202,64.0172937988018,64.01042579717962,64.00472882067672,64.00234862030652,64.00029705180421,63.99723198678796,63.99564306751059,63.975219671695776,63.965454608952335,63.952179364538914,63.94557543193085,63.93719459829877,63.93719459829877,63.93719459829877,63.930902298668094,63.920837443820716,63.89055679819844,63.88642204318497,63.88642204318497,63.88257675735962,63.87289779228702,63.86627644465087,63.86481412894423,63.86287743779599,63.85753664293413,63.854085108839726,63.83403011465827,63.82494452129547,63.82269082588618,63.818400552565464,63.814409724424614,63.814409724424614,63.814409724424614,63.81207298807061,63.81073069503655,63.80737630151002,63.78558049906659,63.779513564218874,63.75776838615255,63.742715608727124,63.74059882464652,63.7355256490673,63.72854586466431,63.71171108030242,63.70896187694735,63.69713621973964,63.68639650053561,63.6768377639305,63.671511230262034,63.6640574477385,63.64980848820148,63.64892630444544,63.631346108614515,63.631346108614515,63.63023241361339,63.62422940328514,63.6228183891735,63.6228183891735,63.61307670321449,63.60795192367962,63.60632938949831,63.594544076570386,63.590777994307565,63.5906550994556,63.5906550994556,63.58439272736704,63.58215018793457,63.57587188691381,63.55555025030202,63.54860133125812,63.54860133125812,63.51895516014811,63.51454177689641,63.50744753973924,63.50744753973924,63.49087327301793,63.49087327301793,63.48577962082027,63.48577962082027,63.47878966319399,63.47231138956714,63.464291858445605,63.454607554087985,63.44605510280216,63.43772811153373,63.433145214777745,63.42963722469802,63.41994058593131,63.41420853295118,63.413930175311386,63.41319493321798,63.40348930557205,63.38466266586509,63.35404154447211,63.343603374098606,63.32930342384838,63.328331365314824,63.32327022892802,63.32327022892802,63.32327022892802,63.31385825042219,63.31339391703279,63.30498892548453,63.29863969715924,63.29723760827669,63.2942713996344,63.25996104005718,63.25065368994704,63.21064289664907,63.20223298181699,63.20223298181699,63.200485355053864,63.17381581916238,63.15144672202342,63.13478540356698,63.114954472836736,63.10298821748634,63.09081455561051,63.08677686533662,63.07770048117971,63.06304383782586,63.05743565311304,63.05072179781982,63.04657910733073,63.03474662566647,63.01630804424264,63.01630804424264,63.01547292348434,63.00292845975759,63.00255843078045,62.999121211996865,62.996339569944766,62.98110485669458,62.95922256780412,62.954915607305566,62.94897440373101,62.910529385586514,62.90744435788256,62.89022119986379,62.887575114194654,62.88355728050149,62.87302634863017,62.86302860948002,62.833192886319594,62.83213073343141,62.817156158494356,62.79607485776995,62.782689708911576,62.77881065844454,62.77825573775194,62.770738296494336,62.74040851589549,62.74040851589549,62.74039010771365,62.72187269231718,62.6848581278907,62.68470535765735,62.6826804576553,62.67004620269443,62.66638939072011,62.65666079247422,62.65666079247422,62.63923497003741,62.62624278903597,62.622385132582274,62.622385132582274,62.61566397481937,62.586560985683114,62.55153176936693,62.54824604547002,62.530818542216515,62.50522165277669,62.49840689154145,62.46870531178089,62.46377611180896,62.44531440199692,62.41086798281351,62.40758732453813,62.40758732453813,62.40628160737583,62.40161654961015,62.39404016645436,62.3712674605528,62.35987086974672,62.340991237934816,62.340991237934816,62.2843843126628,62.278584049973986,62.278584049973986,62.24564537020513,62.24196422582972,62.230127158300505,62.230127158300505,62.21033336746209,62.21033336746209,62.19438616652434,62.17097376955463,62.144616160252234,62.09542149018651,62.074541466998305,62.04767181701323,61.989943758773045,61.960803606925396,61.960803606925396,61.908695012443644,61.854312784568585,61.84985174243821,61.8464029293892,61.81753906093933,61.76314860092577,61.75903152581229,61.75903152581229,61.75903152581229,61.70024488173395,61.69627472811351,61.68237985664388,61.68237985664388,61.676857402092836,61.67005699702404,61.66679729284211,61.64063193914069,61.60389835344002,61.594087711085066,61.594087711085066,61.572722760301914,61.57101035653127,61.557635422510614,61.550032168144405,61.5401832789001,61.523480448250396,61.52028649335002,61.508961699585896,61.39012585417099,61.358712246941614,61.34595758552809,61.34595758552809,61.3428263271124,61.324046805017765,61.29304936040534,61.261017559965595,61.24812919976359,61.23690185619345,61.20172605006791,61.18175094341041,61.0929615943178,61.06106013110493,60.855626460386496,60.632985662161914,60.632985662161914,60.580801857130055,60.53363763580603,60.45552549592429,60.40772461020203,60.22953493747941,60.209201864672465,60.20145522809133,60.19239853172319,60.04245730311749,60.02012103678132,60.00807863432596,59.789098354729546,59.700508006504634,59.441261481109144,59.39218113796458,58.35286370715546,56.20174754422731,35.47833301196665],\"type\":\"scatter\",\"xaxis\":\"x\",\"yaxis\":\"y\"}],                        {\"template\":{\"data\":{\"bar\":[{\"error_x\":{\"color\":\"#2a3f5f\"},\"error_y\":{\"color\":\"#2a3f5f\"},\"marker\":{\"line\":{\"color\":\"#E5ECF6\",\"width\":0.5},\"pattern\":{\"fillmode\":\"overlay\",\"size\":10,\"solidity\":0.2}},\"type\":\"bar\"}],\"barpolar\":[{\"marker\":{\"line\":{\"color\":\"#E5ECF6\",\"width\":0.5},\"pattern\":{\"fillmode\":\"overlay\",\"size\":10,\"solidity\":0.2}},\"type\":\"barpolar\"}],\"carpet\":[{\"aaxis\":{\"endlinecolor\":\"#2a3f5f\",\"gridcolor\":\"white\",\"linecolor\":\"white\",\"minorgridcolor\":\"white\",\"startlinecolor\":\"#2a3f5f\"},\"baxis\":{\"endlinecolor\":\"#2a3f5f\",\"gridcolor\":\"white\",\"linecolor\":\"white\",\"minorgridcolor\":\"white\",\"startlinecolor\":\"#2a3f5f\"},\"type\":\"carpet\"}],\"choropleth\":[{\"colorbar\":{\"outlinewidth\":0,\"ticks\":\"\"},\"type\":\"choropleth\"}],\"contour\":[{\"colorbar\":{\"outlinewidth\":0,\"ticks\":\"\"},\"colorscale\":[[0.0,\"#0d0887\"],[0.1111111111111111,\"#46039f\"],[0.2222222222222222,\"#7201a8\"],[0.3333333333333333,\"#9c179e\"],[0.4444444444444444,\"#bd3786\"],[0.5555555555555556,\"#d8576b\"],[0.6666666666666666,\"#ed7953\"],[0.7777777777777778,\"#fb9f3a\"],[0.8888888888888888,\"#fdca26\"],[1.0,\"#f0f921\"]],\"type\":\"contour\"}],\"contourcarpet\":[{\"colorbar\":{\"outlinewidth\":0,\"ticks\":\"\"},\"type\":\"contourcarpet\"}],\"heatmap\":[{\"colorbar\":{\"outlinewidth\":0,\"ticks\":\"\"},\"colorscale\":[[0.0,\"#0d0887\"],[0.1111111111111111,\"#46039f\"],[0.2222222222222222,\"#7201a8\"],[0.3333333333333333,\"#9c179e\"],[0.4444444444444444,\"#bd3786\"],[0.5555555555555556,\"#d8576b\"],[0.6666666666666666,\"#ed7953\"],[0.7777777777777778,\"#fb9f3a\"],[0.8888888888888888,\"#fdca26\"],[1.0,\"#f0f921\"]],\"type\":\"heatmap\"}],\"heatmapgl\":[{\"colorbar\":{\"outlinewidth\":0,\"ticks\":\"\"},\"colorscale\":[[0.0,\"#0d0887\"],[0.1111111111111111,\"#46039f\"],[0.2222222222222222,\"#7201a8\"],[0.3333333333333333,\"#9c179e\"],[0.4444444444444444,\"#bd3786\"],[0.5555555555555556,\"#d8576b\"],[0.6666666666666666,\"#ed7953\"],[0.7777777777777778,\"#fb9f3a\"],[0.8888888888888888,\"#fdca26\"],[1.0,\"#f0f921\"]],\"type\":\"heatmapgl\"}],\"histogram\":[{\"marker\":{\"pattern\":{\"fillmode\":\"overlay\",\"size\":10,\"solidity\":0.2}},\"type\":\"histogram\"}],\"histogram2d\":[{\"colorbar\":{\"outlinewidth\":0,\"ticks\":\"\"},\"colorscale\":[[0.0,\"#0d0887\"],[0.1111111111111111,\"#46039f\"],[0.2222222222222222,\"#7201a8\"],[0.3333333333333333,\"#9c179e\"],[0.4444444444444444,\"#bd3786\"],[0.5555555555555556,\"#d8576b\"],[0.6666666666666666,\"#ed7953\"],[0.7777777777777778,\"#fb9f3a\"],[0.8888888888888888,\"#fdca26\"],[1.0,\"#f0f921\"]],\"type\":\"histogram2d\"}],\"histogram2dcontour\":[{\"colorbar\":{\"outlinewidth\":0,\"ticks\":\"\"},\"colorscale\":[[0.0,\"#0d0887\"],[0.1111111111111111,\"#46039f\"],[0.2222222222222222,\"#7201a8\"],[0.3333333333333333,\"#9c179e\"],[0.4444444444444444,\"#bd3786\"],[0.5555555555555556,\"#d8576b\"],[0.6666666666666666,\"#ed7953\"],[0.7777777777777778,\"#fb9f3a\"],[0.8888888888888888,\"#fdca26\"],[1.0,\"#f0f921\"]],\"type\":\"histogram2dcontour\"}],\"mesh3d\":[{\"colorbar\":{\"outlinewidth\":0,\"ticks\":\"\"},\"type\":\"mesh3d\"}],\"parcoords\":[{\"line\":{\"colorbar\":{\"outlinewidth\":0,\"ticks\":\"\"}},\"type\":\"parcoords\"}],\"pie\":[{\"automargin\":true,\"type\":\"pie\"}],\"scatter\":[{\"marker\":{\"colorbar\":{\"outlinewidth\":0,\"ticks\":\"\"}},\"type\":\"scatter\"}],\"scatter3d\":[{\"line\":{\"colorbar\":{\"outlinewidth\":0,\"ticks\":\"\"}},\"marker\":{\"colorbar\":{\"outlinewidth\":0,\"ticks\":\"\"}},\"type\":\"scatter3d\"}],\"scattercarpet\":[{\"marker\":{\"colorbar\":{\"outlinewidth\":0,\"ticks\":\"\"}},\"type\":\"scattercarpet\"}],\"scattergeo\":[{\"marker\":{\"colorbar\":{\"outlinewidth\":0,\"ticks\":\"\"}},\"type\":\"scattergeo\"}],\"scattergl\":[{\"marker\":{\"colorbar\":{\"outlinewidth\":0,\"ticks\":\"\"}},\"type\":\"scattergl\"}],\"scattermapbox\":[{\"marker\":{\"colorbar\":{\"outlinewidth\":0,\"ticks\":\"\"}},\"type\":\"scattermapbox\"}],\"scatterpolar\":[{\"marker\":{\"colorbar\":{\"outlinewidth\":0,\"ticks\":\"\"}},\"type\":\"scatterpolar\"}],\"scatterpolargl\":[{\"marker\":{\"colorbar\":{\"outlinewidth\":0,\"ticks\":\"\"}},\"type\":\"scatterpolargl\"}],\"scatterternary\":[{\"marker\":{\"colorbar\":{\"outlinewidth\":0,\"ticks\":\"\"}},\"type\":\"scatterternary\"}],\"surface\":[{\"colorbar\":{\"outlinewidth\":0,\"ticks\":\"\"},\"colorscale\":[[0.0,\"#0d0887\"],[0.1111111111111111,\"#46039f\"],[0.2222222222222222,\"#7201a8\"],[0.3333333333333333,\"#9c179e\"],[0.4444444444444444,\"#bd3786\"],[0.5555555555555556,\"#d8576b\"],[0.6666666666666666,\"#ed7953\"],[0.7777777777777778,\"#fb9f3a\"],[0.8888888888888888,\"#fdca26\"],[1.0,\"#f0f921\"]],\"type\":\"surface\"}],\"table\":[{\"cells\":{\"fill\":{\"color\":\"#EBF0F8\"},\"line\":{\"color\":\"white\"}},\"header\":{\"fill\":{\"color\":\"#C8D4E3\"},\"line\":{\"color\":\"white\"}},\"type\":\"table\"}]},\"layout\":{\"annotationdefaults\":{\"arrowcolor\":\"#2a3f5f\",\"arrowhead\":0,\"arrowwidth\":1},\"autotypenumbers\":\"strict\",\"coloraxis\":{\"colorbar\":{\"outlinewidth\":0,\"ticks\":\"\"}},\"colorscale\":{\"diverging\":[[0,\"#8e0152\"],[0.1,\"#c51b7d\"],[0.2,\"#de77ae\"],[0.3,\"#f1b6da\"],[0.4,\"#fde0ef\"],[0.5,\"#f7f7f7\"],[0.6,\"#e6f5d0\"],[0.7,\"#b8e186\"],[0.8,\"#7fbc41\"],[0.9,\"#4d9221\"],[1,\"#276419\"]],\"sequential\":[[0.0,\"#0d0887\"],[0.1111111111111111,\"#46039f\"],[0.2222222222222222,\"#7201a8\"],[0.3333333333333333,\"#9c179e\"],[0.4444444444444444,\"#bd3786\"],[0.5555555555555556,\"#d8576b\"],[0.6666666666666666,\"#ed7953\"],[0.7777777777777778,\"#fb9f3a\"],[0.8888888888888888,\"#fdca26\"],[1.0,\"#f0f921\"]],\"sequentialminus\":[[0.0,\"#0d0887\"],[0.1111111111111111,\"#46039f\"],[0.2222222222222222,\"#7201a8\"],[0.3333333333333333,\"#9c179e\"],[0.4444444444444444,\"#bd3786\"],[0.5555555555555556,\"#d8576b\"],[0.6666666666666666,\"#ed7953\"],[0.7777777777777778,\"#fb9f3a\"],[0.8888888888888888,\"#fdca26\"],[1.0,\"#f0f921\"]]},\"colorway\":[\"#636efa\",\"#EF553B\",\"#00cc96\",\"#ab63fa\",\"#FFA15A\",\"#19d3f3\",\"#FF6692\",\"#B6E880\",\"#FF97FF\",\"#FECB52\"],\"font\":{\"color\":\"#2a3f5f\"},\"geo\":{\"bgcolor\":\"white\",\"lakecolor\":\"white\",\"landcolor\":\"#E5ECF6\",\"showlakes\":true,\"showland\":true,\"subunitcolor\":\"white\"},\"hoverlabel\":{\"align\":\"left\"},\"hovermode\":\"closest\",\"mapbox\":{\"style\":\"light\"},\"paper_bgcolor\":\"white\",\"plot_bgcolor\":\"#E5ECF6\",\"polar\":{\"angularaxis\":{\"gridcolor\":\"white\",\"linecolor\":\"white\",\"ticks\":\"\"},\"bgcolor\":\"#E5ECF6\",\"radialaxis\":{\"gridcolor\":\"white\",\"linecolor\":\"white\",\"ticks\":\"\"}},\"scene\":{\"xaxis\":{\"backgroundcolor\":\"#E5ECF6\",\"gridcolor\":\"white\",\"gridwidth\":2,\"linecolor\":\"white\",\"showbackground\":true,\"ticks\":\"\",\"zerolinecolor\":\"white\"},\"yaxis\":{\"backgroundcolor\":\"#E5ECF6\",\"gridcolor\":\"white\",\"gridwidth\":2,\"linecolor\":\"white\",\"showbackground\":true,\"ticks\":\"\",\"zerolinecolor\":\"white\"},\"zaxis\":{\"backgroundcolor\":\"#E5ECF6\",\"gridcolor\":\"white\",\"gridwidth\":2,\"linecolor\":\"white\",\"showbackground\":true,\"ticks\":\"\",\"zerolinecolor\":\"white\"}},\"shapedefaults\":{\"line\":{\"color\":\"#2a3f5f\"}},\"ternary\":{\"aaxis\":{\"gridcolor\":\"white\",\"linecolor\":\"white\",\"ticks\":\"\"},\"baxis\":{\"gridcolor\":\"white\",\"linecolor\":\"white\",\"ticks\":\"\"},\"bgcolor\":\"#E5ECF6\",\"caxis\":{\"gridcolor\":\"white\",\"linecolor\":\"white\",\"ticks\":\"\"}},\"title\":{\"x\":0.05},\"xaxis\":{\"automargin\":true,\"gridcolor\":\"white\",\"linecolor\":\"white\",\"ticks\":\"\",\"title\":{\"standoff\":15},\"zerolinecolor\":\"white\",\"zerolinewidth\":2},\"yaxis\":{\"automargin\":true,\"gridcolor\":\"white\",\"linecolor\":\"white\",\"ticks\":\"\",\"title\":{\"standoff\":15},\"zerolinecolor\":\"white\",\"zerolinewidth\":2}}},\"xaxis\":{\"anchor\":\"y\",\"domain\":[0.0,1.0],\"title\":{\"text\":\"BMI\"},\"range\":[15,70]},\"yaxis\":{\"anchor\":\"x\",\"domain\":[0.0,1.0],\"title\":{\"text\":\"Diagnosis Age\"},\"range\":[30,95]},\"legend\":{\"tracegroupgap\":0},\"margin\":{\"t\":60}},                        {\"responsive\": true}                    ).then(function(){\n",
              "                            \n",
              "var gd = document.getElementById('8f689112-7ce3-45c7-8f99-d5d12b1c875a');\n",
              "var x = new MutationObserver(function (mutations, observer) {{\n",
              "        var display = window.getComputedStyle(gd).display;\n",
              "        if (!display || display === 'none') {{\n",
              "            console.log([gd, 'removed!']);\n",
              "            Plotly.purge(gd);\n",
              "            observer.disconnect();\n",
              "        }}\n",
              "}});\n",
              "\n",
              "// Listen for the removal of the full notebook cells\n",
              "var notebookContainer = gd.closest('#notebook-container');\n",
              "if (notebookContainer) {{\n",
              "    x.observe(notebookContainer, {childList: true});\n",
              "}}\n",
              "\n",
              "// Listen for the clearing of the current output cell\n",
              "var outputEl = gd.closest('.output');\n",
              "if (outputEl) {{\n",
              "    x.observe(outputEl, {childList: true});\n",
              "}}\n",
              "\n",
              "                        })                };                            </script>        </div>\n",
              "</body>\n",
              "</html>"
            ]
          },
          "metadata": {}
        }
      ]
    }
  ]
}