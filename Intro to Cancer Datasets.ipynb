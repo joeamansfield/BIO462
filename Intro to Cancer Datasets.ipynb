{
  "nbformat": 4,
  "nbformat_minor": 0,
  "metadata": {
    "colab": {
      "provenance": []
    },
    "kernelspec": {
      "name": "python3",
      "display_name": "Python 3"
    }
  },
  "cells": [
    {
      "cell_type": "markdown",
      "metadata": {
        "id": "fPkHmuNmkfb1"
      },
      "source": [
        "#**Homework 1 - Pandas Dataframes**\n",
        "Welcome to the cancer data exploration for BIO 462. This is lesson #1.\n",
        "\n",
        "The purpose of this notebook and assignment is to give you practical experience with Pandas dataframes. Your first step will be to save this notebook as a copy so that you can edit it. (File->Save a copy in Drive).\n",
        "\n",
        "License: This document is open source under [CC BY-ND 4.0](https://en.wikipedia.org/wiki/Creative_Commons_license)."
      ]
    },
    {
      "cell_type": "markdown",
      "metadata": {
        "id": "_F7g2fuIgv2z"
      },
      "source": [
        "#**Completing the Assignment**\n",
        "\n",
        "This notebook is your homework #1. To complete the homework and receive credit, you need to work through all 3 sections. Within each thematic section is a mix of explanatory text cells and code cells. Some code cells have code written for you; some ask you to write code. You should work through the cells and make sure you understand the syntax and what is happening. At the end of each section are 'Practice Problems'. You should write code to answer the questions - following the directions given. Once you are ready to submit your answer, run the submission code block below every question block. If you get a question wrong, fix your code and try again. If you get stumped, ask for a hint using the hint code block below each submission code block.\n",
        "\n",
        "You should derive all answers with software code. Unless instructed otherwise, you should not take any shortcuts, like printing out a table, manually looking up an answer, and explicitly declaring the variable - answer_1 = \"KRAS\". These type of shortcuts prevent your learning to code, and will not be feasible on later homeworks where datasets are larger and homeworks are harder. Please take the time now to learn.\n",
        "\n",
        "Have fun."
      ]
    },
    {
      "cell_type": "markdown",
      "metadata": {
        "id": "T7raG37Lfq02"
      },
      "source": [
        "# **Learning Outcomes**\n",
        "#### Biological\n",
        "\n",
        "*   Locate proteogenomic cancer datasets from real tumor samples.\n",
        "\n",
        "#### Computational\n",
        "\n",
        "*   Manipulate Pandas DataFrame.\n",
        "*   Select relevant clinical cancer data."
      ]
    },
    {
      "cell_type": "markdown",
      "metadata": {
        "id": "X5x-cbv2o15q"
      },
      "source": [
        "# **Topics and Background Reading**\n",
        "The main topic for this course is cancer. It will be helpful to start the course with a solid understanding of how molecular data is used in cancer research and treatment.\n",
        "\n",
        "- The next horizon in precision oncology. [Rodriguez et al. 2021](https://doi.org/10.1016/j.cell.2021.02.055)\n",
        "\n",
        "The topics in this first homework are an introduction to the cancer dataset that we will use all semester and also an introduction to Pandas and dataframes.\n",
        "\n",
        "- The cancer dataset that we will be using is from the Clinical Proteome Tumor Analysis Consortium, or CPTAC. The dataset consists of a comprehensive molecular characterization of 10 different cancer types, and also the associated clinical information for each patient. You can read more about the dataset and the API we created to access the data [here](https://pubs.acs.org/doi/10.1021/acs.jproteome.0c00919).\n",
        "- Pandas is a software library for matrix variables for Python. It is similar to a spreadsheet, or if you've had some C/Java programming a 2D array. The matrix is typically called a dataframe and can hold any type of information you want including numbers, text, binary variables, etc. If you'd like more inforation about Pandas and dataframes, you can go [here](https://pandas.pydata.org/pandas-docs/stable/index.html).\n",
        "\n",
        "Throughout the course we will be learning more about both the CPTAC data and programming with Pandas. So let's start our first assignment."
      ]
    },
    {
      "cell_type": "markdown",
      "metadata": {
        "id": "SWczr0_dVvt3"
      },
      "source": [
        "# Part 1. Setup\n",
        "\n",
        "Google Colabs is a web service that allows you to write interactive Python (iPython) in notebooks. This web service runs on a virtual computer (virtual machine or VM) that is set up just for you. Initially, that VM only includes the most common Python libraries. So we first need to install our cptac package on the VM. This is done with a server directive, which is recognized because it starts with '!'."
      ]
    },
    {
      "cell_type": "code",
      "metadata": {
        "id": "L92mAZndkeNR",
        "outputId": "20b4a9cd-f93b-4c71-9d63-40858f95d373",
        "colab": {
          "base_uri": "https://localhost:8080/"
        }
      },
      "source": [
        "#This first cell is code required to get our VM ready.\n",
        "!pip install cptac\n",
        "!pip install biograder"
      ],
      "execution_count": null,
      "outputs": [
        {
          "output_type": "stream",
          "name": "stdout",
          "text": [
            "Looking in indexes: https://pypi.org/simple, https://us-python.pkg.dev/colab-wheels/public/simple/\n",
            "Collecting cptac\n",
            "  Downloading cptac-1.1.2-py3-none-any.whl (5.6 MB)\n",
            "\u001b[K     |████████████████████████████████| 5.6 MB 5.1 MB/s \n",
            "\u001b[?25hCollecting gtfparse>=1.2.1\n",
            "  Downloading gtfparse-1.2.1.tar.gz (12 kB)\n",
            "Requirement already satisfied: pandas>=1.2.0 in /usr/local/lib/python3.7/dist-packages (from cptac) (1.3.5)\n",
            "Collecting beautifulsoup4>=4.7.1\n",
            "  Downloading beautifulsoup4-4.11.1-py3-none-any.whl (128 kB)\n",
            "\u001b[K     |████████████████████████████████| 128 kB 55.9 MB/s \n",
            "\u001b[?25hRequirement already satisfied: numpy>=1.16.3 in /usr/local/lib/python3.7/dist-packages (from cptac) (1.21.6)\n",
            "Requirement already satisfied: statsmodels>=0.10.0 in /usr/local/lib/python3.7/dist-packages (from cptac) (0.12.2)\n",
            "Collecting mygene>=3.2.2\n",
            "  Downloading mygene-3.2.2-py2.py3-none-any.whl (5.4 kB)\n",
            "Collecting xlrd>=2.0.1\n",
            "  Downloading xlrd-2.0.1-py2.py3-none-any.whl (96 kB)\n",
            "\u001b[K     |████████████████████████████████| 96 kB 5.7 MB/s \n",
            "\u001b[?25hRequirement already satisfied: urllib3>=1.24.2 in /usr/local/lib/python3.7/dist-packages (from cptac) (1.24.3)\n",
            "Requirement already satisfied: flask>=1.1.0 in /usr/local/lib/python3.7/dist-packages (from cptac) (1.1.4)\n",
            "Requirement already satisfied: packaging>=19.2 in /usr/local/lib/python3.7/dist-packages (from cptac) (21.3)\n",
            "Requirement already satisfied: scipy>=1.2.1 in /usr/local/lib/python3.7/dist-packages (from cptac) (1.7.3)\n",
            "Requirement already satisfied: requests>=2.21.0 in /usr/local/lib/python3.7/dist-packages (from cptac) (2.23.0)\n",
            "Requirement already satisfied: openpyxl>=2.6.0 in /usr/local/lib/python3.7/dist-packages (from cptac) (3.0.10)\n",
            "Collecting soupsieve>1.2\n",
            "  Downloading soupsieve-2.3.2.post1-py3-none-any.whl (37 kB)\n",
            "Requirement already satisfied: Jinja2<3.0,>=2.10.1 in /usr/local/lib/python3.7/dist-packages (from flask>=1.1.0->cptac) (2.11.3)\n",
            "Requirement already satisfied: itsdangerous<2.0,>=0.24 in /usr/local/lib/python3.7/dist-packages (from flask>=1.1.0->cptac) (1.1.0)\n",
            "Requirement already satisfied: Werkzeug<2.0,>=0.15 in /usr/local/lib/python3.7/dist-packages (from flask>=1.1.0->cptac) (1.0.1)\n",
            "Requirement already satisfied: click<8.0,>=5.1 in /usr/local/lib/python3.7/dist-packages (from flask>=1.1.0->cptac) (7.1.2)\n",
            "Requirement already satisfied: MarkupSafe>=0.23 in /usr/local/lib/python3.7/dist-packages (from Jinja2<3.0,>=2.10.1->flask>=1.1.0->cptac) (2.0.1)\n",
            "Collecting biothings-client>=0.2.6\n",
            "  Downloading biothings_client-0.2.6-py2.py3-none-any.whl (37 kB)\n",
            "Requirement already satisfied: et-xmlfile in /usr/local/lib/python3.7/dist-packages (from openpyxl>=2.6.0->cptac) (1.1.0)\n",
            "Requirement already satisfied: pyparsing!=3.0.5,>=2.0.2 in /usr/local/lib/python3.7/dist-packages (from packaging>=19.2->cptac) (3.0.9)\n",
            "Requirement already satisfied: pytz>=2017.3 in /usr/local/lib/python3.7/dist-packages (from pandas>=1.2.0->cptac) (2022.6)\n",
            "Requirement already satisfied: python-dateutil>=2.7.3 in /usr/local/lib/python3.7/dist-packages (from pandas>=1.2.0->cptac) (2.8.2)\n",
            "Requirement already satisfied: six>=1.5 in /usr/local/lib/python3.7/dist-packages (from python-dateutil>=2.7.3->pandas>=1.2.0->cptac) (1.15.0)\n",
            "Requirement already satisfied: certifi>=2017.4.17 in /usr/local/lib/python3.7/dist-packages (from requests>=2.21.0->cptac) (2022.9.24)\n",
            "Requirement already satisfied: chardet<4,>=3.0.2 in /usr/local/lib/python3.7/dist-packages (from requests>=2.21.0->cptac) (3.0.4)\n",
            "Requirement already satisfied: idna<3,>=2.5 in /usr/local/lib/python3.7/dist-packages (from requests>=2.21.0->cptac) (2.10)\n",
            "Requirement already satisfied: patsy>=0.5 in /usr/local/lib/python3.7/dist-packages (from statsmodels>=0.10.0->cptac) (0.5.3)\n",
            "Building wheels for collected packages: gtfparse\n",
            "  Building wheel for gtfparse (setup.py) ... \u001b[?25l\u001b[?25hdone\n",
            "  Created wheel for gtfparse: filename=gtfparse-1.2.1-py3-none-any.whl size=11638 sha256=1985795dbce96ab782a10be7c03cc8089df7097e90ba64ab5a52ef83ee5412e5\n",
            "  Stored in directory: /root/.cache/pip/wheels/a9/7a/45/434ba7d04afbfcc5c12195682413f53ecd4580dfd62905a672\n",
            "Successfully built gtfparse\n",
            "Installing collected packages: soupsieve, biothings-client, xlrd, mygene, gtfparse, beautifulsoup4, cptac\n",
            "  Attempting uninstall: xlrd\n",
            "    Found existing installation: xlrd 1.1.0\n",
            "    Uninstalling xlrd-1.1.0:\n",
            "      Successfully uninstalled xlrd-1.1.0\n",
            "  Attempting uninstall: beautifulsoup4\n",
            "    Found existing installation: beautifulsoup4 4.6.3\n",
            "    Uninstalling beautifulsoup4-4.6.3:\n",
            "      Successfully uninstalled beautifulsoup4-4.6.3\n",
            "Successfully installed beautifulsoup4-4.11.1 biothings-client-0.2.6 cptac-1.1.2 gtfparse-1.2.1 mygene-3.2.2 soupsieve-2.3.2.post1 xlrd-2.0.1\n",
            "Looking in indexes: https://pypi.org/simple, https://us-python.pkg.dev/colab-wheels/public/simple/\n",
            "Collecting biograder\n",
            "  Downloading biograder-0.5.1-py3-none-any.whl (20 kB)\n",
            "Installing collected packages: biograder\n",
            "Successfully installed biograder-0.5.1\n"
          ]
        }
      ]
    },
    {
      "cell_type": "markdown",
      "metadata": {
        "id": "An9O60FjbrJO"
      },
      "source": [
        "In order to grade the practice problems and give you credit we need to install the homework autograder package."
      ]
    },
    {
      "cell_type": "code",
      "metadata": {
        "id": "gEXgTBcocNq-",
        "outputId": "c7a5fd78-d3b1-4ea8-a983-87e5147848b4",
        "colab": {
          "base_uri": "https://localhost:8080/",
          "height": 384
        }
      },
      "source": [
        "import biograder\n",
        "#The pandas dataframes homework is #1\n",
        "biograder.download(\"bio462_hw1\")\n",
        "myID = \"joeaman\" #Your student id, or 'temp'\n",
        "hw = biograder.bio462_hw1(student_id = myID) #Instantiate the homework grader object."
      ],
      "execution_count": null,
      "outputs": [
        {
          "output_type": "error",
          "ename": "ModuleNotFoundError",
          "evalue": "ignored",
          "traceback": [
            "\u001b[0;31m---------------------------------------------------------------------------\u001b[0m",
            "\u001b[0;31mModuleNotFoundError\u001b[0m                       Traceback (most recent call last)",
            "\u001b[0;32m<ipython-input-3-a76953063215>\u001b[0m in \u001b[0;36m<module>\u001b[0;34m\u001b[0m\n\u001b[0;32m----> 1\u001b[0;31m \u001b[0;32mimport\u001b[0m \u001b[0mbiograder\u001b[0m\u001b[0;34m\u001b[0m\u001b[0;34m\u001b[0m\u001b[0m\n\u001b[0m\u001b[1;32m      2\u001b[0m \u001b[0;31m#The pandas dataframes homework is #1\u001b[0m\u001b[0;34m\u001b[0m\u001b[0;34m\u001b[0m\u001b[0;34m\u001b[0m\u001b[0m\n\u001b[1;32m      3\u001b[0m \u001b[0mbiograder\u001b[0m\u001b[0;34m.\u001b[0m\u001b[0mdownload\u001b[0m\u001b[0;34m(\u001b[0m\u001b[0;34m\"bio462_hw1\"\u001b[0m\u001b[0;34m)\u001b[0m\u001b[0;34m\u001b[0m\u001b[0;34m\u001b[0m\u001b[0m\n\u001b[1;32m      4\u001b[0m \u001b[0mmyID\u001b[0m \u001b[0;34m=\u001b[0m \u001b[0;34m\"joeaman\"\u001b[0m \u001b[0;31m#Your student id, or 'temp'\u001b[0m\u001b[0;34m\u001b[0m\u001b[0;34m\u001b[0m\u001b[0m\n\u001b[1;32m      5\u001b[0m \u001b[0mhw\u001b[0m \u001b[0;34m=\u001b[0m \u001b[0mbiograder\u001b[0m\u001b[0;34m.\u001b[0m\u001b[0mbio462_hw1\u001b[0m\u001b[0;34m(\u001b[0m\u001b[0mstudent_id\u001b[0m \u001b[0;34m=\u001b[0m \u001b[0mmyID\u001b[0m\u001b[0;34m)\u001b[0m \u001b[0;31m#Instantiate the homework grader object.\u001b[0m\u001b[0;34m\u001b[0m\u001b[0;34m\u001b[0m\u001b[0m\n",
            "\u001b[0;31mModuleNotFoundError\u001b[0m: No module named 'biograder'",
            "",
            "\u001b[0;31m---------------------------------------------------------------------------\u001b[0;32m\nNOTE: If your import is failing due to a missing package, you can\nmanually install dependencies using either !pip or !apt.\n\nTo view examples of installing some common dependencies, click the\n\"Open Examples\" button below.\n\u001b[0;31m---------------------------------------------------------------------------\u001b[0m\n"
          ],
          "errorDetails": {
            "actions": [
              {
                "action": "open_url",
                "actionText": "Open Examples",
                "url": "/notebooks/snippets/importing_libraries.ipynb"
              }
            ]
          }
        }
      ]
    },
    {
      "cell_type": "markdown",
      "metadata": {
        "id": "vU4h_Q7JrMH_"
      },
      "source": [
        "We now have to import the CPTAC package and get our dataframe. Then we will do some basic inspection of the dataframe, the rows and columns. Depending on your internet connection speed, this may take a minute or two. The download is about 100 MB.\n",
        "\n",
        "As you are waiting for your download, I'll explain a bit about the 'cptac' module. CPTAC is a large consortium in the US which examines cancer samples for DNA/RNA/protein measurements in combination with the patient's clinical information (learn more [here](https://proteomics.cancer.gov/programs/cptac)). All this data is processed and stored in tables (spreadsheets). In the Payne Lab we have created a Python module that makes access to these tables convenient (our publication [here](https://pubs.acs.org/doi/10.1021/acs.jproteome.0c00919)). So this is you working with real cancer data, which was used to help improve our understanding of cancer, including [endometrial](https://doi.org/10.1016/j.cell.2020.01.026) and [lung](https://doi.org/10.1016/j.cell.2020.06.013) cancer. In this tutorial, we'll use the clinical data as described in the next few sections. The module also includes data for DNA mutations, RNA and protein abundance, and lots of other stuff."
      ]
    },
    {
      "cell_type": "code",
      "metadata": {
        "id": "SK0qAgiLksjJ",
        "outputId": "6d0179e6-f833-4b69-932b-1406ee5d6454",
        "colab": {
          "base_uri": "https://localhost:8080/",
          "height": 348
        }
      },
      "source": [
        "import cptac\n",
        "cptac.download(\"endometrial\")\n",
        "en = cptac.Endometrial()"
      ],
      "execution_count": null,
      "outputs": [
        {
          "output_type": "error",
          "ename": "ModuleNotFoundError",
          "evalue": "ignored",
          "traceback": [
            "\u001b[0;31m---------------------------------------------------------------------------\u001b[0m",
            "\u001b[0;31mModuleNotFoundError\u001b[0m                       Traceback (most recent call last)",
            "\u001b[0;32m<ipython-input-2-94aed3edcdee>\u001b[0m in \u001b[0;36m<module>\u001b[0;34m\u001b[0m\n\u001b[0;32m----> 1\u001b[0;31m \u001b[0;32mimport\u001b[0m \u001b[0mcptac\u001b[0m\u001b[0;34m\u001b[0m\u001b[0;34m\u001b[0m\u001b[0m\n\u001b[0m\u001b[1;32m      2\u001b[0m \u001b[0mcptac\u001b[0m\u001b[0;34m.\u001b[0m\u001b[0mdownload\u001b[0m\u001b[0;34m(\u001b[0m\u001b[0;34m\"endometrial\"\u001b[0m\u001b[0;34m)\u001b[0m\u001b[0;34m\u001b[0m\u001b[0;34m\u001b[0m\u001b[0m\n\u001b[1;32m      3\u001b[0m \u001b[0men\u001b[0m \u001b[0;34m=\u001b[0m \u001b[0mcptac\u001b[0m\u001b[0;34m.\u001b[0m\u001b[0mEndometrial\u001b[0m\u001b[0;34m(\u001b[0m\u001b[0;34m)\u001b[0m\u001b[0;34m\u001b[0m\u001b[0;34m\u001b[0m\u001b[0m\n",
            "\u001b[0;31mModuleNotFoundError\u001b[0m: No module named 'cptac'",
            "",
            "\u001b[0;31m---------------------------------------------------------------------------\u001b[0;32m\nNOTE: If your import is failing due to a missing package, you can\nmanually install dependencies using either !pip or !apt.\n\nTo view examples of installing some common dependencies, click the\n\"Open Examples\" button below.\n\u001b[0;31m---------------------------------------------------------------------------\u001b[0m\n"
          ],
          "errorDetails": {
            "actions": [
              {
                "action": "open_url",
                "actionText": "Open Examples",
                "url": "/notebooks/snippets/importing_libraries.ipynb"
              }
            ]
          }
        }
      ]
    },
    {
      "cell_type": "markdown",
      "metadata": {
        "id": "EDGgk6CHwM7C"
      },
      "source": [
        "Before we continue, I would like to point out that we will be using the endometrial cohort for this homework, but there are several more cancer types available in the cptac package. The following code lists all the available datasets for various cancers."
      ]
    },
    {
      "cell_type": "code",
      "metadata": {
        "id": "P_yqSvlBwOWf"
      },
      "source": [
        "cptac.list_datasets()"
      ],
      "execution_count": null,
      "outputs": []
    },
    {
      "cell_type": "markdown",
      "metadata": {
        "id": "flyH4nnzk2GE"
      },
      "source": [
        "Now let's pull out clinical data about our cohort. The module makes this easy with just a simple function call to 'get_clinical'. The dataframe we get from this is like a spreadsheet. The rows are different patients; the columns are different data points. For example, there is a column which says which country a patient is from, what their tumor grade is, etc. If you pan over to the far right you'll see the tumor size and the number of pregnancies."
      ]
    },
    {
      "cell_type": "code",
      "metadata": {
        "id": "MnFP_NDgk65y",
        "outputId": "db0fcccf-eac7-4678-fdd6-8923e0226de0",
        "colab": {
          "base_uri": "https://localhost:8080/",
          "height": 187
        }
      },
      "source": [
        "clinical_dataframe = en.get_clinical()#Get the dataframe.\n",
        "clinical_dataframe.head()#Look visually at the first 5 rows.\n"
      ],
      "execution_count": null,
      "outputs": [
        {
          "output_type": "error",
          "ename": "NameError",
          "evalue": "ignored",
          "traceback": [
            "\u001b[0;31m---------------------------------------------------------------------------\u001b[0m",
            "\u001b[0;31mNameError\u001b[0m                                 Traceback (most recent call last)",
            "\u001b[0;32m<ipython-input-1-9cb7db8920ac>\u001b[0m in \u001b[0;36m<module>\u001b[0;34m\u001b[0m\n\u001b[0;32m----> 1\u001b[0;31m \u001b[0mclinical_dataframe\u001b[0m \u001b[0;34m=\u001b[0m \u001b[0men\u001b[0m\u001b[0;34m.\u001b[0m\u001b[0mget_clinical\u001b[0m\u001b[0;34m(\u001b[0m\u001b[0;34m)\u001b[0m\u001b[0;31m#Get the dataframe.\u001b[0m\u001b[0;34m\u001b[0m\u001b[0;34m\u001b[0m\u001b[0m\n\u001b[0m\u001b[1;32m      2\u001b[0m \u001b[0mclinical_dataframe\u001b[0m\u001b[0;34m.\u001b[0m\u001b[0mhead\u001b[0m\u001b[0;34m(\u001b[0m\u001b[0;34m)\u001b[0m\u001b[0;31m#Look visually at the first 5 rows.\u001b[0m\u001b[0;34m\u001b[0m\u001b[0;34m\u001b[0m\u001b[0m\n",
            "\u001b[0;31mNameError\u001b[0m: name 'en' is not defined"
          ]
        }
      ]
    },
    {
      "cell_type": "markdown",
      "metadata": {
        "id": "a-_FnobDyVdM"
      },
      "source": [
        "You can get a list of the column headers or row headers by simply asking for them, as seen in the code below."
      ]
    },
    {
      "cell_type": "code",
      "metadata": {
        "id": "Gd-bHWNPlzrO",
        "outputId": "f405dfc0-883a-47c4-eec8-333fe2019f13",
        "colab": {
          "base_uri": "https://localhost:8080/"
        }
      },
      "source": [
        "cols = list(clinical_dataframe.columns)\n",
        "print(cols)\n",
        "rows = list(clinical_dataframe.index)\n",
        "print(rows)"
      ],
      "execution_count": null,
      "outputs": [
        {
          "output_type": "stream",
          "name": "stdout",
          "text": [
            "['Sample_ID', 'Sample_Tumor_Normal', 'Proteomics_Tumor_Normal', 'Country', 'Histologic_Grade_FIGO', 'Myometrial_invasion_Specify', 'Histologic_type', 'Treatment_naive', 'Tumor_purity', 'Path_Stage_Primary_Tumor-pT', 'Path_Stage_Reg_Lymph_Nodes-pN', 'Clin_Stage_Dist_Mets-cM', 'Path_Stage_Dist_Mets-pM', 'tumor_Stage-Pathological', 'FIGO_stage', 'LVSI', 'BMI', 'Age', 'Diabetes', 'Race', 'Ethnicity', 'Gender', 'Tumor_Site', 'Tumor_Site_Other', 'Tumor_Focality', 'Tumor_Size_cm', 'Num_full_term_pregnancies']\n",
            "['C3L-00006', 'C3L-00008', 'C3L-00032', 'C3L-00090', 'C3L-00098', 'C3L-00136', 'C3L-00137', 'C3L-00139', 'C3L-00143', 'C3L-00145', 'C3L-00156', 'C3L-00161', 'C3L-00358', 'C3L-00361', 'C3L-00362', 'C3L-00413', 'C3L-00449', 'C3L-00563', 'C3L-00586', 'C3L-00601', 'C3L-00605', 'C3L-00767', 'C3L-00769', 'C3L-00770', 'C3L-00771', 'C3L-00780', 'C3L-00781', 'C3L-00905', 'C3L-00918', 'C3L-00921', 'C3L-00932', 'C3L-00942', 'C3L-00946', 'C3L-00947', 'C3L-00949', 'C3L-00961', 'C3L-00963', 'C3L-01246', 'C3L-01248', 'C3L-01249', 'C3L-01252', 'C3L-01256', 'C3L-01257', 'C3L-01275', 'C3L-01282', 'C3L-01304', 'C3L-01307', 'C3L-01311', 'C3L-01312', 'C3L-01744', 'C3L-01925', 'C3N-00151', 'C3N-00200', 'C3N-00321', 'C3N-00322', 'C3N-00323', 'C3N-00324', 'C3N-00326', 'C3N-00328', 'C3N-00333', 'C3N-00334', 'C3N-00335', 'C3N-00337', 'C3N-00339', 'C3N-00340', 'C3N-00377', 'C3N-00379', 'C3N-00383', 'C3N-00386', 'C3N-00388', 'C3N-00389', 'C3N-00729', 'C3N-00734', 'C3N-00743', 'C3N-00836', 'C3N-00847', 'C3N-00848', 'C3N-00850', 'C3N-00858', 'C3N-00866', 'C3N-00880', 'C3N-01003', 'C3N-01211', 'C3N-01212', 'C3N-01217', 'C3N-01219', 'C3N-01267', 'C3N-01346', 'C3N-01349', 'C3N-01510', 'C3N-01520', 'C3N-01521', 'C3N-01537', 'C3N-01802', 'C3N-01825', 'C3L-00006.N', 'C3L-00361.N', 'C3L-00563.N', 'C3L-00586.N', 'C3L-00601.N', 'C3L-00605.N', 'C3L-00769.N', 'C3L-00770.N', 'C3L-00771.N', 'C3L-00930.N', 'C3L-00932.N', 'C3L-00947.N', 'C3L-00963.N', 'C3L-01246.N', 'C3L-01249.N', 'C3L-01252.N', 'C3L-01256.N', 'C3L-01257.N', 'C3L-01282.N', 'C3L-01304.N', 'C3L-01307.N', 'C3L-01311.N', 'C3L-01744.N', 'C3N-00200.N', 'C3N-00333.N', 'C3N-00383.N', 'C3N-00729.N', 'C3N-00858.N', 'C3N-00866.N', 'C3N-01211.N', 'C3N-01346.N', 'NX1.N', 'NX10.N', 'NX11.N', 'NX12.N', 'NX13.N', 'NX14.N', 'NX15.N', 'NX16.N', 'NX17.N', 'NX18.N', 'NX2.N', 'NX3.N', 'NX4.N', 'NX5.N', 'NX6.N', 'NX7.N', 'NX8.N', 'NX9.N']\n"
          ]
        }
      ]
    },
    {
      "cell_type": "markdown",
      "metadata": {
        "id": "P3nm8niE1tv8"
      },
      "source": [
        "##PRACTICE PROBLEMS\n",
        "1. How many cancer types are in the cptac package?\n",
        "\n"
      ]
    },
    {
      "cell_type": "code",
      "metadata": {
        "id": "5z3lxvxmwtXC",
        "outputId": "d585a6ea-6f06-4b06-e007-671dc32fe5c3",
        "colab": {
          "base_uri": "https://localhost:8080/"
        }
      },
      "source": [
        "###       Question 1         ###\n",
        "#  How many cancer types are in the cptac package?\n",
        "#  You should derive your answer with coding, not any shortcuts.\n",
        "\n",
        "###      Your code here      ###\n",
        "\n",
        "datasets = cptac.list_datasets()\n",
        "answer_1 = datasets.Description.nunique()\n",
        "print(answer_1)\n"
      ],
      "execution_count": null,
      "outputs": [
        {
          "output_type": "stream",
          "name": "stdout",
          "text": [
            "12\n"
          ]
        }
      ]
    },
    {
      "cell_type": "code",
      "metadata": {
        "id": "VxW4hI0uwtMx",
        "outputId": "c41e043e-5886-4d79-95be-31ba7b508643",
        "colab": {
          "base_uri": "https://localhost:8080/"
        }
      },
      "source": [
        "###  Question 1: Submitting the answer   ###\n",
        "# To submit, your code above should have created a variable 'answer_1'.\n",
        "result = hw.submit(question = 1, answer = answer_1)\n",
        "print(result)"
      ],
      "execution_count": null,
      "outputs": [
        {
          "output_type": "stream",
          "name": "stdout",
          "text": [
            "True\n"
          ]
        }
      ]
    },
    {
      "cell_type": "code",
      "metadata": {
        "id": "hoZp5EuWwsx-"
      },
      "source": [
        "### Question 1: Getting help ###\n",
        "hints = hw.getHint(question=1)\n",
        "print(hints)"
      ],
      "execution_count": null,
      "outputs": []
    },
    {
      "cell_type": "markdown",
      "metadata": {
        "id": "kuzKsmjEwqzG"
      },
      "source": [
        "2. How many patients are in our endometrial cohort?"
      ]
    },
    {
      "cell_type": "code",
      "metadata": {
        "id": "53Iy3t4CsyX2"
      },
      "source": [
        "###       Question 2         ###\n",
        "#  How many patients are in our endometrial cohort?\n",
        "#  You should derive your answer with coding, not any shortcuts.\n",
        "\n",
        "###      Your code here      ###\n",
        "answer_2 = len(clinical_dataframe)\n"
      ],
      "execution_count": null,
      "outputs": []
    },
    {
      "cell_type": "code",
      "metadata": {
        "id": "eyYmY1yexujo",
        "outputId": "cbb4bef7-88a1-424c-bf48-969c5733c1e2",
        "colab": {
          "base_uri": "https://localhost:8080/"
        }
      },
      "source": [
        "###  Question 2: Submitting the answer   ###\n",
        "# To submit, your code above should have created a variable 'answer_2'.\n",
        "result = hw.submit(question = 2, answer = answer_2)\n",
        "print(result)"
      ],
      "execution_count": null,
      "outputs": [
        {
          "output_type": "stream",
          "name": "stdout",
          "text": [
            "True\n"
          ]
        }
      ]
    },
    {
      "cell_type": "code",
      "metadata": {
        "id": "gvADhgizxwnn"
      },
      "source": [
        "### Question 2: Getting help ###\n",
        "hints = hw.getHint(question=2)\n",
        "print(hints)"
      ],
      "execution_count": null,
      "outputs": []
    },
    {
      "cell_type": "markdown",
      "metadata": {
        "id": "MIF8ummMpRAT"
      },
      "source": [
        "# Part 2. Some simple select statements\n",
        "A dataframe is a spreadsheet-like variable. Often when we are working with it, we want to pull out a subset of information for convenience. You can think of this as similar to 'slicing' a Python list.\n",
        "\n",
        "Let's practice how to get to parts of the table. We will start by first asking for a single column, the one with the cancer stage for each patient. Then in the next code block, we'll slice out three columns: cancer stage, body mass index, and age."
      ]
    },
    {
      "cell_type": "code",
      "metadata": {
        "id": "8knm7WYepYce",
        "outputId": "1c1d3407-1066-4632-d03c-477c0b2fb20f",
        "colab": {
          "base_uri": "https://localhost:8080/"
        }
      },
      "source": [
        "cancer_stage_df = clinical_dataframe['FIGO_stage'] #'df' is a common abbreviation for dataframe.\n",
        "cancer_stage_df.head()"
      ],
      "execution_count": null,
      "outputs": [
        {
          "output_type": "execute_result",
          "data": {
            "text/plain": [
              "Patient_ID\n",
              "C3L-00006    IA\n",
              "C3L-00008    IA\n",
              "C3L-00032    IA\n",
              "C3L-00090    IA\n",
              "C3L-00098    IA\n",
              "Name: FIGO_stage, dtype: object"
            ]
          },
          "metadata": {},
          "execution_count": 18
        }
      ]
    },
    {
      "cell_type": "code",
      "metadata": {
        "id": "w_iqyHi_piYP",
        "outputId": "3449fa46-d6cd-4ae8-832d-5dab7415675e",
        "colab": {
          "base_uri": "https://localhost:8080/",
          "height": 238
        }
      },
      "source": [
        "#When you want to slice out more than one column from a dataframe, you pass in the\n",
        "#list of the column names that you want. That's why you see the double bracket.\n",
        "three_columns_df = clinical_dataframe[['FIGO_stage', 'BMI', 'Age']]\n",
        "three_columns_df.head()"
      ],
      "execution_count": null,
      "outputs": [
        {
          "output_type": "execute_result",
          "data": {
            "text/plain": [
              "Name       FIGO_stage    BMI   Age\n",
              "Patient_ID                        \n",
              "C3L-00006          IA  38.88  64.0\n",
              "C3L-00008          IA  39.76  58.0\n",
              "C3L-00032          IA  51.19  50.0\n",
              "C3L-00090          IA  32.69  75.0\n",
              "C3L-00098          IA  20.28  63.0"
            ],
            "text/html": [
              "\n",
              "  <div id=\"df-060f4b15-7489-4f66-8f1f-dd52333b13d3\">\n",
              "    <div class=\"colab-df-container\">\n",
              "      <div>\n",
              "<style scoped>\n",
              "    .dataframe tbody tr th:only-of-type {\n",
              "        vertical-align: middle;\n",
              "    }\n",
              "\n",
              "    .dataframe tbody tr th {\n",
              "        vertical-align: top;\n",
              "    }\n",
              "\n",
              "    .dataframe thead th {\n",
              "        text-align: right;\n",
              "    }\n",
              "</style>\n",
              "<table border=\"1\" class=\"dataframe\">\n",
              "  <thead>\n",
              "    <tr style=\"text-align: right;\">\n",
              "      <th>Name</th>\n",
              "      <th>FIGO_stage</th>\n",
              "      <th>BMI</th>\n",
              "      <th>Age</th>\n",
              "    </tr>\n",
              "    <tr>\n",
              "      <th>Patient_ID</th>\n",
              "      <th></th>\n",
              "      <th></th>\n",
              "      <th></th>\n",
              "    </tr>\n",
              "  </thead>\n",
              "  <tbody>\n",
              "    <tr>\n",
              "      <th>C3L-00006</th>\n",
              "      <td>IA</td>\n",
              "      <td>38.88</td>\n",
              "      <td>64.0</td>\n",
              "    </tr>\n",
              "    <tr>\n",
              "      <th>C3L-00008</th>\n",
              "      <td>IA</td>\n",
              "      <td>39.76</td>\n",
              "      <td>58.0</td>\n",
              "    </tr>\n",
              "    <tr>\n",
              "      <th>C3L-00032</th>\n",
              "      <td>IA</td>\n",
              "      <td>51.19</td>\n",
              "      <td>50.0</td>\n",
              "    </tr>\n",
              "    <tr>\n",
              "      <th>C3L-00090</th>\n",
              "      <td>IA</td>\n",
              "      <td>32.69</td>\n",
              "      <td>75.0</td>\n",
              "    </tr>\n",
              "    <tr>\n",
              "      <th>C3L-00098</th>\n",
              "      <td>IA</td>\n",
              "      <td>20.28</td>\n",
              "      <td>63.0</td>\n",
              "    </tr>\n",
              "  </tbody>\n",
              "</table>\n",
              "</div>\n",
              "      <button class=\"colab-df-convert\" onclick=\"convertToInteractive('df-060f4b15-7489-4f66-8f1f-dd52333b13d3')\"\n",
              "              title=\"Convert this dataframe to an interactive table.\"\n",
              "              style=\"display:none;\">\n",
              "        \n",
              "  <svg xmlns=\"http://www.w3.org/2000/svg\" height=\"24px\"viewBox=\"0 0 24 24\"\n",
              "       width=\"24px\">\n",
              "    <path d=\"M0 0h24v24H0V0z\" fill=\"none\"/>\n",
              "    <path d=\"M18.56 5.44l.94 2.06.94-2.06 2.06-.94-2.06-.94-.94-2.06-.94 2.06-2.06.94zm-11 1L8.5 8.5l.94-2.06 2.06-.94-2.06-.94L8.5 2.5l-.94 2.06-2.06.94zm10 10l.94 2.06.94-2.06 2.06-.94-2.06-.94-.94-2.06-.94 2.06-2.06.94z\"/><path d=\"M17.41 7.96l-1.37-1.37c-.4-.4-.92-.59-1.43-.59-.52 0-1.04.2-1.43.59L10.3 9.45l-7.72 7.72c-.78.78-.78 2.05 0 2.83L4 21.41c.39.39.9.59 1.41.59.51 0 1.02-.2 1.41-.59l7.78-7.78 2.81-2.81c.8-.78.8-2.07 0-2.86zM5.41 20L4 18.59l7.72-7.72 1.47 1.35L5.41 20z\"/>\n",
              "  </svg>\n",
              "      </button>\n",
              "      \n",
              "  <style>\n",
              "    .colab-df-container {\n",
              "      display:flex;\n",
              "      flex-wrap:wrap;\n",
              "      gap: 12px;\n",
              "    }\n",
              "\n",
              "    .colab-df-convert {\n",
              "      background-color: #E8F0FE;\n",
              "      border: none;\n",
              "      border-radius: 50%;\n",
              "      cursor: pointer;\n",
              "      display: none;\n",
              "      fill: #1967D2;\n",
              "      height: 32px;\n",
              "      padding: 0 0 0 0;\n",
              "      width: 32px;\n",
              "    }\n",
              "\n",
              "    .colab-df-convert:hover {\n",
              "      background-color: #E2EBFA;\n",
              "      box-shadow: 0px 1px 2px rgba(60, 64, 67, 0.3), 0px 1px 3px 1px rgba(60, 64, 67, 0.15);\n",
              "      fill: #174EA6;\n",
              "    }\n",
              "\n",
              "    [theme=dark] .colab-df-convert {\n",
              "      background-color: #3B4455;\n",
              "      fill: #D2E3FC;\n",
              "    }\n",
              "\n",
              "    [theme=dark] .colab-df-convert:hover {\n",
              "      background-color: #434B5C;\n",
              "      box-shadow: 0px 1px 3px 1px rgba(0, 0, 0, 0.15);\n",
              "      filter: drop-shadow(0px 1px 2px rgba(0, 0, 0, 0.3));\n",
              "      fill: #FFFFFF;\n",
              "    }\n",
              "  </style>\n",
              "\n",
              "      <script>\n",
              "        const buttonEl =\n",
              "          document.querySelector('#df-060f4b15-7489-4f66-8f1f-dd52333b13d3 button.colab-df-convert');\n",
              "        buttonEl.style.display =\n",
              "          google.colab.kernel.accessAllowed ? 'block' : 'none';\n",
              "\n",
              "        async function convertToInteractive(key) {\n",
              "          const element = document.querySelector('#df-060f4b15-7489-4f66-8f1f-dd52333b13d3');\n",
              "          const dataTable =\n",
              "            await google.colab.kernel.invokeFunction('convertToInteractive',\n",
              "                                                     [key], {});\n",
              "          if (!dataTable) return;\n",
              "\n",
              "          const docLinkHtml = 'Like what you see? Visit the ' +\n",
              "            '<a target=\"_blank\" href=https://colab.research.google.com/notebooks/data_table.ipynb>data table notebook</a>'\n",
              "            + ' to learn more about interactive tables.';\n",
              "          element.innerHTML = '';\n",
              "          dataTable['output_type'] = 'display_data';\n",
              "          await google.colab.output.renderOutput(dataTable, element);\n",
              "          const docLink = document.createElement('div');\n",
              "          docLink.innerHTML = docLinkHtml;\n",
              "          element.appendChild(docLink);\n",
              "        }\n",
              "      </script>\n",
              "    </div>\n",
              "  </div>\n",
              "  "
            ]
          },
          "metadata": {},
          "execution_count": 19
        }
      ]
    },
    {
      "cell_type": "markdown",
      "metadata": {
        "id": "xb2N23EJ01RQ"
      },
      "source": [
        "Remember that when you slice a list, you get back a list.  When you slice a dataframe, you get back a dataframe."
      ]
    },
    {
      "cell_type": "markdown",
      "metadata": {
        "id": "Cwj_sR4GE-Mm"
      },
      "source": [
        "As mentioned before, a dataframe is a spreadsheet-like datatype. It's a collection of data. Just like a 'list' datatype has some built in functionality, dataframes also have some nice functionality. Here we show just a few of these, like doing math on a column of data."
      ]
    },
    {
      "cell_type": "code",
      "metadata": {
        "id": "b0-QBA6MEfr_",
        "outputId": "45b8affa-3104-46c5-cf06-99e71ebf81e0",
        "colab": {
          "base_uri": "https://localhost:8080/"
        }
      },
      "source": [
        "average_age = clinical_dataframe['Age'].mean()\n",
        "max_age = clinical_dataframe['Age'].max()\n",
        "min_age = clinical_dataframe['Age'].min()\n",
        "print(\"Age: min {:.1f}, average {:.1f}, max {:.1f} \".format(min_age, average_age, max_age))"
      ],
      "execution_count": null,
      "outputs": [
        {
          "output_type": "stream",
          "name": "stdout",
          "text": [
            "Age: min 38.0, average 63.5, max 90.0 \n"
          ]
        }
      ]
    },
    {
      "cell_type": "markdown",
      "metadata": {
        "id": "bDqlJEUhKbs7"
      },
      "source": [
        "We can also ask a dataframe how many different answers are in a column or how many of each kind of answer there are. Here we ask how many different tumor stages are in our dataframe, and how many patients for each stage."
      ]
    },
    {
      "cell_type": "code",
      "metadata": {
        "id": "2YsWtTZwGgCD",
        "outputId": "c9f400db-f57c-4fff-e0da-83f652b3a372",
        "colab": {
          "base_uri": "https://localhost:8080/"
        }
      },
      "source": [
        "stages = clinical_dataframe['FIGO_stage'].unique()\n",
        "print(stages)"
      ],
      "execution_count": null,
      "outputs": [
        {
          "output_type": "stream",
          "name": "stdout",
          "text": [
            "['IA' 'IIIA' 'IB' 'II' 'IIIC2' 'IIIC1' 'IVB' 'IIIB' nan]\n"
          ]
        }
      ]
    },
    {
      "cell_type": "code",
      "metadata": {
        "id": "BZYU2Q6rL_Hu",
        "outputId": "efdf77be-4f8f-4e19-c364-94bb214b5fe1",
        "colab": {
          "base_uri": "https://localhost:8080/"
        }
      },
      "source": [
        "counts = clinical_dataframe['FIGO_stage'].value_counts()\n",
        "print(counts)"
      ],
      "execution_count": null,
      "outputs": [
        {
          "output_type": "stream",
          "name": "stdout",
          "text": [
            "IA       56\n",
            "IB       15\n",
            "II        8\n",
            "IIIA      6\n",
            "IIIC1     4\n",
            "IVB       3\n",
            "IIIC2     2\n",
            "IIIB      1\n",
            "Name: FIGO_stage, dtype: int64\n"
          ]
        }
      ]
    },
    {
      "cell_type": "markdown",
      "metadata": {
        "id": "C7HzVr2jp5hM"
      },
      "source": [
        "Now let's work with row selection. Remember that in our dataframe, a row is an individual patient. Below is how you slice out a single row. You notice that we use the .loc function. This is how you differentiate it from a column selection."
      ]
    },
    {
      "cell_type": "code",
      "metadata": {
        "id": "2Xvfnm9yp4Rf"
      },
      "source": [
        "patient_A = clinical_dataframe.loc['C3L-00006']\n",
        "patient_A #This is the simplified way of printing a whole dataframe.\n",
        "#Note how since this is a single row, it is printed a bit funny."
      ],
      "execution_count": null,
      "outputs": []
    },
    {
      "cell_type": "code",
      "metadata": {
        "id": "MX63I3kCqpPS"
      },
      "source": [
        "three_patients = clinical_dataframe.loc[['C3L-00006', 'C3L-00008', 'C3L-00032']]\n",
        "three_patients #Here we are not using the 'print' function, because we can see the whole dataframe this way.\n",
        "#Test out calling 'print(three_patients)' if you want to see the difference."
      ],
      "execution_count": null,
      "outputs": []
    },
    {
      "cell_type": "markdown",
      "metadata": {
        "id": "OoglFHiMG5vN"
      },
      "source": [
        "## PRACTICE PROBLEMS\n",
        "Using the clinical_dataframe variable, please answer the following three questions.\n",
        "3. What is the average tumor size? (rounded to 1 decimal)"
      ]
    },
    {
      "cell_type": "code",
      "metadata": {
        "id": "75bGs7fRHAtn"
      },
      "source": [
        "###       Question 3         ###\n",
        "#  What is the average tumor size? (rounded to 1 decimal)\n",
        "#  You should derive your answer with coding, not any shortcuts.\n",
        "\n",
        "###      Your code here      ###\n",
        "answer_3 = round(clinical_dataframe['Tumor_Size_cm'].mean(), 1)\n"
      ],
      "execution_count": null,
      "outputs": []
    },
    {
      "cell_type": "code",
      "metadata": {
        "id": "NuigeVS9x1zK",
        "outputId": "d9543cb4-70fe-4d6b-843f-58ea4448f4ce",
        "colab": {
          "base_uri": "https://localhost:8080/"
        }
      },
      "source": [
        "###  Question 3: Submitting the answer   ###\n",
        "# To submit, your code above should have created a variable 'answer_3'.\n",
        "result = hw.submit(question = 3, answer = answer_3)\n",
        "print(result)"
      ],
      "execution_count": null,
      "outputs": [
        {
          "output_type": "stream",
          "name": "stdout",
          "text": [
            "True\n"
          ]
        }
      ]
    },
    {
      "cell_type": "code",
      "metadata": {
        "id": "uLUT9w-syPHE"
      },
      "source": [
        "### Question 3: Getting help ###\n",
        "hints = hw.getHint(question=3)\n",
        "print(hints)"
      ],
      "execution_count": null,
      "outputs": []
    },
    {
      "cell_type": "markdown",
      "metadata": {
        "id": "FCAXzdTy1Ijr"
      },
      "source": [
        "4. How many people are from the 'United States'?"
      ]
    },
    {
      "cell_type": "code",
      "metadata": {
        "id": "GY6h0pMQMYc8"
      },
      "source": [
        "###       Question 4         ###\n",
        "#  How many people are from the 'United States'?\n",
        "#  You should derive your answer with coding, not any shortcuts.\n",
        "\n",
        "###      Your code here      ###\n",
        "answer_4 = len(clinical_dataframe[clinical_dataframe.Country == 'United States'])"
      ],
      "execution_count": null,
      "outputs": []
    },
    {
      "cell_type": "code",
      "metadata": {
        "id": "GAhGwBbIx2vc",
        "outputId": "59e98c00-3d33-46f4-a194-9dbb68ef3def",
        "colab": {
          "base_uri": "https://localhost:8080/"
        }
      },
      "source": [
        "###  Question 4: Submitting the answer   ###\n",
        "# To submit, your code above should have created a variable 'answer_4'.\n",
        "result = hw.submit(question = 4, answer = answer_4)\n",
        "print(result)"
      ],
      "execution_count": null,
      "outputs": [
        {
          "output_type": "stream",
          "name": "stdout",
          "text": [
            "True\n"
          ]
        }
      ]
    },
    {
      "cell_type": "code",
      "metadata": {
        "id": "ycsZzveYyP_e",
        "outputId": "48f50fb5-5fad-4e0b-ae3a-c04139034c2e",
        "colab": {
          "base_uri": "https://localhost:8080/"
        }
      },
      "source": [
        "### Question 4: Getting help ###\n",
        "hints = hw.getHint(question=4)\n",
        "print(hints)"
      ],
      "execution_count": null,
      "outputs": [
        {
          "output_type": "stream",
          "name": "stdout",
          "text": [
            "Question 4 hints:\n",
            "*Think about which column you need from the clinical_dataframe.\n",
            "*Find a function that gets the amount of each unique country.\n",
            "*Try using list slicing to select out the value for USA.\n"
          ]
        }
      ]
    },
    {
      "cell_type": "markdown",
      "metadata": {
        "id": "8G2isH8V1UHP"
      },
      "source": [
        "5. How many people are diabetic?"
      ]
    },
    {
      "cell_type": "code",
      "metadata": {
        "id": "3Gb34W3JMYk2"
      },
      "source": [
        "###       Question 5         ###\n",
        "#  How many people are diabetic?\n",
        "#  You should derive your answer with coding, not any shortcuts.\n",
        "\n",
        "###      Your code here      ###\n",
        "answer_5 = len(clinical_dataframe[clinical_dataframe.Diabetes == 'Yes'])\n"
      ],
      "execution_count": null,
      "outputs": []
    },
    {
      "cell_type": "code",
      "metadata": {
        "id": "W18uJRNux35B",
        "outputId": "c6d004a2-e92b-49cf-afd6-46cc10d14475",
        "colab": {
          "base_uri": "https://localhost:8080/"
        }
      },
      "source": [
        "###  Question 5: Submitting the answer   ###\n",
        "# To submit, your code above should have created a variable 'answer_5'.\n",
        "result = hw.submit(question = 5, answer = answer_5)\n",
        "print(result)"
      ],
      "execution_count": null,
      "outputs": [
        {
          "output_type": "stream",
          "name": "stdout",
          "text": [
            "True\n"
          ]
        }
      ]
    },
    {
      "cell_type": "code",
      "metadata": {
        "id": "HjIDA6VOyQsD"
      },
      "source": [
        "### Question 5: Getting help ###\n",
        "hints = hw.getHint(question=5)\n",
        "print(hints)"
      ],
      "execution_count": null,
      "outputs": []
    },
    {
      "cell_type": "markdown",
      "metadata": {
        "id": "oXRaEZcbq7FJ"
      },
      "source": [
        "# Part 3 - Some complex selections\n",
        "In part 2 we learned how to select out whole rows or whole columns. Now we'll learn how to select out parts of the dataframe that meet a specific condition. For example, what if we wanted to create a dataframe of patients who have 'FIGO grade 2' tumors or only the patients who are over 70 years old. This section shows how to create complex select statements that have built in conditional tests.\n",
        "\n",
        "In the code you will see conditional operators like '==' or '<'. The selection looks like:\n",
        "\n",
        "`clinical_dataframe.loc[ CONDITION_HERE ] #give me the rows that pass this condition`\n"
      ]
    },
    {
      "cell_type": "code",
      "metadata": {
        "id": "v814YARDrJX5"
      },
      "source": [
        "grade2tumors = clinical_dataframe.loc[clinical_dataframe['Histologic_Grade_FIGO'] == 'FIGO grade 2']\n",
        "grade2tumors.head()"
      ],
      "execution_count": null,
      "outputs": []
    },
    {
      "cell_type": "code",
      "metadata": {
        "id": "Sa84kOHMtU4b"
      },
      "source": [
        "patientsOver70 = clinical_dataframe.loc[clinical_dataframe['Age'] > 70]\n",
        "patientsOver70.head()"
      ],
      "execution_count": null,
      "outputs": []
    },
    {
      "cell_type": "markdown",
      "metadata": {
        "id": "4W-q_I2otp-_"
      },
      "source": [
        "Now we combine these two selections to make a more complex selection.\n",
        "\n",
        "The selection looks like:\n",
        "\n",
        "`clinical_dataframe.loc[(CONDITION_1_HERE) & (CONDITION_2_HERE)]`"
      ]
    },
    {
      "cell_type": "code",
      "metadata": {
        "id": "BfKuEJoAtpJB"
      },
      "source": [
        "complex_select_df = clinical_dataframe.loc[(clinical_dataframe['Age'] > 70) & (clinical_dataframe['Histologic_Grade_FIGO'] == 'FIGO grade 2')]\n",
        "complex_select_df #We didn't do .head() so that you can now see the whole table."
      ],
      "execution_count": null,
      "outputs": []
    },
    {
      "cell_type": "markdown",
      "metadata": {
        "id": "q7WFW9L32H29"
      },
      "source": [
        "##PRACTICE PROBLEMS\n",
        "\n",
        "6. How many tumors from the Ukraine are from childless women over 50?"
      ]
    },
    {
      "cell_type": "code",
      "metadata": {
        "id": "8QVefL2Pt_4d"
      },
      "source": [
        "###       Question 6         ###\n",
        "#  How many tumors from the Ukraine are from childless women over 50?\n",
        "#  You should derive your answer with coding, not any shortcuts.\n",
        "\n",
        "###      Your code here      ###\n",
        "answer_6 = len(clinical_dataframe.loc[(clinical_dataframe['Country'] == 'Ukraine') & (clinical_dataframe['Gender'] == 'Female') & (clinical_dataframe['Age'] > 50) & (clinical_dataframe['Num_full_term_pregnancies'] == 'None')])"
      ],
      "execution_count": null,
      "outputs": []
    },
    {
      "cell_type": "code",
      "metadata": {
        "id": "NqUf5W72x6VJ",
        "outputId": "31662a2d-bde3-45ec-d3cf-7901442cab20",
        "colab": {
          "base_uri": "https://localhost:8080/"
        }
      },
      "source": [
        "###  Question 6: Submitting the answer   ###\n",
        "# To submit, your code above should have created a variable 'answer_6'.\n",
        "result = hw.submit(question = 6, answer = answer_6)\n",
        "print(result)"
      ],
      "execution_count": null,
      "outputs": [
        {
          "output_type": "stream",
          "name": "stdout",
          "text": [
            "True\n"
          ]
        }
      ]
    },
    {
      "cell_type": "code",
      "metadata": {
        "id": "OLhzUxxaySMo"
      },
      "source": [
        "### Question 6: Getting help ###\n",
        "hints = hw.getHint(question=6)\n",
        "print(hints)"
      ],
      "execution_count": null,
      "outputs": []
    },
    {
      "cell_type": "markdown",
      "metadata": {
        "id": "sUkLDV2u1fbz"
      },
      "source": [
        "7. Is being obese (BMI > 35) more common in stage II or IV cancer?"
      ]
    },
    {
      "cell_type": "code",
      "metadata": {
        "id": "e8mFK5PB2EdE"
      },
      "source": [
        "###       Question 7         ###\n",
        "#  Is being obese (BMI > 35) more common in stage II or IV cancer?\n",
        "#  Your answer should either be \"Stage II\" or \"Stage IV\"\n",
        "#  You should derive your answer with coding, not any shortcuts.\n",
        "\n",
        "###      Your code here      ###\n",
        "# Hint: Use 'tumor_Stage-Pathological'\n",
        "clinical_dataframe['tumor_Stage-Pathological']\n",
        "stage2 = clinical_dataframe.loc[clinical_dataframe['tumor_Stage-Pathological'] == 'Stage II']\n",
        "stage4 = clinical_dataframe.loc[clinical_dataframe['tumor_Stage-Pathological'] == 'Stage IV']\n",
        "fraction2 = len(stage2[stage2.BMI > 35]) / len(stage2)\n",
        "fraction4 = len(stage4[stage4.BMI > 35]) / len(stage4)\n",
        "if fraction2 > fraction4:\n",
        "  answer_7 = 'Stage II'\n",
        "else:\n",
        "  answer_7 = \"Stage IV\""
      ],
      "execution_count": null,
      "outputs": []
    },
    {
      "cell_type": "code",
      "metadata": {
        "id": "kThtguMZx7AA",
        "outputId": "086094e5-55b7-472e-e41d-87b1dda6918a",
        "colab": {
          "base_uri": "https://localhost:8080/"
        }
      },
      "source": [
        "###  Question 7: Submitting the answer   ###\n",
        "# To submit, your code above should have created a variable 'answer_7'.\n",
        "result = hw.submit(question = 7, answer = answer_7)\n",
        "print(result)"
      ],
      "execution_count": null,
      "outputs": [
        {
          "output_type": "stream",
          "name": "stdout",
          "text": [
            "True\n"
          ]
        }
      ]
    },
    {
      "cell_type": "code",
      "metadata": {
        "id": "Myz47jIRySxb",
        "outputId": "dc4444f1-dfa3-4633-ab7d-16be74e8408b",
        "colab": {
          "base_uri": "https://localhost:8080/"
        }
      },
      "source": [
        "### Question 7: Getting help ###\n",
        "hints = hw.getHint(question=7)\n",
        "print(hints)"
      ],
      "execution_count": null,
      "outputs": [
        {
          "output_type": "stream",
          "name": "stdout",
          "text": [
            "Question 7 hints:\n",
            "*Think about which columns you need from the clinical_dataframe.\n",
            "*Try using a complex select to create a dataframe for stage II and one for stage IV.\n",
            "*Compare the amount of patients within each dataframe.\n"
          ]
        }
      ]
    },
    {
      "cell_type": "markdown",
      "metadata": {
        "id": "W-dcBsTS1ixh"
      },
      "source": [
        "8. What is the average tumor size for individuals from each country?"
      ]
    },
    {
      "cell_type": "code",
      "metadata": {
        "id": "j72AO7_gHS2l"
      },
      "source": [
        "###       Question 8         ###\n",
        "#  What is the average tumor size for individuals from each country? (Rounded to 1 decimal)\n",
        "#  Do not report values for non-countries.\n",
        "#  Your answer should be a string with the \"country: average\" separated by a comma in alphabetical order.\n",
        "#  Example: Poland: 5.7, United States: 2.6,...\n",
        "#  You should derive your answer with coding, not any shortcuts.\n",
        "\n",
        "###      Your code here      ###\n",
        "countries = sorted(clinical_dataframe.Country.unique()[[0,2,3]])\n",
        "avglist = []\n",
        "for country in countries:\n",
        "  df = clinical_dataframe.loc[clinical_dataframe['Country'] == country]\n",
        "  avg = round(df.Tumor_Size_cm.mean(), 1)\n",
        "  avglist.append(avg)\n",
        "answer_8 = \"\"\n",
        "for i in range(len(countries)):\n",
        "  answer_8 += \"{country}: {size}, \".format(country = countries[i], size = avglist[i])\n",
        "answer_8 = answer_8.strip(' ,')\n"
      ],
      "execution_count": null,
      "outputs": []
    },
    {
      "cell_type": "code",
      "metadata": {
        "id": "JJvIIznox7kD",
        "outputId": "37a8d900-461d-43b2-c00a-e54af52a9ffb",
        "colab": {
          "base_uri": "https://localhost:8080/"
        }
      },
      "source": [
        "###  Question 8: Submitting the answer   ###\n",
        "# To submit, your code above should have created a variable 'answer_8'.\n",
        "result = hw.submit(question = 8, answer = answer_8)\n",
        "print(result)"
      ],
      "execution_count": null,
      "outputs": [
        {
          "output_type": "stream",
          "name": "stdout",
          "text": [
            "True\n"
          ]
        }
      ]
    },
    {
      "cell_type": "code",
      "metadata": {
        "id": "nSHz1MwFyTYl"
      },
      "source": [
        "### Question 8: Getting help ###\n",
        "hints = hw.getHint(question=8)\n",
        "print(hints)"
      ],
      "execution_count": null,
      "outputs": []
    },
    {
      "cell_type": "markdown",
      "metadata": {
        "id": "mtoHfj4vSY30"
      },
      "source": [
        "# Part 4. Turn it in\n",
        "**Congrats!**\n",
        "\n",
        "Now that you have finished the assignment, use the endSession command to report your score. Once you have completed the notebook, please share it with your instructor."
      ]
    },
    {
      "cell_type": "code",
      "metadata": {
        "id": "PCLzpmpPSaZR",
        "outputId": "82adb9b8-8697-4de6-fee8-cf197b1634df",
        "colab": {
          "base_uri": "https://localhost:8080/"
        }
      },
      "source": [
        "hw.endSession()"
      ],
      "execution_count": null,
      "outputs": [
        {
          "output_type": "stream",
          "name": "stdout",
          "text": [
            "\n",
            "                      SESSION SUMMARY                       \n",
            "------------------------------------------------------------\n",
            "Student ID:                                          joeaman\n",
            "Homework:                                         bio462_hw1\n",
            "------------------------------------------------------------\n",
            "  Question  |  Correct  |  Attempts  |        Answer        \n",
            "     1      |    Yes    |     1      |   12\n",
            "     2      |    Yes    |     1      |   144\n",
            "     3      |    Yes    |     1      |   3.7\n",
            "     4      |    Yes    |     1      |   34\n",
            "     5      |    Yes    |     1      |   26\n",
            "     6      |    Yes    |     1      |   3\n",
            "     7      |    Yes    |     1      |   Stage II\n",
            "     8      |    Yes    |     1      |   Poland: 5.5, Ukraine: 2.3, United States: 4.6\n",
            "------------------------------------------------------------\n",
            "Total Score: 8/8 = 100.00%\n"
          ]
        }
      ]
    },
    {
      "cell_type": "code",
      "source": [],
      "metadata": {
        "id": "uw10Cx93e4rz"
      },
      "execution_count": null,
      "outputs": []
    }
  ]
}